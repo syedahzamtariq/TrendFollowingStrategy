{
  "cells": [
    {
      "cell_type": "code",
      "execution_count": 2,
      "metadata": {
        "colab": {
          "base_uri": "https://localhost:8080/"
        },
        "id": "zYcj0PlbTYAf",
        "outputId": "13a53e3a-5d72-4d0f-b549-f9b669773ac4"
      },
      "outputs": [
        {
          "output_type": "stream",
          "name": "stdout",
          "text": [
            "Requirement already satisfied: backtesting in /usr/local/lib/python3.10/dist-packages (0.3.3)\n",
            "Requirement already satisfied: numpy>=1.17.0 in /usr/local/lib/python3.10/dist-packages (from backtesting) (1.25.2)\n",
            "Requirement already satisfied: pandas!=0.25.0,>=0.25.0 in /usr/local/lib/python3.10/dist-packages (from backtesting) (1.5.3)\n",
            "Requirement already satisfied: bokeh>=1.4.0 in /usr/local/lib/python3.10/dist-packages (from backtesting) (3.3.4)\n",
            "Requirement already satisfied: Jinja2>=2.9 in /usr/local/lib/python3.10/dist-packages (from bokeh>=1.4.0->backtesting) (3.1.3)\n",
            "Requirement already satisfied: contourpy>=1 in /usr/local/lib/python3.10/dist-packages (from bokeh>=1.4.0->backtesting) (1.2.0)\n",
            "Requirement already satisfied: packaging>=16.8 in /usr/local/lib/python3.10/dist-packages (from bokeh>=1.4.0->backtesting) (23.2)\n",
            "Requirement already satisfied: pillow>=7.1.0 in /usr/local/lib/python3.10/dist-packages (from bokeh>=1.4.0->backtesting) (9.4.0)\n",
            "Requirement already satisfied: PyYAML>=3.10 in /usr/local/lib/python3.10/dist-packages (from bokeh>=1.4.0->backtesting) (6.0.1)\n",
            "Requirement already satisfied: tornado>=5.1 in /usr/local/lib/python3.10/dist-packages (from bokeh>=1.4.0->backtesting) (6.3.3)\n",
            "Requirement already satisfied: xyzservices>=2021.09.1 in /usr/local/lib/python3.10/dist-packages (from bokeh>=1.4.0->backtesting) (2023.10.1)\n",
            "Requirement already satisfied: python-dateutil>=2.8.1 in /usr/local/lib/python3.10/dist-packages (from pandas!=0.25.0,>=0.25.0->backtesting) (2.8.2)\n",
            "Requirement already satisfied: pytz>=2020.1 in /usr/local/lib/python3.10/dist-packages (from pandas!=0.25.0,>=0.25.0->backtesting) (2023.4)\n",
            "Requirement already satisfied: MarkupSafe>=2.0 in /usr/local/lib/python3.10/dist-packages (from Jinja2>=2.9->bokeh>=1.4.0->backtesting) (2.1.5)\n",
            "Requirement already satisfied: six>=1.5 in /usr/local/lib/python3.10/dist-packages (from python-dateutil>=2.8.1->pandas!=0.25.0,>=0.25.0->backtesting) (1.16.0)\n"
          ]
        },
        {
          "output_type": "stream",
          "name": "stderr",
          "text": [
            "/usr/local/lib/python3.10/dist-packages/backtesting/_plotting.py:50: UserWarning: Jupyter Notebook detected. Setting Bokeh output to notebook. This may not work in Jupyter clients without JavaScript support (e.g. PyCharm, Spyder IDE). Reset with `backtesting.set_bokeh_output(notebook=False)`.\n",
            "  warnings.warn('Jupyter Notebook detected. '\n"
          ]
        }
      ],
      "source": [
        "!pip install backtesting\n",
        "import yfinance as yf\n",
        "\n",
        "import pandas as pd\n",
        "from backtesting import Backtest, Strategy\n",
        "from backtesting.lib import crossover\n"
      ]
    },
    {
      "cell_type": "code",
      "execution_count": 3,
      "metadata": {
        "colab": {
          "base_uri": "https://localhost:8080/",
          "height": 87
        },
        "id": "LrBxn9__1roK",
        "outputId": "c8d67b8f-366a-4b31-c57a-869a222b8dfd"
      },
      "outputs": [
        {
          "output_type": "execute_result",
          "data": {
            "text/plain": [
              "'\\nimport re\\n\\ndef convert_treasury_price(price_str):\\n    # Check for non-applicable values and return None or a default value\\n    if price_str in [\"\", \"NA\", None]:\\n        return None\\n\\n    # Split the price string into whole and fractional parts\\n    parts = price_str.split(\\'-\\')\\n\\n    # If there is no hyphen, the price is already a whole number\\n    if len(parts) == 1:\\n        return float(parts[0])\\n\\n    whole_number = int(parts[0])  # The whole number part of the price\\n    fraction_part = parts[1]  # The fractional part of the price\\n\\n    # Check for a plus sign indicating an additional 1/64\\n    plus_sign = \\'+\\' in fraction_part\\n    fraction_part = fraction_part.replace(\\'+\\', \\'\\')\\n\\n    # Convert the fraction into decimal\\n    numerator = int(fraction_part) if fraction_part.isdigit() else 0\\n    denominator = 32  # Fractions are usually out of 32 for Treasury prices\\n    fraction_decimal = numerator / denominator\\n\\n    # Add additional 1/64 if there was a plus sign\\n    if plus_sign:\\n        fraction_decimal += 1/64\\n\\n    # Combine the whole number and fractional decimal\\n    decimal_price = whole_number + fraction_decimal\\n\\n    return decimal_price\\n\\nimport pandas as pd\\ndata = pd.read_csv(\\'/content/Final Version of Combined Data -FRE 7841.csv\\')\\n\\ntreasury_columns = [\\n    \\'WN1 (UST 30y)\\',\\n    \\'TY1 (10y US Treasury)\\',\\n    \\'FV1 (5y US Treasury)\\',\\n    \\'TU1 (2y US Treasury)\\'\\n]\\n\\n# Convert the treasury prices to float for each specified column\\nfor column in treasury_columns:\\n    data[column] = data[column].apply(convert_treasury_price)\\n\\n# Display the dataframe to confirm the conversion\\ndata[treasury_columns]\\ndata.to_csv(\\'/content/Final Version of Combined Data -FRE 7841.csv\\')\\n'"
            ],
            "application/vnd.google.colaboratory.intrinsic+json": {
              "type": "string"
            }
          },
          "metadata": {},
          "execution_count": 3
        }
      ],
      "source": [
        "\"\"\"\n",
        "import re\n",
        "\n",
        "def convert_treasury_price(price_str):\n",
        "    # Check for non-applicable values and return None or a default value\n",
        "    if price_str in [\"\", \"NA\", None]:\n",
        "        return None\n",
        "\n",
        "    # Split the price string into whole and fractional parts\n",
        "    parts = price_str.split('-')\n",
        "\n",
        "    # If there is no hyphen, the price is already a whole number\n",
        "    if len(parts) == 1:\n",
        "        return float(parts[0])\n",
        "\n",
        "    whole_number = int(parts[0])  # The whole number part of the price\n",
        "    fraction_part = parts[1]  # The fractional part of the price\n",
        "\n",
        "    # Check for a plus sign indicating an additional 1/64\n",
        "    plus_sign = '+' in fraction_part\n",
        "    fraction_part = fraction_part.replace('+', '')\n",
        "\n",
        "    # Convert the fraction into decimal\n",
        "    numerator = int(fraction_part) if fraction_part.isdigit() else 0\n",
        "    denominator = 32  # Fractions are usually out of 32 for Treasury prices\n",
        "    fraction_decimal = numerator / denominator\n",
        "\n",
        "    # Add additional 1/64 if there was a plus sign\n",
        "    if plus_sign:\n",
        "        fraction_decimal += 1/64\n",
        "\n",
        "    # Combine the whole number and fractional decimal\n",
        "    decimal_price = whole_number + fraction_decimal\n",
        "\n",
        "    return decimal_price\n",
        "\n",
        "import pandas as pd\n",
        "data = pd.read_csv('/content/Final Version of Combined Data -FRE 7841.csv')\n",
        "\n",
        "treasury_columns = [\n",
        "    'WN1 (UST 30y)',\n",
        "    'TY1 (10y US Treasury)',\n",
        "    'FV1 (5y US Treasury)',\n",
        "    'TU1 (2y US Treasury)'\n",
        "]\n",
        "\n",
        "# Convert the treasury prices to float for each specified column\n",
        "for column in treasury_columns:\n",
        "    data[column] = data[column].apply(convert_treasury_price)\n",
        "\n",
        "# Display the dataframe to confirm the conversion\n",
        "data[treasury_columns]\n",
        "data.to_csv('/content/Final Version of Combined Data -FRE 7841.csv')\n",
        "\"\"\""
      ]
    },
    {
      "cell_type": "markdown",
      "metadata": {
        "id": "nInt31vAUQ14"
      },
      "source": [
        "# 1. Extract data of each asset type"
      ]
    },
    {
      "cell_type": "code",
      "execution_count": 4,
      "metadata": {
        "colab": {
          "base_uri": "https://localhost:8080/"
        },
        "id": "4RrLSZCAYBaN",
        "outputId": "255245a1-4a75-4922-8f06-ee54d5eac78b"
      },
      "outputs": [
        {
          "output_type": "stream",
          "name": "stdout",
          "text": [
            "Requirement already satisfied: pandas in /usr/local/lib/python3.10/dist-packages (1.5.3)\n",
            "Requirement already satisfied: openpyxl in /usr/local/lib/python3.10/dist-packages (3.1.2)\n",
            "Requirement already satisfied: python-dateutil>=2.8.1 in /usr/local/lib/python3.10/dist-packages (from pandas) (2.8.2)\n",
            "Requirement already satisfied: pytz>=2020.1 in /usr/local/lib/python3.10/dist-packages (from pandas) (2023.4)\n",
            "Requirement already satisfied: numpy>=1.21.0 in /usr/local/lib/python3.10/dist-packages (from pandas) (1.25.2)\n",
            "Requirement already satisfied: et-xmlfile in /usr/local/lib/python3.10/dist-packages (from openpyxl) (1.1.0)\n",
            "Requirement already satisfied: six>=1.5 in /usr/local/lib/python3.10/dist-packages (from python-dateutil>=2.8.1->pandas) (1.16.0)\n"
          ]
        }
      ],
      "source": [
        "!pip install pandas openpyxl\n",
        "\n",
        "import pandas as pd\n",
        "import numpy as np\n",
        "\n",
        "excel_path = '/content/financial_data_completed.xlsx'\n",
        "xls = pd.ExcelFile(excel_path)\n",
        "ticker_list = xls.sheet_names  # Assuming you're interested in all sheet names\n",
        "\n",
        "# Define your date range\n",
        "start_date = '2015-01-02'\n",
        "end_date = '2023-12-31'\n",
        "\n",
        "# Initialize an empty list to store processed DataFrames\n",
        "processed_data = []\n",
        "\n",
        "# Iterate over each sheet name, process, and store the result\n",
        "for ticker in ticker_list:\n",
        "    df = pd.read_excel(xls, sheet_name=ticker, parse_dates=['Date'])\n",
        "    df.set_index('Date', inplace=True)\n",
        "\n",
        "    # Filter the DataFrame to the specified date range\n",
        "    df = df.loc[start_date:end_date]\n",
        "\n",
        "    # Create a new index that includes all business days in the range, for backfilling\n",
        "    new_index = pd.date_range(start_date, end_date, freq='B')\n",
        "    df = df.reindex(new_index)\n",
        "\n",
        "    # Backfill missing data\n",
        "    df.fillna(method='ffill', inplace=True)\n",
        "\n",
        "    # Store the processed DataFrame\n",
        "    processed_data.append(df)\n",
        "\n",
        "# At this point, `processed_data` contains all your processed DataFrames\n",
        "data = processed_data"
      ]
    },
    {
      "cell_type": "code",
      "execution_count": 5,
      "metadata": {
        "id": "YiEAHOaVMSz4"
      },
      "outputs": [],
      "source": [
        "#intersection = set(date[0]).intersection(*date[1:])\n",
        "\n",
        "#intersection = list(intersection).sorted() # This will display the common elements in all sub-lists\n"
      ]
    },
    {
      "cell_type": "code",
      "execution_count": 6,
      "metadata": {
        "id": "TpIsd8w3RGBi"
      },
      "outputs": [],
      "source": [
        "import pandas as pd\n",
        "\n",
        "def get_data(data):\n",
        "    train_ls = []\n",
        "    test_ls = []\n",
        "\n",
        "    # Check if each item in data is a DataFrame and proceed if true\n",
        "    for df in data:  # Directly iterate over DataFrames in 'data'\n",
        "        if isinstance(df, pd.DataFrame):\n",
        "            # Assuming the 'Date' is the index after previous processing, no need to reset it\n",
        "            df.index = pd.to_datetime(df.index)  # Ensure index is datetime\n",
        "\n",
        "            # Initialize containers for each asset's train and test DataFrames\n",
        "            d_train = []\n",
        "            d_test = []\n",
        "\n",
        "            # Assuming 'df' is structured with datetime index and has been filtered to the date range\n",
        "            for j in range(0, len(df)-252, 252):  # Define rolling windows\n",
        "                # Ensure we have enough data for both training and testing in each window\n",
        "                if len(df)-252-j >= 252:\n",
        "                    # Slice DataFrames for training and testing\n",
        "                    train = df.iloc[j:j+252]\n",
        "                    test = df.iloc[j+252:j+504]\n",
        "\n",
        "                    d_train.append(train)\n",
        "                    d_test.append(test)\n",
        "\n",
        "            # Append training and testing sets for the current asset to the lists\n",
        "            train_ls.append(d_train)\n",
        "            test_ls.append(d_test)\n",
        "        else:\n",
        "            print(\"Error: One or more items in 'data' are not pandas DataFrame objects.\")\n",
        "\n",
        "    return train_ls, test_ls\n",
        "\n",
        "\n",
        "train, test = get_data(data)"
      ]
    },
    {
      "cell_type": "code",
      "execution_count": 7,
      "metadata": {
        "id": "TRP9WFKOdmbu"
      },
      "outputs": [],
      "source": [
        "test_eq=test[0:23]\n",
        "test_fi=test[23:26]\n",
        "test_fx=test[26:39]\n",
        "test_cmdt=test[39:47]\n",
        "\n",
        "train_eq=train[0:23]\n",
        "train_fi=train[23:26]\n",
        "train_fx=train[26:39]\n",
        "train_cmdt=train[39:47]\n",
        "test=[test_eq,test_fi,test_fx,test_cmdt]\n",
        "train=[train_eq, train_fi,train_fx, train_cmdt]"
      ]
    },
    {
      "cell_type": "code",
      "execution_count": 8,
      "metadata": {
        "id": "j8VTHrPwdp3Q"
      },
      "outputs": [],
      "source": [
        "def switch_dimensions(data):\n",
        "    # Initialize a new list to store the reorganized data\n",
        "    new_data = []\n",
        "\n",
        "    # Loop through each sublist i in the original list\n",
        "    for i in range(len(data)):\n",
        "        # Initialize a temporary list to store the switched dimensions for the current i\n",
        "        temp_i = []\n",
        "\n",
        "        # Determine the new dimensions based on the original dimensions j and k\n",
        "        # It's assumed all sublists at level j have the same length, and similarly for level k\n",
        "        len_j = len(data[i][0])  # Length of the first j dimension (assuming uniform length across all j)\n",
        "        len_k = len(data[i])     # Length of the k dimension\n",
        "\n",
        "        # Loop through each new j index (originally k) to reorganize the elements\n",
        "        for j in range(len_j):\n",
        "            temp_j = []\n",
        "            # Loop through each new k index (originally j)\n",
        "            for k in range(len_k):\n",
        "                # Append the element from the original data, switching j and k positions\n",
        "                temp_j.append(data[i][k][j])\n",
        "            # Append the reorganized sublist for the current i to temp_i\n",
        "            temp_i.append(temp_j)\n",
        "\n",
        "        # Append the reorganized data for the current i to the new_data list\n",
        "        new_data.append(temp_i)\n",
        "\n",
        "    return new_data\n",
        "\n",
        "# Assuming 'test' is your list with the structure test[i][j][k]\n",
        "test = switch_dimensions(test)\n",
        "train = switch_dimensions(train)\n",
        "\n",
        "\n",
        "# 'new_test' now has dimensions j and k switched for every i\n"
      ]
    },
    {
      "cell_type": "code",
      "execution_count": 9,
      "metadata": {
        "id": "kJD818q2seNS"
      },
      "outputs": [],
      "source": [
        "\n",
        "test_data = []\n",
        "for i in range(len(test)):\n",
        "  ls1 = []\n",
        "  for j in range(len(test[0])):\n",
        "    ls2 = []\n",
        "    for z in range(3):\n",
        "      for y in range(len(test[i][0])):\n",
        "        ls2.append(test[i][j][y])\n",
        "    ls1.append(ls2)\n",
        "  test_data.append(ls1)\n",
        "\n"
      ]
    },
    {
      "cell_type": "markdown",
      "metadata": {
        "id": "hhmtZHo04oaq"
      },
      "source": [
        "# 2. Build Strategies of SMA, RSI, MACD"
      ]
    },
    {
      "cell_type": "markdown",
      "metadata": {
        "id": "iCCb9yeAOuLv"
      },
      "source": [
        "# SMA"
      ]
    },
    {
      "cell_type": "code",
      "execution_count": 10,
      "metadata": {
        "id": "Zs60LibRXtTP"
      },
      "outputs": [],
      "source": [
        "import pandas as pd\n",
        "def SMA(values, n):\n",
        "    \"\"\"\n",
        "    Return simple moving average of `values`, at\n",
        "    each step taking into account `n` previous values.\n",
        "    \"\"\"\n",
        "    return pd.Series(values).rolling(n).mean()\n",
        "\n",
        "class SmaCross(Strategy):\n",
        "  def init(self,n1=10,n2=20):\n",
        "        # Precompute the two moving averages\n",
        "      self.sma1 = self.I(SMA, self.data.Close, self.n1)\n",
        "      self.sma2 = self.I(SMA, self.data.Close, self.n2)\n",
        "\n",
        "  def next(self):\n",
        "        # If sma1 crosses above sma2, close any existing and short trades, and buy the asset\n",
        "      if crossover(self.sma1, self.sma2):\n",
        "          self.position.close()\n",
        "          self.buy()\n",
        "\n",
        "        # Else, if sma1 crosses below sma2, close any existing and long trades, and sell the asset\n",
        "      elif crossover(self.sma2, self.sma1):\n",
        "          self.position.close()\n",
        "          self.sell()\n",
        "\n",
        "class CustomSmaCross(SmaCross):\n",
        "    n1 = 30\n",
        "    n2 = 40"
      ]
    },
    {
      "cell_type": "markdown",
      "metadata": {
        "id": "if-G3HWjOzH6"
      },
      "source": [
        "# MACD"
      ]
    },
    {
      "cell_type": "code",
      "execution_count": 11,
      "metadata": {
        "id": "PQ1jRg8f4y3y"
      },
      "outputs": [],
      "source": [
        "import pandas as pd\n",
        "def crossunder(series1, series2):\n",
        "    \"\"\"\n",
        "    Returns True if series1 crosses under series2, False otherwise.\n",
        "    \"\"\"\n",
        "    return crossover(series2, series1)\n",
        "# Assuming crossover and crossunder functions are defined as before\n",
        "\n",
        "def MACD(values, fast_period, slow_period, signal_period):\n",
        "    \"\"\"\n",
        "    Calculate the Moving Average Convergence Divergence (MACD) indicator, its signal line, and histogram.\n",
        "    \"\"\"\n",
        "    exp1 = pd.Series(values).ewm(span=fast_period, adjust=False).mean()\n",
        "    exp2 = pd.Series(values).ewm(span=slow_period, adjust=False).mean()\n",
        "    macd_line = exp1 - exp2\n",
        "    signal_line = macd_line.ewm(span=signal_period, adjust=False).mean()\n",
        "    histogram = macd_line - signal_line\n",
        "    return macd_line, signal_line, histogram\n",
        "\n",
        "class MACDStrategy(Strategy):\n",
        "    def __init__(self, *args, **kwargs):\n",
        "        self.fast_period = kwargs.pop('fast_period', 12)\n",
        "        self.slow_period = kwargs.pop('slow_period', 26)\n",
        "        self.signal_period = kwargs.pop('signal_period', 9)\n",
        "        super().__init__(*args, **kwargs)\n",
        "\n",
        "    def init(self):\n",
        "        # Calculate MACD indicator using parameters\n",
        "        self.macd, self.signal, _ = self.I(MACD, self.data.Close, self.fast_period, self.slow_period, self.signal_period)\n",
        "\n",
        "    def next(self):\n",
        "        if not self.position:\n",
        "            # If MACD line crosses above Signal line, buy\n",
        "            if crossover(self.macd, self.signal):\n",
        "                self.buy()\n",
        "        else:\n",
        "            # If MACD line crosses below Signal line, sell\n",
        "            if crossunder(self.macd, self.signal):\n",
        "                self.sell()\n",
        "\n",
        "\n",
        "class CustomMACD(MACDStrategy):\n",
        "  fast_period=5\n",
        "  slow_period=20\n",
        "  signal_period=2\n"
      ]
    },
    {
      "cell_type": "markdown",
      "metadata": {
        "id": "c6mDpxIdO1Qs"
      },
      "source": [
        "# RSI"
      ]
    },
    {
      "cell_type": "code",
      "execution_count": 12,
      "metadata": {
        "id": "dESPzbQvXRV2"
      },
      "outputs": [],
      "source": [
        "def RSI(values, n):\n",
        "    \"\"\"\n",
        "    Return Relative Strength Index (RSI) of `values`, at\n",
        "    each step taking into account `n` previous values.\n",
        "    \"\"\"\n",
        "    deltas = pd.Series(values).diff(1)\n",
        "    gain = (deltas.where(deltas > 0, 0)).rolling(n).mean()\n",
        "    loss = (-deltas.where(deltas < 0, 0)).rolling(n).mean()\n",
        "    rs = gain / loss\n",
        "    rsi = 100 - (100 / (1 + rs))\n",
        "    return rsi\n",
        "\n",
        "class BasicRsiStrategy(Strategy):\n",
        "    n1 = 30\n",
        "    n2 = 80\n",
        "\n",
        "    def __init__(self, *args, **kwargs):\n",
        "        # Call the parent class's __init__ with all arguments\n",
        "        super().__init__(*args, **kwargs)\n",
        "\n",
        "    def init(self):\n",
        "        # Framework-specific initialization code here\n",
        "        self.RSI = self.I(RSI, self.data.Close, 14)\n",
        "\n",
        "    def next(self):\n",
        "        if len(self.RSI) < 2:  # Ensure there are at least two RSI values to compare\n",
        "            return\n",
        "\n",
        "        today = self.RSI[-1]\n",
        "        yesterday = self.RSI[-2]\n",
        "\n",
        "        if yesterday > self.n1 and today < self.n1 and not self.position.is_long:\n",
        "            self.buy()\n",
        "        elif yesterday < self.n2 and today > self.n2 and self.position.size > 0:\n",
        "            self.position.close()\n",
        "\n",
        "class CustomRsiStrategy(BasicRsiStrategy):\n",
        "  n1 = 25\n",
        "  n2 = 70"
      ]
    },
    {
      "cell_type": "markdown",
      "metadata": {
        "id": "kfvXm3SD5LVu"
      },
      "source": [
        "## 2.1 Grid Search optimal parameter"
      ]
    },
    {
      "cell_type": "code",
      "execution_count": 20,
      "metadata": {
        "colab": {
          "base_uri": "https://localhost:8080/",
          "height": 1000,
          "referenced_widgets": [
            "ed97a9108d4049408b8bb75b24547790",
            "63bd7d06ed214f2bbe126da2b9717164",
            "3c47426010d74d028df23c1f2d516341",
            "db9b8bee8faa40789f73be74190768ee",
            "675cc31d640a4b41b849aa8e6c9022f3",
            "820ed54d6e6e48afbf1831f635b5f5b7",
            "b495f27ee42d46b986856ae8c6004adf",
            "bfd052f98caf4f7ab00f0cf857b9ae07",
            "d04e43121ef446bdbc90889e0c020f96",
            "02465f3025fa4bca87ec4ca4f2b866c1",
            "acbd4e1d5cb7456bafc38c57f006fd13",
            "45bc0cabe7434ad8ac00b573adb96433",
            "f39b73dbdd224f669e16798f4451eacc",
            "bcd7123848194babb285ec23e54b9661",
            "e879746a31764d83b21f86cab86623c3",
            "4294cb8c7d874f0b82ec6b33710cb39b",
            "508f80452fcb436fb157a0f754b9c7de",
            "78a367d44c7c45c7bf01b363cff0d296",
            "66046bab6bc949e0917381ebddf6a9bd",
            "c9d3375f4b064f47a49ffa5f9af35931",
            "b5d659ff657a452eafb7319fedc34494",
            "693adbde7d5a4ea4b599170f922c1006",
            "fc5ec4f86c594fecbec01e5c4f4e66ac",
            "5272e908947e44f284629a1379e95d80",
            "14ab1da8ea174e07ae04b77e92133c38",
            "e3d7c6ac3eb14849a5609bd504c86e60",
            "d7ecf3b9a6b2416c800787f27e28232e",
            "bf50961cc3354ee7ab12cf839132b70b",
            "fa87908919064d628611efa78fb60b91",
            "daf2d4d97c504d42b91a9c6a8ab2fecd",
            "7d9ad628acbf4f5aa8926f0fd5a132c6",
            "94a8862adca5422093ae70fbf0bdf722",
            "d90b705c9936436e94581979f7ddee13"
          ]
        },
        "id": "iUGpHNi7TrYn",
        "outputId": "d4635cc4-0838-4fef-92ab-4f48a0cdc8df"
      },
      "outputs": [
        {
          "output_type": "stream",
          "name": "stdout",
          "text": [
            "[0, 0, 2]\n"
          ]
        },
        {
          "output_type": "display_data",
          "data": {
            "text/plain": [
              "Backtest.optimize:   0%|          | 0/2 [00:00<?, ?it/s]"
            ],
            "application/vnd.jupyter.widget-view+json": {
              "version_major": 2,
              "version_minor": 0,
              "model_id": "ed97a9108d4049408b8bb75b24547790"
            }
          },
          "metadata": {}
        },
        {
          "output_type": "stream",
          "name": "stderr",
          "text": [
            "BokehDeprecationWarning: Passing lists of formats for DatetimeTickFormatter scales was deprecated in Bokeh 3.0. Configure a single string format for each scale\n",
            "/usr/local/lib/python3.10/dist-packages/backtesting/_plotting.py:250: UserWarning: DatetimeFormatter scales now only accept a single format. Using the first provided: '%d %b'\n",
            "  formatter=DatetimeTickFormatter(days=['%d %b', '%a %d'],\n",
            "BokehDeprecationWarning: Passing lists of formats for DatetimeTickFormatter scales was deprecated in Bokeh 3.0. Configure a single string format for each scale\n",
            "/usr/local/lib/python3.10/dist-packages/backtesting/_plotting.py:250: UserWarning: DatetimeFormatter scales now only accept a single format. Using the first provided: '%m/%Y'\n",
            "  formatter=DatetimeTickFormatter(days=['%d %b', '%a %d'],\n",
            "/usr/local/lib/python3.10/dist-packages/backtesting/_plotting.py:659: UserWarning: found multiple competing values for 'toolbar.active_drag' property; using the latest value\n",
            "  fig = gridplot(\n",
            "/usr/local/lib/python3.10/dist-packages/backtesting/_plotting.py:659: UserWarning: found multiple competing values for 'toolbar.active_scroll' property; using the latest value\n",
            "  fig = gridplot(\n"
          ]
        },
        {
          "output_type": "display_data",
          "data": {
            "application/javascript": [
              "(function(root) {\n",
              "  function now() {\n",
              "    return new Date();\n",
              "  }\n",
              "\n",
              "  const force = true;\n",
              "\n",
              "  if (typeof root._bokeh_onload_callbacks === \"undefined\" || force === true) {\n",
              "    root._bokeh_onload_callbacks = [];\n",
              "    root._bokeh_is_loading = undefined;\n",
              "  }\n",
              "\n",
              "const JS_MIME_TYPE = 'application/javascript';\n",
              "  const HTML_MIME_TYPE = 'text/html';\n",
              "  const EXEC_MIME_TYPE = 'application/vnd.bokehjs_exec.v0+json';\n",
              "  const CLASS_NAME = 'output_bokeh rendered_html';\n",
              "\n",
              "  /**\n",
              "   * Render data to the DOM node\n",
              "   */\n",
              "  function render(props, node) {\n",
              "    const script = document.createElement(\"script\");\n",
              "    node.appendChild(script);\n",
              "  }\n",
              "\n",
              "  /**\n",
              "   * Handle when an output is cleared or removed\n",
              "   */\n",
              "  function handleClearOutput(event, handle) {\n",
              "    function drop(id) {\n",
              "      const view = Bokeh.index.get_by_id(id)\n",
              "      if (view != null) {\n",
              "        view.model.document.clear()\n",
              "        Bokeh.index.delete(view)\n",
              "      }\n",
              "    }\n",
              "\n",
              "    const cell = handle.cell;\n",
              "\n",
              "    const id = cell.output_area._bokeh_element_id;\n",
              "    const server_id = cell.output_area._bokeh_server_id;\n",
              "\n",
              "    // Clean up Bokeh references\n",
              "    if (id != null) {\n",
              "      drop(id)\n",
              "    }\n",
              "\n",
              "    if (server_id !== undefined) {\n",
              "      // Clean up Bokeh references\n",
              "      const cmd_clean = \"from bokeh.io.state import curstate; print(curstate().uuid_to_server['\" + server_id + \"'].get_sessions()[0].document.roots[0]._id)\";\n",
              "      cell.notebook.kernel.execute(cmd_clean, {\n",
              "        iopub: {\n",
              "          output: function(msg) {\n",
              "            const id = msg.content.text.trim()\n",
              "            drop(id)\n",
              "          }\n",
              "        }\n",
              "      });\n",
              "      // Destroy server and session\n",
              "      const cmd_destroy = \"import bokeh.io.notebook as ion; ion.destroy_server('\" + server_id + \"')\";\n",
              "      cell.notebook.kernel.execute(cmd_destroy);\n",
              "    }\n",
              "  }\n",
              "\n",
              "  /**\n",
              "   * Handle when a new output is added\n",
              "   */\n",
              "  function handleAddOutput(event, handle) {\n",
              "    const output_area = handle.output_area;\n",
              "    const output = handle.output;\n",
              "\n",
              "    // limit handleAddOutput to display_data with EXEC_MIME_TYPE content only\n",
              "    if ((output.output_type != \"display_data\") || (!Object.prototype.hasOwnProperty.call(output.data, EXEC_MIME_TYPE))) {\n",
              "      return\n",
              "    }\n",
              "\n",
              "    const toinsert = output_area.element.find(\".\" + CLASS_NAME.split(' ')[0]);\n",
              "\n",
              "    if (output.metadata[EXEC_MIME_TYPE][\"id\"] !== undefined) {\n",
              "      toinsert[toinsert.length - 1].firstChild.textContent = output.data[JS_MIME_TYPE];\n",
              "      // store reference to embed id on output_area\n",
              "      output_area._bokeh_element_id = output.metadata[EXEC_MIME_TYPE][\"id\"];\n",
              "    }\n",
              "    if (output.metadata[EXEC_MIME_TYPE][\"server_id\"] !== undefined) {\n",
              "      const bk_div = document.createElement(\"div\");\n",
              "      bk_div.innerHTML = output.data[HTML_MIME_TYPE];\n",
              "      const script_attrs = bk_div.children[0].attributes;\n",
              "      for (let i = 0; i < script_attrs.length; i++) {\n",
              "        toinsert[toinsert.length - 1].firstChild.setAttribute(script_attrs[i].name, script_attrs[i].value);\n",
              "        toinsert[toinsert.length - 1].firstChild.textContent = bk_div.children[0].textContent\n",
              "      }\n",
              "      // store reference to server id on output_area\n",
              "      output_area._bokeh_server_id = output.metadata[EXEC_MIME_TYPE][\"server_id\"];\n",
              "    }\n",
              "  }\n",
              "\n",
              "  function register_renderer(events, OutputArea) {\n",
              "\n",
              "    function append_mime(data, metadata, element) {\n",
              "      // create a DOM node to render to\n",
              "      const toinsert = this.create_output_subarea(\n",
              "        metadata,\n",
              "        CLASS_NAME,\n",
              "        EXEC_MIME_TYPE\n",
              "      );\n",
              "      this.keyboard_manager.register_events(toinsert);\n",
              "      // Render to node\n",
              "      const props = {data: data, metadata: metadata[EXEC_MIME_TYPE]};\n",
              "      render(props, toinsert[toinsert.length - 1]);\n",
              "      element.append(toinsert);\n",
              "      return toinsert\n",
              "    }\n",
              "\n",
              "    /* Handle when an output is cleared or removed */\n",
              "    events.on('clear_output.CodeCell', handleClearOutput);\n",
              "    events.on('delete.Cell', handleClearOutput);\n",
              "\n",
              "    /* Handle when a new output is added */\n",
              "    events.on('output_added.OutputArea', handleAddOutput);\n",
              "\n",
              "    /**\n",
              "     * Register the mime type and append_mime function with output_area\n",
              "     */\n",
              "    OutputArea.prototype.register_mime_type(EXEC_MIME_TYPE, append_mime, {\n",
              "      /* Is output safe? */\n",
              "      safe: true,\n",
              "      /* Index of renderer in `output_area.display_order` */\n",
              "      index: 0\n",
              "    });\n",
              "  }\n",
              "\n",
              "  // register the mime type if in Jupyter Notebook environment and previously unregistered\n",
              "  if (root.Jupyter !== undefined) {\n",
              "    const events = require('base/js/events');\n",
              "    const OutputArea = require('notebook/js/outputarea').OutputArea;\n",
              "\n",
              "    if (OutputArea.prototype.mime_types().indexOf(EXEC_MIME_TYPE) == -1) {\n",
              "      register_renderer(events, OutputArea);\n",
              "    }\n",
              "  }\n",
              "  if (typeof (root._bokeh_timeout) === \"undefined\" || force === true) {\n",
              "    root._bokeh_timeout = Date.now() + 5000;\n",
              "    root._bokeh_failed_load = false;\n",
              "  }\n",
              "\n",
              "  const NB_LOAD_WARNING = {'data': {'text/html':\n",
              "     \"<div style='background-color: #fdd'>\\n\"+\n",
              "     \"<p>\\n\"+\n",
              "     \"BokehJS does not appear to have successfully loaded. If loading BokehJS from CDN, this \\n\"+\n",
              "     \"may be due to a slow or bad network connection. Possible fixes:\\n\"+\n",
              "     \"</p>\\n\"+\n",
              "     \"<ul>\\n\"+\n",
              "     \"<li>re-rerun `output_notebook()` to attempt to load from CDN again, or</li>\\n\"+\n",
              "     \"<li>use INLINE resources instead, as so:</li>\\n\"+\n",
              "     \"</ul>\\n\"+\n",
              "     \"<code>\\n\"+\n",
              "     \"from bokeh.resources import INLINE\\n\"+\n",
              "     \"output_notebook(resources=INLINE)\\n\"+\n",
              "     \"</code>\\n\"+\n",
              "     \"</div>\"}};\n",
              "\n",
              "  function display_loaded() {\n",
              "    const el = document.getElementById(null);\n",
              "    if (el != null) {\n",
              "      el.textContent = \"BokehJS is loading...\";\n",
              "    }\n",
              "    if (root.Bokeh !== undefined) {\n",
              "      if (el != null) {\n",
              "        el.textContent = \"BokehJS \" + root.Bokeh.version + \" successfully loaded.\";\n",
              "      }\n",
              "    } else if (Date.now() < root._bokeh_timeout) {\n",
              "      setTimeout(display_loaded, 100)\n",
              "    }\n",
              "  }\n",
              "\n",
              "  function run_callbacks() {\n",
              "    try {\n",
              "      root._bokeh_onload_callbacks.forEach(function(callback) {\n",
              "        if (callback != null)\n",
              "          callback();\n",
              "      });\n",
              "    } finally {\n",
              "      delete root._bokeh_onload_callbacks\n",
              "    }\n",
              "    console.debug(\"Bokeh: all callbacks have finished\");\n",
              "  }\n",
              "\n",
              "  function load_libs(css_urls, js_urls, callback) {\n",
              "    if (css_urls == null) css_urls = [];\n",
              "    if (js_urls == null) js_urls = [];\n",
              "\n",
              "    root._bokeh_onload_callbacks.push(callback);\n",
              "    if (root._bokeh_is_loading > 0) {\n",
              "      console.debug(\"Bokeh: BokehJS is being loaded, scheduling callback at\", now());\n",
              "      return null;\n",
              "    }\n",
              "    if (js_urls == null || js_urls.length === 0) {\n",
              "      run_callbacks();\n",
              "      return null;\n",
              "    }\n",
              "    console.debug(\"Bokeh: BokehJS not loaded, scheduling load and callback at\", now());\n",
              "    root._bokeh_is_loading = css_urls.length + js_urls.length;\n",
              "\n",
              "    function on_load() {\n",
              "      root._bokeh_is_loading--;\n",
              "      if (root._bokeh_is_loading === 0) {\n",
              "        console.debug(\"Bokeh: all BokehJS libraries/stylesheets loaded\");\n",
              "        run_callbacks()\n",
              "      }\n",
              "    }\n",
              "\n",
              "    function on_error(url) {\n",
              "      console.error(\"failed to load \" + url);\n",
              "    }\n",
              "\n",
              "    for (let i = 0; i < css_urls.length; i++) {\n",
              "      const url = css_urls[i];\n",
              "      const element = document.createElement(\"link\");\n",
              "      element.onload = on_load;\n",
              "      element.onerror = on_error.bind(null, url);\n",
              "      element.rel = \"stylesheet\";\n",
              "      element.type = \"text/css\";\n",
              "      element.href = url;\n",
              "      console.debug(\"Bokeh: injecting link tag for BokehJS stylesheet: \", url);\n",
              "      document.body.appendChild(element);\n",
              "    }\n",
              "\n",
              "    for (let i = 0; i < js_urls.length; i++) {\n",
              "      const url = js_urls[i];\n",
              "      const element = document.createElement('script');\n",
              "      element.onload = on_load;\n",
              "      element.onerror = on_error.bind(null, url);\n",
              "      element.async = false;\n",
              "      element.src = url;\n",
              "      console.debug(\"Bokeh: injecting script tag for BokehJS library: \", url);\n",
              "      document.head.appendChild(element);\n",
              "    }\n",
              "  };\n",
              "\n",
              "  function inject_raw_css(css) {\n",
              "    const element = document.createElement(\"style\");\n",
              "    element.appendChild(document.createTextNode(css));\n",
              "    document.body.appendChild(element);\n",
              "  }\n",
              "\n",
              "  const js_urls = [\"https://cdn.bokeh.org/bokeh/release/bokeh-3.3.4.min.js\", \"https://cdn.bokeh.org/bokeh/release/bokeh-gl-3.3.4.min.js\", \"https://cdn.bokeh.org/bokeh/release/bokeh-widgets-3.3.4.min.js\", \"https://cdn.bokeh.org/bokeh/release/bokeh-tables-3.3.4.min.js\", \"https://cdn.bokeh.org/bokeh/release/bokeh-mathjax-3.3.4.min.js\"];\n",
              "  const css_urls = [];\n",
              "\n",
              "  const inline_js = [    function(Bokeh) {\n",
              "      Bokeh.set_log_level(\"info\");\n",
              "    },\n",
              "function(Bokeh) {\n",
              "    }\n",
              "  ];\n",
              "\n",
              "  function run_inline_js() {\n",
              "    if (root.Bokeh !== undefined || force === true) {\n",
              "          for (let i = 0; i < inline_js.length; i++) {\n",
              "      inline_js[i].call(root, root.Bokeh);\n",
              "    }\n",
              "} else if (Date.now() < root._bokeh_timeout) {\n",
              "      setTimeout(run_inline_js, 100);\n",
              "    } else if (!root._bokeh_failed_load) {\n",
              "      console.log(\"Bokeh: BokehJS failed to load within specified timeout.\");\n",
              "      root._bokeh_failed_load = true;\n",
              "    } else if (force !== true) {\n",
              "      const cell = $(document.getElementById(null)).parents('.cell').data().cell;\n",
              "      cell.output_area.append_execute_result(NB_LOAD_WARNING)\n",
              "    }\n",
              "  }\n",
              "\n",
              "  if (root._bokeh_is_loading === 0) {\n",
              "    console.debug(\"Bokeh: BokehJS loaded, going straight to plotting\");\n",
              "    run_inline_js();\n",
              "  } else {\n",
              "    load_libs(css_urls, js_urls, function() {\n",
              "      console.debug(\"Bokeh: BokehJS plotting callback run at\", now());\n",
              "      run_inline_js();\n",
              "    });\n",
              "  }\n",
              "}(window));"
            ],
            "application/vnd.bokehjs_load.v0+json": "(function(root) {\n  function now() {\n    return new Date();\n  }\n\n  const force = true;\n\n  if (typeof root._bokeh_onload_callbacks === \"undefined\" || force === true) {\n    root._bokeh_onload_callbacks = [];\n    root._bokeh_is_loading = undefined;\n  }\n\n\n  if (typeof (root._bokeh_timeout) === \"undefined\" || force === true) {\n    root._bokeh_timeout = Date.now() + 5000;\n    root._bokeh_failed_load = false;\n  }\n\n  const NB_LOAD_WARNING = {'data': {'text/html':\n     \"<div style='background-color: #fdd'>\\n\"+\n     \"<p>\\n\"+\n     \"BokehJS does not appear to have successfully loaded. If loading BokehJS from CDN, this \\n\"+\n     \"may be due to a slow or bad network connection. Possible fixes:\\n\"+\n     \"</p>\\n\"+\n     \"<ul>\\n\"+\n     \"<li>re-rerun `output_notebook()` to attempt to load from CDN again, or</li>\\n\"+\n     \"<li>use INLINE resources instead, as so:</li>\\n\"+\n     \"</ul>\\n\"+\n     \"<code>\\n\"+\n     \"from bokeh.resources import INLINE\\n\"+\n     \"output_notebook(resources=INLINE)\\n\"+\n     \"</code>\\n\"+\n     \"</div>\"}};\n\n  function display_loaded() {\n    const el = document.getElementById(null);\n    if (el != null) {\n      el.textContent = \"BokehJS is loading...\";\n    }\n    if (root.Bokeh !== undefined) {\n      if (el != null) {\n        el.textContent = \"BokehJS \" + root.Bokeh.version + \" successfully loaded.\";\n      }\n    } else if (Date.now() < root._bokeh_timeout) {\n      setTimeout(display_loaded, 100)\n    }\n  }\n\n  function run_callbacks() {\n    try {\n      root._bokeh_onload_callbacks.forEach(function(callback) {\n        if (callback != null)\n          callback();\n      });\n    } finally {\n      delete root._bokeh_onload_callbacks\n    }\n    console.debug(\"Bokeh: all callbacks have finished\");\n  }\n\n  function load_libs(css_urls, js_urls, callback) {\n    if (css_urls == null) css_urls = [];\n    if (js_urls == null) js_urls = [];\n\n    root._bokeh_onload_callbacks.push(callback);\n    if (root._bokeh_is_loading > 0) {\n      console.debug(\"Bokeh: BokehJS is being loaded, scheduling callback at\", now());\n      return null;\n    }\n    if (js_urls == null || js_urls.length === 0) {\n      run_callbacks();\n      return null;\n    }\n    console.debug(\"Bokeh: BokehJS not loaded, scheduling load and callback at\", now());\n    root._bokeh_is_loading = css_urls.length + js_urls.length;\n\n    function on_load() {\n      root._bokeh_is_loading--;\n      if (root._bokeh_is_loading === 0) {\n        console.debug(\"Bokeh: all BokehJS libraries/stylesheets loaded\");\n        run_callbacks()\n      }\n    }\n\n    function on_error(url) {\n      console.error(\"failed to load \" + url);\n    }\n\n    for (let i = 0; i < css_urls.length; i++) {\n      const url = css_urls[i];\n      const element = document.createElement(\"link\");\n      element.onload = on_load;\n      element.onerror = on_error.bind(null, url);\n      element.rel = \"stylesheet\";\n      element.type = \"text/css\";\n      element.href = url;\n      console.debug(\"Bokeh: injecting link tag for BokehJS stylesheet: \", url);\n      document.body.appendChild(element);\n    }\n\n    for (let i = 0; i < js_urls.length; i++) {\n      const url = js_urls[i];\n      const element = document.createElement('script');\n      element.onload = on_load;\n      element.onerror = on_error.bind(null, url);\n      element.async = false;\n      element.src = url;\n      console.debug(\"Bokeh: injecting script tag for BokehJS library: \", url);\n      document.head.appendChild(element);\n    }\n  };\n\n  function inject_raw_css(css) {\n    const element = document.createElement(\"style\");\n    element.appendChild(document.createTextNode(css));\n    document.body.appendChild(element);\n  }\n\n  const js_urls = [\"https://cdn.bokeh.org/bokeh/release/bokeh-3.3.4.min.js\", \"https://cdn.bokeh.org/bokeh/release/bokeh-gl-3.3.4.min.js\", \"https://cdn.bokeh.org/bokeh/release/bokeh-widgets-3.3.4.min.js\", \"https://cdn.bokeh.org/bokeh/release/bokeh-tables-3.3.4.min.js\", \"https://cdn.bokeh.org/bokeh/release/bokeh-mathjax-3.3.4.min.js\"];\n  const css_urls = [];\n\n  const inline_js = [    function(Bokeh) {\n      Bokeh.set_log_level(\"info\");\n    },\nfunction(Bokeh) {\n    }\n  ];\n\n  function run_inline_js() {\n    if (root.Bokeh !== undefined || force === true) {\n          for (let i = 0; i < inline_js.length; i++) {\n      inline_js[i].call(root, root.Bokeh);\n    }\n} else if (Date.now() < root._bokeh_timeout) {\n      setTimeout(run_inline_js, 100);\n    } else if (!root._bokeh_failed_load) {\n      console.log(\"Bokeh: BokehJS failed to load within specified timeout.\");\n      root._bokeh_failed_load = true;\n    } else if (force !== true) {\n      const cell = $(document.getElementById(null)).parents('.cell').data().cell;\n      cell.output_area.append_execute_result(NB_LOAD_WARNING)\n    }\n  }\n\n  if (root._bokeh_is_loading === 0) {\n    console.debug(\"Bokeh: BokehJS loaded, going straight to plotting\");\n    run_inline_js();\n  } else {\n    load_libs(css_urls, js_urls, function() {\n      console.debug(\"Bokeh: BokehJS plotting callback run at\", now());\n      run_inline_js();\n    });\n  }\n}(window));"
          },
          "metadata": {}
        },
        {
          "output_type": "display_data",
          "data": {
            "text/html": [
              "\n",
              "  <div id=\"a60014b9-b196-433e-84b0-31cf4593cd1a\" data-root-id=\"p4417\" style=\"display: contents;\"></div>\n"
            ]
          },
          "metadata": {}
        },
        {
          "output_type": "display_data",
          "data": {
            "application/javascript": [
              "(function(root) {\n",
              "  function embed_document(root) {\n",
              "  const docs_json = {\"0af30006-3b90-4fd2-bdc3-09f6b662ef0b\":{\"version\":\"3.3.4\",\"title\":\"Bokeh Application\",\"roots\":[{\"type\":\"object\",\"name\":\"GridPlot\",\"id\":\"p4417\",\"attributes\":{\"rows\":null,\"cols\":null,\"sizing_mode\":\"stretch_width\",\"toolbar\":{\"type\":\"object\",\"name\":\"Toolbar\",\"id\":\"p4416\",\"attributes\":{\"logo\":null,\"tools\":[{\"type\":\"object\",\"name\":\"ToolProxy\",\"id\":\"p4408\",\"attributes\":{\"tools\":[{\"type\":\"object\",\"name\":\"PanTool\",\"id\":\"p4159\",\"attributes\":{\"dimensions\":\"width\"}},{\"type\":\"object\",\"name\":\"PanTool\",\"id\":\"p4256\",\"attributes\":{\"dimensions\":\"width\"}},{\"type\":\"object\",\"name\":\"PanTool\",\"id\":\"p4115\",\"attributes\":{\"dimensions\":\"width\"}},{\"type\":\"object\",\"name\":\"PanTool\",\"id\":\"p4311\",\"attributes\":{\"dimensions\":\"width\"}}]}},{\"type\":\"object\",\"name\":\"ToolProxy\",\"id\":\"p4409\",\"attributes\":{\"tools\":[{\"type\":\"object\",\"name\":\"WheelZoomTool\",\"id\":\"p4160\",\"attributes\":{\"dimensions\":\"width\",\"renderers\":\"auto\",\"maintain_focus\":false}},{\"type\":\"object\",\"name\":\"WheelZoomTool\",\"id\":\"p4257\",\"attributes\":{\"dimensions\":\"width\",\"renderers\":\"auto\",\"maintain_focus\":false}},{\"type\":\"object\",\"name\":\"WheelZoomTool\",\"id\":\"p4116\",\"attributes\":{\"dimensions\":\"width\",\"renderers\":\"auto\",\"maintain_focus\":false}},{\"type\":\"object\",\"name\":\"WheelZoomTool\",\"id\":\"p4312\",\"attributes\":{\"dimensions\":\"width\",\"renderers\":\"auto\",\"maintain_focus\":false}}]}},{\"type\":\"object\",\"name\":\"ToolProxy\",\"id\":\"p4410\",\"attributes\":{\"tools\":[{\"type\":\"object\",\"name\":\"BoxZoomTool\",\"id\":\"p4161\",\"attributes\":{\"overlay\":{\"type\":\"object\",\"name\":\"BoxAnnotation\",\"id\":\"p4162\",\"attributes\":{\"syncable\":false,\"level\":\"overlay\",\"visible\":false,\"left\":{\"type\":\"number\",\"value\":\"nan\"},\"right\":{\"type\":\"number\",\"value\":\"nan\"},\"top\":{\"type\":\"number\",\"value\":\"nan\"},\"bottom\":{\"type\":\"number\",\"value\":\"nan\"},\"left_units\":\"canvas\",\"right_units\":\"canvas\",\"top_units\":\"canvas\",\"bottom_units\":\"canvas\",\"line_color\":\"black\",\"line_alpha\":1.0,\"line_width\":2,\"line_dash\":[4,4],\"fill_color\":\"lightgrey\",\"fill_alpha\":0.5}}}},{\"type\":\"object\",\"name\":\"BoxZoomTool\",\"id\":\"p4258\",\"attributes\":{\"overlay\":{\"type\":\"object\",\"name\":\"BoxAnnotation\",\"id\":\"p4259\",\"attributes\":{\"syncable\":false,\"level\":\"overlay\",\"visible\":false,\"left\":{\"type\":\"number\",\"value\":\"nan\"},\"right\":{\"type\":\"number\",\"value\":\"nan\"},\"top\":{\"type\":\"number\",\"value\":\"nan\"},\"bottom\":{\"type\":\"number\",\"value\":\"nan\"},\"left_units\":\"canvas\",\"right_units\":\"canvas\",\"top_units\":\"canvas\",\"bottom_units\":\"canvas\",\"line_color\":\"black\",\"line_alpha\":1.0,\"line_width\":2,\"line_dash\":[4,4],\"fill_color\":\"lightgrey\",\"fill_alpha\":0.5}}}},{\"type\":\"object\",\"name\":\"BoxZoomTool\",\"id\":\"p4117\",\"attributes\":{\"overlay\":{\"type\":\"object\",\"name\":\"BoxAnnotation\",\"id\":\"p4118\",\"attributes\":{\"syncable\":false,\"level\":\"overlay\",\"visible\":false,\"left\":{\"type\":\"number\",\"value\":\"nan\"},\"right\":{\"type\":\"number\",\"value\":\"nan\"},\"top\":{\"type\":\"number\",\"value\":\"nan\"},\"bottom\":{\"type\":\"number\",\"value\":\"nan\"},\"left_units\":\"canvas\",\"right_units\":\"canvas\",\"top_units\":\"canvas\",\"bottom_units\":\"canvas\",\"line_color\":\"black\",\"line_alpha\":1.0,\"line_width\":2,\"line_dash\":[4,4],\"fill_color\":\"lightgrey\",\"fill_alpha\":0.5}}}},{\"type\":\"object\",\"name\":\"BoxZoomTool\",\"id\":\"p4313\",\"attributes\":{\"overlay\":{\"type\":\"object\",\"name\":\"BoxAnnotation\",\"id\":\"p4314\",\"attributes\":{\"syncable\":false,\"level\":\"overlay\",\"visible\":false,\"left\":{\"type\":\"number\",\"value\":\"nan\"},\"right\":{\"type\":\"number\",\"value\":\"nan\"},\"top\":{\"type\":\"number\",\"value\":\"nan\"},\"bottom\":{\"type\":\"number\",\"value\":\"nan\"},\"left_units\":\"canvas\",\"right_units\":\"canvas\",\"top_units\":\"canvas\",\"bottom_units\":\"canvas\",\"line_color\":\"black\",\"line_alpha\":1.0,\"line_width\":2,\"line_dash\":[4,4],\"fill_color\":\"lightgrey\",\"fill_alpha\":0.5}}}}]}},{\"type\":\"object\",\"name\":\"ToolProxy\",\"id\":\"p4411\",\"attributes\":{\"tools\":[{\"type\":\"object\",\"name\":\"UndoTool\",\"id\":\"p4167\"},{\"type\":\"object\",\"name\":\"UndoTool\",\"id\":\"p4264\"},{\"type\":\"object\",\"name\":\"UndoTool\",\"id\":\"p4123\"},{\"type\":\"object\",\"name\":\"UndoTool\",\"id\":\"p4319\"}]}},{\"type\":\"object\",\"name\":\"ToolProxy\",\"id\":\"p4412\",\"attributes\":{\"tools\":[{\"type\":\"object\",\"name\":\"RedoTool\",\"id\":\"p4168\"},{\"type\":\"object\",\"name\":\"RedoTool\",\"id\":\"p4265\"},{\"type\":\"object\",\"name\":\"RedoTool\",\"id\":\"p4124\"},{\"type\":\"object\",\"name\":\"RedoTool\",\"id\":\"p4320\"}]}},{\"type\":\"object\",\"name\":\"ToolProxy\",\"id\":\"p4413\",\"attributes\":{\"tools\":[{\"type\":\"object\",\"name\":\"ResetTool\",\"id\":\"p4169\"},{\"type\":\"object\",\"name\":\"ResetTool\",\"id\":\"p4266\"},{\"type\":\"object\",\"name\":\"ResetTool\",\"id\":\"p4125\"},{\"type\":\"object\",\"name\":\"ResetTool\",\"id\":\"p4321\"}]}},{\"type\":\"object\",\"name\":\"SaveTool\",\"id\":\"p4414\"},{\"type\":\"object\",\"name\":\"HoverTool\",\"id\":\"p4192\",\"attributes\":{\"renderers\":[{\"type\":\"object\",\"name\":\"GlyphRenderer\",\"id\":\"p4189\",\"attributes\":{\"data_source\":{\"type\":\"object\",\"name\":\"ColumnDataSource\",\"id\":\"p4127\",\"attributes\":{\"selected\":{\"type\":\"object\",\"name\":\"Selection\",\"id\":\"p4128\",\"attributes\":{\"indices\":[],\"line_indices\":[]}},\"selection_policy\":{\"type\":\"object\",\"name\":\"UnionRenderers\",\"id\":\"p4129\"},\"data\":{\"type\":\"map\",\"entries\":[[\"index\",{\"type\":\"ndarray\",\"array\":{\"type\":\"bytes\",\"data\":\"AAAAAAEAAAACAAAAAwAAAAQAAAAFAAAABgAAAAcAAAAIAAAACQAAAAoAAAALAAAADAAAAA0AAAAOAAAADwAAABAAAAARAAAAEgAAABMAAAAUAAAAFQAAABYAAAAXAAAAGAAAABkAAAAaAAAAGwAAABwAAAAdAAAAHgAAAB8AAAAgAAAAIQAAACIAAAAjAAAAJAAAACUAAAAmAAAAJwAAACgAAAApAAAAKgAAACsAAAAsAAAALQAAAC4AAAAvAAAAMAAAADEAAAAyAAAAMwAAADQAAAA1AAAANgAAADcAAAA4AAAAOQAAADoAAAA7AAAAPAAAAD0AAAA+AAAAPwAAAEAAAABBAAAAQgAAAEMAAABEAAAARQAAAEYAAABHAAAASAAAAEkAAABKAAAASwAAAEwAAABNAAAATgAAAE8AAABQAAAAUQAAAFIAAABTAAAAVAAAAFUAAABWAAAAVwAAAFgAAABZAAAAWgAAAFsAAABcAAAAXQAAAF4AAABfAAAAYAAAAGEAAABiAAAAYwAAAGQAAABlAAAAZgAAAGcAAABoAAAAaQAAAGoAAABrAAAAbAAAAG0AAABuAAAAbwAAAHAAAABxAAAAcgAAAHMAAAB0AAAAdQAAAHYAAAB3AAAAeAAAAHkAAAB6AAAAewAAAHwAAAB9AAAAfgAAAH8AAACAAAAAgQAAAIIAAACDAAAAhAAAAIUAAACGAAAAhwAAAIgAAACJAAAAigAAAIsAAACMAAAAjQAAAI4AAACPAAAAkAAAAJEAAACSAAAAkwAAAJQAAACVAAAAlgAAAJcAAACYAAAAmQAAAJoAAACbAAAAnAAAAJ0AAACeAAAAnwAAAKAAAAChAAAAogAAAKMAAACkAAAApQAAAKYAAACnAAAAqAAAAKkAAACqAAAAqwAAAKwAAACtAAAArgAAAK8AAACwAAAAsQAAALIAAACzAAAAtAAAALUAAAC2AAAAtwAAALgAAAC5AAAAugAAALsAAAC8AAAAvQAAAL4AAAC/AAAAwAAAAMEAAADCAAAAwwAAAMQAAADFAAAAxgAAAMcAAADIAAAAyQAAAMoAAADLAAAAzAAAAM0AAADOAAAAzwAAANAAAADRAAAA0gAAANMAAADUAAAA1QAAANYAAADXAAAA2AAAANkAAADaAAAA2wAAANwAAADdAAAA3gAAAN8AAADgAAAA4QAAAOIAAADjAAAA5AAAAOUAAADmAAAA5wAAAOgAAADpAAAA6gAAAOsAAADsAAAA7QAAAO4AAADvAAAA8AAAAPEAAADyAAAA8wAAAPQAAAD1AAAA9gAAAPcAAAD4AAAA+QAAAPoAAAD7AAAA\"},\"shape\":[252],\"dtype\":\"int32\",\"order\":\"little\"}],[\"Open\",{\"type\":\"ndarray\",\"array\":{\"type\":\"bytes\",\"data\":\"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\"},\"shape\":[252],\"dtype\":\"float64\",\"order\":\"little\"}],[\"High\",{\"type\":\"ndarray\",\"array\":{\"type\":\"bytes\",\"data\":\"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\"},\"shape\":[252],\"dtype\":\"float64\",\"order\":\"little\"}],[\"Low\",{\"type\":\"ndarray\",\"array\":{\"type\":\"bytes\",\"data\":\"AAAAAH9qBUD//////dQEQP///9+nxgNAAAAAINv5A0AAAAAAf2oEQP///5/GSwRA////Hy/dA0ABAAAgg8ADQAEAAMD1KANAAQAAIN0kA0D///+f8dICQP///5/x0gJAAAAAgML1AkD///8f2c4CQAEAAGBkOwNAAAAAQLbzAkAAAAAghesCQAEAAMDKoQJA/////9JNAkD///8fWmQCQP///x/ZzgFAAAAAoEfhAUD///8fWmQCQAAAACDb+QJAAAAAoG4SA0D///9fukkDQP///5+bxANA////nxxaBEAAAABAi2wEQP///7/3UwRAAQAAgBSuBEABAACAFK4EQAAAACDb+QRAAAAAgEFgBUAAAAAA1XgFQP///3+VQwVAAQAAQDMzBUABAACg76cEQAAAAEDhegRA////f+tRBED///8/tMgEQP/////91ARA////v3JoBUABAABg46UFQAEAAECNlwVAAQAAgBSuBUD/////0k0GQAEAACCDwAVA////H1pkBUAAAACgbhIFQP///x9aZAVAAQAAYA4tBUD///9/FtkEQP///3+VQwRAAAAAINv5A0AAAAAg2/kDQAAAAIDC9QNAAQAA4PupA0AAAAAgXI8DQAAAAMBJDARAAQAAoBovBEABAABgZDsEQAEAAGBkOwRAAQAAoO+nA0ABAACAarwDQAEAAIBqvANAAAAAAKrxA0ABAABAMzMEQAAAAKBuEgRAAAAAAFYOBEAAAAAAf2oEQAAAAACBlQRAAAAAAKrxA0ABAACA6SYEQAEAAKAaLwRAAAAAQAwCBEABAAAg3SQEQP///x+uRwRAAAAAQOF6BEAAAADASQwFQP///3/AygRA////X4/CBED/////U+MEQAEAAGA5tAVAAAAAYJHtBUABAAAg3SQGQAAAAICXbgZA////n/HSBkD///9/61EHQP///3+VQwdA//////3UBkAAAAAAf2oHQAAAAIBs5wdAAQAAgBSuB0ABAABAiUEIQP///z/fTwdAAAAAgGiRB0AAAACgGAQIQAEAAKBwPQhA////v8zMB0ABAAAA16MHQAEAAADXowdAAAAAQGIQB0AAAAAAAAAHQP///98i2wZAAQAAgGq8BkAAAADgeOkGQAEAAAAtsgdAAQAAoMQgCEABAADASzcIQAAAAICXbghAAQAAQAisCEAAAABAtvMIQAAAAADVeAlA////PwrXCED///8/NV4IQP/////STQhA////PzVeCEAAAAAgsHIIQAAAAKCZmQhA////PzVeCEAAAADgT40IQAEAAGBkOwlAAQAAIN0kCUABAABgDi0JQAAAAEA3iQlA////n5vECEAAAADAdJMIQP///99NYglA////n8ZLCUD///+fxksJQAAAAOBPjQhA////3yLbB0D///+f8dIHQAEAAGBkOwhA////n8ZLCUAAAAAAf2oJQAAAAOD5fglAAAAAIDEICUD///9f5dAIQAAAAIBokQhAAQAAwMqhCEAAAACAaJEIQAEAAIA/NQhA////36fGB0AAAACgmZkHQP///z/fTwdAAQAAwMqhB0D///+fm8QHQAAAAOD5fgdAAQAAwPUoB0D///9fj8IGQAAAACCF6wZAAQAAwPUoB0AAAABguB4HQAAAAKBDiwZA////XzvfBkD///8/308GQAAAAMCfGgZAAAAAwHSTBkABAADgpZsGQP///x8EVgZAAAAAoJmZBkAAAAAAK4cGQAAAAEAMAgZA////X4/CBUAAAAAAAAAFQAEAAEAzMwZA////f8DKBkABAACgxCAHQAAAACCF6wZA/////1PjBkABAAAg3SQHQP///x8EVgdA////v3JoB0AAAAAgMQgHQAAAACAxCAdAAAAAgEFgB0AAAADg+X4HQAEAAOD7qQdA////301iB0D////fTWIHQAAAAKBDiwdA////v3JoCEABAADgJjEIQAAAAECLbAdAAQAAoEW2B0D///+fHFoHQAAAAEDhegdAAAAAYJHtBkAAAAAAgZUHQAAAAOB46QZAAQAAQF66BkAAAABAYOUGQAAAACBcjwZAAAAAwPP9BUD//////dQGQAAAAEC28wZAAAAAAFYOB0AAAABg5/sGQP///3/rUQdA////PzVeB0AAAABgke0GQAEAAGA5tAZAAQAAIIPABkD///8/tMgGQAAAACDb+QZA////f5VDB0D///9fO98GQAEAAEAIrAZAAAAAYLgeB0D///9/FtkGQAAAAIC+nwZA////n/HSBkAAAACAPQoHQP///79yaAdAAAAAACuHB0ABAACg76cHQP///5+bxAdAAAAAIIXrB0D/////U+MHQAEAAIAUrghAAQAAYOOlCEAAAACgR+EIQAEAAOClmwhA/////yhcCED///9/61EIQP///3/rUQhA////n8ZLCEAAAACAbOcHQAAAAEC28wdAAAAAYJHtB0ABAAAgg8AHQP/////91AdA//////3UB0D///9/wMoHQP///x8v3QdA////H65HB0ABAADASzcHQAAAAGBmZgdAAAAAYOf7B0AAAAAgsHIHQAAAAECLbAdAAAAAwHSTB0ABAAAA16MHQAAAACDb+QZAAAAAwEkMB0ABAAAgg8AHQAEAAIAUrgdAAAAAILByB0ABAABgDi0HQAEAAACsHAdA\"},\"shape\":[252],\"dtype\":\"float64\",\"order\":\"little\"}],[\"Close\",{\"type\":\"ndarray\",\"array\":{\"type\":\"bytes\",\"data\":\"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\"},\"shape\":[252],\"dtype\":\"float64\",\"order\":\"little\"}],[\"Volume\",{\"type\":\"ndarray\",\"array\":{\"type\":\"bytes\",\"data\":\"AAAAAAAAAAAAAAAAAAAAAAAAAAAAAAAAAAAAAAAAAAAAAAAAAAAAAAAAAAAAAAAAAAAAAAAAAAAAAAAAAAAAAAAAAAAAAAAAAAAAAAAAAAAAAAAAAAAAAAAAAAAAAAAAAAAAAAAAAAAAAAAAAAAAAAAAAAAAAAAAAAAAAAAAAAAAAAAAAAAAAAAAAAAAAAAAAAAAAAAAAAAAAAAAAAAAAAAAAAAAAAAAAAAAAAAAAAAAAAAAAAAAAAAAAAAAAAAAAAAAAAAAAAAAAAAAAAAAAAAAAAAAAAAAAAAAAAAAAAAAAAAAAAAAAAAAAAAAAAAAAAAAAAAAAAAAAAAAAAAAAAAAAAAAAAAAAAAAAAAAAAAAAAAAAAAAAAAAAAAAAAAAAAAAAAAAAAAAAAAAAAAAAAAAAAAAAAAAAAAAAAAAAAAAAAAAAAAAAAAAAAAAAAAAAAAAAAAAAAAAAAAAAAAAAAAAAAAAAAAAAAAAAAAAAAAAAAAAAAAAAAAAAAAAAAAAAAAAAAAAAAAAAAAAAAAAAAAAAAAAAAAAAAAAAAAAAAAAAAAAAAAAAAAAAAAAAAAAAAAAAAAAAAAAAAAAAAAAAAAAAAAAAAAAAAAAAAAAAAAAAAAAAAAAAAAAAAAAAAAAAAAAAAAAAAAAAAAAAAAAAAAAAAAAAAAAAAAAAAAAAAAAAAAAAAAAAAAAAAAAAAAAAAAAAAAAAAAAAAAAAAAAAAAAAAAAAAAAAAAAAAAAAAAAAAAAAAAAAAAAAAAAAAAAAAAAAAAAAAAAAAAAAAAAAAAAAAAAAAAAAAAAAAAAAAAAAAAAAAAAAAAAAAAAAAAAAAAAAAAAAAAAAAAAAAAAAAAAAAAAAAAAAAAAAAAAAAAAAAAAAAAAAAAAAAAAAAAAAAAAAAAAAAAAAAAAAAAAAAAAAAAAAAAAAAAAAAAAAAAAAAAAAAAAAAAAAAAAAAAAAAAAAAAAAAAAAAAAAAAAAAAAAAAAAAAAAAAAAAAAAAAAAAAAAAAAAAAAAAAAAAAAAAAAAAAAAAAAAAAAAAAAAAAAAAAAAAAAAAAAAAAAAAAAAAAAAAAAAAAAAAAAAAAAAAAAAAAAAAAAAAAAAAAAAAAAAAAAAAAAAAAAAAAAAAAAAAAAAAAAAAAAAAAAAAAAAAAAAAAAAAAAAAAAAAAAAAAAAAAAAAAAAAAAAAAAAAAAAAAAAAAAAAAAAAAAAAAAAAAAAAAAAAAAAAAAAAAAAAAAAAAAAAAAAAAAAAAAAAAAAAAAAAAAAAAAAAAAAAAAAAAAAAAAAAAAAAAAAAAAAAAAAAAAAAAAAAAAAAAAAAAAAAAAAAAAAAAAAAAAAAAAAAAAAAAAAAAAAAAAAAAAAAAAAAAAAAAAAAAAAAAAAAAAAAAAAAAAAAAAAAAAAAAAAAAAAAAAAAAAAAAAAAAAAAAAAAAAAAAAAAAAAAAAAAAAAAAAAAAAAAAAAAAAAAAAAAAAAAAAAAAAAAAAAAAAAAAAAAAAAAAAAAAAAAAAAAAAAAAAAAAAAAAAAAAAAAAAAAAAAAAAAAAAAAAAAAAAAAAAAAAAAAAAAAAAAAAAAAAAAAAAAAAAAAAAAAAAAAAAAAAAAAAAAAAAAAAAAAAAAAAAAAAAAAAAAAAAAAAAAAAAAAAAAAAAAAAAAAAAAAAAAAAAAAAAAAAAAAAAAAAAAAAAAAAAAAAAAAAAAAAAAAAAAAAAAAAAAAAAAAAAAAAAAAAAAAAAAAAAAAAAAAAAAAAAAAAAAAAAAAAAAAAAAAAAAAAAAAAAAAAAAAAAAAAAAAAAAAAAAAAAAAAAAAAAAAAAAAAAAAAAAAAAAAAAAAAAAAAAAAAAAAAAAAAAAAAAAAAAAAAAAAAAAAAAAAAAAAAAAAAAAAAAAAAAAAAAAAAAAAAAAAAAAAAAAAAAAAAAAAAAAAAAAAAAAAAAAAAAAAAAAAAAAAAAAAAAAAAAAAAAAAAAAAAAAAAAAAAAAAAAAAAAAAAAAAAAAAAAAAAAAAAAAAAAAAAAAAAAAAAAAAAAAAAAAAAAAAAAAAAAAAAAAAAAAAAAAAAAAAAAAAAAAAAAAAAAAAAAAAAAAAAAAAAAAAAAAAAAAAAAAAAAAAAAAAAAAAAAAAAAAAAAAAAAAAAAAAAAAAAAAAAAAAAAAAAAAAAAAAAAAAAAAAAAAAAAAAAAAAAAAAAAAAAAAAAAAAAAAAAAAAAAAAAAAAAAAAAAAAAAAAAAAAAAAAAAAAAAAAAAAAAAAAAAAAAAAAAAAAAAAAAAAAAAAAAAAAAAAAAAAAAAAAAAAAAAAAAAAAAAAAAAAAAAAAAAAAAAAAAAAAAAAAAAAAAAAAAAAAAAAAAAAAAAAAAAAAAAAAAAAAAAAAAAAAAAAAAAAAAAAAAAAAAAAAAAAAAAAAAAAAAAAAAAAAAAAAAAAAAAAAAAAAAAAAAAAAAAAAAAAAAAAAAAAAAAAAAAAAAAAAAAAAAAAAAAAAAAAAAAAAAAAAAAAAAAAAAAAAAAAAAAAAAAAAAAAAAAAAAAAAAAAAAAAAAAAAAAAAAAAAAAAAAAAAAAAAAAAAAAAAAAAAAAAAAAAAAAAAAAAAAAAAAAAAAAAAAAAAAAAAAAAAAAAAAAAAAAAAAAAAAAAAAAAAAAAAAAAAAAAAAAAAAAAAAAAAAAAAAAAAAAAAAAAAAAAAAAAAAAAAAA\"},\"shape\":[252],\"dtype\":\"float64\",\"order\":\"little\"}],[\"datetime\",{\"type\":\"ndarray\",\"array\":{\"type\":\"bytes\",\"data\":\"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\"},\"shape\":[252],\"dtype\":\"float64\",\"order\":\"little\"}],[\"inc\",{\"type\":\"ndarray\",\"array\":[\"0\",\"0\",\"0\",\"0\",\"1\",\"0\",\"0\",\"1\",\"0\",\"0\",\"1\",\"1\",\"0\",\"1\",\"0\",\"1\",\"1\",\"1\",\"0\",\"1\",\"0\",\"0\",\"1\",\"0\",\"1\",\"1\",\"1\",\"0\",\"0\",\"0\",\"1\",\"1\",\"1\",\"0\",\"1\",\"1\",\"0\",\"0\",\"0\",\"1\",\"0\",\"1\",\"1\",\"1\",\"0\",\"1\",\"0\",\"0\",\"0\",\"1\",\"1\",\"1\",\"0\",\"0\",\"1\",\"0\",\"1\",\"0\",\"1\",\"1\",\"0\",\"1\",\"1\",\"0\",\"1\",\"1\",\"1\",\"0\",\"0\",\"1\",\"1\",\"0\",\"0\",\"0\",\"1\",\"0\",\"1\",\"1\",\"1\",\"0\",\"0\",\"0\",\"1\",\"1\",\"1\",\"1\",\"1\",\"1\",\"1\",\"0\",\"0\",\"1\",\"0\",\"1\",\"1\",\"0\",\"1\",\"1\",\"1\",\"0\",\"1\",\"1\",\"0\",\"0\",\"1\",\"0\",\"1\",\"1\",\"1\",\"0\",\"1\",\"0\",\"1\",\"1\",\"0\",\"0\",\"1\",\"0\",\"1\",\"1\",\"0\",\"1\",\"1\",\"0\",\"0\",\"1\",\"0\",\"0\",\"1\",\"0\",\"0\",\"0\",\"0\",\"0\",\"1\",\"1\",\"0\",\"0\",\"0\",\"0\",\"0\",\"1\",\"0\",\"0\",\"0\",\"0\",\"1\",\"0\",\"0\",\"0\",\"0\",\"0\",\"1\",\"1\",\"0\",\"0\",\"1\",\"0\",\"1\",\"1\",\"1\",\"0\",\"1\",\"0\",\"0\",\"1\",\"1\",\"1\",\"1\",\"0\",\"1\",\"1\",\"1\",\"1\",\"0\",\"0\",\"0\",\"1\",\"0\",\"1\",\"0\",\"1\",\"1\",\"1\",\"0\",\"0\",\"1\",\"0\",\"0\",\"1\",\"1\",\"0\",\"0\",\"0\",\"0\",\"0\",\"1\",\"0\",\"0\",\"1\",\"0\",\"1\",\"1\",\"0\",\"1\",\"1\",\"0\",\"1\",\"0\",\"0\",\"0\",\"0\",\"1\",\"1\",\"1\",\"0\",\"1\",\"1\",\"1\",\"0\",\"1\",\"1\",\"0\",\"1\",\"0\",\"0\",\"1\",\"0\",\"0\",\"0\",\"1\",\"0\",\"1\",\"1\",\"1\",\"1\",\"0\",\"0\",\"0\",\"1\",\"0\",\"0\",\"1\",\"0\",\"1\",\"0\",\"1\",\"1\",\"0\",\"0\",\"1\",\"1\"],\"shape\":[252],\"dtype\":\"object\",\"order\":\"little\"}],[\"equity\",{\"type\":\"ndarray\",\"array\":{\"type\":\"bytes\",\"data\":\"AAAAAAAA8D8AAAAAAADwPwAAAAAAAPA/AAAAAAAA8D8AAAAAAADwPwAAAAAAAPA/AAAAAAAA8D8AAAAAAADwPwAAAAAAAPA/AAAAAAAA8D8AAAAAAADwPwAAAAAAAPA/AAAAAAAA8D8AAAAAAADwPwAAAAAAAPA/AAAAAAAA8D8AAAAAAADwPwAAAAAAAPA/AAAAAAAA8D8AAAAAAADwPwAAAAAAAPA/AAAAAAAA8D8AAAAAAADwPwAAAAAAAPA/AAAAAAAA8D8AAAAAAADwPwAAAAAAAPA/AAAAAAAA8D8AAAAAAADwP+ftGQAeNfA/hhy20kO97z+GHLbSQ73vP/5J1wEJXe4/98hBJkTk7j/YGM9t52/uP7gCZVB4Zu4/8EesSn9r7z/u/y03qQrwP+ftGQAeNfA/7cYWb7ry7z+P+F8thAfwP4f6uBu3A+8/lXTvTqir7j9uZNTrJ4nuPwM53juIgO4/8gKithri7z8ZzrIdH2/vP25k1Osnie4/pk693KpI7z9ps2e9EVfvPw6TJqwaJu8/vEmJC/NZ7z8rulAA0wTwP88qjqqYdvA//EKgiMus8D+/yUfA9XHwPzmRcXpdevA/3NYnDhUy8D+8UTy86mzwPxLP6vJVE/E/8WJyeJ+Y8D8n7LM4X8nwPxkMhigztfA/h0AGADZB8D/u6mZ0lJPwP+7qZnSUk/A/vnzDki7a8D+PNH+Qo/bwP0gPCk57B/E/8BlQMymJ8D8gkX1UX53wP5TXpYgYPPA/BfOy1FkF8D8wBFvdkyjwPzAEW92TKPA/JJOujdx68D/EHF9PYBDwP+SEhn7l6e8/JJjnAe0U7z9Cg8pYPFLvP8kqIntRjO8/oYqY6nOc7z+yeS3f0BfwPymBSph6bfA/rB8YQ3dc8D9m22MoB9TvP0xfAvYbUu8/VS0cR6jf7j/M67thMejtP7rXfJtg1u4/KKYFbjfy7j8/odFcb0rtP20PdV4Ff+0/f5I1KUPh7D8q0YyE6vbsP8WMIxUSq+4/gHA4Mh2C7T/LDblYV0ftPyKU8S7xGO0/iovWkPAA7j/M67thMejtP8zru2Ex6O0/50UgnfYK7z8VtMOejD/vP2jbY5B5gO8/9OFTp0IW7z/xqoTeeRzwP7/E1QhOfvA/38HMrn728D/8GzEaeZDwP3Eey8IV/PA/UG5YWk3y8D8yLWe2/DPxP8CJ+aF9aPE/LZPygiL68T9qDEuTiQLyP0bCzyskD/I/4hdv8/RC8j92ffdGWSjyP0JswTa4x/E/Q9tCa8E+8j/HeRAW6rbxP50/fjoYdfE/6SqTTgaC8T85UjNARZDxP8w/sJcuFvI/luH1rRE/8T+zPptzUHbxP9UZlX5q9PA/MH7QybL48D8wftDJsvjwP6C72phrpfE/Sq2tmlv18T+86rcNwR7yP4uud7zONfI/uROR3kDb8j+FAlvCPtjyP8on0CStvvI/0YZoEXNq8j/jmqdX303yPzbCRyG+HfI/HZz0+1VA8j+fwrYCOxnyP5NwfPePC/I/rjDYd3hk8j8gKuiYhnDyP22LjY1ktfI/Dqa8uqnS8j+rlWTJUPvyP74YJSQHxPI/fuPGeR+Y8j+TvJWxzCzyP1sIzRoUV/I/fLg/CySy8j/t9UnKmXfyPyApfU0j9/E/Wt1FrBhx8j90DCPBvNHxP9Cb5baA6PE/AKSRk0sm8j8EzxgCRwzyP9/zHqM7y/E/ho/jMw0w8j/Qm+W2gOjxP19e2y/OfvE/sRb6NGxz8T/Pm+XuQ0TxP+V0tLZqIfI/iuXx2ECg8j8xgbZReG/yP93Il0zaevI/EfzKl6Ce8j9IIeuh5UvyP6DJII8gFvI/lTZ3pNMx8j96KZe+VJDyP3opl75UkPI/GyLJ5PoN8j/6T1k1+TnyP+UykLem8PE/+k9ZNfk58j/WuFm8dDPyPyzHhoYTePE/Z4TZ1DFH8T9vBW8Is6XxPyw2CAPJUPI/DfUW1xGk8T9IIeuh5UvyP53ik347PfI/C2SYU8d88j8F4wIgRh7yP3M5gE7rsPI/xROcGlzJ8j94gbT7bmnyP+aTN5CdO/I/nFyu/hER8j8hSAA/44byP743qI36XfI/ZNNsVkBz8j+fsrzHbtXyP5tcropXtvI/PKJkFoas8j83Ic9eQIXyP0L4csdXJvI/Kvplu9QP8j8uv/Vclh7yP/qtv3jL/fE/REtAZ9m98T+MeT8pHBPyP7zF5WslJfI/pO9XLYHK8T9K+p1a55zxP8aoVJG+g/E/7kjeFZ2W8T9sGZIDATfyPzxLDU3sRvI/xyZ2CRsh8j99PHEJxtvxP0JdIbzN5vE/4zNWW93I8T8oe8jwG1HxP3p34V9SNvE/UpNd9TpJ8T/bGLjYBDDxPwG5QcVhTPE/YcAP5/SB8T/Yfq+B5WvxP4QsiDlKk/E/0rCVkL6c8T/OFo05n9jxP804inj8wPE/MLhjslHS8T96TBAmfyvyPwLSapF6GvI/AtJqkXoa8j8PIRrewiPyPzbjoGG+EvI/0KfB+Vqj8T/4aUh9VpLxP1fgl2c+lvI/oxchUa8x8j/9nVmHaNbxP5Od6qGJ+/E/7nCn9cji8T+TneqhifvxP5hieh8FZ/E/1tvSA23n8T+8iviHYhfyP/OkuP/aJvI/n5LfNhT38T+Nuq6NxzjyP+XzYtY3T/I/\"},\"shape\":[252],\"dtype\":\"float64\",\"order\":\"little\"}],[\"SMA(C,13)_0_1\",{\"type\":\"ndarray\",\"array\":{\"type\":\"bytes\",\"data\":\"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\"},\"shape\":[252],\"dtype\":\"float64\",\"order\":\"little\"}],[\"SMA(C,10)_1_1\",{\"type\":\"ndarray\",\"array\":{\"type\":\"bytes\",\"data\":\"AAAAAAAA+H8AAAAAAAD4fwAAAAAAAPh/AAAAAAAA+H8AAAAAAAD4fwAAAAAAAPh/AAAAAAAA+H8AAAAAAAD4fwAAAAAAAPh/AAAAYI9CBEBmZmYG5wwEQAAAACAW6gNAZmZmhnzQA0DNzMxcIMEDQDMzMzO7pwNAzczMvI2GA0DNzMxsTXMDQM3MzBzrYgNAmpmZycNCA0BmZmZW7C8DQAAAAHA9CgNAmpmZ+cLkAkAzMzPTb98CQDMzM/P91AJAmpmZyV3LAkAzMzNj9+QCQAEAACAo/gJAmpmZmcQgA0ABAABgEFgDQAEAAHCsiwNAzszMPHnYA0CamZmZESUEQJqZmYkGcARAAQAAwLGuBEAAAACwLu4EQM3MzExrGgVAmpmZeT81BUDNzMwMxzoFQAAAABA2PAVAmZmZWf5DBUAyMzMzqz4FQP///3/ASgVAmZmZyaFFBUBmZmYWjEoFQJqZmTlFRwVAMzMz05FcBUDNzMzcrHoFQAAAAMB0kwVAZmZmxmSqBUDOzMxchrgFQJqZmRn7ywVAzszMrFfKBUA0MzMTerYFQGZmZgY0kQVAAAAAIPRsBUCamZl5WCgFQAAAACD07ARAMzMzoyO5BEBmZmaW3ZMEQDMzMyPkgwRAmpmZGXxhBEBmZmY2tEgEQGZmZlb1OQRA////v0ItBEAAAABQMCoEQDQzM+NILgRAMzMzU/U5BEAzMzPDEEcEQJqZmen0SgRAZmZmxu5JBECamZnJZlUEQDMzM4OFWgRAzczMzCJbBECamZmJuWsEQDMzM0NHcgRAAAAAIGNuBEBmZmZGaW8EQGZmZiZKewRAzczMnLuWBEAzMzPD7J4EQJqZmVnjpQRAMzMzozysBEAzMzPzOMUEQGZmZrZQ6wRAAAAAMKkTBUAAAABAm1UFQGZmZgajkgVAAAAAYMPTBUDNzMy8wRcGQJqZmTnfTwZAMzMzk9SJBkAAAADQ3uAGQDMzM1PBKAdAZmZmZiJsB0AAAADA06sHQM3MzOx8vwdAAAAAQDXeB0DNzMzcPfkHQGZmZpb2BghAzczMLBgVCEDNzMwMtSYIQAAAADBDHAhAzczMTAwCCEAAAABA6NkHQAAAAIA/tQdAZmZm5q6lB0DNzMy8wZcHQAAAAHBGlAdAmpmZmVWfB0DNzMyczaoHQGZmZjZnxAdAAAAA0JHcB0D////fnBEIQJqZmRkEVghA////bxKDCEAAAACArrYIQJmZmRkm0whAMjMz07PZCED////PiNIIQDMzM7Ny6AhAzczMHC/dCEABAAAgOOcIQDQzMyNB8QhAzczMHFrkCECamZn5y+4IQJqZmbm4DQlAZmZmlpAPCUBmZmZ2AhoJQDMzMzMzMwlAAAAAEKU9CUAAAABgf1kJQGZmZja0SAlAMjMz49AiCUCZmZlJDAIJQJmZmdlf9ghAZmZmRvrtCEBmZmaWGAQJQGZmZna1FQlAAAAAUDcJCUDNzMxMcvkIQAAAAJAf4whAAAAAkErqCEDNzMxsmvcIQJqZmUkMAglAZmZmZkTpCECamZnpUbgIQAAAAJCpgghAmpmZOSxUCEDNzMycRTYIQDMzM5NMFQhAAAAAsFn1B0AzMzOjLMMHQDMzM+OlmwdAZmZmlmWIB0BmZmYm23kHQDMzM0PGXAdAMzMzQyxUB0AzMzOD0DMHQM3MzAw0EQdAZmZmdlb9BkBmZmaWuesGQM3MzNxv3wZAAAAAkIXaBkAzMzNjIMEGQGZmZsbKoQZAmpmZCTSRBkAzMzOzUGsGQGZmZrZZdQZAmpmZKX6MBkAzMzNztZUGQJqZmZmiowZAZmZmVkK+BkDNzMzsY8wGQGZmZoZK6gZAZmZmtgUSB0CamZkJTy8HQM3MzMyIUgdAmpmZiUpqB0AzMzNDi2wHQDMzMyMofgdAmpmZuR6FB0BmZmaWZYgHQGZmZlYFowdAzczMzAe9B0DNzMyspM4HQDMzM2Oh1gdAAAAAkFP0B0AzMzNDi+wHQGZmZmYi7AdAZmZmhoXaB0AAAADQAN4HQJqZmck7zgdAZmZmBtejB0AAAAAgbHgHQGZmZhYmUwdAzczM7A0+B0DNzMws/yEHQAAAAODpFQdAmpmZSaYKB0CamZkpqRMHQDMzMwPnDAdAMzMz41gXB0BmZmbm8h8HQAAAAFCNFwdAAAAAUNobB0DNzMycoiMHQM3MzJzEIAdAAAAAEAIrB0AzMzOj7ycHQAAAAMBSFgdAMzMzc/kPB0DNzMxM6gQHQDMzM5N++wZAzczM3GgAB0AAAABQQBMHQGZmZuZhIQdAMzMzM1UwB0AzMzOjTkAHQAAAAGB/WQdAzczM/NR4B0ABAADAW6AHQJqZmTlO0QdAzszMbBIDCEBnZmZWqDUIQM7MzMyqTwhAZ2ZmZkRpCEBmZma20YAIQAAAAHA9ighAZmZmlt2TCEDNzMxM0ZEIQJqZmdlGgwhAZmZmZgBvCECamZmp+lwIQJqZmVltRQhAAAAAwI8xCEDNzMxM4yUIQDMzMyMYFQhAMzMz06z6B0AAAABgO98HQAAAAED67QdAMzMz01bsB0AAAADQ3uAHQDMzM4OF2gdAZmZmFibTB0AzMzODDc8HQDMzMzMRtgdAAAAAMFWwB0CamZlZsb8HQDMzM4Na0wdAmpmZ6eK2B0CamZkJaKIHQDMzM1NJnQdA\"},\"shape\":[252],\"dtype\":\"float64\",\"order\":\"little\"}],[\"ohlc_low\",{\"type\":\"ndarray\",\"array\":{\"type\":\"bytes\",\"data\":\"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\"},\"shape\":[252],\"dtype\":\"float64\",\"order\":\"little\"}],[\"ohlc_high\",{\"type\":\"ndarray\",\"array\":{\"type\":\"bytes\",\"data\":\"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\"},\"shape\":[252],\"dtype\":\"float64\",\"order\":\"little\"}]]}}},\"view\":{\"type\":\"object\",\"name\":\"CDSView\",\"id\":\"p4190\",\"attributes\":{\"filter\":{\"type\":\"object\",\"name\":\"AllIndices\",\"id\":\"p4191\"}}},\"glyph\":{\"type\":\"object\",\"name\":\"Line\",\"id\":\"p4186\",\"attributes\":{\"x\":{\"type\":\"field\",\"field\":\"index\"},\"y\":{\"type\":\"field\",\"field\":\"equity\"},\"line_color\":\"#1f77b4\",\"line_width\":1.5}},\"nonselection_glyph\":{\"type\":\"object\",\"name\":\"Line\",\"id\":\"p4187\",\"attributes\":{\"x\":{\"type\":\"field\",\"field\":\"index\"},\"y\":{\"type\":\"field\",\"field\":\"equity\"},\"line_color\":\"#1f77b4\",\"line_alpha\":0.1,\"line_width\":1.5}},\"muted_glyph\":{\"type\":\"object\",\"name\":\"Line\",\"id\":\"p4188\",\"attributes\":{\"x\":{\"type\":\"field\",\"field\":\"index\"},\"y\":{\"type\":\"field\",\"field\":\"equity\"},\"line_color\":\"#1f77b4\",\"line_alpha\":0.2,\"line_width\":1.5}}}}],\"tooltips\":[[\"Date\",\"@datetime{%c}\"],[\"Equity\",\"@equity{+0,0.[000]%}\"]],\"formatters\":{\"type\":\"map\",\"entries\":[[\"@datetime\",\"datetime\"]]},\"mode\":\"vline\",\"point_policy\":\"follow_mouse\"}},{\"type\":\"object\",\"name\":\"HoverTool\",\"id\":\"p4287\",\"attributes\":{\"renderers\":[{\"type\":\"object\",\"name\":\"GlyphRenderer\",\"id\":\"p4275\",\"attributes\":{\"data_source\":{\"type\":\"object\",\"name\":\"ColumnDataSource\",\"id\":\"p4130\",\"attributes\":{\"selected\":{\"type\":\"object\",\"name\":\"Selection\",\"id\":\"p4131\",\"attributes\":{\"indices\":[],\"line_indices\":[]}},\"selection_policy\":{\"type\":\"object\",\"name\":\"UnionRenderers\",\"id\":\"p4132\"},\"data\":{\"type\":\"map\",\"entries\":[[\"index\",{\"type\":\"ndarray\",\"array\":{\"type\":\"bytes\",\"data\":\"KwAAADAAAAA2AAAAQwAAAEcAAABJAAAAUgAAAFMAAABoAAAAcQAAAHsAAAB/AAAAhgAAAI8AAACSAAAArAAAAMEAAADMAAAA0gAAANcAAADoAAAA+QAAAPoAAAD7AAAA\"},\"shape\":[24],\"dtype\":\"int32\",\"order\":\"little\"}],[\"datetime\",{\"type\":\"ndarray\",\"array\":{\"type\":\"bytes\",\"data\":\"AACATyG+dEIAAMAXYsB0QgAAwEX1wnRCAAAA0xLJdEIAAIA1Act0QgAAAAGmy3RCAADAK9XPdEIAAICRJ9B0QgAAQBh92XRCAAAAQ6zddEIAAIDTLeJ0QgAAADYc5HRCAADAyQHndEIAAID0MOt0QgAAQPHM7HRCAABAQGP4dEIAAADHuAF1QgAAQL2MBnVCAABA6x8JdUIAAICzYAt1QgAAQKNsE3VCAACAx9MadUIAAEAtJht1QgAAgF4dHHVC\"},\"shape\":[24],\"dtype\":\"float64\",\"order\":\"little\"}],[\"exit_price\",{\"type\":\"ndarray\",\"array\":{\"type\":\"bytes\",\"data\":\"AQAAIIPABUAAAABAYOUFQAEAACDdJARAAAAAANV4BED///9fO98EQAAAAMAehQRAAAAA4HjpBED/////U+MFQAAAAGCR7QZAAQAAILKdCUD///9/61EJQAAAAMDz/QhA////f5VDCEAAAABgvHQIQAAAAGC8dAdA////v6FFB0ABAACA6SYHQP///1/l0AZAAQAAIFg5B0ABAACg76cHQP///7/MzAdAAQAAoO+nB0ABAADgJjEHQP///x9aZAdA\"},\"shape\":[24],\"dtype\":\"float64\",\"order\":\"little\"}],[\"size\",{\"type\":\"ndarray\",\"array\":{\"type\":\"bytes\",\"data\":\"AfH//7UNAABE8v//CBAAAPDv//9bDwAAnfD//7gOAABA8f//VA0AAKXy//+WDQAAY/L//1gOAACh8f//gg8AAHbw//+bDwAAXfD///8OAAD58P//wQ4AADfx//9JDwAA\"},\"shape\":[24],\"dtype\":\"int32\",\"order\":\"little\"}],[\"returns_positive\",{\"type\":\"ndarray\",\"array\":[\"0\",\"1\",\"1\",\"1\",\"0\",\"0\",\"0\",\"1\",\"0\",\"1\",\"1\",\"0\",\"1\",\"1\",\"1\",\"0\",\"1\",\"0\",\"0\",\"1\",\"0\",\"0\",\"1\",\"1\"],\"shape\":[24],\"dtype\":\"object\",\"order\":\"little\"}],[\"returns_long\",{\"type\":\"ndarray\",\"array\":{\"type\":\"bytes\",\"data\":\"AAAAAAAA+H8Ap73vyuJyPwAAAAAAAPh/ALTksVwxjT8AAAAAAAD4f+DwLVFjR5O/AAAAAAAA+H/gV36Th9OmPwAAAAAAAPh/cP7zoRFxvT8AAAAAAAD4f8COyAqikI6/AAAAAAAA+H8AlScMySt4PwAAAAAAAPh/wPLO0QkfhL8AAAAAAAD4f2BJCKAX4JC/AAAAAAAA+H/Ay48iRveQPwAAAAAAAPh/AJTWW0t0gL8AAAAAAAD4fwB+fwCWE3s/\"},\"shape\":[24],\"dtype\":\"float64\",\"order\":\"little\"}],[\"returns_short\",{\"type\":\"ndarray\",\"array\":{\"type\":\"bytes\",\"data\":\"4IrVqolzpr8AAAAAAAD4f9i+26UDA7Q/AAAAAAAA+H9ANUlcmRmWvwAAAAAAAPh/gP+mJzKnlb8AAAAAAAD4f2A+aer6Zqm/AAAAAAAA+H8A2l5gv5uDPwAAAAAAAPh/AC+iJgzWmz8AAAAAAAD4fyDe+PWS86M/AAAAAAAA+H8AQM+spOhpPwAAAAAAAPh/gP2ouXNmlL8AAAAAAAD4f4BIW4iGmIC/AAAAAAAA+H9gWrM/yhKSPwAAAAAAAPh/\"},\"shape\":[24],\"dtype\":\"float64\",\"order\":\"little\"}],[\"marker_size\",{\"type\":\"ndarray\",\"array\":{\"type\":\"bytes\",\"data\":\"pHA9CtejLkCd++wCYlMjQNoFxKbSkCNAArGpNOTcM0AAAAAAAAA0QMFEfyer5TBAwJPV8sYIMUB+dgGxqTQsQHsUrkfheixAAAAAAAAAIEA9CtejcD0gQGgXEJtKQyJApSHnPruAIkChDuqgDuooQN4YwUR/JylA2gXEptKQMUDYVBpy7rMxQLa8MYKJ/jFAtAuITaUhMkCkcD0K16MuQKEO6qAO6i5AOqiDOqiDLEA4RjDR38ksQAQT/Z2sljBA\"},\"shape\":[24],\"dtype\":\"float64\",\"order\":\"little\"}],[\"position_lines_xs\",[[29,43],[43,48],[48,54],[54,67],[67,71],[71,73],[73,82],[82,83],[83,104],[104,113],[113,123],[123,127],[127,134],[134,143],[143,146],[146,172],[172,193],[193,204],[204,210],[210,215],[215,232],[232,249],[249,250],[250,251]]],[\"position_lines_ys\",[[2.6047798953056334,2.719000101089478],[2.724438101291657,2.736999988555908],[2.7315259885787966,2.517999887466431],[2.523035887241364,2.559000015258789],[2.5538820152282713,2.608999967575073],[2.614217967510223,2.565000057220459],[2.5598700571060182,2.614000082015991],[2.6192280821800233,2.736000061035156],[2.7305280609130853,2.865999937057495],[2.87173193693161,3.20199990272522],[3.1955959029197696,3.164999961853027],[3.171329961776733,3.124000072479248],[3.1177520723342895,3.032999992370605],[3.0390659923553462,3.056999921798706],[3.0508859219551088,2.931999921798706],[2.9378639216423035,2.908999919891357],[2.903181920051574,2.894000053405762],[2.8997880535125735,2.851999998092651],[2.8462959980964655,2.903000116348267],[2.9088061165809638,2.957000017166138],[2.951086017131806,2.974999904632568],[2.9809499044418333,2.957000017166138],[2.951086017131806,2.898999929428101],[2.9047979292869575,2.924000024795532]]]]}}},\"view\":{\"type\":\"object\",\"name\":\"CDSView\",\"id\":\"p4276\",\"attributes\":{\"filter\":{\"type\":\"object\",\"name\":\"AllIndices\",\"id\":\"p4277\"}}},\"glyph\":{\"type\":\"object\",\"name\":\"Scatter\",\"id\":\"p4272\",\"attributes\":{\"x\":{\"type\":\"field\",\"field\":\"index\"},\"y\":{\"type\":\"field\",\"field\":\"returns_long\"},\"size\":{\"type\":\"field\",\"field\":\"marker_size\"},\"fill_color\":{\"type\":\"field\",\"field\":\"returns_positive\",\"transform\":{\"type\":\"object\",\"name\":\"CategoricalColorMapper\",\"id\":\"p4134\",\"attributes\":{\"palette\":[\"tomato\",\"lime\"],\"factors\":[\"0\",\"1\"]}}},\"marker\":{\"type\":\"value\",\"value\":\"triangle\"}}},\"nonselection_glyph\":{\"type\":\"object\",\"name\":\"Scatter\",\"id\":\"p4273\",\"attributes\":{\"x\":{\"type\":\"field\",\"field\":\"index\"},\"y\":{\"type\":\"field\",\"field\":\"returns_long\"},\"size\":{\"type\":\"field\",\"field\":\"marker_size\"},\"line_alpha\":{\"type\":\"value\",\"value\":0.1},\"fill_color\":{\"type\":\"field\",\"field\":\"returns_positive\",\"transform\":{\"id\":\"p4134\"}},\"fill_alpha\":{\"type\":\"value\",\"value\":0.1},\"hatch_alpha\":{\"type\":\"value\",\"value\":0.1},\"marker\":{\"type\":\"value\",\"value\":\"triangle\"}}},\"muted_glyph\":{\"type\":\"object\",\"name\":\"Scatter\",\"id\":\"p4274\",\"attributes\":{\"x\":{\"type\":\"field\",\"field\":\"index\"},\"y\":{\"type\":\"field\",\"field\":\"returns_long\"},\"size\":{\"type\":\"field\",\"field\":\"marker_size\"},\"line_alpha\":{\"type\":\"value\",\"value\":0.2},\"fill_color\":{\"type\":\"field\",\"field\":\"returns_positive\",\"transform\":{\"id\":\"p4134\"}},\"fill_alpha\":{\"type\":\"value\",\"value\":0.2},\"hatch_alpha\":{\"type\":\"value\",\"value\":0.2},\"marker\":{\"type\":\"value\",\"value\":\"triangle\"}}}}}],\"tooltips\":[[\"Date\",\"@datetime{%c}\"],[\"Size\",\"@size{0,0}\"],[\"P/L\",\"@returns_long{+0.[000]%}\"]],\"formatters\":{\"type\":\"map\",\"entries\":[[\"@datetime\",\"datetime\"]]},\"point_policy\":\"follow_mouse\"}},{\"type\":\"object\",\"name\":\"HoverTool\",\"id\":\"p4288\",\"attributes\":{\"renderers\":[{\"type\":\"object\",\"name\":\"GlyphRenderer\",\"id\":\"p4284\",\"attributes\":{\"data_source\":{\"id\":\"p4130\"},\"view\":{\"type\":\"object\",\"name\":\"CDSView\",\"id\":\"p4285\",\"attributes\":{\"filter\":{\"type\":\"object\",\"name\":\"AllIndices\",\"id\":\"p4286\"}}},\"glyph\":{\"type\":\"object\",\"name\":\"Scatter\",\"id\":\"p4281\",\"attributes\":{\"x\":{\"type\":\"field\",\"field\":\"index\"},\"y\":{\"type\":\"field\",\"field\":\"returns_short\"},\"size\":{\"type\":\"field\",\"field\":\"marker_size\"},\"fill_color\":{\"type\":\"field\",\"field\":\"returns_positive\",\"transform\":{\"id\":\"p4134\"}},\"marker\":{\"type\":\"value\",\"value\":\"inverted_triangle\"}}},\"nonselection_glyph\":{\"type\":\"object\",\"name\":\"Scatter\",\"id\":\"p4282\",\"attributes\":{\"x\":{\"type\":\"field\",\"field\":\"index\"},\"y\":{\"type\":\"field\",\"field\":\"returns_short\"},\"size\":{\"type\":\"field\",\"field\":\"marker_size\"},\"line_alpha\":{\"type\":\"value\",\"value\":0.1},\"fill_color\":{\"type\":\"field\",\"field\":\"returns_positive\",\"transform\":{\"id\":\"p4134\"}},\"fill_alpha\":{\"type\":\"value\",\"value\":0.1},\"hatch_alpha\":{\"type\":\"value\",\"value\":0.1},\"marker\":{\"type\":\"value\",\"value\":\"inverted_triangle\"}}},\"muted_glyph\":{\"type\":\"object\",\"name\":\"Scatter\",\"id\":\"p4283\",\"attributes\":{\"x\":{\"type\":\"field\",\"field\":\"index\"},\"y\":{\"type\":\"field\",\"field\":\"returns_short\"},\"size\":{\"type\":\"field\",\"field\":\"marker_size\"},\"line_alpha\":{\"type\":\"value\",\"value\":0.2},\"fill_color\":{\"type\":\"field\",\"field\":\"returns_positive\",\"transform\":{\"id\":\"p4134\"}},\"fill_alpha\":{\"type\":\"value\",\"value\":0.2},\"hatch_alpha\":{\"type\":\"value\",\"value\":0.2},\"marker\":{\"type\":\"value\",\"value\":\"inverted_triangle\"}}}}}],\"tooltips\":[[\"Date\",\"@datetime{%c}\"],[\"Size\",\"@size{0,0}\"],[\"P/L\",\"@returns_short{+0.[000]%}\"]],\"formatters\":{\"type\":\"map\",\"entries\":[[\"@datetime\",\"datetime\"]]},\"point_policy\":\"follow_mouse\"}},{\"type\":\"object\",\"name\":\"HoverTool\",\"id\":\"p4405\",\"attributes\":{\"renderers\":[{\"type\":\"object\",\"name\":\"GlyphRenderer\",\"id\":\"p4371\",\"attributes\":{\"data_source\":{\"id\":\"p4127\"},\"view\":{\"type\":\"object\",\"name\":\"CDSView\",\"id\":\"p4372\",\"attributes\":{\"filter\":{\"type\":\"object\",\"name\":\"AllIndices\",\"id\":\"p4373\"}}},\"glyph\":{\"type\":\"object\",\"name\":\"VBar\",\"id\":\"p4368\",\"attributes\":{\"x\":{\"type\":\"field\",\"field\":\"index\"},\"width\":{\"type\":\"value\",\"value\":0.8},\"bottom\":{\"type\":\"field\",\"field\":\"Close\"},\"top\":{\"type\":\"field\",\"field\":\"Open\"},\"fill_color\":{\"type\":\"field\",\"field\":\"inc\",\"transform\":{\"type\":\"object\",\"name\":\"CategoricalColorMapper\",\"id\":\"p4133\",\"attributes\":{\"palette\":[\"tomato\",\"lime\"],\"factors\":[\"0\",\"1\"]}}}}},\"nonselection_glyph\":{\"type\":\"object\",\"name\":\"VBar\",\"id\":\"p4369\",\"attributes\":{\"x\":{\"type\":\"field\",\"field\":\"index\"},\"width\":{\"type\":\"value\",\"value\":0.8},\"bottom\":{\"type\":\"field\",\"field\":\"Close\"},\"top\":{\"type\":\"field\",\"field\":\"Open\"},\"line_alpha\":{\"type\":\"value\",\"value\":0.1},\"fill_color\":{\"type\":\"field\",\"field\":\"inc\",\"transform\":{\"id\":\"p4133\"}},\"fill_alpha\":{\"type\":\"value\",\"value\":0.1},\"hatch_alpha\":{\"type\":\"value\",\"value\":0.1}}},\"muted_glyph\":{\"type\":\"object\",\"name\":\"VBar\",\"id\":\"p4370\",\"attributes\":{\"x\":{\"type\":\"field\",\"field\":\"index\"},\"width\":{\"type\":\"value\",\"value\":0.8},\"bottom\":{\"type\":\"field\",\"field\":\"Close\"},\"top\":{\"type\":\"field\",\"field\":\"Open\"},\"line_alpha\":{\"type\":\"value\",\"value\":0.2},\"fill_color\":{\"type\":\"field\",\"field\":\"inc\",\"transform\":{\"id\":\"p4133\"}},\"fill_alpha\":{\"type\":\"value\",\"value\":0.2},\"hatch_alpha\":{\"type\":\"value\",\"value\":0.2}}}}}],\"tooltips\":[[\"Date\",\"@datetime{%c}\"],[\"x, y\",\"$index\\u00a0\\u00a0\\u00a0\\u00a0$y{0,0.0[0000]}\"],[\"OHLC\",\"@Open{0,0.0[0000]}\\u00a0\\u00a0\\u00a0\\u00a0@High{0,0.0[0000]}\\u00a0\\u00a0\\u00a0\\u00a0@Low{0,0.0[0000]}\\u00a0\\u00a0\\u00a0\\u00a0@Close{0,0.0[0000]}\"],[\"Volume\",\"@Volume{0,0}\"],[\"SMA(C,13)\",\"@{SMA(C,13)_0_1}{0,0.0[0000]}\"],[\"SMA(C,10)\",\"@{SMA(C,10)_1_1}{0,0.0[0000]}\"]],\"formatters\":{\"type\":\"map\",\"entries\":[[\"@datetime\",\"datetime\"]]},\"mode\":\"vline\",\"point_policy\":\"follow_mouse\"}},{\"type\":\"object\",\"name\":\"HoverTool\",\"id\":\"p4332\",\"attributes\":{\"renderers\":[{\"type\":\"object\",\"name\":\"GlyphRenderer\",\"id\":\"p4329\",\"attributes\":{\"data_source\":{\"id\":\"p4127\"},\"view\":{\"type\":\"object\",\"name\":\"CDSView\",\"id\":\"p4330\",\"attributes\":{\"filter\":{\"type\":\"object\",\"name\":\"AllIndices\",\"id\":\"p4331\"}}},\"glyph\":{\"type\":\"object\",\"name\":\"VBar\",\"id\":\"p4326\",\"attributes\":{\"x\":{\"type\":\"field\",\"field\":\"index\"},\"width\":{\"type\":\"value\",\"value\":0.8},\"top\":{\"type\":\"field\",\"field\":\"Volume\"},\"line_color\":{\"type\":\"field\",\"field\":\"inc\",\"transform\":{\"id\":\"p4133\"}},\"fill_color\":{\"type\":\"field\",\"field\":\"inc\",\"transform\":{\"id\":\"p4133\"}},\"hatch_color\":{\"type\":\"field\",\"field\":\"inc\",\"transform\":{\"id\":\"p4133\"}}}},\"nonselection_glyph\":{\"type\":\"object\",\"name\":\"VBar\",\"id\":\"p4327\",\"attributes\":{\"x\":{\"type\":\"field\",\"field\":\"index\"},\"width\":{\"type\":\"value\",\"value\":0.8},\"top\":{\"type\":\"field\",\"field\":\"Volume\"},\"line_color\":{\"type\":\"field\",\"field\":\"inc\",\"transform\":{\"id\":\"p4133\"}},\"line_alpha\":{\"type\":\"value\",\"value\":0.1},\"fill_color\":{\"type\":\"field\",\"field\":\"inc\",\"transform\":{\"id\":\"p4133\"}},\"fill_alpha\":{\"type\":\"value\",\"value\":0.1},\"hatch_color\":{\"type\":\"field\",\"field\":\"inc\",\"transform\":{\"id\":\"p4133\"}},\"hatch_alpha\":{\"type\":\"value\",\"value\":0.1}}},\"muted_glyph\":{\"type\":\"object\",\"name\":\"VBar\",\"id\":\"p4328\",\"attributes\":{\"x\":{\"type\":\"field\",\"field\":\"index\"},\"width\":{\"type\":\"value\",\"value\":0.8},\"top\":{\"type\":\"field\",\"field\":\"Volume\"},\"line_color\":{\"type\":\"field\",\"field\":\"inc\",\"transform\":{\"id\":\"p4133\"}},\"line_alpha\":{\"type\":\"value\",\"value\":0.2},\"fill_color\":{\"type\":\"field\",\"field\":\"inc\",\"transform\":{\"id\":\"p4133\"}},\"fill_alpha\":{\"type\":\"value\",\"value\":0.2},\"hatch_color\":{\"type\":\"field\",\"field\":\"inc\",\"transform\":{\"id\":\"p4133\"}},\"hatch_alpha\":{\"type\":\"value\",\"value\":0.2}}}}}],\"tooltips\":[[\"Date\",\"@datetime{%c}\"],[\"Volume\",\"@Volume{0.00 a}\"]],\"formatters\":{\"type\":\"map\",\"entries\":[[\"@datetime\",\"datetime\"]]},\"mode\":\"vline\",\"point_policy\":\"follow_mouse\"}},{\"type\":\"object\",\"name\":\"ToolProxy\",\"id\":\"p4415\",\"attributes\":{\"tools\":[{\"type\":\"object\",\"name\":\"CrosshairTool\",\"id\":\"p4407\"},{\"id\":\"p4407\"},{\"id\":\"p4407\"},{\"id\":\"p4407\"}]}}],\"active_drag\":{\"id\":\"p4311\"},\"active_scroll\":{\"id\":\"p4312\"}}},\"toolbar_location\":\"right\",\"children\":[[{\"type\":\"object\",\"name\":\"Figure\",\"id\":\"p4138\",\"attributes\":{\"width\":null,\"height\":110,\"sizing_mode\":\"stretch_width\",\"x_range\":{\"type\":\"object\",\"name\":\"Range1d\",\"id\":\"p4093\",\"attributes\":{\"js_property_callbacks\":{\"type\":\"map\",\"entries\":[[\"change:end\",[{\"type\":\"object\",\"name\":\"CustomJS\",\"id\":\"p4406\",\"attributes\":{\"args\":{\"type\":\"map\",\"entries\":[[\"ohlc_range\",{\"type\":\"object\",\"name\":\"DataRange1d\",\"id\":\"p4096\"}],[\"source\",{\"id\":\"p4127\"}],[\"volume_range\",{\"type\":\"object\",\"name\":\"DataRange1d\",\"id\":\"p4292\"}]]},\"code\":\"if (!window._bt_scale_range) {\\n    window._bt_scale_range = function (range, min, max, pad) {\\n        \\\"use strict\\\";\\n        if (min !== Infinity && max !== -Infinity) {\\n            pad = pad ? (max - min) * .03 : 0;\\n            range.start = min - pad;\\n            range.end = max + pad;\\n        } else console.error('backtesting: scale range error:', min, max, range);\\n    };\\n}\\n\\nclearTimeout(window._bt_autoscale_timeout);\\n\\nwindow._bt_autoscale_timeout = setTimeout(function () {\\n    /**\\n     * @variable cb_obj `fig_ohlc.x_range`.\\n     * @variable source `ColumnDataSource`\\n     * @variable ohlc_range `fig_ohlc.y_range`.\\n     * @variable volume_range `fig_volume.y_range`.\\n     */\\n    \\\"use strict\\\";\\n\\n    let i = Math.max(Math.floor(cb_obj.start), 0),\\n        j = Math.min(Math.ceil(cb_obj.end), source.data['ohlc_high'].length);\\n\\n    let max = Math.max.apply(null, source.data['ohlc_high'].slice(i, j)),\\n        min = Math.min.apply(null, source.data['ohlc_low'].slice(i, j));\\n    _bt_scale_range(ohlc_range, min, max, true);\\n\\n    if (volume_range) {\\n        max = Math.max.apply(null, source.data['Volume'].slice(i, j));\\n        _bt_scale_range(volume_range, 0, max * 1.03, false);\\n    }\\n\\n}, 50);\\n\"}}]]]},\"end\":251,\"bounds\":[-12.55,263.55],\"min_interval\":10}},\"y_range\":{\"type\":\"object\",\"name\":\"DataRange1d\",\"id\":\"p4140\"},\"x_scale\":{\"type\":\"object\",\"name\":\"LinearScale\",\"id\":\"p4147\"},\"y_scale\":{\"type\":\"object\",\"name\":\"LinearScale\",\"id\":\"p4148\"},\"title\":{\"type\":\"object\",\"name\":\"Title\",\"id\":\"p4145\"},\"outline_line_color\":\"#666666\",\"renderers\":[{\"type\":\"object\",\"name\":\"GlyphRenderer\",\"id\":\"p4180\",\"attributes\":{\"data_source\":{\"type\":\"object\",\"name\":\"ColumnDataSource\",\"id\":\"p4171\",\"attributes\":{\"selected\":{\"type\":\"object\",\"name\":\"Selection\",\"id\":\"p4172\",\"attributes\":{\"indices\":[],\"line_indices\":[]}},\"selection_policy\":{\"type\":\"object\",\"name\":\"UnionRenderers\",\"id\":\"p4173\"},\"data\":{\"type\":\"map\",\"entries\":[[\"index\",{\"type\":\"ndarray\",\"array\":{\"type\":\"bytes\",\"data\":\"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\"},\"shape\":[504],\"dtype\":\"int32\",\"order\":\"little\"}],[\"equity_dd\",{\"type\":\"ndarray\",\"array\":{\"type\":\"bytes\",\"data\":\"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\"},\"shape\":[504],\"dtype\":\"float64\",\"order\":\"little\"}]]}}},\"view\":{\"type\":\"object\",\"name\":\"CDSView\",\"id\":\"p4181\",\"attributes\":{\"filter\":{\"type\":\"object\",\"name\":\"AllIndices\",\"id\":\"p4182\"}}},\"glyph\":{\"type\":\"object\",\"name\":\"Patch\",\"id\":\"p4177\",\"attributes\":{\"x\":{\"type\":\"field\",\"field\":\"index\"},\"y\":{\"type\":\"field\",\"field\":\"equity_dd\"},\"line_color\":\"#ffcb66\",\"fill_color\":\"#ffffea\"}},\"nonselection_glyph\":{\"type\":\"object\",\"name\":\"Patch\",\"id\":\"p4178\",\"attributes\":{\"x\":{\"type\":\"field\",\"field\":\"index\"},\"y\":{\"type\":\"field\",\"field\":\"equity_dd\"},\"line_color\":\"#ffcb66\",\"line_alpha\":0.1,\"fill_color\":\"#ffffea\",\"fill_alpha\":0.1,\"hatch_alpha\":0.1}},\"muted_glyph\":{\"type\":\"object\",\"name\":\"Patch\",\"id\":\"p4179\",\"attributes\":{\"x\":{\"type\":\"field\",\"field\":\"index\"},\"y\":{\"type\":\"field\",\"field\":\"equity_dd\"},\"line_color\":\"#ffcb66\",\"line_alpha\":0.2,\"fill_color\":\"#ffffea\",\"fill_alpha\":0.2,\"hatch_alpha\":0.2}}}},{\"id\":\"p4189\"},{\"type\":\"object\",\"name\":\"GlyphRenderer\",\"id\":\"p4200\",\"attributes\":{\"data_source\":{\"type\":\"object\",\"name\":\"ColumnDataSource\",\"id\":\"p4194\",\"attributes\":{\"selected\":{\"type\":\"object\",\"name\":\"Selection\",\"id\":\"p4195\",\"attributes\":{\"indices\":[],\"line_indices\":[]}},\"selection_policy\":{\"type\":\"object\",\"name\":\"UnionRenderers\",\"id\":\"p4196\"},\"data\":{\"type\":\"map\"}}},\"view\":{\"type\":\"object\",\"name\":\"CDSView\",\"id\":\"p4201\",\"attributes\":{\"filter\":{\"type\":\"object\",\"name\":\"AllIndices\",\"id\":\"p4202\"}}},\"glyph\":{\"type\":\"object\",\"name\":\"Scatter\",\"id\":\"p4197\",\"attributes\":{\"x\":{\"type\":\"value\",\"value\":148},\"y\":{\"type\":\"value\",\"value\":1.1863563410673617},\"size\":{\"type\":\"value\",\"value\":8},\"line_color\":{\"type\":\"value\",\"value\":\"cyan\"},\"fill_color\":{\"type\":\"value\",\"value\":\"cyan\"},\"hatch_color\":{\"type\":\"value\",\"value\":\"cyan\"}}},\"nonselection_glyph\":{\"type\":\"object\",\"name\":\"Scatter\",\"id\":\"p4198\",\"attributes\":{\"x\":{\"type\":\"value\",\"value\":148},\"y\":{\"type\":\"value\",\"value\":1.1863563410673617},\"size\":{\"type\":\"value\",\"value\":8},\"line_color\":{\"type\":\"value\",\"value\":\"cyan\"},\"line_alpha\":{\"type\":\"value\",\"value\":0.1},\"fill_color\":{\"type\":\"value\",\"value\":\"cyan\"},\"fill_alpha\":{\"type\":\"value\",\"value\":0.1},\"hatch_color\":{\"type\":\"value\",\"value\":\"cyan\"},\"hatch_alpha\":{\"type\":\"value\",\"value\":0.1}}},\"muted_glyph\":{\"type\":\"object\",\"name\":\"Scatter\",\"id\":\"p4199\",\"attributes\":{\"x\":{\"type\":\"value\",\"value\":148},\"y\":{\"type\":\"value\",\"value\":1.1863563410673617},\"size\":{\"type\":\"value\",\"value\":8},\"line_color\":{\"type\":\"value\",\"value\":\"cyan\"},\"line_alpha\":{\"type\":\"value\",\"value\":0.2},\"fill_color\":{\"type\":\"value\",\"value\":\"cyan\"},\"fill_alpha\":{\"type\":\"value\",\"value\":0.2},\"hatch_color\":{\"type\":\"value\",\"value\":\"cyan\"},\"hatch_alpha\":{\"type\":\"value\",\"value\":0.2}}}}},{\"type\":\"object\",\"name\":\"GlyphRenderer\",\"id\":\"p4211\",\"attributes\":{\"data_source\":{\"type\":\"object\",\"name\":\"ColumnDataSource\",\"id\":\"p4205\",\"attributes\":{\"selected\":{\"type\":\"object\",\"name\":\"Selection\",\"id\":\"p4206\",\"attributes\":{\"indices\":[],\"line_indices\":[]}},\"selection_policy\":{\"type\":\"object\",\"name\":\"UnionRenderers\",\"id\":\"p4207\"},\"data\":{\"type\":\"map\"}}},\"view\":{\"type\":\"object\",\"name\":\"CDSView\",\"id\":\"p4212\",\"attributes\":{\"filter\":{\"type\":\"object\",\"name\":\"AllIndices\",\"id\":\"p4213\"}}},\"glyph\":{\"type\":\"object\",\"name\":\"Scatter\",\"id\":\"p4208\",\"attributes\":{\"x\":{\"type\":\"value\",\"value\":251},\"y\":{\"type\":\"value\",\"value\":1.1443403601144777},\"size\":{\"type\":\"value\",\"value\":8},\"line_color\":{\"type\":\"value\",\"value\":\"blue\"},\"fill_color\":{\"type\":\"value\",\"value\":\"blue\"},\"hatch_color\":{\"type\":\"value\",\"value\":\"blue\"}}},\"nonselection_glyph\":{\"type\":\"object\",\"name\":\"Scatter\",\"id\":\"p4209\",\"attributes\":{\"x\":{\"type\":\"value\",\"value\":251},\"y\":{\"type\":\"value\",\"value\":1.1443403601144777},\"size\":{\"type\":\"value\",\"value\":8},\"line_color\":{\"type\":\"value\",\"value\":\"blue\"},\"line_alpha\":{\"type\":\"value\",\"value\":0.1},\"fill_color\":{\"type\":\"value\",\"value\":\"blue\"},\"fill_alpha\":{\"type\":\"value\",\"value\":0.1},\"hatch_color\":{\"type\":\"value\",\"value\":\"blue\"},\"hatch_alpha\":{\"type\":\"value\",\"value\":0.1}}},\"muted_glyph\":{\"type\":\"object\",\"name\":\"Scatter\",\"id\":\"p4210\",\"attributes\":{\"x\":{\"type\":\"value\",\"value\":251},\"y\":{\"type\":\"value\",\"value\":1.1443403601144777},\"size\":{\"type\":\"value\",\"value\":8},\"line_color\":{\"type\":\"value\",\"value\":\"blue\"},\"line_alpha\":{\"type\":\"value\",\"value\":0.2},\"fill_color\":{\"type\":\"value\",\"value\":\"blue\"},\"fill_alpha\":{\"type\":\"value\",\"value\":0.2},\"hatch_color\":{\"type\":\"value\",\"value\":\"blue\"},\"hatch_alpha\":{\"type\":\"value\",\"value\":0.2}}}}},{\"type\":\"object\",\"name\":\"GlyphRenderer\",\"id\":\"p4221\",\"attributes\":{\"data_source\":{\"type\":\"object\",\"name\":\"ColumnDataSource\",\"id\":\"p4215\",\"attributes\":{\"selected\":{\"type\":\"object\",\"name\":\"Selection\",\"id\":\"p4216\",\"attributes\":{\"indices\":[],\"line_indices\":[]}},\"selection_policy\":{\"type\":\"object\",\"name\":\"UnionRenderers\",\"id\":\"p4217\"},\"data\":{\"type\":\"map\"}}},\"view\":{\"type\":\"object\",\"name\":\"CDSView\",\"id\":\"p4222\",\"attributes\":{\"filter\":{\"type\":\"object\",\"name\":\"AllIndices\",\"id\":\"p4223\"}}},\"glyph\":{\"type\":\"object\",\"name\":\"Scatter\",\"id\":\"p4218\",\"attributes\":{\"x\":{\"type\":\"value\",\"value\":93},\"y\":{\"type\":\"value\",\"value\":0.9024978451603402},\"size\":{\"type\":\"value\",\"value\":8},\"line_color\":{\"type\":\"value\",\"value\":\"red\"},\"fill_color\":{\"type\":\"value\",\"value\":\"red\"},\"hatch_color\":{\"type\":\"value\",\"value\":\"red\"}}},\"nonselection_glyph\":{\"type\":\"object\",\"name\":\"Scatter\",\"id\":\"p4219\",\"attributes\":{\"x\":{\"type\":\"value\",\"value\":93},\"y\":{\"type\":\"value\",\"value\":0.9024978451603402},\"size\":{\"type\":\"value\",\"value\":8},\"line_color\":{\"type\":\"value\",\"value\":\"red\"},\"line_alpha\":{\"type\":\"value\",\"value\":0.1},\"fill_color\":{\"type\":\"value\",\"value\":\"red\"},\"fill_alpha\":{\"type\":\"value\",\"value\":0.1},\"hatch_color\":{\"type\":\"value\",\"value\":\"red\"},\"hatch_alpha\":{\"type\":\"value\",\"value\":0.1}}},\"muted_glyph\":{\"type\":\"object\",\"name\":\"Scatter\",\"id\":\"p4220\",\"attributes\":{\"x\":{\"type\":\"value\",\"value\":93},\"y\":{\"type\":\"value\",\"value\":0.9024978451603402},\"size\":{\"type\":\"value\",\"value\":8},\"line_color\":{\"type\":\"value\",\"value\":\"red\"},\"line_alpha\":{\"type\":\"value\",\"value\":0.2},\"fill_color\":{\"type\":\"value\",\"value\":\"red\"},\"fill_alpha\":{\"type\":\"value\",\"value\":0.2},\"hatch_color\":{\"type\":\"value\",\"value\":\"red\"},\"hatch_alpha\":{\"type\":\"value\",\"value\":0.2}}}}},{\"type\":\"object\",\"name\":\"GlyphRenderer\",\"id\":\"p4231\",\"attributes\":{\"data_source\":{\"type\":\"object\",\"name\":\"ColumnDataSource\",\"id\":\"p4225\",\"attributes\":{\"selected\":{\"type\":\"object\",\"name\":\"Selection\",\"id\":\"p4226\",\"attributes\":{\"indices\":[],\"line_indices\":[]}},\"selection_policy\":{\"type\":\"object\",\"name\":\"UnionRenderers\",\"id\":\"p4227\"},\"data\":{\"type\":\"map\",\"entries\":[[\"x\",[148,251]]]}}},\"view\":{\"type\":\"object\",\"name\":\"CDSView\",\"id\":\"p4232\",\"attributes\":{\"filter\":{\"type\":\"object\",\"name\":\"AllIndices\",\"id\":\"p4233\"}}},\"glyph\":{\"type\":\"object\",\"name\":\"Line\",\"id\":\"p4228\",\"attributes\":{\"x\":{\"type\":\"field\",\"field\":\"x\"},\"y\":{\"type\":\"value\",\"value\":1.1863563410673617},\"line_color\":\"red\",\"line_width\":2}},\"nonselection_glyph\":{\"type\":\"object\",\"name\":\"Line\",\"id\":\"p4229\",\"attributes\":{\"x\":{\"type\":\"field\",\"field\":\"x\"},\"y\":{\"type\":\"value\",\"value\":1.1863563410673617},\"line_color\":\"red\",\"line_alpha\":0.1,\"line_width\":2}},\"muted_glyph\":{\"type\":\"object\",\"name\":\"Line\",\"id\":\"p4230\",\"attributes\":{\"x\":{\"type\":\"field\",\"field\":\"x\"},\"y\":{\"type\":\"value\",\"value\":1.1863563410673617},\"line_color\":\"red\",\"line_alpha\":0.2,\"line_width\":2}}}}],\"toolbar\":{\"type\":\"object\",\"name\":\"Toolbar\",\"id\":\"p4146\",\"attributes\":{\"tools\":[{\"id\":\"p4159\"},{\"id\":\"p4160\"},{\"id\":\"p4161\"},{\"id\":\"p4167\"},{\"id\":\"p4168\"},{\"id\":\"p4169\"},{\"type\":\"object\",\"name\":\"SaveTool\",\"id\":\"p4170\"},{\"id\":\"p4192\"},{\"id\":\"p4407\"}],\"active_drag\":{\"id\":\"p4159\"},\"active_scroll\":{\"id\":\"p4160\"}}},\"toolbar_location\":null,\"left\":[{\"type\":\"object\",\"name\":\"LinearAxis\",\"id\":\"p4154\",\"attributes\":{\"ticker\":{\"type\":\"object\",\"name\":\"BasicTicker\",\"id\":\"p4155\",\"attributes\":{\"mantissas\":[1,2,5]}},\"formatter\":{\"type\":\"object\",\"name\":\"NumeralTickFormatter\",\"id\":\"p4193\",\"attributes\":{\"format\":\"0,0.[00]%\"}},\"axis_label\":\"Equity\",\"major_label_policy\":{\"type\":\"object\",\"name\":\"AllLabels\",\"id\":\"p4157\"},\"minor_tick_line_color\":null}}],\"below\":[{\"type\":\"object\",\"name\":\"LinearAxis\",\"id\":\"p4149\",\"attributes\":{\"visible\":false,\"ticker\":{\"type\":\"object\",\"name\":\"BasicTicker\",\"id\":\"p4150\",\"attributes\":{\"mantissas\":[1,2,5]}},\"formatter\":{\"type\":\"object\",\"name\":\"BasicTickFormatter\",\"id\":\"p4151\"},\"major_label_policy\":{\"type\":\"object\",\"name\":\"AllLabels\",\"id\":\"p4152\"}}}],\"center\":[{\"type\":\"object\",\"name\":\"Grid\",\"id\":\"p4153\",\"attributes\":{\"axis\":{\"id\":\"p4149\"}}},{\"type\":\"object\",\"name\":\"Grid\",\"id\":\"p4158\",\"attributes\":{\"dimension\":1,\"axis\":{\"id\":\"p4154\"}}},{\"type\":\"object\",\"name\":\"Legend\",\"id\":\"p4203\",\"attributes\":{\"location\":\"top_left\",\"border_line_color\":\"#333333\",\"click_policy\":\"hide\",\"label_text_font_size\":\"8pt\",\"margin\":0,\"padding\":5,\"spacing\":0,\"items\":[{\"type\":\"object\",\"name\":\"LegendItem\",\"id\":\"p4204\",\"attributes\":{\"label\":{\"type\":\"value\",\"value\":\"Peak (119%)\"},\"renderers\":[{\"id\":\"p4200\"}]}},{\"type\":\"object\",\"name\":\"LegendItem\",\"id\":\"p4214\",\"attributes\":{\"label\":{\"type\":\"value\",\"value\":\"Final (114%)\"},\"renderers\":[{\"id\":\"p4211\"}]}},{\"type\":\"object\",\"name\":\"LegendItem\",\"id\":\"p4224\",\"attributes\":{\"label\":{\"type\":\"value\",\"value\":\"Max Drawdown (-15.4%)\"},\"renderers\":[{\"id\":\"p4221\"}]}},{\"type\":\"object\",\"name\":\"LegendItem\",\"id\":\"p4234\",\"attributes\":{\"label\":{\"type\":\"value\",\"value\":\"Max Dd Dur. (145 days)\"},\"renderers\":[{\"id\":\"p4231\"}]}}]}}],\"min_border_top\":3,\"min_border_bottom\":6,\"min_border_left\":0,\"min_border_right\":10}},0,0],[{\"type\":\"object\",\"name\":\"Figure\",\"id\":\"p4235\",\"attributes\":{\"width\":null,\"height\":90,\"sizing_mode\":\"stretch_width\",\"x_range\":{\"id\":\"p4093\"},\"y_range\":{\"type\":\"object\",\"name\":\"DataRange1d\",\"id\":\"p4237\"},\"x_scale\":{\"type\":\"object\",\"name\":\"LinearScale\",\"id\":\"p4244\"},\"y_scale\":{\"type\":\"object\",\"name\":\"LinearScale\",\"id\":\"p4245\"},\"title\":{\"type\":\"object\",\"name\":\"Title\",\"id\":\"p4242\"},\"outline_line_color\":\"#666666\",\"renderers\":[{\"id\":\"p4275\"},{\"id\":\"p4284\"}],\"toolbar\":{\"type\":\"object\",\"name\":\"Toolbar\",\"id\":\"p4243\",\"attributes\":{\"tools\":[{\"id\":\"p4256\"},{\"id\":\"p4257\"},{\"id\":\"p4258\"},{\"id\":\"p4264\"},{\"id\":\"p4265\"},{\"id\":\"p4266\"},{\"type\":\"object\",\"name\":\"SaveTool\",\"id\":\"p4267\"},{\"id\":\"p4287\"},{\"id\":\"p4288\"},{\"id\":\"p4407\"}],\"active_drag\":{\"id\":\"p4256\"},\"active_scroll\":{\"id\":\"p4257\"}}},\"toolbar_location\":null,\"left\":[{\"type\":\"object\",\"name\":\"LinearAxis\",\"id\":\"p4251\",\"attributes\":{\"ticker\":{\"type\":\"object\",\"name\":\"BasicTicker\",\"id\":\"p4252\",\"attributes\":{\"mantissas\":[1,2,5]}},\"formatter\":{\"type\":\"object\",\"name\":\"NumeralTickFormatter\",\"id\":\"p4289\",\"attributes\":{\"format\":\"0.[00]%\"}},\"axis_label\":\"Profit / Loss\",\"major_label_policy\":{\"type\":\"object\",\"name\":\"AllLabels\",\"id\":\"p4254\"},\"minor_tick_line_color\":null}}],\"below\":[{\"type\":\"object\",\"name\":\"LinearAxis\",\"id\":\"p4246\",\"attributes\":{\"visible\":false,\"ticker\":{\"type\":\"object\",\"name\":\"BasicTicker\",\"id\":\"p4247\",\"attributes\":{\"mantissas\":[1,2,5]}},\"formatter\":{\"type\":\"object\",\"name\":\"BasicTickFormatter\",\"id\":\"p4248\"},\"major_label_policy\":{\"type\":\"object\",\"name\":\"AllLabels\",\"id\":\"p4249\"}}}],\"center\":[{\"type\":\"object\",\"name\":\"Grid\",\"id\":\"p4250\",\"attributes\":{\"axis\":{\"id\":\"p4246\"}}},{\"type\":\"object\",\"name\":\"Grid\",\"id\":\"p4255\",\"attributes\":{\"dimension\":1,\"axis\":{\"id\":\"p4251\"}}},{\"type\":\"object\",\"name\":\"Span\",\"id\":\"p4268\",\"attributes\":{\"location\":0,\"line_color\":\"#666666\",\"line_dash\":[6]}}],\"min_border_top\":3,\"min_border_bottom\":6,\"min_border_left\":0,\"min_border_right\":10}},1,0],[{\"type\":\"object\",\"name\":\"Figure\",\"id\":\"p4094\",\"attributes\":{\"width\":null,\"height\":400,\"sizing_mode\":\"stretch_width\",\"x_range\":{\"id\":\"p4093\"},\"y_range\":{\"id\":\"p4096\"},\"x_scale\":{\"type\":\"object\",\"name\":\"LinearScale\",\"id\":\"p4103\"},\"y_scale\":{\"type\":\"object\",\"name\":\"LinearScale\",\"id\":\"p4104\"},\"title\":{\"type\":\"object\",\"name\":\"Title\",\"id\":\"p4101\"},\"outline_line_color\":\"#666666\",\"renderers\":[{\"type\":\"object\",\"name\":\"GlyphRenderer\",\"id\":\"p4343\",\"attributes\":{\"data_source\":{\"type\":\"object\",\"name\":\"ColumnDataSource\",\"id\":\"p4334\",\"attributes\":{\"selected\":{\"type\":\"object\",\"name\":\"Selection\",\"id\":\"p4335\",\"attributes\":{\"indices\":[],\"line_indices\":[]}},\"selection_policy\":{\"type\":\"object\",\"name\":\"UnionRenderers\",\"id\":\"p4336\"},\"data\":{\"type\":\"map\",\"entries\":[[\"index\",{\"type\":\"ndarray\",\"array\":{\"type\":\"bytes\",\"data\":\"AAAAAAAAJEAAAAAAAIA+QAAAAAAAwElAAAAAAABgUkAAAAAAAMBXQAAAAAAAIF1AAAAAAABgYUAAAAAAACBkQAAAAAAA0GZAAAAAAACQaUAAAAAAAEBsQAAAAAAAgG5A\"},\"shape\":[12],\"dtype\":\"float64\",\"order\":\"little\"}],[\"Open\",{\"type\":\"ndarray\",\"array\":{\"type\":\"bytes\",\"data\":\"AQAAgOkmBkAAAAAgMQgCQAAAAGCR7QRAAAAAQAwCBEABAAAgWDkGQAAAAOB6FAdAAAAAQDeJCUABAABAiUEHQP///7+hRQdA////n/HSBkAAAADAdJMHQAAAAMDz/QdA\"},\"shape\":[12],\"dtype\":\"float64\",\"order\":\"little\"}],[\"High\",{\"type\":\"ndarray\",\"array\":{\"type\":\"bytes\",\"data\":\"AQAAQIlBBkAAAADgzvcFQAAAAIDC9QZAAAAAIAaBBkD///9/wMoIQAAAAIA9CgpAAAAAgML1CUABAABgObQHQAEAAIBqvAhA////X4/CB0AAAABguB4JQAAAAIBs5whA\"},\"shape\":[12],\"dtype\":\"float64\",\"order\":\"little\"}],[\"Low\",{\"type\":\"ndarray\",\"array\":{\"type\":\"bytes\",\"data\":\"////H9nOAUAAAACgR+EBQAAAACBcjwNAAQAAoO+nA0ABAAAg3SQGQAAAAOB46QZAAQAAwPUoB0AAAAAAAAAFQAEAAEBeugZAAAAAwPP9BUAAAAAAK4cHQAAAACDb+QZA\"},\"shape\":[12],\"dtype\":\"float64\",\"order\":\"little\"}],[\"Close\",{\"type\":\"ndarray\",\"array\":{\"type\":\"bytes\",\"data\":\"AAAAQAwCAkD///+/zMwEQP///58cWgRAAAAA4CQGBkD////fp8YGQP/////91AhAAAAAAH9qB0AAAAAgsHIHQAAAAIA9CgdAAAAAwMh2B0AAAAAghesHQP///79yaAdA\"},\"shape\":[12],\"dtype\":\"float64\",\"order\":\"little\"}],[\"Volume\",{\"type\":\"ndarray\",\"array\":{\"type\":\"bytes\",\"data\":\"AAAAAAAAAAAAAAAAAAAAAAAAAAAAAAAAAAAAAAAAAAAAAAAAAAAAAAAAAAAAAAAAAAAAAAAAAAAAAAAAAAAAAAAAAAAAAAAAAAAAAAAAAAAAAAAAAAAAAAAAAAAAAAAA\"},\"shape\":[12],\"dtype\":\"float64\",\"order\":\"little\"}],[\"_width\",{\"type\":\"ndarray\",\"array\":{\"type\":\"bytes\",\"data\":\"ZmZmZmbmNEBmZmZmZuYzQGZmZmZm5jVAZmZmZmbmNUBmZmZmZuY0QGZmZmZm5jVAZmZmZmbmNkBmZmZmZuY0QGZmZmZm5jVAZmZmZmbmNUBmZmZmZuY0QM3MzMzMzC1A\"},\"shape\":[12],\"dtype\":\"float64\",\"order\":\"little\"}],[\"inc\",{\"type\":\"ndarray\",\"array\":[\"0\",\"1\",\"0\",\"1\",\"1\",\"1\",\"0\",\"1\",\"0\",\"1\",\"1\",\"0\"],\"shape\":[12],\"dtype\":\"object\",\"order\":\"little\"}]]}}},\"view\":{\"type\":\"object\",\"name\":\"CDSView\",\"id\":\"p4344\",\"attributes\":{\"filter\":{\"type\":\"object\",\"name\":\"AllIndices\",\"id\":\"p4345\"}}},\"glyph\":{\"type\":\"object\",\"name\":\"Segment\",\"id\":\"p4340\",\"attributes\":{\"x0\":{\"type\":\"field\",\"field\":\"index\"},\"y0\":{\"type\":\"field\",\"field\":\"High\"},\"x1\":{\"type\":\"field\",\"field\":\"index\"},\"y1\":{\"type\":\"field\",\"field\":\"Low\"},\"line_color\":{\"type\":\"value\",\"value\":\"#bbbbbb\"}}},\"nonselection_glyph\":{\"type\":\"object\",\"name\":\"Segment\",\"id\":\"p4341\",\"attributes\":{\"x0\":{\"type\":\"field\",\"field\":\"index\"},\"y0\":{\"type\":\"field\",\"field\":\"High\"},\"x1\":{\"type\":\"field\",\"field\":\"index\"},\"y1\":{\"type\":\"field\",\"field\":\"Low\"},\"line_color\":{\"type\":\"value\",\"value\":\"#bbbbbb\"},\"line_alpha\":{\"type\":\"value\",\"value\":0.1}}},\"muted_glyph\":{\"type\":\"object\",\"name\":\"Segment\",\"id\":\"p4342\",\"attributes\":{\"x0\":{\"type\":\"field\",\"field\":\"index\"},\"y0\":{\"type\":\"field\",\"field\":\"High\"},\"x1\":{\"type\":\"field\",\"field\":\"index\"},\"y1\":{\"type\":\"field\",\"field\":\"Low\"},\"line_color\":{\"type\":\"value\",\"value\":\"#bbbbbb\"},\"line_alpha\":{\"type\":\"value\",\"value\":0.2}}}}},{\"type\":\"object\",\"name\":\"GlyphRenderer\",\"id\":\"p4353\",\"attributes\":{\"data_source\":{\"id\":\"p4334\"},\"view\":{\"type\":\"object\",\"name\":\"CDSView\",\"id\":\"p4354\",\"attributes\":{\"filter\":{\"type\":\"object\",\"name\":\"AllIndices\",\"id\":\"p4355\"}}},\"glyph\":{\"type\":\"object\",\"name\":\"VBar\",\"id\":\"p4350\",\"attributes\":{\"x\":{\"type\":\"field\",\"field\":\"index\"},\"width\":{\"type\":\"field\",\"field\":\"_width\"},\"bottom\":{\"type\":\"field\",\"field\":\"Close\"},\"top\":{\"type\":\"field\",\"field\":\"Open\"},\"line_color\":{\"type\":\"value\",\"value\":null},\"fill_color\":{\"type\":\"field\",\"field\":\"inc\",\"transform\":{\"type\":\"object\",\"name\":\"CategoricalColorMapper\",\"id\":\"p4346\",\"attributes\":{\"palette\":[\"rgb(255.0, 220.40869565217392, 214.20000000000002)\",\"rgb(214.20000000000005, 254.99999999999997, 214.20000000000005)\"],\"factors\":[\"0\",\"1\"]}}}}},\"nonselection_glyph\":{\"type\":\"object\",\"name\":\"VBar\",\"id\":\"p4351\",\"attributes\":{\"x\":{\"type\":\"field\",\"field\":\"index\"},\"width\":{\"type\":\"field\",\"field\":\"_width\"},\"bottom\":{\"type\":\"field\",\"field\":\"Close\"},\"top\":{\"type\":\"field\",\"field\":\"Open\"},\"line_color\":{\"type\":\"value\",\"value\":null},\"line_alpha\":{\"type\":\"value\",\"value\":0.1},\"fill_color\":{\"type\":\"field\",\"field\":\"inc\",\"transform\":{\"id\":\"p4346\"}},\"fill_alpha\":{\"type\":\"value\",\"value\":0.1},\"hatch_alpha\":{\"type\":\"value\",\"value\":0.1}}},\"muted_glyph\":{\"type\":\"object\",\"name\":\"VBar\",\"id\":\"p4352\",\"attributes\":{\"x\":{\"type\":\"field\",\"field\":\"index\"},\"width\":{\"type\":\"field\",\"field\":\"_width\"},\"bottom\":{\"type\":\"field\",\"field\":\"Close\"},\"top\":{\"type\":\"field\",\"field\":\"Open\"},\"line_color\":{\"type\":\"value\",\"value\":null},\"line_alpha\":{\"type\":\"value\",\"value\":0.2},\"fill_color\":{\"type\":\"field\",\"field\":\"inc\",\"transform\":{\"id\":\"p4346\"}},\"fill_alpha\":{\"type\":\"value\",\"value\":0.2},\"hatch_alpha\":{\"type\":\"value\",\"value\":0.2}}}}},{\"type\":\"object\",\"name\":\"GlyphRenderer\",\"id\":\"p4362\",\"attributes\":{\"data_source\":{\"id\":\"p4127\"},\"view\":{\"type\":\"object\",\"name\":\"CDSView\",\"id\":\"p4363\",\"attributes\":{\"filter\":{\"type\":\"object\",\"name\":\"AllIndices\",\"id\":\"p4364\"}}},\"glyph\":{\"type\":\"object\",\"name\":\"Segment\",\"id\":\"p4359\",\"attributes\":{\"x0\":{\"type\":\"field\",\"field\":\"index\"},\"y0\":{\"type\":\"field\",\"field\":\"High\"},\"x1\":{\"type\":\"field\",\"field\":\"index\"},\"y1\":{\"type\":\"field\",\"field\":\"Low\"}}},\"nonselection_glyph\":{\"type\":\"object\",\"name\":\"Segment\",\"id\":\"p4360\",\"attributes\":{\"x0\":{\"type\":\"field\",\"field\":\"index\"},\"y0\":{\"type\":\"field\",\"field\":\"High\"},\"x1\":{\"type\":\"field\",\"field\":\"index\"},\"y1\":{\"type\":\"field\",\"field\":\"Low\"},\"line_alpha\":{\"type\":\"value\",\"value\":0.1}}},\"muted_glyph\":{\"type\":\"object\",\"name\":\"Segment\",\"id\":\"p4361\",\"attributes\":{\"x0\":{\"type\":\"field\",\"field\":\"index\"},\"y0\":{\"type\":\"field\",\"field\":\"High\"},\"x1\":{\"type\":\"field\",\"field\":\"index\"},\"y1\":{\"type\":\"field\",\"field\":\"Low\"},\"line_alpha\":{\"type\":\"value\",\"value\":0.2}}}}},{\"id\":\"p4371\"},{\"type\":\"object\",\"name\":\"GlyphRenderer\",\"id\":\"p4380\",\"attributes\":{\"data_source\":{\"id\":\"p4130\"},\"view\":{\"type\":\"object\",\"name\":\"CDSView\",\"id\":\"p4381\",\"attributes\":{\"filter\":{\"type\":\"object\",\"name\":\"AllIndices\",\"id\":\"p4382\"}}},\"glyph\":{\"type\":\"object\",\"name\":\"MultiLine\",\"id\":\"p4377\",\"attributes\":{\"xs\":{\"type\":\"field\",\"field\":\"position_lines_xs\"},\"ys\":{\"type\":\"field\",\"field\":\"position_lines_ys\"},\"line_color\":{\"type\":\"field\",\"field\":\"returns_positive\",\"transform\":{\"type\":\"object\",\"name\":\"CategoricalColorMapper\",\"id\":\"p4135\",\"attributes\":{\"palette\":[\"rgb(178.5, 27.163043478260846, 0.0)\",\"rgb(0.0, 178.5, 0.0)\"],\"factors\":[\"0\",\"1\"]}}},\"line_width\":{\"type\":\"value\",\"value\":8},\"line_dash\":{\"type\":\"value\",\"value\":\"dotted\"}}},\"nonselection_glyph\":{\"type\":\"object\",\"name\":\"MultiLine\",\"id\":\"p4378\",\"attributes\":{\"xs\":{\"type\":\"field\",\"field\":\"position_lines_xs\"},\"ys\":{\"type\":\"field\",\"field\":\"position_lines_ys\"},\"line_color\":{\"type\":\"field\",\"field\":\"returns_positive\",\"transform\":{\"id\":\"p4135\"}},\"line_alpha\":{\"type\":\"value\",\"value\":0.1},\"line_width\":{\"type\":\"value\",\"value\":8},\"line_dash\":{\"type\":\"value\",\"value\":\"dotted\"}}},\"muted_glyph\":{\"type\":\"object\",\"name\":\"MultiLine\",\"id\":\"p4379\",\"attributes\":{\"xs\":{\"type\":\"field\",\"field\":\"position_lines_xs\"},\"ys\":{\"type\":\"field\",\"field\":\"position_lines_ys\"},\"line_color\":{\"type\":\"field\",\"field\":\"returns_positive\",\"transform\":{\"id\":\"p4135\"}},\"line_alpha\":{\"type\":\"value\",\"value\":0.2},\"line_width\":{\"type\":\"value\",\"value\":8},\"line_dash\":{\"type\":\"value\",\"value\":\"dotted\"}}}}},{\"type\":\"object\",\"name\":\"GlyphRenderer\",\"id\":\"p4391\",\"attributes\":{\"data_source\":{\"id\":\"p4127\"},\"view\":{\"type\":\"object\",\"name\":\"CDSView\",\"id\":\"p4392\",\"attributes\":{\"filter\":{\"type\":\"object\",\"name\":\"AllIndices\",\"id\":\"p4393\"}}},\"glyph\":{\"type\":\"object\",\"name\":\"Line\",\"id\":\"p4388\",\"attributes\":{\"x\":{\"type\":\"field\",\"field\":\"index\"},\"y\":{\"type\":\"field\",\"field\":\"SMA(C,13)_0_1\"},\"line_color\":\"#1f77b4\",\"line_width\":1.3}},\"nonselection_glyph\":{\"type\":\"object\",\"name\":\"Line\",\"id\":\"p4389\",\"attributes\":{\"x\":{\"type\":\"field\",\"field\":\"index\"},\"y\":{\"type\":\"field\",\"field\":\"SMA(C,13)_0_1\"},\"line_color\":\"#1f77b4\",\"line_alpha\":0.1,\"line_width\":1.3}},\"muted_glyph\":{\"type\":\"object\",\"name\":\"Line\",\"id\":\"p4390\",\"attributes\":{\"x\":{\"type\":\"field\",\"field\":\"index\"},\"y\":{\"type\":\"field\",\"field\":\"SMA(C,13)_0_1\"},\"line_color\":\"#1f77b4\",\"line_alpha\":0.2,\"line_width\":1.3}}}},{\"type\":\"object\",\"name\":\"GlyphRenderer\",\"id\":\"p4401\",\"attributes\":{\"data_source\":{\"id\":\"p4127\"},\"view\":{\"type\":\"object\",\"name\":\"CDSView\",\"id\":\"p4402\",\"attributes\":{\"filter\":{\"type\":\"object\",\"name\":\"AllIndices\",\"id\":\"p4403\"}}},\"glyph\":{\"type\":\"object\",\"name\":\"Line\",\"id\":\"p4398\",\"attributes\":{\"x\":{\"type\":\"field\",\"field\":\"index\"},\"y\":{\"type\":\"field\",\"field\":\"SMA(C,10)_1_1\"},\"line_color\":\"#ff7f0e\",\"line_width\":1.3}},\"nonselection_glyph\":{\"type\":\"object\",\"name\":\"Line\",\"id\":\"p4399\",\"attributes\":{\"x\":{\"type\":\"field\",\"field\":\"index\"},\"y\":{\"type\":\"field\",\"field\":\"SMA(C,10)_1_1\"},\"line_color\":\"#ff7f0e\",\"line_alpha\":0.1,\"line_width\":1.3}},\"muted_glyph\":{\"type\":\"object\",\"name\":\"Line\",\"id\":\"p4400\",\"attributes\":{\"x\":{\"type\":\"field\",\"field\":\"index\"},\"y\":{\"type\":\"field\",\"field\":\"SMA(C,10)_1_1\"},\"line_color\":\"#ff7f0e\",\"line_alpha\":0.2,\"line_width\":1.3}}}}],\"toolbar\":{\"type\":\"object\",\"name\":\"Toolbar\",\"id\":\"p4102\",\"attributes\":{\"tools\":[{\"id\":\"p4115\"},{\"id\":\"p4116\"},{\"id\":\"p4117\"},{\"id\":\"p4123\"},{\"id\":\"p4124\"},{\"id\":\"p4125\"},{\"type\":\"object\",\"name\":\"SaveTool\",\"id\":\"p4126\"},{\"id\":\"p4405\"},{\"id\":\"p4407\"}],\"active_drag\":{\"id\":\"p4115\"},\"active_scroll\":{\"id\":\"p4116\"}}},\"toolbar_location\":null,\"left\":[{\"type\":\"object\",\"name\":\"LinearAxis\",\"id\":\"p4110\",\"attributes\":{\"ticker\":{\"type\":\"object\",\"name\":\"BasicTicker\",\"id\":\"p4111\",\"attributes\":{\"mantissas\":[1,2,5]}},\"formatter\":{\"type\":\"object\",\"name\":\"BasicTickFormatter\",\"id\":\"p4112\"},\"major_label_policy\":{\"type\":\"object\",\"name\":\"AllLabels\",\"id\":\"p4113\"}}}],\"below\":[{\"type\":\"object\",\"name\":\"LinearAxis\",\"id\":\"p4105\",\"attributes\":{\"visible\":false,\"ticker\":{\"type\":\"object\",\"name\":\"BasicTicker\",\"id\":\"p4106\",\"attributes\":{\"mantissas\":[1,2,5]}},\"formatter\":{\"type\":\"object\",\"name\":\"CustomJSTickFormatter\",\"id\":\"p4137\",\"attributes\":{\"args\":{\"type\":\"map\",\"entries\":[[\"axis\",{\"id\":\"p4105\"}],[\"formatter\",{\"type\":\"object\",\"name\":\"DatetimeTickFormatter\",\"id\":\"p4136\",\"attributes\":{\"days\":\"%d %b\"}}],[\"source\",{\"id\":\"p4127\"}]]},\"code\":\"\\nthis.labels = this.labels || formatter.doFormat(ticks\\n                                                .map(i => source.data.datetime[i])\\n                                                .filter(t => t !== undefined));\\nreturn this.labels[index] || \\\"\\\";\\n        \"}},\"major_label_policy\":{\"type\":\"object\",\"name\":\"AllLabels\",\"id\":\"p4108\"}}}],\"center\":[{\"type\":\"object\",\"name\":\"Grid\",\"id\":\"p4109\",\"attributes\":{\"axis\":{\"id\":\"p4105\"}}},{\"type\":\"object\",\"name\":\"Grid\",\"id\":\"p4114\",\"attributes\":{\"dimension\":1,\"axis\":{\"id\":\"p4110\"}}},{\"type\":\"object\",\"name\":\"Legend\",\"id\":\"p4383\",\"attributes\":{\"location\":\"top_left\",\"border_line_color\":\"#333333\",\"click_policy\":\"hide\",\"label_text_font_size\":\"8pt\",\"margin\":0,\"padding\":5,\"spacing\":0,\"items\":[{\"type\":\"object\",\"name\":\"LegendItem\",\"id\":\"p4384\",\"attributes\":{\"label\":{\"type\":\"value\",\"value\":\"Trades (24)\"},\"renderers\":[{\"id\":\"p4380\"}]}},{\"type\":\"object\",\"name\":\"LegendItem\",\"id\":\"p4394\",\"attributes\":{\"label\":{\"type\":\"value\",\"value\":\"SMA(C,13)\"},\"renderers\":[{\"id\":\"p4391\"}]}},{\"type\":\"object\",\"name\":\"LegendItem\",\"id\":\"p4404\",\"attributes\":{\"label\":{\"type\":\"value\",\"value\":\"SMA(C,10)\"},\"renderers\":[{\"id\":\"p4401\"}]}}]}}],\"min_border_top\":3,\"min_border_bottom\":6,\"min_border_left\":0,\"min_border_right\":10}},2,0],[{\"type\":\"object\",\"name\":\"Figure\",\"id\":\"p4290\",\"attributes\":{\"width\":null,\"height\":90,\"sizing_mode\":\"stretch_width\",\"x_range\":{\"id\":\"p4093\"},\"y_range\":{\"id\":\"p4292\"},\"x_scale\":{\"type\":\"object\",\"name\":\"LinearScale\",\"id\":\"p4299\"},\"y_scale\":{\"type\":\"object\",\"name\":\"LinearScale\",\"id\":\"p4300\"},\"title\":{\"type\":\"object\",\"name\":\"Title\",\"id\":\"p4297\"},\"outline_line_color\":\"#666666\",\"renderers\":[{\"id\":\"p4329\"}],\"toolbar\":{\"type\":\"object\",\"name\":\"Toolbar\",\"id\":\"p4298\",\"attributes\":{\"tools\":[{\"id\":\"p4311\"},{\"id\":\"p4312\"},{\"id\":\"p4313\"},{\"id\":\"p4319\"},{\"id\":\"p4320\"},{\"id\":\"p4321\"},{\"type\":\"object\",\"name\":\"SaveTool\",\"id\":\"p4322\"},{\"id\":\"p4332\"},{\"id\":\"p4407\"}],\"active_drag\":{\"id\":\"p4311\"},\"active_scroll\":{\"id\":\"p4312\"}}},\"toolbar_location\":null,\"left\":[{\"type\":\"object\",\"name\":\"LinearAxis\",\"id\":\"p4306\",\"attributes\":{\"ticker\":{\"type\":\"object\",\"name\":\"BasicTicker\",\"id\":\"p4307\",\"attributes\":{\"mantissas\":[1,2,5]}},\"formatter\":{\"type\":\"object\",\"name\":\"NumeralTickFormatter\",\"id\":\"p4333\",\"attributes\":{\"format\":\"0 a\"}},\"axis_label\":\"Volume\",\"major_label_policy\":{\"type\":\"object\",\"name\":\"AllLabels\",\"id\":\"p4309\"},\"minor_tick_line_color\":null}}],\"below\":[{\"type\":\"object\",\"name\":\"LinearAxis\",\"id\":\"p4301\",\"attributes\":{\"visible\":true,\"ticker\":{\"type\":\"object\",\"name\":\"BasicTicker\",\"id\":\"p4302\",\"attributes\":{\"mantissas\":[1,2,5]}},\"formatter\":{\"id\":\"p4137\"},\"major_label_policy\":{\"type\":\"object\",\"name\":\"AllLabels\",\"id\":\"p4304\"}}}],\"center\":[{\"type\":\"object\",\"name\":\"Grid\",\"id\":\"p4305\",\"attributes\":{\"axis\":{\"id\":\"p4301\"}}},{\"type\":\"object\",\"name\":\"Grid\",\"id\":\"p4310\",\"attributes\":{\"dimension\":1,\"axis\":{\"id\":\"p4306\"}}}],\"min_border_top\":3,\"min_border_bottom\":6,\"min_border_left\":0,\"min_border_right\":10}},3,0]]}}]}};\n",
              "  const render_items = [{\"docid\":\"0af30006-3b90-4fd2-bdc3-09f6b662ef0b\",\"roots\":{\"p4417\":\"a60014b9-b196-433e-84b0-31cf4593cd1a\"},\"root_ids\":[\"p4417\"]}];\n",
              "  root.Bokeh.embed.embed_items_notebook(docs_json, render_items);\n",
              "  }\n",
              "  if (root.Bokeh !== undefined) {\n",
              "    embed_document(root);\n",
              "  } else {\n",
              "    let attempts = 0;\n",
              "    const timer = setInterval(function(root) {\n",
              "      if (root.Bokeh !== undefined) {\n",
              "        clearInterval(timer);\n",
              "        embed_document(root);\n",
              "      } else {\n",
              "        attempts++;\n",
              "        if (attempts > 100) {\n",
              "          clearInterval(timer);\n",
              "          console.log(\"Bokeh: ERROR: Unable to run BokehJS code because BokehJS library is missing\");\n",
              "        }\n",
              "      }\n",
              "    }, 10, root)\n",
              "  }\n",
              "})(window);"
            ],
            "application/vnd.bokehjs_exec.v0+json": ""
          },
          "metadata": {
            "application/vnd.bokehjs_exec.v0+json": {
              "id": "p4417"
            }
          }
        },
        {
          "output_type": "display_data",
          "data": {
            "text/plain": [
              "Backtest.optimize:   0%|          | 0/2 [00:00<?, ?it/s]"
            ],
            "application/vnd.jupyter.widget-view+json": {
              "version_major": 2,
              "version_minor": 0,
              "model_id": "45bc0cabe7434ad8ac00b573adb96433"
            }
          },
          "metadata": {}
        },
        {
          "output_type": "stream",
          "name": "stderr",
          "text": [
            "BokehDeprecationWarning: Passing lists of formats for DatetimeTickFormatter scales was deprecated in Bokeh 3.0. Configure a single string format for each scale\n",
            "/usr/local/lib/python3.10/dist-packages/backtesting/_plotting.py:250: UserWarning: DatetimeFormatter scales now only accept a single format. Using the first provided: '%d %b'\n",
            "  formatter=DatetimeTickFormatter(days=['%d %b', '%a %d'],\n",
            "BokehDeprecationWarning: Passing lists of formats for DatetimeTickFormatter scales was deprecated in Bokeh 3.0. Configure a single string format for each scale\n",
            "/usr/local/lib/python3.10/dist-packages/backtesting/_plotting.py:250: UserWarning: DatetimeFormatter scales now only accept a single format. Using the first provided: '%m/%Y'\n",
            "  formatter=DatetimeTickFormatter(days=['%d %b', '%a %d'],\n",
            "/usr/local/lib/python3.10/dist-packages/backtesting/_plotting.py:659: UserWarning: found multiple competing values for 'toolbar.active_drag' property; using the latest value\n",
            "  fig = gridplot(\n",
            "/usr/local/lib/python3.10/dist-packages/backtesting/_plotting.py:659: UserWarning: found multiple competing values for 'toolbar.active_scroll' property; using the latest value\n",
            "  fig = gridplot(\n"
          ]
        },
        {
          "output_type": "display_data",
          "data": {
            "text/html": [
              "\n",
              "  <div id=\"f663dc2e-1d2d-4f3e-ac60-e6c41762ea62\" data-root-id=\"p4819\" style=\"display: contents;\"></div>\n"
            ]
          },
          "metadata": {}
        },
        {
          "output_type": "display_data",
          "data": {
            "application/javascript": [
              "(function(root) {\n",
              "  function embed_document(root) {\n",
              "  const docs_json = {\"7794d8ab-9ae4-4a8d-aa51-ec30362098b3\":{\"version\":\"3.3.4\",\"title\":\"Bokeh Application\",\"roots\":[{\"type\":\"object\",\"name\":\"GridPlot\",\"id\":\"p4819\",\"attributes\":{\"rows\":null,\"cols\":null,\"sizing_mode\":\"stretch_width\",\"toolbar\":{\"type\":\"object\",\"name\":\"Toolbar\",\"id\":\"p4818\",\"attributes\":{\"logo\":null,\"tools\":[{\"type\":\"object\",\"name\":\"ToolProxy\",\"id\":\"p4810\",\"attributes\":{\"tools\":[{\"type\":\"object\",\"name\":\"PanTool\",\"id\":\"p4513\",\"attributes\":{\"dimensions\":\"width\"}},{\"type\":\"object\",\"name\":\"PanTool\",\"id\":\"p4610\",\"attributes\":{\"dimensions\":\"width\"}},{\"type\":\"object\",\"name\":\"PanTool\",\"id\":\"p4469\",\"attributes\":{\"dimensions\":\"width\"}},{\"type\":\"object\",\"name\":\"PanTool\",\"id\":\"p4665\",\"attributes\":{\"dimensions\":\"width\"}},{\"type\":\"object\",\"name\":\"PanTool\",\"id\":\"p4760\",\"attributes\":{\"dimensions\":\"width\"}}]}},{\"type\":\"object\",\"name\":\"ToolProxy\",\"id\":\"p4811\",\"attributes\":{\"tools\":[{\"type\":\"object\",\"name\":\"WheelZoomTool\",\"id\":\"p4514\",\"attributes\":{\"dimensions\":\"width\",\"renderers\":\"auto\",\"maintain_focus\":false}},{\"type\":\"object\",\"name\":\"WheelZoomTool\",\"id\":\"p4611\",\"attributes\":{\"dimensions\":\"width\",\"renderers\":\"auto\",\"maintain_focus\":false}},{\"type\":\"object\",\"name\":\"WheelZoomTool\",\"id\":\"p4470\",\"attributes\":{\"dimensions\":\"width\",\"renderers\":\"auto\",\"maintain_focus\":false}},{\"type\":\"object\",\"name\":\"WheelZoomTool\",\"id\":\"p4666\",\"attributes\":{\"dimensions\":\"width\",\"renderers\":\"auto\",\"maintain_focus\":false}},{\"type\":\"object\",\"name\":\"WheelZoomTool\",\"id\":\"p4761\",\"attributes\":{\"dimensions\":\"width\",\"renderers\":\"auto\",\"maintain_focus\":false}}]}},{\"type\":\"object\",\"name\":\"ToolProxy\",\"id\":\"p4812\",\"attributes\":{\"tools\":[{\"type\":\"object\",\"name\":\"BoxZoomTool\",\"id\":\"p4515\",\"attributes\":{\"overlay\":{\"type\":\"object\",\"name\":\"BoxAnnotation\",\"id\":\"p4516\",\"attributes\":{\"syncable\":false,\"level\":\"overlay\",\"visible\":false,\"left\":{\"type\":\"number\",\"value\":\"nan\"},\"right\":{\"type\":\"number\",\"value\":\"nan\"},\"top\":{\"type\":\"number\",\"value\":\"nan\"},\"bottom\":{\"type\":\"number\",\"value\":\"nan\"},\"left_units\":\"canvas\",\"right_units\":\"canvas\",\"top_units\":\"canvas\",\"bottom_units\":\"canvas\",\"line_color\":\"black\",\"line_alpha\":1.0,\"line_width\":2,\"line_dash\":[4,4],\"fill_color\":\"lightgrey\",\"fill_alpha\":0.5}}}},{\"type\":\"object\",\"name\":\"BoxZoomTool\",\"id\":\"p4612\",\"attributes\":{\"overlay\":{\"type\":\"object\",\"name\":\"BoxAnnotation\",\"id\":\"p4613\",\"attributes\":{\"syncable\":false,\"level\":\"overlay\",\"visible\":false,\"left\":{\"type\":\"number\",\"value\":\"nan\"},\"right\":{\"type\":\"number\",\"value\":\"nan\"},\"top\":{\"type\":\"number\",\"value\":\"nan\"},\"bottom\":{\"type\":\"number\",\"value\":\"nan\"},\"left_units\":\"canvas\",\"right_units\":\"canvas\",\"top_units\":\"canvas\",\"bottom_units\":\"canvas\",\"line_color\":\"black\",\"line_alpha\":1.0,\"line_width\":2,\"line_dash\":[4,4],\"fill_color\":\"lightgrey\",\"fill_alpha\":0.5}}}},{\"type\":\"object\",\"name\":\"BoxZoomTool\",\"id\":\"p4471\",\"attributes\":{\"overlay\":{\"type\":\"object\",\"name\":\"BoxAnnotation\",\"id\":\"p4472\",\"attributes\":{\"syncable\":false,\"level\":\"overlay\",\"visible\":false,\"left\":{\"type\":\"number\",\"value\":\"nan\"},\"right\":{\"type\":\"number\",\"value\":\"nan\"},\"top\":{\"type\":\"number\",\"value\":\"nan\"},\"bottom\":{\"type\":\"number\",\"value\":\"nan\"},\"left_units\":\"canvas\",\"right_units\":\"canvas\",\"top_units\":\"canvas\",\"bottom_units\":\"canvas\",\"line_color\":\"black\",\"line_alpha\":1.0,\"line_width\":2,\"line_dash\":[4,4],\"fill_color\":\"lightgrey\",\"fill_alpha\":0.5}}}},{\"type\":\"object\",\"name\":\"BoxZoomTool\",\"id\":\"p4667\",\"attributes\":{\"overlay\":{\"type\":\"object\",\"name\":\"BoxAnnotation\",\"id\":\"p4668\",\"attributes\":{\"syncable\":false,\"level\":\"overlay\",\"visible\":false,\"left\":{\"type\":\"number\",\"value\":\"nan\"},\"right\":{\"type\":\"number\",\"value\":\"nan\"},\"top\":{\"type\":\"number\",\"value\":\"nan\"},\"bottom\":{\"type\":\"number\",\"value\":\"nan\"},\"left_units\":\"canvas\",\"right_units\":\"canvas\",\"top_units\":\"canvas\",\"bottom_units\":\"canvas\",\"line_color\":\"black\",\"line_alpha\":1.0,\"line_width\":2,\"line_dash\":[4,4],\"fill_color\":\"lightgrey\",\"fill_alpha\":0.5}}}},{\"type\":\"object\",\"name\":\"BoxZoomTool\",\"id\":\"p4762\",\"attributes\":{\"overlay\":{\"type\":\"object\",\"name\":\"BoxAnnotation\",\"id\":\"p4763\",\"attributes\":{\"syncable\":false,\"level\":\"overlay\",\"visible\":false,\"left\":{\"type\":\"number\",\"value\":\"nan\"},\"right\":{\"type\":\"number\",\"value\":\"nan\"},\"top\":{\"type\":\"number\",\"value\":\"nan\"},\"bottom\":{\"type\":\"number\",\"value\":\"nan\"},\"left_units\":\"canvas\",\"right_units\":\"canvas\",\"top_units\":\"canvas\",\"bottom_units\":\"canvas\",\"line_color\":\"black\",\"line_alpha\":1.0,\"line_width\":2,\"line_dash\":[4,4],\"fill_color\":\"lightgrey\",\"fill_alpha\":0.5}}}}]}},{\"type\":\"object\",\"name\":\"ToolProxy\",\"id\":\"p4813\",\"attributes\":{\"tools\":[{\"type\":\"object\",\"name\":\"UndoTool\",\"id\":\"p4521\"},{\"type\":\"object\",\"name\":\"UndoTool\",\"id\":\"p4618\"},{\"type\":\"object\",\"name\":\"UndoTool\",\"id\":\"p4477\"},{\"type\":\"object\",\"name\":\"UndoTool\",\"id\":\"p4673\"},{\"type\":\"object\",\"name\":\"UndoTool\",\"id\":\"p4768\"}]}},{\"type\":\"object\",\"name\":\"ToolProxy\",\"id\":\"p4814\",\"attributes\":{\"tools\":[{\"type\":\"object\",\"name\":\"RedoTool\",\"id\":\"p4522\"},{\"type\":\"object\",\"name\":\"RedoTool\",\"id\":\"p4619\"},{\"type\":\"object\",\"name\":\"RedoTool\",\"id\":\"p4478\"},{\"type\":\"object\",\"name\":\"RedoTool\",\"id\":\"p4674\"},{\"type\":\"object\",\"name\":\"RedoTool\",\"id\":\"p4769\"}]}},{\"type\":\"object\",\"name\":\"ToolProxy\",\"id\":\"p4815\",\"attributes\":{\"tools\":[{\"type\":\"object\",\"name\":\"ResetTool\",\"id\":\"p4523\"},{\"type\":\"object\",\"name\":\"ResetTool\",\"id\":\"p4620\"},{\"type\":\"object\",\"name\":\"ResetTool\",\"id\":\"p4479\"},{\"type\":\"object\",\"name\":\"ResetTool\",\"id\":\"p4675\"},{\"type\":\"object\",\"name\":\"ResetTool\",\"id\":\"p4770\"}]}},{\"type\":\"object\",\"name\":\"SaveTool\",\"id\":\"p4816\"},{\"type\":\"object\",\"name\":\"HoverTool\",\"id\":\"p4546\",\"attributes\":{\"renderers\":[{\"type\":\"object\",\"name\":\"GlyphRenderer\",\"id\":\"p4543\",\"attributes\":{\"data_source\":{\"type\":\"object\",\"name\":\"ColumnDataSource\",\"id\":\"p4481\",\"attributes\":{\"selected\":{\"type\":\"object\",\"name\":\"Selection\",\"id\":\"p4482\",\"attributes\":{\"indices\":[],\"line_indices\":[]}},\"selection_policy\":{\"type\":\"object\",\"name\":\"UnionRenderers\",\"id\":\"p4483\"},\"data\":{\"type\":\"map\",\"entries\":[[\"index\",{\"type\":\"ndarray\",\"array\":{\"type\":\"bytes\",\"data\":\"AAAAAAEAAAACAAAAAwAAAAQAAAAFAAAABgAAAAcAAAAIAAAACQAAAAoAAAALAAAADAAAAA0AAAAOAAAADwAAABAAAAARAAAAEgAAABMAAAAUAAAAFQAAABYAAAAXAAAAGAAAABkAAAAaAAAAGwAAABwAAAAdAAAAHgAAAB8AAAAgAAAAIQAAACIAAAAjAAAAJAAAACUAAAAmAAAAJwAAACgAAAApAAAAKgAAACsAAAAsAAAALQAAAC4AAAAvAAAAMAAAADEAAAAyAAAAMwAAADQAAAA1AAAANgAAADcAAAA4AAAAOQAAADoAAAA7AAAAPAAAAD0AAAA+AAAAPwAAAEAAAABBAAAAQgAAAEMAAABEAAAARQAAAEYAAABHAAAASAAAAEkAAABKAAAASwAAAEwAAABNAAAATgAAAE8AAABQAAAAUQAAAFIAAABTAAAAVAAAAFUAAABWAAAAVwAAAFgAAABZAAAAWgAAAFsAAABcAAAAXQAAAF4AAABfAAAAYAAAAGEAAABiAAAAYwAAAGQAAABlAAAAZgAAAGcAAABoAAAAaQAAAGoAAABrAAAAbAAAAG0AAABuAAAAbwAAAHAAAABxAAAAcgAAAHMAAAB0AAAAdQAAAHYAAAB3AAAAeAAAAHkAAAB6AAAAewAAAHwAAAB9AAAAfgAAAH8AAACAAAAAgQAAAIIAAACDAAAAhAAAAIUAAACGAAAAhwAAAIgAAACJAAAAigAAAIsAAACMAAAAjQAAAI4AAACPAAAAkAAAAJEAAACSAAAAkwAAAJQAAACVAAAAlgAAAJcAAACYAAAAmQAAAJoAAACbAAAAnAAAAJ0AAACeAAAAnwAAAKAAAAChAAAAogAAAKMAAACkAAAApQAAAKYAAACnAAAAqAAAAKkAAACqAAAAqwAAAKwAAACtAAAArgAAAK8AAACwAAAAsQAAALIAAACzAAAAtAAAALUAAAC2AAAAtwAAALgAAAC5AAAAugAAALsAAAC8AAAAvQAAAL4AAAC/AAAAwAAAAMEAAADCAAAAwwAAAMQAAADFAAAAxgAAAMcAAADIAAAAyQAAAMoAAADLAAAAzAAAAM0AAADOAAAAzwAAANAAAADRAAAA0gAAANMAAADUAAAA1QAAANYAAADXAAAA2AAAANkAAADaAAAA2wAAANwAAADdAAAA3gAAAN8AAADgAAAA4QAAAOIAAADjAAAA5AAAAOUAAADmAAAA5wAAAOgAAADpAAAA6gAAAOsAAADsAAAA7QAAAO4AAADvAAAA8AAAAPEAAADyAAAA8wAAAPQAAAD1AAAA9gAAAPcAAAD4AAAA+QAAAPoAAAD7AAAA\"},\"shape\":[252],\"dtype\":\"int32\",\"order\":\"little\"}],[\"Open\",{\"type\":\"ndarray\",\"array\":{\"type\":\"bytes\",\"data\":\"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\"},\"shape\":[252],\"dtype\":\"float64\",\"order\":\"little\"}],[\"High\",{\"type\":\"ndarray\",\"array\":{\"type\":\"bytes\",\"data\":\"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\"},\"shape\":[252],\"dtype\":\"float64\",\"order\":\"little\"}],[\"Low\",{\"type\":\"ndarray\",\"array\":{\"type\":\"bytes\",\"data\":\"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\"},\"shape\":[252],\"dtype\":\"float64\",\"order\":\"little\"}],[\"Close\",{\"type\":\"ndarray\",\"array\":{\"type\":\"bytes\",\"data\":\"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\"},\"shape\":[252],\"dtype\":\"float64\",\"order\":\"little\"}],[\"Volume\",{\"type\":\"ndarray\",\"array\":{\"type\":\"bytes\",\"data\":\"AAAAAAAAAAAAAAAAAAAAAAAAAAAAAAAAAAAAAAAAAAAAAAAAAAAAAAAAAAAAAAAAAAAAAAAAAAAAAAAAAAAAAAAAAAAAAAAAAAAAAAAAAAAAAAAAAAAAAAAAAAAAAAAAAAAAAAAAAAAAAAAAAAAAAAAAAAAAAAAAAAAAAAAAAAAAAAAAAAAAAAAAAAAAAAAAAAAAAAAAAAAAAAAAAAAAAAAAAAAAAAAAAAAAAAAAAAAAAAAAAAAAAAAAAAAAAAAAAAAAAAAAAAAAAAAAAAAAAAAAAAAAAAAAAAAAAAAAAAAAAAAAAAAAAAAAAAAAAAAAAAAAAAAAAAAAAAAAAAAAAAAAAAAAAAAAAAAAAAAAAAAAAAAAAAAAAAAAAAAAAAAAAAAAAAAAAAAAAAAAAAAAAAAAAAAAAAAAAAAAAAAAAAAAAAAAAAAAAAAAAAAAAAAAAAAAAAAAAAAAAAAAAAAAAAAAAAAAAAAAAAAAAAAAAAAAAAAAAAAAAAAAAAAAAAAAAAAAAAAAAAAAAAAAAAAAAAAAAAAAAAAAAAAAAAAAAAAAAAAAAAAAAAAAAAAAAAAAAAAAAAAAAAAAAAAAAAAAAAAAAAAAAAAAAAAAAAAAAAAAAAAAAAAAAAAAAAAAAAAAAAAAAAAAAAAAAAAAAAAAAAAAAAAAAAAAAAAAAAAAAAAAAAAAAAAAAAAAAAAAAAAAAAAAAAAAAAAAAAAAAAAAAAAAAAAAAAAAAAAAAAAAAAAAAAAAAAAAAAAAAAAAAAAAAAAAAAAAAAAAAAAAAAAAAAAAAAAAAAAAAAAAAAAAAAAAAAAAAAAAAAAAAAAAAAAAAAAAAAAAAAAAAAAAAAAAAAAAAAAAAAAAAAAAAAAAAAAAAAAAAAAAAAAAAAAAAAAAAAAAAAAAAAAAAAAAAAAAAAAAAAAAAAAAAAAAAAAAAAAAAAAAAAAAAAAAAAAAAAAAAAAAAAAAAAAAAAAAAAAAAAAAAAAAAAAAAAAAAAAAAAAAAAAAAAAAAAAAAAAAAAAAAAAAAAAAAAAAAAAAAAAAAAAAAAAAAAAAAAAAAAAAAAAAAAAAAAAAAAAAAAAAAAAAAAAAAAAAAAAAAAAAAAAAAAAAAAAAAAAAAAAAAAAAAAAAAAAAAAAAAAAAAAAAAAAAAAAAAAAAAAAAAAAAAAAAAAAAAAAAAAAAAAAAAAAAAAAAAAAAAAAAAAAAAAAAAAAAAAAAAAAAAAAAAAAAAAAAAAAAAAAAAAAAAAAAAAAAAAAAAAAAAAAAAAAAAAAAAAAAAAAAAAAAAAAAAAAAAAAAAAAAAAAAAAAAAAAAAAAAAAAAAAAAAAAAAAAAAAAAAAAAAAAAAAAAAAAAAAAAAAAAAAAAAAAAAAAAAAAAAAAAAAAAAAAAAAAAAAAAAAAAAAAAAAAAAAAAAAAAAAAAAAAAAAAAAAAAAAAAAAAAAAAAAAAAAAAAAAAAAAAAAAAAAAAAAAAAAAAAAAAAAAAAAAAAAAAAAAAAAAAAAAAAAAAAAAAAAAAAAAAAAAAAAAAAAAAAAAAAAAAAAAAAAAAAAAAAAAAAAAAAAAAAAAAAAAAAAAAAAAAAAAAAAAAAAAAAAAAAAAAAAAAAAAAAAAAAAAAAAAAAAAAAAAAAAAAAAAAAAAAAAAAAAAAAAAAAAAAAAAAAAAAAAAAAAAAAAAAAAAAAAAAAAAAAAAAAAAAAAAAAAAAAAAAAAAAAAAAAAAAAAAAAAAAAAAAAAAAAAAAAAAAAAAAAAAAAAAAAAAAAAAAAAAAAAAAAAAAAAAAAAAAAAAAAAAAAAAAAAAAAAAAAAAAAAAAAAAAAAAAAAAAAAAAAAAAAAAAAAAAAAAAAAAAAAAAAAAAAAAAAAAAAAAAAAAAAAAAAAAAAAAAAAAAAAAAAAAAAAAAAAAAAAAAAAAAAAAAAAAAAAAAAAAAAAAAAAAAAAAAAAAAAAAAAAAAAAAAAAAAAAAAAAAAAAAAAAAAAAAAAAAAAAAAAAAAAAAAAAAAAAAAAAAAAAAAAAAAAAAAAAAAAAAAAAAAAAAAAAAAAAAAAAAAAAAAAAAAAAAAAAAAAAAAAAAAAAAAAAAAAAAAAAAAAAAAAAAAAAAAAAAAAAAAAAAAAAAAAAAAAAAAAAAAAAAAAAAAAAAAAAAAAAAAAAAAAAAAAAAAAAAAAAAAAAAAAAAAAAAAAAAAAAAAAAAAAAAAAAAAAAAAAAAAAAAAAAAAAAAAAAAAAAAAAAAAAAAAAAAAAAAAAAAAAAAAAAAAAAAAAAAAAAAAAAAAAAAAAAAAAAAAAAAAAAAAAAAAAAAAAAAAAAAAAAAAAAAAAAAAAAAAAAAAAAAAAAAAAAAAAAAAAAAAAAAAAAAAAAAAAAAAAAAAAAAAAAAAAAAAAAAAAAAAAAAAAAAAAAAAAAAAAAAAAAAAAAAAAAAAAAAAAAAAAAAAAAAAAAAAAAAAAAAAAAAAAAAAAAAAAAAAAAAAAAAAAAAAAAAAAAAAAAAAAAAAAAAAAAAAAAAAAAAAAAAAAAAAAAAAAAAAAAAAAAAAAAAAAAAAAAAAAAAAAAAAAAAAAAAAAAAAAAAAAAAAAAAAAAAAAAAAAAAAAAAAAAAAAAAAAAAAAAAAAAAAAAAAAAAAAAAAAAAAAAAAAAAAAAAAAAAAAAAAAAAAAAAAAAAAAAAAAAAAAAAAAAAAAAAAAAAAA\"},\"shape\":[252],\"dtype\":\"float64\",\"order\":\"little\"}],[\"datetime\",{\"type\":\"ndarray\",\"array\":{\"type\":\"bytes\",\"data\":\"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\"},\"shape\":[252],\"dtype\":\"float64\",\"order\":\"little\"}],[\"inc\",{\"type\":\"ndarray\",\"array\":[\"0\",\"0\",\"0\",\"0\",\"1\",\"0\",\"0\",\"1\",\"0\",\"0\",\"1\",\"1\",\"0\",\"1\",\"0\",\"1\",\"1\",\"1\",\"0\",\"1\",\"0\",\"0\",\"1\",\"0\",\"1\",\"1\",\"1\",\"0\",\"0\",\"0\",\"1\",\"1\",\"1\",\"0\",\"1\",\"1\",\"0\",\"0\",\"0\",\"1\",\"0\",\"1\",\"1\",\"1\",\"0\",\"1\",\"0\",\"0\",\"0\",\"1\",\"1\",\"1\",\"0\",\"0\",\"1\",\"0\",\"1\",\"0\",\"1\",\"1\",\"0\",\"1\",\"1\",\"0\",\"1\",\"1\",\"1\",\"0\",\"0\",\"1\",\"1\",\"0\",\"0\",\"0\",\"1\",\"0\",\"1\",\"1\",\"1\",\"0\",\"0\",\"0\",\"1\",\"1\",\"1\",\"1\",\"1\",\"1\",\"1\",\"0\",\"0\",\"1\",\"0\",\"1\",\"1\",\"0\",\"1\",\"1\",\"1\",\"0\",\"1\",\"1\",\"0\",\"0\",\"1\",\"0\",\"1\",\"1\",\"1\",\"0\",\"1\",\"0\",\"1\",\"1\",\"0\",\"0\",\"1\",\"0\",\"1\",\"1\",\"0\",\"1\",\"1\",\"0\",\"0\",\"1\",\"0\",\"0\",\"1\",\"0\",\"0\",\"0\",\"0\",\"0\",\"1\",\"1\",\"0\",\"0\",\"0\",\"0\",\"0\",\"1\",\"0\",\"0\",\"0\",\"0\",\"1\",\"0\",\"0\",\"0\",\"0\",\"0\",\"1\",\"1\",\"0\",\"0\",\"1\",\"0\",\"1\",\"1\",\"1\",\"0\",\"1\",\"0\",\"0\",\"1\",\"1\",\"1\",\"1\",\"0\",\"1\",\"1\",\"1\",\"1\",\"0\",\"0\",\"0\",\"1\",\"0\",\"1\",\"0\",\"1\",\"1\",\"1\",\"0\",\"0\",\"1\",\"0\",\"0\",\"1\",\"1\",\"0\",\"0\",\"0\",\"0\",\"0\",\"1\",\"0\",\"0\",\"1\",\"0\",\"1\",\"1\",\"0\",\"1\",\"1\",\"0\",\"1\",\"0\",\"0\",\"0\",\"0\",\"1\",\"1\",\"1\",\"0\",\"1\",\"1\",\"1\",\"0\",\"1\",\"1\",\"0\",\"1\",\"0\",\"0\",\"1\",\"0\",\"0\",\"0\",\"1\",\"0\",\"1\",\"1\",\"1\",\"1\",\"0\",\"0\",\"0\",\"1\",\"0\",\"0\",\"1\",\"0\",\"1\",\"0\",\"1\",\"1\",\"0\",\"0\",\"1\",\"1\"],\"shape\":[252],\"dtype\":\"object\",\"order\":\"little\"}],[\"equity\",{\"type\":\"ndarray\",\"array\":{\"type\":\"bytes\",\"data\":\"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\"},\"shape\":[252],\"dtype\":\"float64\",\"order\":\"little\"}],[\"MACD(C,5,20,10)_0_1\",{\"type\":\"ndarray\",\"array\":{\"type\":\"bytes\",\"data\":\"AAAAAAAAAACA8zzPM26Wv8DLKXjBnqu/4FwF9ojOsr+AD8s5J3iwv2Do/uq3yrC/gEtjzLFatL8gUIT4ZHe2v4ChOsqq6ri/oFMMMq0KvL+gSoJK1pK7vyBbiH92arq/AJPALVsiu7/gZl5UZSW4v6B1ccY+z7O/4DUw1Owitb+AwOIenwW1v0CcHtWvCrS/AKa7mallub9g2zD7GUy6v6A5BG9wJr6/oO4Zobx0v79AD91kR+63vyCQgAiKmLG/AEkDH9dopr8AwlzWwU5xv4DbtLHMuJQ/AARQPYKupz9APgq9ehyuPwCFFkWE8bA/gA9RZIbltD/gu23RHZ62P0A2JvCuw70/wNN3lV+Cvj9wsNbhZB/AP6Bjt6/MOcA/ABerzpp8uj8AKtLyssGyPwDuuTqstKc/gMUubNhBoz8A+APEHrudP4D0qdJBG6Y/AJM2ooQvrT8AARCJV6GwP4BXcmX7JbE/YPalxuNpuD+gmzGJLZW5P+CY2aR8mbQ/gAyx5r59rT/AyBN/LeKkPwC+0I3ZGaE/AJgSzyEqmD8AoGQHGsRjPwDhcjss9J2/wDbIIVUJqL+A3IONlYCwv2AlpzHYYLK/gK2a9CCMtb+ABgCHOqS0v4BbPQOlz6q/QCrSx0Ehqr+AC9jqsFqlv4C3k/w3QqO/gJsYdXHLqb8AstXq4fGmv8Bg24dbf6S/gCDMVkyAmr+ATAMF2LGZvwB146ql1Jq/ADgcWLXBgL8AgIARMIUXPwBy6TZx13I/ADAkmIMsTr8AALIpdQdhvwAQBsfENWa/AEoX1KcGj78A0GPUQXJ6vwD4Gt675Wg/AK4pzEz4mD8An5ibS12gP4Do3m03+58/ACumHcpLnT9AuxjyXFKkP8Crr392/68/ALIKytKusz+ABOjRY8q5P6DYkjVBN78/ELnB6FDgwT/gd1lNch3FP8DOGyo1DcQ/sIJnTNN/wj+wD12LpibFP8BH8i6Tj8U/gPHaPomtxj+Q6sVaGmvGP+BYDH3FQME/QAJbNPGDwD+wAqS5DyDAPwAS73GWq78/wL9sKFO+uT8AyaAvxNa1P4BWDJhfyrI/AFKFa2FApT8AUspQTU+RPwA86q+CAnA/AAv9xgLVir8ASH5xTMFdP4CvpubLFJw/QFnhJZ/8rz+A5JWhz3KwP0BQVmjm5LQ/oMtRd1V8tj/AkdKMuZi5P+Ac/T8WMr4/YM0SbQusuT+gQZ14SMO1P4C25wVZKrI/wD+IH8lTqj9AFt9GGMalP0BqjqlZv6o/wK11EFKJoj/ARnNq7dGoPyD5b/+exrA/AOh7G6Mrrz9AusFksfatP4DYcuss37M/wGCGuyX5qT+AfkCxynOhPwBkmnAb2qY/AKKGJYsEqT9A71WJpYepP4Di+WlBjpQ/AL3uZ4hMiL8AIygg1Uejv4A9vIaqt5m/AD9SsoVUgz8Aa8J1YzaePwAqABlJwKI/AD+LBywOmz8AshLHioaOPwBAHMAffiG/ABz/V4uBbr8AoM4LbX+IvwDoAZqWbpu/AJhyhU4Nqb9A/ajT5Aiwv6BHeet4KrO/YMMfI1VZs7/A+3Z8QVKxv4DE5I3rnrG/4Bo4qELjsr8Af+K6PhO3v+AcxKObSLe/4OC/mMFBs79A7uO1NWmyv4BYbHCrIba/wA+zMgUas7+g99OJGqS2vwCUwKksNLe/QJjjCI19tL8gKJwptS2zvwDT2XBsN7S/oEOC6fZrsL+AC/iwHEuwv2BvxeogqbO/4Njt9YR+tb+gEVjUeK+3v8CjZ+Bs7q+/ABXn/VcxmL8AokaLkD57vwCySG1CYnY/AMgLhwhEkj8AhQVWYJKZP4ABj0czm6I/gFyyYjJ0oz8ALYzL442YPwDCrNbwO44/gEz6chtznD8AzHkWaAGdP0CPqtoXsqM/ALjCC4u3oD8AUBwZIMGdP8AMMfByUKs/gFFlFpHNsj8A9jL3UcaxPwDwJf5cYaQ/wKlfsnOBpz8ANRMCQC2YPwCTljMdqYc/AMT/au8Adr8AgKxkkjlavwChOrhWM5W/QBH79ub9ob+AYNof1tSiv8DmivpAJ6a/ANspIZCfqr9AFnT6drKjv0AEE5YX8aG/AEiTbA91nb8AzFO24AiEvwBUG+wx2WS/AACIiLL7Pj8ARHMCayZsvwD0GYdj9pO/gBRfJCj1lL8AlbrrOhaXvwATehsTw5K/AOYswV0yeL8AhTDaAbyFv4Dsw+s5HJC/AABrJOP3g78AvvimxBWKvwC7hozIX5K/gK5HnsEUkr8AsI4KMCd+PwAKJEFr5o0/AEtmpSTMmD+Au/2uuFakPwCKGuEEoac/APqkVfwtqz/AWagPktyyP8AEZeaTerY/IAIthTE3tz8go39S8uW3P8DuzRBEdLY/YLd8XkXMsj/APuZtYtmwP8DfaefgOqs/QCgz74q7pT8A95rYVTCaPwDNtWwHmJI/AN5bUDJ7hT8AkAgnCK11PwDgBmrUokS/ALAR2bsgcb8ANFbbAoJzvwDKfMU4DX+/ALXP/73Pmr9AB6kd4BCkvwBaO++vune/AGBANpvTTr8AruQaBaSIvwBbgNot24m/AFy+7v7IkL8Atr+3D1uNv8B59jFbLKK/AExrWcgGnL8A/hqI0h6NvwDYXv1+TGy/AO6RmR85ir+ApvS+Ls+Yv4BkkfEwLZu/\"},\"shape\":[252],\"dtype\":\"float64\",\"order\":\"little\"}],[\"MACD(C,5,20,10)_0_2\",{\"type\":\"ndarray\",\"array\":{\"type\":\"bytes\",\"data\":\"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\"},\"shape\":[252],\"dtype\":\"float64\",\"order\":\"little\"}],[\"MACD(C,5,20,10)_0_3\",{\"type\":\"ndarray\",\"array\":{\"type\":\"bytes\",\"data\":\"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\"},\"shape\":[252],\"dtype\":\"float64\",\"order\":\"little\"}],[\"ohlc_low\",{\"type\":\"ndarray\",\"array\":{\"type\":\"bytes\",\"data\":\"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\"},\"shape\":[252],\"dtype\":\"float64\",\"order\":\"little\"}],[\"ohlc_high\",{\"type\":\"ndarray\",\"array\":{\"type\":\"bytes\",\"data\":\"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\"},\"shape\":[252],\"dtype\":\"float64\",\"order\":\"little\"}]]}}},\"view\":{\"type\":\"object\",\"name\":\"CDSView\",\"id\":\"p4544\",\"attributes\":{\"filter\":{\"type\":\"object\",\"name\":\"AllIndices\",\"id\":\"p4545\"}}},\"glyph\":{\"type\":\"object\",\"name\":\"Line\",\"id\":\"p4540\",\"attributes\":{\"x\":{\"type\":\"field\",\"field\":\"index\"},\"y\":{\"type\":\"field\",\"field\":\"equity\"},\"line_color\":\"#1f77b4\",\"line_width\":1.5}},\"nonselection_glyph\":{\"type\":\"object\",\"name\":\"Line\",\"id\":\"p4541\",\"attributes\":{\"x\":{\"type\":\"field\",\"field\":\"index\"},\"y\":{\"type\":\"field\",\"field\":\"equity\"},\"line_color\":\"#1f77b4\",\"line_alpha\":0.1,\"line_width\":1.5}},\"muted_glyph\":{\"type\":\"object\",\"name\":\"Line\",\"id\":\"p4542\",\"attributes\":{\"x\":{\"type\":\"field\",\"field\":\"index\"},\"y\":{\"type\":\"field\",\"field\":\"equity\"},\"line_color\":\"#1f77b4\",\"line_alpha\":0.2,\"line_width\":1.5}}}}],\"tooltips\":[[\"Date\",\"@datetime{%c}\"],[\"Equity\",\"@equity{+0,0.[000]%}\"]],\"formatters\":{\"type\":\"map\",\"entries\":[[\"@datetime\",\"datetime\"]]},\"mode\":\"vline\",\"point_policy\":\"follow_mouse\"}},{\"type\":\"object\",\"name\":\"HoverTool\",\"id\":\"p4641\",\"attributes\":{\"renderers\":[{\"type\":\"object\",\"name\":\"GlyphRenderer\",\"id\":\"p4629\",\"attributes\":{\"data_source\":{\"type\":\"object\",\"name\":\"ColumnDataSource\",\"id\":\"p4484\",\"attributes\":{\"selected\":{\"type\":\"object\",\"name\":\"Selection\",\"id\":\"p4485\",\"attributes\":{\"indices\":[],\"line_indices\":[]}},\"selection_policy\":{\"type\":\"object\",\"name\":\"UnionRenderers\",\"id\":\"p4486\"},\"data\":{\"type\":\"map\",\"entries\":[[\"index\",{\"type\":\"ndarray\",\"array\":{\"type\":\"bytes\",\"data\":\"+wAAAA==\"},\"shape\":[1],\"dtype\":\"int32\",\"order\":\"little\"}],[\"datetime\",{\"type\":\"ndarray\",\"array\":{\"type\":\"bytes\",\"data\":\"AACAXh0cdUI=\"},\"shape\":[1],\"dtype\":\"float64\",\"order\":\"little\"}],[\"exit_price\",{\"type\":\"ndarray\",\"array\":{\"type\":\"bytes\",\"data\":\"////H1pkB0A=\"},\"shape\":[1],\"dtype\":\"float64\",\"order\":\"little\"}],[\"size\",{\"type\":\"ndarray\",\"array\":{\"type\":\"bytes\",\"data\":\"TBAAAA==\"},\"shape\":[1],\"dtype\":\"int32\",\"order\":\"little\"}],[\"returns_positive\",{\"type\":\"ndarray\",\"array\":[\"1\"],\"shape\":[1],\"dtype\":\"object\",\"order\":\"little\"}],[\"returns_long\",{\"type\":\"ndarray\",\"array\":{\"type\":\"bytes\",\"data\":\"iGKtV+onzD8=\"},\"shape\":[1],\"dtype\":\"float64\",\"order\":\"little\"}],[\"returns_short\",{\"type\":\"ndarray\",\"array\":{\"type\":\"bytes\",\"data\":\"AAAAAAAA+H8=\"},\"shape\":[1],\"dtype\":\"float64\",\"order\":\"little\"}],[\"marker_size\",{\"type\":\"ndarray\",\"array\":{\"type\":\"bytes\",\"data\":\"AAAAAAAANEA=\"},\"shape\":[1],\"dtype\":\"float64\",\"order\":\"little\"}],[\"position_lines_xs\",[[15,251]]],[\"position_lines_ys\",[[2.3967839598655707,2.924000024795532]]]]}}},\"view\":{\"type\":\"object\",\"name\":\"CDSView\",\"id\":\"p4630\",\"attributes\":{\"filter\":{\"type\":\"object\",\"name\":\"AllIndices\",\"id\":\"p4631\"}}},\"glyph\":{\"type\":\"object\",\"name\":\"Scatter\",\"id\":\"p4626\",\"attributes\":{\"x\":{\"type\":\"field\",\"field\":\"index\"},\"y\":{\"type\":\"field\",\"field\":\"returns_long\"},\"size\":{\"type\":\"field\",\"field\":\"marker_size\"},\"fill_color\":{\"type\":\"field\",\"field\":\"returns_positive\",\"transform\":{\"type\":\"object\",\"name\":\"CategoricalColorMapper\",\"id\":\"p4488\",\"attributes\":{\"palette\":[\"tomato\",\"lime\"],\"factors\":[\"0\",\"1\"]}}},\"marker\":{\"type\":\"value\",\"value\":\"triangle\"}}},\"nonselection_glyph\":{\"type\":\"object\",\"name\":\"Scatter\",\"id\":\"p4627\",\"attributes\":{\"x\":{\"type\":\"field\",\"field\":\"index\"},\"y\":{\"type\":\"field\",\"field\":\"returns_long\"},\"size\":{\"type\":\"field\",\"field\":\"marker_size\"},\"line_alpha\":{\"type\":\"value\",\"value\":0.1},\"fill_color\":{\"type\":\"field\",\"field\":\"returns_positive\",\"transform\":{\"id\":\"p4488\"}},\"fill_alpha\":{\"type\":\"value\",\"value\":0.1},\"hatch_alpha\":{\"type\":\"value\",\"value\":0.1},\"marker\":{\"type\":\"value\",\"value\":\"triangle\"}}},\"muted_glyph\":{\"type\":\"object\",\"name\":\"Scatter\",\"id\":\"p4628\",\"attributes\":{\"x\":{\"type\":\"field\",\"field\":\"index\"},\"y\":{\"type\":\"field\",\"field\":\"returns_long\"},\"size\":{\"type\":\"field\",\"field\":\"marker_size\"},\"line_alpha\":{\"type\":\"value\",\"value\":0.2},\"fill_color\":{\"type\":\"field\",\"field\":\"returns_positive\",\"transform\":{\"id\":\"p4488\"}},\"fill_alpha\":{\"type\":\"value\",\"value\":0.2},\"hatch_alpha\":{\"type\":\"value\",\"value\":0.2},\"marker\":{\"type\":\"value\",\"value\":\"triangle\"}}}}}],\"tooltips\":[[\"Date\",\"@datetime{%c}\"],[\"Size\",\"@size{0,0}\"],[\"P/L\",\"@returns_long{+0.[000]%}\"]],\"formatters\":{\"type\":\"map\",\"entries\":[[\"@datetime\",\"datetime\"]]},\"point_policy\":\"follow_mouse\"}},{\"type\":\"object\",\"name\":\"HoverTool\",\"id\":\"p4642\",\"attributes\":{\"renderers\":[{\"type\":\"object\",\"name\":\"GlyphRenderer\",\"id\":\"p4638\",\"attributes\":{\"data_source\":{\"id\":\"p4484\"},\"view\":{\"type\":\"object\",\"name\":\"CDSView\",\"id\":\"p4639\",\"attributes\":{\"filter\":{\"type\":\"object\",\"name\":\"AllIndices\",\"id\":\"p4640\"}}},\"glyph\":{\"type\":\"object\",\"name\":\"Scatter\",\"id\":\"p4635\",\"attributes\":{\"x\":{\"type\":\"field\",\"field\":\"index\"},\"y\":{\"type\":\"field\",\"field\":\"returns_short\"},\"size\":{\"type\":\"field\",\"field\":\"marker_size\"},\"fill_color\":{\"type\":\"field\",\"field\":\"returns_positive\",\"transform\":{\"id\":\"p4488\"}},\"marker\":{\"type\":\"value\",\"value\":\"inverted_triangle\"}}},\"nonselection_glyph\":{\"type\":\"object\",\"name\":\"Scatter\",\"id\":\"p4636\",\"attributes\":{\"x\":{\"type\":\"field\",\"field\":\"index\"},\"y\":{\"type\":\"field\",\"field\":\"returns_short\"},\"size\":{\"type\":\"field\",\"field\":\"marker_size\"},\"line_alpha\":{\"type\":\"value\",\"value\":0.1},\"fill_color\":{\"type\":\"field\",\"field\":\"returns_positive\",\"transform\":{\"id\":\"p4488\"}},\"fill_alpha\":{\"type\":\"value\",\"value\":0.1},\"hatch_alpha\":{\"type\":\"value\",\"value\":0.1},\"marker\":{\"type\":\"value\",\"value\":\"inverted_triangle\"}}},\"muted_glyph\":{\"type\":\"object\",\"name\":\"Scatter\",\"id\":\"p4637\",\"attributes\":{\"x\":{\"type\":\"field\",\"field\":\"index\"},\"y\":{\"type\":\"field\",\"field\":\"returns_short\"},\"size\":{\"type\":\"field\",\"field\":\"marker_size\"},\"line_alpha\":{\"type\":\"value\",\"value\":0.2},\"fill_color\":{\"type\":\"field\",\"field\":\"returns_positive\",\"transform\":{\"id\":\"p4488\"}},\"fill_alpha\":{\"type\":\"value\",\"value\":0.2},\"hatch_alpha\":{\"type\":\"value\",\"value\":0.2},\"marker\":{\"type\":\"value\",\"value\":\"inverted_triangle\"}}}}}],\"tooltips\":[[\"Date\",\"@datetime{%c}\"],[\"Size\",\"@size{0,0}\"],[\"P/L\",\"@returns_short{+0.[000]%}\"]],\"formatters\":{\"type\":\"map\",\"entries\":[[\"@datetime\",\"datetime\"]]},\"point_policy\":\"follow_mouse\"}},{\"type\":\"object\",\"name\":\"HoverTool\",\"id\":\"p4807\",\"attributes\":{\"renderers\":[{\"type\":\"object\",\"name\":\"GlyphRenderer\",\"id\":\"p4725\",\"attributes\":{\"data_source\":{\"id\":\"p4481\"},\"view\":{\"type\":\"object\",\"name\":\"CDSView\",\"id\":\"p4726\",\"attributes\":{\"filter\":{\"type\":\"object\",\"name\":\"AllIndices\",\"id\":\"p4727\"}}},\"glyph\":{\"type\":\"object\",\"name\":\"VBar\",\"id\":\"p4722\",\"attributes\":{\"x\":{\"type\":\"field\",\"field\":\"index\"},\"width\":{\"type\":\"value\",\"value\":0.8},\"bottom\":{\"type\":\"field\",\"field\":\"Close\"},\"top\":{\"type\":\"field\",\"field\":\"Open\"},\"fill_color\":{\"type\":\"field\",\"field\":\"inc\",\"transform\":{\"type\":\"object\",\"name\":\"CategoricalColorMapper\",\"id\":\"p4487\",\"attributes\":{\"palette\":[\"tomato\",\"lime\"],\"factors\":[\"0\",\"1\"]}}}}},\"nonselection_glyph\":{\"type\":\"object\",\"name\":\"VBar\",\"id\":\"p4723\",\"attributes\":{\"x\":{\"type\":\"field\",\"field\":\"index\"},\"width\":{\"type\":\"value\",\"value\":0.8},\"bottom\":{\"type\":\"field\",\"field\":\"Close\"},\"top\":{\"type\":\"field\",\"field\":\"Open\"},\"line_alpha\":{\"type\":\"value\",\"value\":0.1},\"fill_color\":{\"type\":\"field\",\"field\":\"inc\",\"transform\":{\"id\":\"p4487\"}},\"fill_alpha\":{\"type\":\"value\",\"value\":0.1},\"hatch_alpha\":{\"type\":\"value\",\"value\":0.1}}},\"muted_glyph\":{\"type\":\"object\",\"name\":\"VBar\",\"id\":\"p4724\",\"attributes\":{\"x\":{\"type\":\"field\",\"field\":\"index\"},\"width\":{\"type\":\"value\",\"value\":0.8},\"bottom\":{\"type\":\"field\",\"field\":\"Close\"},\"top\":{\"type\":\"field\",\"field\":\"Open\"},\"line_alpha\":{\"type\":\"value\",\"value\":0.2},\"fill_color\":{\"type\":\"field\",\"field\":\"inc\",\"transform\":{\"id\":\"p4487\"}},\"fill_alpha\":{\"type\":\"value\",\"value\":0.2},\"hatch_alpha\":{\"type\":\"value\",\"value\":0.2}}}}}],\"tooltips\":[[\"Date\",\"@datetime{%c}\"],[\"x, y\",\"$index\\u00a0\\u00a0\\u00a0\\u00a0$y{0,0.0[0000]}\"],[\"OHLC\",\"@Open{0,0.0[0000]}\\u00a0\\u00a0\\u00a0\\u00a0@High{0,0.0[0000]}\\u00a0\\u00a0\\u00a0\\u00a0@Low{0,0.0[0000]}\\u00a0\\u00a0\\u00a0\\u00a0@Close{0,0.0[0000]}\"],[\"Volume\",\"@Volume{0,0}\"]],\"formatters\":{\"type\":\"map\",\"entries\":[[\"@datetime\",\"datetime\"]]},\"mode\":\"vline\",\"point_policy\":\"follow_mouse\"}},{\"type\":\"object\",\"name\":\"HoverTool\",\"id\":\"p4686\",\"attributes\":{\"renderers\":[{\"type\":\"object\",\"name\":\"GlyphRenderer\",\"id\":\"p4683\",\"attributes\":{\"data_source\":{\"id\":\"p4481\"},\"view\":{\"type\":\"object\",\"name\":\"CDSView\",\"id\":\"p4684\",\"attributes\":{\"filter\":{\"type\":\"object\",\"name\":\"AllIndices\",\"id\":\"p4685\"}}},\"glyph\":{\"type\":\"object\",\"name\":\"VBar\",\"id\":\"p4680\",\"attributes\":{\"x\":{\"type\":\"field\",\"field\":\"index\"},\"width\":{\"type\":\"value\",\"value\":0.8},\"top\":{\"type\":\"field\",\"field\":\"Volume\"},\"line_color\":{\"type\":\"field\",\"field\":\"inc\",\"transform\":{\"id\":\"p4487\"}},\"fill_color\":{\"type\":\"field\",\"field\":\"inc\",\"transform\":{\"id\":\"p4487\"}},\"hatch_color\":{\"type\":\"field\",\"field\":\"inc\",\"transform\":{\"id\":\"p4487\"}}}},\"nonselection_glyph\":{\"type\":\"object\",\"name\":\"VBar\",\"id\":\"p4681\",\"attributes\":{\"x\":{\"type\":\"field\",\"field\":\"index\"},\"width\":{\"type\":\"value\",\"value\":0.8},\"top\":{\"type\":\"field\",\"field\":\"Volume\"},\"line_color\":{\"type\":\"field\",\"field\":\"inc\",\"transform\":{\"id\":\"p4487\"}},\"line_alpha\":{\"type\":\"value\",\"value\":0.1},\"fill_color\":{\"type\":\"field\",\"field\":\"inc\",\"transform\":{\"id\":\"p4487\"}},\"fill_alpha\":{\"type\":\"value\",\"value\":0.1},\"hatch_color\":{\"type\":\"field\",\"field\":\"inc\",\"transform\":{\"id\":\"p4487\"}},\"hatch_alpha\":{\"type\":\"value\",\"value\":0.1}}},\"muted_glyph\":{\"type\":\"object\",\"name\":\"VBar\",\"id\":\"p4682\",\"attributes\":{\"x\":{\"type\":\"field\",\"field\":\"index\"},\"width\":{\"type\":\"value\",\"value\":0.8},\"top\":{\"type\":\"field\",\"field\":\"Volume\"},\"line_color\":{\"type\":\"field\",\"field\":\"inc\",\"transform\":{\"id\":\"p4487\"}},\"line_alpha\":{\"type\":\"value\",\"value\":0.2},\"fill_color\":{\"type\":\"field\",\"field\":\"inc\",\"transform\":{\"id\":\"p4487\"}},\"fill_alpha\":{\"type\":\"value\",\"value\":0.2},\"hatch_color\":{\"type\":\"field\",\"field\":\"inc\",\"transform\":{\"id\":\"p4487\"}},\"hatch_alpha\":{\"type\":\"value\",\"value\":0.2}}}}}],\"tooltips\":[[\"Date\",\"@datetime{%c}\"],[\"Volume\",\"@Volume{0.00 a}\"]],\"formatters\":{\"type\":\"map\",\"entries\":[[\"@datetime\",\"datetime\"]]},\"mode\":\"vline\",\"point_policy\":\"follow_mouse\"}},{\"type\":\"object\",\"name\":\"HoverTool\",\"id\":\"p4806\",\"attributes\":{\"renderers\":[{\"type\":\"object\",\"name\":\"GlyphRenderer\",\"id\":\"p4801\",\"attributes\":{\"data_source\":{\"id\":\"p4481\"},\"view\":{\"type\":\"object\",\"name\":\"CDSView\",\"id\":\"p4802\",\"attributes\":{\"filter\":{\"type\":\"object\",\"name\":\"AllIndices\",\"id\":\"p4803\"}}},\"glyph\":{\"type\":\"object\",\"name\":\"Line\",\"id\":\"p4798\",\"attributes\":{\"x\":{\"type\":\"field\",\"field\":\"index\"},\"y\":{\"type\":\"field\",\"field\":\"MACD(C,5,20,10)_0_3\"},\"line_color\":\"#2ca02c\",\"line_width\":1.3}},\"nonselection_glyph\":{\"type\":\"object\",\"name\":\"Line\",\"id\":\"p4799\",\"attributes\":{\"x\":{\"type\":\"field\",\"field\":\"index\"},\"y\":{\"type\":\"field\",\"field\":\"MACD(C,5,20,10)_0_3\"},\"line_color\":\"#2ca02c\",\"line_alpha\":0.1,\"line_width\":1.3}},\"muted_glyph\":{\"type\":\"object\",\"name\":\"Line\",\"id\":\"p4800\",\"attributes\":{\"x\":{\"type\":\"field\",\"field\":\"index\"},\"y\":{\"type\":\"field\",\"field\":\"MACD(C,5,20,10)_0_3\"},\"line_color\":\"#2ca02c\",\"line_alpha\":0.2,\"line_width\":1.3}}}}],\"tooltips\":[[\"Date\",\"@datetime{%c}\"],[\"MACD(C,5,20,10)\",\"@{MACD(C,5,20,10)_0_1}{0,0.0[0000]}\\u00a0\\u00a0\\u00a0\\u00a0@{MACD(C,5,20,10)_0_2}{0,0.0[0000]}\\u00a0\\u00a0\\u00a0\\u00a0@{MACD(C,5,20,10)_0_3}{0,0.0[0000]}\"]],\"formatters\":{\"type\":\"map\",\"entries\":[[\"@datetime\",\"datetime\"]]},\"mode\":\"vline\",\"point_policy\":\"follow_mouse\"}},{\"type\":\"object\",\"name\":\"ToolProxy\",\"id\":\"p4817\",\"attributes\":{\"tools\":[{\"type\":\"object\",\"name\":\"CrosshairTool\",\"id\":\"p4809\"},{\"id\":\"p4809\"},{\"id\":\"p4809\"},{\"id\":\"p4809\"},{\"id\":\"p4809\"}]}}],\"active_drag\":{\"id\":\"p4760\"},\"active_scroll\":{\"id\":\"p4761\"}}},\"toolbar_location\":\"right\",\"children\":[[{\"type\":\"object\",\"name\":\"Figure\",\"id\":\"p4492\",\"attributes\":{\"width\":null,\"height\":110,\"sizing_mode\":\"stretch_width\",\"x_range\":{\"type\":\"object\",\"name\":\"Range1d\",\"id\":\"p4447\",\"attributes\":{\"js_property_callbacks\":{\"type\":\"map\",\"entries\":[[\"change:end\",[{\"type\":\"object\",\"name\":\"CustomJS\",\"id\":\"p4808\",\"attributes\":{\"args\":{\"type\":\"map\",\"entries\":[[\"ohlc_range\",{\"type\":\"object\",\"name\":\"DataRange1d\",\"id\":\"p4450\"}],[\"source\",{\"id\":\"p4481\"}],[\"volume_range\",{\"type\":\"object\",\"name\":\"DataRange1d\",\"id\":\"p4646\"}]]},\"code\":\"if (!window._bt_scale_range) {\\n    window._bt_scale_range = function (range, min, max, pad) {\\n        \\\"use strict\\\";\\n        if (min !== Infinity && max !== -Infinity) {\\n            pad = pad ? (max - min) * .03 : 0;\\n            range.start = min - pad;\\n            range.end = max + pad;\\n        } else console.error('backtesting: scale range error:', min, max, range);\\n    };\\n}\\n\\nclearTimeout(window._bt_autoscale_timeout);\\n\\nwindow._bt_autoscale_timeout = setTimeout(function () {\\n    /**\\n     * @variable cb_obj `fig_ohlc.x_range`.\\n     * @variable source `ColumnDataSource`\\n     * @variable ohlc_range `fig_ohlc.y_range`.\\n     * @variable volume_range `fig_volume.y_range`.\\n     */\\n    \\\"use strict\\\";\\n\\n    let i = Math.max(Math.floor(cb_obj.start), 0),\\n        j = Math.min(Math.ceil(cb_obj.end), source.data['ohlc_high'].length);\\n\\n    let max = Math.max.apply(null, source.data['ohlc_high'].slice(i, j)),\\n        min = Math.min.apply(null, source.data['ohlc_low'].slice(i, j));\\n    _bt_scale_range(ohlc_range, min, max, true);\\n\\n    if (volume_range) {\\n        max = Math.max.apply(null, source.data['Volume'].slice(i, j));\\n        _bt_scale_range(volume_range, 0, max * 1.03, false);\\n    }\\n\\n}, 50);\\n\"}}]]]},\"end\":251,\"bounds\":[-12.55,263.55],\"min_interval\":10}},\"y_range\":{\"type\":\"object\",\"name\":\"DataRange1d\",\"id\":\"p4494\"},\"x_scale\":{\"type\":\"object\",\"name\":\"LinearScale\",\"id\":\"p4501\"},\"y_scale\":{\"type\":\"object\",\"name\":\"LinearScale\",\"id\":\"p4502\"},\"title\":{\"type\":\"object\",\"name\":\"Title\",\"id\":\"p4499\"},\"outline_line_color\":\"#666666\",\"renderers\":[{\"type\":\"object\",\"name\":\"GlyphRenderer\",\"id\":\"p4534\",\"attributes\":{\"data_source\":{\"type\":\"object\",\"name\":\"ColumnDataSource\",\"id\":\"p4525\",\"attributes\":{\"selected\":{\"type\":\"object\",\"name\":\"Selection\",\"id\":\"p4526\",\"attributes\":{\"indices\":[],\"line_indices\":[]}},\"selection_policy\":{\"type\":\"object\",\"name\":\"UnionRenderers\",\"id\":\"p4527\"},\"data\":{\"type\":\"map\",\"entries\":[[\"index\",{\"type\":\"ndarray\",\"array\":{\"type\":\"bytes\",\"data\":\"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\"},\"shape\":[504],\"dtype\":\"int32\",\"order\":\"little\"}],[\"equity_dd\",{\"type\":\"ndarray\",\"array\":{\"type\":\"bytes\",\"data\":\"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\"},\"shape\":[504],\"dtype\":\"float64\",\"order\":\"little\"}]]}}},\"view\":{\"type\":\"object\",\"name\":\"CDSView\",\"id\":\"p4535\",\"attributes\":{\"filter\":{\"type\":\"object\",\"name\":\"AllIndices\",\"id\":\"p4536\"}}},\"glyph\":{\"type\":\"object\",\"name\":\"Patch\",\"id\":\"p4531\",\"attributes\":{\"x\":{\"type\":\"field\",\"field\":\"index\"},\"y\":{\"type\":\"field\",\"field\":\"equity_dd\"},\"line_color\":\"#ffcb66\",\"fill_color\":\"#ffffea\"}},\"nonselection_glyph\":{\"type\":\"object\",\"name\":\"Patch\",\"id\":\"p4532\",\"attributes\":{\"x\":{\"type\":\"field\",\"field\":\"index\"},\"y\":{\"type\":\"field\",\"field\":\"equity_dd\"},\"line_color\":\"#ffcb66\",\"line_alpha\":0.1,\"fill_color\":\"#ffffea\",\"fill_alpha\":0.1,\"hatch_alpha\":0.1}},\"muted_glyph\":{\"type\":\"object\",\"name\":\"Patch\",\"id\":\"p4533\",\"attributes\":{\"x\":{\"type\":\"field\",\"field\":\"index\"},\"y\":{\"type\":\"field\",\"field\":\"equity_dd\"},\"line_color\":\"#ffcb66\",\"line_alpha\":0.2,\"fill_color\":\"#ffffea\",\"fill_alpha\":0.2,\"hatch_alpha\":0.2}}}},{\"id\":\"p4543\"},{\"type\":\"object\",\"name\":\"GlyphRenderer\",\"id\":\"p4554\",\"attributes\":{\"data_source\":{\"type\":\"object\",\"name\":\"ColumnDataSource\",\"id\":\"p4548\",\"attributes\":{\"selected\":{\"type\":\"object\",\"name\":\"Selection\",\"id\":\"p4549\",\"attributes\":{\"indices\":[],\"line_indices\":[]}},\"selection_policy\":{\"type\":\"object\",\"name\":\"UnionRenderers\",\"id\":\"p4550\"},\"data\":{\"type\":\"map\"}}},\"view\":{\"type\":\"object\",\"name\":\"CDSView\",\"id\":\"p4555\",\"attributes\":{\"filter\":{\"type\":\"object\",\"name\":\"AllIndices\",\"id\":\"p4556\"}}},\"glyph\":{\"type\":\"object\",\"name\":\"Scatter\",\"id\":\"p4551\",\"attributes\":{\"x\":{\"type\":\"value\",\"value\":125},\"y\":{\"type\":\"value\",\"value\":1.3559617319440838},\"size\":{\"type\":\"value\",\"value\":8},\"line_color\":{\"type\":\"value\",\"value\":\"cyan\"},\"fill_color\":{\"type\":\"value\",\"value\":\"cyan\"},\"hatch_color\":{\"type\":\"value\",\"value\":\"cyan\"}}},\"nonselection_glyph\":{\"type\":\"object\",\"name\":\"Scatter\",\"id\":\"p4552\",\"attributes\":{\"x\":{\"type\":\"value\",\"value\":125},\"y\":{\"type\":\"value\",\"value\":1.3559617319440838},\"size\":{\"type\":\"value\",\"value\":8},\"line_color\":{\"type\":\"value\",\"value\":\"cyan\"},\"line_alpha\":{\"type\":\"value\",\"value\":0.1},\"fill_color\":{\"type\":\"value\",\"value\":\"cyan\"},\"fill_alpha\":{\"type\":\"value\",\"value\":0.1},\"hatch_color\":{\"type\":\"value\",\"value\":\"cyan\"},\"hatch_alpha\":{\"type\":\"value\",\"value\":0.1}}},\"muted_glyph\":{\"type\":\"object\",\"name\":\"Scatter\",\"id\":\"p4553\",\"attributes\":{\"x\":{\"type\":\"value\",\"value\":125},\"y\":{\"type\":\"value\",\"value\":1.3559617319440838},\"size\":{\"type\":\"value\",\"value\":8},\"line_color\":{\"type\":\"value\",\"value\":\"cyan\"},\"line_alpha\":{\"type\":\"value\",\"value\":0.2},\"fill_color\":{\"type\":\"value\",\"value\":\"cyan\"},\"fill_alpha\":{\"type\":\"value\",\"value\":0.2},\"hatch_color\":{\"type\":\"value\",\"value\":\"cyan\"},\"hatch_alpha\":{\"type\":\"value\",\"value\":0.2}}}}},{\"type\":\"object\",\"name\":\"GlyphRenderer\",\"id\":\"p4565\",\"attributes\":{\"data_source\":{\"type\":\"object\",\"name\":\"ColumnDataSource\",\"id\":\"p4559\",\"attributes\":{\"selected\":{\"type\":\"object\",\"name\":\"Selection\",\"id\":\"p4560\",\"attributes\":{\"indices\":[],\"line_indices\":[]}},\"selection_policy\":{\"type\":\"object\",\"name\":\"UnionRenderers\",\"id\":\"p4561\"},\"data\":{\"type\":\"map\"}}},\"view\":{\"type\":\"object\",\"name\":\"CDSView\",\"id\":\"p4566\",\"attributes\":{\"filter\":{\"type\":\"object\",\"name\":\"AllIndices\",\"id\":\"p4567\"}}},\"glyph\":{\"type\":\"object\",\"name\":\"Scatter\",\"id\":\"p4562\",\"attributes\":{\"x\":{\"type\":\"value\",\"value\":251},\"y\":{\"type\":\"value\",\"value\":1.2199545422887796},\"size\":{\"type\":\"value\",\"value\":8},\"line_color\":{\"type\":\"value\",\"value\":\"blue\"},\"fill_color\":{\"type\":\"value\",\"value\":\"blue\"},\"hatch_color\":{\"type\":\"value\",\"value\":\"blue\"}}},\"nonselection_glyph\":{\"type\":\"object\",\"name\":\"Scatter\",\"id\":\"p4563\",\"attributes\":{\"x\":{\"type\":\"value\",\"value\":251},\"y\":{\"type\":\"value\",\"value\":1.2199545422887796},\"size\":{\"type\":\"value\",\"value\":8},\"line_color\":{\"type\":\"value\",\"value\":\"blue\"},\"line_alpha\":{\"type\":\"value\",\"value\":0.1},\"fill_color\":{\"type\":\"value\",\"value\":\"blue\"},\"fill_alpha\":{\"type\":\"value\",\"value\":0.1},\"hatch_color\":{\"type\":\"value\",\"value\":\"blue\"},\"hatch_alpha\":{\"type\":\"value\",\"value\":0.1}}},\"muted_glyph\":{\"type\":\"object\",\"name\":\"Scatter\",\"id\":\"p4564\",\"attributes\":{\"x\":{\"type\":\"value\",\"value\":251},\"y\":{\"type\":\"value\",\"value\":1.2199545422887796},\"size\":{\"type\":\"value\",\"value\":8},\"line_color\":{\"type\":\"value\",\"value\":\"blue\"},\"line_alpha\":{\"type\":\"value\",\"value\":0.2},\"fill_color\":{\"type\":\"value\",\"value\":\"blue\"},\"fill_alpha\":{\"type\":\"value\",\"value\":0.2},\"hatch_color\":{\"type\":\"value\",\"value\":\"blue\"},\"hatch_alpha\":{\"type\":\"value\",\"value\":0.2}}}}},{\"type\":\"object\",\"name\":\"GlyphRenderer\",\"id\":\"p4575\",\"attributes\":{\"data_source\":{\"type\":\"object\",\"name\":\"ColumnDataSource\",\"id\":\"p4569\",\"attributes\":{\"selected\":{\"type\":\"object\",\"name\":\"Selection\",\"id\":\"p4570\",\"attributes\":{\"indices\":[],\"line_indices\":[]}},\"selection_policy\":{\"type\":\"object\",\"name\":\"UnionRenderers\",\"id\":\"p4571\"},\"data\":{\"type\":\"map\"}}},\"view\":{\"type\":\"object\",\"name\":\"CDSView\",\"id\":\"p4576\",\"attributes\":{\"filter\":{\"type\":\"object\",\"name\":\"AllIndices\",\"id\":\"p4577\"}}},\"glyph\":{\"type\":\"object\",\"name\":\"Scatter\",\"id\":\"p4572\",\"attributes\":{\"x\":{\"type\":\"value\",\"value\":166},\"y\":{\"type\":\"value\",\"value\":1.1340113048887248},\"size\":{\"type\":\"value\",\"value\":8},\"line_color\":{\"type\":\"value\",\"value\":\"red\"},\"fill_color\":{\"type\":\"value\",\"value\":\"red\"},\"hatch_color\":{\"type\":\"value\",\"value\":\"red\"}}},\"nonselection_glyph\":{\"type\":\"object\",\"name\":\"Scatter\",\"id\":\"p4573\",\"attributes\":{\"x\":{\"type\":\"value\",\"value\":166},\"y\":{\"type\":\"value\",\"value\":1.1340113048887248},\"size\":{\"type\":\"value\",\"value\":8},\"line_color\":{\"type\":\"value\",\"value\":\"red\"},\"line_alpha\":{\"type\":\"value\",\"value\":0.1},\"fill_color\":{\"type\":\"value\",\"value\":\"red\"},\"fill_alpha\":{\"type\":\"value\",\"value\":0.1},\"hatch_color\":{\"type\":\"value\",\"value\":\"red\"},\"hatch_alpha\":{\"type\":\"value\",\"value\":0.1}}},\"muted_glyph\":{\"type\":\"object\",\"name\":\"Scatter\",\"id\":\"p4574\",\"attributes\":{\"x\":{\"type\":\"value\",\"value\":166},\"y\":{\"type\":\"value\",\"value\":1.1340113048887248},\"size\":{\"type\":\"value\",\"value\":8},\"line_color\":{\"type\":\"value\",\"value\":\"red\"},\"line_alpha\":{\"type\":\"value\",\"value\":0.2},\"fill_color\":{\"type\":\"value\",\"value\":\"red\"},\"fill_alpha\":{\"type\":\"value\",\"value\":0.2},\"hatch_color\":{\"type\":\"value\",\"value\":\"red\"},\"hatch_alpha\":{\"type\":\"value\",\"value\":0.2}}}}},{\"type\":\"object\",\"name\":\"GlyphRenderer\",\"id\":\"p4585\",\"attributes\":{\"data_source\":{\"type\":\"object\",\"name\":\"ColumnDataSource\",\"id\":\"p4579\",\"attributes\":{\"selected\":{\"type\":\"object\",\"name\":\"Selection\",\"id\":\"p4580\",\"attributes\":{\"indices\":[],\"line_indices\":[]}},\"selection_policy\":{\"type\":\"object\",\"name\":\"UnionRenderers\",\"id\":\"p4581\"},\"data\":{\"type\":\"map\",\"entries\":[[\"x\",[125,251]]]}}},\"view\":{\"type\":\"object\",\"name\":\"CDSView\",\"id\":\"p4586\",\"attributes\":{\"filter\":{\"type\":\"object\",\"name\":\"AllIndices\",\"id\":\"p4587\"}}},\"glyph\":{\"type\":\"object\",\"name\":\"Line\",\"id\":\"p4582\",\"attributes\":{\"x\":{\"type\":\"field\",\"field\":\"x\"},\"y\":{\"type\":\"value\",\"value\":1.3559617319440838},\"line_color\":\"red\",\"line_width\":2}},\"nonselection_glyph\":{\"type\":\"object\",\"name\":\"Line\",\"id\":\"p4583\",\"attributes\":{\"x\":{\"type\":\"field\",\"field\":\"x\"},\"y\":{\"type\":\"value\",\"value\":1.3559617319440838},\"line_color\":\"red\",\"line_alpha\":0.1,\"line_width\":2}},\"muted_glyph\":{\"type\":\"object\",\"name\":\"Line\",\"id\":\"p4584\",\"attributes\":{\"x\":{\"type\":\"field\",\"field\":\"x\"},\"y\":{\"type\":\"value\",\"value\":1.3559617319440838},\"line_color\":\"red\",\"line_alpha\":0.2,\"line_width\":2}}}}],\"toolbar\":{\"type\":\"object\",\"name\":\"Toolbar\",\"id\":\"p4500\",\"attributes\":{\"tools\":[{\"id\":\"p4513\"},{\"id\":\"p4514\"},{\"id\":\"p4515\"},{\"id\":\"p4521\"},{\"id\":\"p4522\"},{\"id\":\"p4523\"},{\"type\":\"object\",\"name\":\"SaveTool\",\"id\":\"p4524\"},{\"id\":\"p4546\"},{\"id\":\"p4809\"}],\"active_drag\":{\"id\":\"p4513\"},\"active_scroll\":{\"id\":\"p4514\"}}},\"toolbar_location\":null,\"left\":[{\"type\":\"object\",\"name\":\"LinearAxis\",\"id\":\"p4508\",\"attributes\":{\"ticker\":{\"type\":\"object\",\"name\":\"BasicTicker\",\"id\":\"p4509\",\"attributes\":{\"mantissas\":[1,2,5]}},\"formatter\":{\"type\":\"object\",\"name\":\"NumeralTickFormatter\",\"id\":\"p4547\",\"attributes\":{\"format\":\"0,0.[00]%\"}},\"axis_label\":\"Equity\",\"major_label_policy\":{\"type\":\"object\",\"name\":\"AllLabels\",\"id\":\"p4511\"},\"minor_tick_line_color\":null}}],\"below\":[{\"type\":\"object\",\"name\":\"LinearAxis\",\"id\":\"p4503\",\"attributes\":{\"visible\":false,\"ticker\":{\"type\":\"object\",\"name\":\"BasicTicker\",\"id\":\"p4504\",\"attributes\":{\"mantissas\":[1,2,5]}},\"formatter\":{\"type\":\"object\",\"name\":\"BasicTickFormatter\",\"id\":\"p4505\"},\"major_label_policy\":{\"type\":\"object\",\"name\":\"AllLabels\",\"id\":\"p4506\"}}}],\"center\":[{\"type\":\"object\",\"name\":\"Grid\",\"id\":\"p4507\",\"attributes\":{\"axis\":{\"id\":\"p4503\"}}},{\"type\":\"object\",\"name\":\"Grid\",\"id\":\"p4512\",\"attributes\":{\"dimension\":1,\"axis\":{\"id\":\"p4508\"}}},{\"type\":\"object\",\"name\":\"Legend\",\"id\":\"p4557\",\"attributes\":{\"location\":\"top_left\",\"border_line_color\":\"#333333\",\"click_policy\":\"hide\",\"label_text_font_size\":\"8pt\",\"margin\":0,\"padding\":5,\"spacing\":0,\"items\":[{\"type\":\"object\",\"name\":\"LegendItem\",\"id\":\"p4558\",\"attributes\":{\"label\":{\"type\":\"value\",\"value\":\"Peak (136%)\"},\"renderers\":[{\"id\":\"p4554\"}]}},{\"type\":\"object\",\"name\":\"LegendItem\",\"id\":\"p4568\",\"attributes\":{\"label\":{\"type\":\"value\",\"value\":\"Final (122%)\"},\"renderers\":[{\"id\":\"p4565\"}]}},{\"type\":\"object\",\"name\":\"LegendItem\",\"id\":\"p4578\",\"attributes\":{\"label\":{\"type\":\"value\",\"value\":\"Max Drawdown (-16.4%)\"},\"renderers\":[{\"id\":\"p4575\"}]}},{\"type\":\"object\",\"name\":\"LegendItem\",\"id\":\"p4588\",\"attributes\":{\"label\":{\"type\":\"value\",\"value\":\"Max Dd Dur. (178 days)\"},\"renderers\":[{\"id\":\"p4585\"}]}}]}}],\"min_border_top\":3,\"min_border_bottom\":6,\"min_border_left\":0,\"min_border_right\":10}},0,0],[{\"type\":\"object\",\"name\":\"Figure\",\"id\":\"p4589\",\"attributes\":{\"width\":null,\"height\":90,\"sizing_mode\":\"stretch_width\",\"x_range\":{\"id\":\"p4447\"},\"y_range\":{\"type\":\"object\",\"name\":\"DataRange1d\",\"id\":\"p4591\"},\"x_scale\":{\"type\":\"object\",\"name\":\"LinearScale\",\"id\":\"p4598\"},\"y_scale\":{\"type\":\"object\",\"name\":\"LinearScale\",\"id\":\"p4599\"},\"title\":{\"type\":\"object\",\"name\":\"Title\",\"id\":\"p4596\"},\"outline_line_color\":\"#666666\",\"renderers\":[{\"id\":\"p4629\"},{\"id\":\"p4638\"}],\"toolbar\":{\"type\":\"object\",\"name\":\"Toolbar\",\"id\":\"p4597\",\"attributes\":{\"tools\":[{\"id\":\"p4610\"},{\"id\":\"p4611\"},{\"id\":\"p4612\"},{\"id\":\"p4618\"},{\"id\":\"p4619\"},{\"id\":\"p4620\"},{\"type\":\"object\",\"name\":\"SaveTool\",\"id\":\"p4621\"},{\"id\":\"p4641\"},{\"id\":\"p4642\"},{\"id\":\"p4809\"}],\"active_drag\":{\"id\":\"p4610\"},\"active_scroll\":{\"id\":\"p4611\"}}},\"toolbar_location\":null,\"left\":[{\"type\":\"object\",\"name\":\"LinearAxis\",\"id\":\"p4605\",\"attributes\":{\"ticker\":{\"type\":\"object\",\"name\":\"BasicTicker\",\"id\":\"p4606\",\"attributes\":{\"mantissas\":[1,2,5]}},\"formatter\":{\"type\":\"object\",\"name\":\"NumeralTickFormatter\",\"id\":\"p4643\",\"attributes\":{\"format\":\"0.[00]%\"}},\"axis_label\":\"Profit / Loss\",\"major_label_policy\":{\"type\":\"object\",\"name\":\"AllLabels\",\"id\":\"p4608\"},\"minor_tick_line_color\":null}}],\"below\":[{\"type\":\"object\",\"name\":\"LinearAxis\",\"id\":\"p4600\",\"attributes\":{\"visible\":false,\"ticker\":{\"type\":\"object\",\"name\":\"BasicTicker\",\"id\":\"p4601\",\"attributes\":{\"mantissas\":[1,2,5]}},\"formatter\":{\"type\":\"object\",\"name\":\"BasicTickFormatter\",\"id\":\"p4602\"},\"major_label_policy\":{\"type\":\"object\",\"name\":\"AllLabels\",\"id\":\"p4603\"}}}],\"center\":[{\"type\":\"object\",\"name\":\"Grid\",\"id\":\"p4604\",\"attributes\":{\"axis\":{\"id\":\"p4600\"}}},{\"type\":\"object\",\"name\":\"Grid\",\"id\":\"p4609\",\"attributes\":{\"dimension\":1,\"axis\":{\"id\":\"p4605\"}}},{\"type\":\"object\",\"name\":\"Span\",\"id\":\"p4622\",\"attributes\":{\"location\":0,\"line_color\":\"#666666\",\"line_dash\":[6]}}],\"min_border_top\":3,\"min_border_bottom\":6,\"min_border_left\":0,\"min_border_right\":10}},1,0],[{\"type\":\"object\",\"name\":\"Figure\",\"id\":\"p4448\",\"attributes\":{\"width\":null,\"height\":400,\"sizing_mode\":\"stretch_width\",\"x_range\":{\"id\":\"p4447\"},\"y_range\":{\"id\":\"p4450\"},\"x_scale\":{\"type\":\"object\",\"name\":\"LinearScale\",\"id\":\"p4457\"},\"y_scale\":{\"type\":\"object\",\"name\":\"LinearScale\",\"id\":\"p4458\"},\"title\":{\"type\":\"object\",\"name\":\"Title\",\"id\":\"p4455\"},\"outline_line_color\":\"#666666\",\"renderers\":[{\"type\":\"object\",\"name\":\"GlyphRenderer\",\"id\":\"p4697\",\"attributes\":{\"data_source\":{\"type\":\"object\",\"name\":\"ColumnDataSource\",\"id\":\"p4688\",\"attributes\":{\"selected\":{\"type\":\"object\",\"name\":\"Selection\",\"id\":\"p4689\",\"attributes\":{\"indices\":[],\"line_indices\":[]}},\"selection_policy\":{\"type\":\"object\",\"name\":\"UnionRenderers\",\"id\":\"p4690\"},\"data\":{\"type\":\"map\",\"entries\":[[\"index\",{\"type\":\"ndarray\",\"array\":{\"type\":\"bytes\",\"data\":\"AAAAAAAAJEAAAAAAAIA+QAAAAAAAwElAAAAAAABgUkAAAAAAAMBXQAAAAAAAIF1AAAAAAABgYUAAAAAAACBkQAAAAAAA0GZAAAAAAACQaUAAAAAAAEBsQAAAAAAAgG5A\"},\"shape\":[12],\"dtype\":\"float64\",\"order\":\"little\"}],[\"Open\",{\"type\":\"ndarray\",\"array\":{\"type\":\"bytes\",\"data\":\"AQAAgOkmBkAAAAAgMQgCQAAAAGCR7QRAAAAAQAwCBEABAAAgWDkGQAAAAOB6FAdAAAAAQDeJCUABAABAiUEHQP///7+hRQdA////n/HSBkAAAADAdJMHQAAAAMDz/QdA\"},\"shape\":[12],\"dtype\":\"float64\",\"order\":\"little\"}],[\"High\",{\"type\":\"ndarray\",\"array\":{\"type\":\"bytes\",\"data\":\"AQAAQIlBBkAAAADgzvcFQAAAAIDC9QZAAAAAIAaBBkD///9/wMoIQAAAAIA9CgpAAAAAgML1CUABAABgObQHQAEAAIBqvAhA////X4/CB0AAAABguB4JQAAAAIBs5whA\"},\"shape\":[12],\"dtype\":\"float64\",\"order\":\"little\"}],[\"Low\",{\"type\":\"ndarray\",\"array\":{\"type\":\"bytes\",\"data\":\"////H9nOAUAAAACgR+EBQAAAACBcjwNAAQAAoO+nA0ABAAAg3SQGQAAAAOB46QZAAQAAwPUoB0AAAAAAAAAFQAEAAEBeugZAAAAAwPP9BUAAAAAAK4cHQAAAACDb+QZA\"},\"shape\":[12],\"dtype\":\"float64\",\"order\":\"little\"}],[\"Close\",{\"type\":\"ndarray\",\"array\":{\"type\":\"bytes\",\"data\":\"AAAAQAwCAkD///+/zMwEQP///58cWgRAAAAA4CQGBkD////fp8YGQP/////91AhAAAAAAH9qB0AAAAAgsHIHQAAAAIA9CgdAAAAAwMh2B0AAAAAghesHQP///79yaAdA\"},\"shape\":[12],\"dtype\":\"float64\",\"order\":\"little\"}],[\"Volume\",{\"type\":\"ndarray\",\"array\":{\"type\":\"bytes\",\"data\":\"AAAAAAAAAAAAAAAAAAAAAAAAAAAAAAAAAAAAAAAAAAAAAAAAAAAAAAAAAAAAAAAAAAAAAAAAAAAAAAAAAAAAAAAAAAAAAAAAAAAAAAAAAAAAAAAAAAAAAAAAAAAAAAAA\"},\"shape\":[12],\"dtype\":\"float64\",\"order\":\"little\"}],[\"_width\",{\"type\":\"ndarray\",\"array\":{\"type\":\"bytes\",\"data\":\"ZmZmZmbmNEBmZmZmZuYzQGZmZmZm5jVAZmZmZmbmNUBmZmZmZuY0QGZmZmZm5jVAZmZmZmbmNkBmZmZmZuY0QGZmZmZm5jVAZmZmZmbmNUBmZmZmZuY0QM3MzMzMzC1A\"},\"shape\":[12],\"dtype\":\"float64\",\"order\":\"little\"}],[\"inc\",{\"type\":\"ndarray\",\"array\":[\"0\",\"1\",\"0\",\"1\",\"1\",\"1\",\"0\",\"1\",\"0\",\"1\",\"1\",\"0\"],\"shape\":[12],\"dtype\":\"object\",\"order\":\"little\"}]]}}},\"view\":{\"type\":\"object\",\"name\":\"CDSView\",\"id\":\"p4698\",\"attributes\":{\"filter\":{\"type\":\"object\",\"name\":\"AllIndices\",\"id\":\"p4699\"}}},\"glyph\":{\"type\":\"object\",\"name\":\"Segment\",\"id\":\"p4694\",\"attributes\":{\"x0\":{\"type\":\"field\",\"field\":\"index\"},\"y0\":{\"type\":\"field\",\"field\":\"High\"},\"x1\":{\"type\":\"field\",\"field\":\"index\"},\"y1\":{\"type\":\"field\",\"field\":\"Low\"},\"line_color\":{\"type\":\"value\",\"value\":\"#bbbbbb\"}}},\"nonselection_glyph\":{\"type\":\"object\",\"name\":\"Segment\",\"id\":\"p4695\",\"attributes\":{\"x0\":{\"type\":\"field\",\"field\":\"index\"},\"y0\":{\"type\":\"field\",\"field\":\"High\"},\"x1\":{\"type\":\"field\",\"field\":\"index\"},\"y1\":{\"type\":\"field\",\"field\":\"Low\"},\"line_color\":{\"type\":\"value\",\"value\":\"#bbbbbb\"},\"line_alpha\":{\"type\":\"value\",\"value\":0.1}}},\"muted_glyph\":{\"type\":\"object\",\"name\":\"Segment\",\"id\":\"p4696\",\"attributes\":{\"x0\":{\"type\":\"field\",\"field\":\"index\"},\"y0\":{\"type\":\"field\",\"field\":\"High\"},\"x1\":{\"type\":\"field\",\"field\":\"index\"},\"y1\":{\"type\":\"field\",\"field\":\"Low\"},\"line_color\":{\"type\":\"value\",\"value\":\"#bbbbbb\"},\"line_alpha\":{\"type\":\"value\",\"value\":0.2}}}}},{\"type\":\"object\",\"name\":\"GlyphRenderer\",\"id\":\"p4707\",\"attributes\":{\"data_source\":{\"id\":\"p4688\"},\"view\":{\"type\":\"object\",\"name\":\"CDSView\",\"id\":\"p4708\",\"attributes\":{\"filter\":{\"type\":\"object\",\"name\":\"AllIndices\",\"id\":\"p4709\"}}},\"glyph\":{\"type\":\"object\",\"name\":\"VBar\",\"id\":\"p4704\",\"attributes\":{\"x\":{\"type\":\"field\",\"field\":\"index\"},\"width\":{\"type\":\"field\",\"field\":\"_width\"},\"bottom\":{\"type\":\"field\",\"field\":\"Close\"},\"top\":{\"type\":\"field\",\"field\":\"Open\"},\"line_color\":{\"type\":\"value\",\"value\":null},\"fill_color\":{\"type\":\"field\",\"field\":\"inc\",\"transform\":{\"type\":\"object\",\"name\":\"CategoricalColorMapper\",\"id\":\"p4700\",\"attributes\":{\"palette\":[\"rgb(255.0, 220.40869565217392, 214.20000000000002)\",\"rgb(214.20000000000005, 254.99999999999997, 214.20000000000005)\"],\"factors\":[\"0\",\"1\"]}}}}},\"nonselection_glyph\":{\"type\":\"object\",\"name\":\"VBar\",\"id\":\"p4705\",\"attributes\":{\"x\":{\"type\":\"field\",\"field\":\"index\"},\"width\":{\"type\":\"field\",\"field\":\"_width\"},\"bottom\":{\"type\":\"field\",\"field\":\"Close\"},\"top\":{\"type\":\"field\",\"field\":\"Open\"},\"line_color\":{\"type\":\"value\",\"value\":null},\"line_alpha\":{\"type\":\"value\",\"value\":0.1},\"fill_color\":{\"type\":\"field\",\"field\":\"inc\",\"transform\":{\"id\":\"p4700\"}},\"fill_alpha\":{\"type\":\"value\",\"value\":0.1},\"hatch_alpha\":{\"type\":\"value\",\"value\":0.1}}},\"muted_glyph\":{\"type\":\"object\",\"name\":\"VBar\",\"id\":\"p4706\",\"attributes\":{\"x\":{\"type\":\"field\",\"field\":\"index\"},\"width\":{\"type\":\"field\",\"field\":\"_width\"},\"bottom\":{\"type\":\"field\",\"field\":\"Close\"},\"top\":{\"type\":\"field\",\"field\":\"Open\"},\"line_color\":{\"type\":\"value\",\"value\":null},\"line_alpha\":{\"type\":\"value\",\"value\":0.2},\"fill_color\":{\"type\":\"field\",\"field\":\"inc\",\"transform\":{\"id\":\"p4700\"}},\"fill_alpha\":{\"type\":\"value\",\"value\":0.2},\"hatch_alpha\":{\"type\":\"value\",\"value\":0.2}}}}},{\"type\":\"object\",\"name\":\"GlyphRenderer\",\"id\":\"p4716\",\"attributes\":{\"data_source\":{\"id\":\"p4481\"},\"view\":{\"type\":\"object\",\"name\":\"CDSView\",\"id\":\"p4717\",\"attributes\":{\"filter\":{\"type\":\"object\",\"name\":\"AllIndices\",\"id\":\"p4718\"}}},\"glyph\":{\"type\":\"object\",\"name\":\"Segment\",\"id\":\"p4713\",\"attributes\":{\"x0\":{\"type\":\"field\",\"field\":\"index\"},\"y0\":{\"type\":\"field\",\"field\":\"High\"},\"x1\":{\"type\":\"field\",\"field\":\"index\"},\"y1\":{\"type\":\"field\",\"field\":\"Low\"}}},\"nonselection_glyph\":{\"type\":\"object\",\"name\":\"Segment\",\"id\":\"p4714\",\"attributes\":{\"x0\":{\"type\":\"field\",\"field\":\"index\"},\"y0\":{\"type\":\"field\",\"field\":\"High\"},\"x1\":{\"type\":\"field\",\"field\":\"index\"},\"y1\":{\"type\":\"field\",\"field\":\"Low\"},\"line_alpha\":{\"type\":\"value\",\"value\":0.1}}},\"muted_glyph\":{\"type\":\"object\",\"name\":\"Segment\",\"id\":\"p4715\",\"attributes\":{\"x0\":{\"type\":\"field\",\"field\":\"index\"},\"y0\":{\"type\":\"field\",\"field\":\"High\"},\"x1\":{\"type\":\"field\",\"field\":\"index\"},\"y1\":{\"type\":\"field\",\"field\":\"Low\"},\"line_alpha\":{\"type\":\"value\",\"value\":0.2}}}}},{\"id\":\"p4725\"},{\"type\":\"object\",\"name\":\"GlyphRenderer\",\"id\":\"p4734\",\"attributes\":{\"data_source\":{\"id\":\"p4484\"},\"view\":{\"type\":\"object\",\"name\":\"CDSView\",\"id\":\"p4735\",\"attributes\":{\"filter\":{\"type\":\"object\",\"name\":\"AllIndices\",\"id\":\"p4736\"}}},\"glyph\":{\"type\":\"object\",\"name\":\"MultiLine\",\"id\":\"p4731\",\"attributes\":{\"xs\":{\"type\":\"field\",\"field\":\"position_lines_xs\"},\"ys\":{\"type\":\"field\",\"field\":\"position_lines_ys\"},\"line_color\":{\"type\":\"field\",\"field\":\"returns_positive\",\"transform\":{\"type\":\"object\",\"name\":\"CategoricalColorMapper\",\"id\":\"p4489\",\"attributes\":{\"palette\":[\"rgb(178.5, 27.163043478260846, 0.0)\",\"rgb(0.0, 178.5, 0.0)\"],\"factors\":[\"0\",\"1\"]}}},\"line_width\":{\"type\":\"value\",\"value\":8},\"line_dash\":{\"type\":\"value\",\"value\":\"dotted\"}}},\"nonselection_glyph\":{\"type\":\"object\",\"name\":\"MultiLine\",\"id\":\"p4732\",\"attributes\":{\"xs\":{\"type\":\"field\",\"field\":\"position_lines_xs\"},\"ys\":{\"type\":\"field\",\"field\":\"position_lines_ys\"},\"line_color\":{\"type\":\"field\",\"field\":\"returns_positive\",\"transform\":{\"id\":\"p4489\"}},\"line_alpha\":{\"type\":\"value\",\"value\":0.1},\"line_width\":{\"type\":\"value\",\"value\":8},\"line_dash\":{\"type\":\"value\",\"value\":\"dotted\"}}},\"muted_glyph\":{\"type\":\"object\",\"name\":\"MultiLine\",\"id\":\"p4733\",\"attributes\":{\"xs\":{\"type\":\"field\",\"field\":\"position_lines_xs\"},\"ys\":{\"type\":\"field\",\"field\":\"position_lines_ys\"},\"line_color\":{\"type\":\"field\",\"field\":\"returns_positive\",\"transform\":{\"id\":\"p4489\"}},\"line_alpha\":{\"type\":\"value\",\"value\":0.2},\"line_width\":{\"type\":\"value\",\"value\":8},\"line_dash\":{\"type\":\"value\",\"value\":\"dotted\"}}}}}],\"toolbar\":{\"type\":\"object\",\"name\":\"Toolbar\",\"id\":\"p4456\",\"attributes\":{\"tools\":[{\"id\":\"p4469\"},{\"id\":\"p4470\"},{\"id\":\"p4471\"},{\"id\":\"p4477\"},{\"id\":\"p4478\"},{\"id\":\"p4479\"},{\"type\":\"object\",\"name\":\"SaveTool\",\"id\":\"p4480\"},{\"id\":\"p4807\"},{\"id\":\"p4809\"}],\"active_drag\":{\"id\":\"p4469\"},\"active_scroll\":{\"id\":\"p4470\"}}},\"toolbar_location\":null,\"left\":[{\"type\":\"object\",\"name\":\"LinearAxis\",\"id\":\"p4464\",\"attributes\":{\"ticker\":{\"type\":\"object\",\"name\":\"BasicTicker\",\"id\":\"p4465\",\"attributes\":{\"mantissas\":[1,2,5]}},\"formatter\":{\"type\":\"object\",\"name\":\"BasicTickFormatter\",\"id\":\"p4466\"},\"major_label_policy\":{\"type\":\"object\",\"name\":\"AllLabels\",\"id\":\"p4467\"}}}],\"below\":[{\"type\":\"object\",\"name\":\"LinearAxis\",\"id\":\"p4459\",\"attributes\":{\"visible\":false,\"ticker\":{\"type\":\"object\",\"name\":\"BasicTicker\",\"id\":\"p4460\",\"attributes\":{\"mantissas\":[1,2,5]}},\"formatter\":{\"type\":\"object\",\"name\":\"CustomJSTickFormatter\",\"id\":\"p4491\",\"attributes\":{\"args\":{\"type\":\"map\",\"entries\":[[\"axis\",{\"id\":\"p4459\"}],[\"formatter\",{\"type\":\"object\",\"name\":\"DatetimeTickFormatter\",\"id\":\"p4490\",\"attributes\":{\"days\":\"%d %b\"}}],[\"source\",{\"id\":\"p4481\"}]]},\"code\":\"\\nthis.labels = this.labels || formatter.doFormat(ticks\\n                                                .map(i => source.data.datetime[i])\\n                                                .filter(t => t !== undefined));\\nreturn this.labels[index] || \\\"\\\";\\n        \"}},\"major_label_policy\":{\"type\":\"object\",\"name\":\"AllLabels\",\"id\":\"p4462\"}}}],\"center\":[{\"type\":\"object\",\"name\":\"Grid\",\"id\":\"p4463\",\"attributes\":{\"axis\":{\"id\":\"p4459\"}}},{\"type\":\"object\",\"name\":\"Grid\",\"id\":\"p4468\",\"attributes\":{\"dimension\":1,\"axis\":{\"id\":\"p4464\"}}},{\"type\":\"object\",\"name\":\"Legend\",\"id\":\"p4737\",\"attributes\":{\"location\":\"top_left\",\"border_line_color\":\"#333333\",\"click_policy\":\"hide\",\"label_text_font_size\":\"8pt\",\"margin\":0,\"padding\":5,\"spacing\":0,\"items\":[{\"type\":\"object\",\"name\":\"LegendItem\",\"id\":\"p4738\",\"attributes\":{\"label\":{\"type\":\"value\",\"value\":\"Trades (1)\"},\"renderers\":[{\"id\":\"p4734\"}]}}]}}],\"min_border_top\":3,\"min_border_bottom\":6,\"min_border_left\":0,\"min_border_right\":10}},2,0],[{\"type\":\"object\",\"name\":\"Figure\",\"id\":\"p4644\",\"attributes\":{\"width\":null,\"height\":90,\"sizing_mode\":\"stretch_width\",\"x_range\":{\"id\":\"p4447\"},\"y_range\":{\"id\":\"p4646\"},\"x_scale\":{\"type\":\"object\",\"name\":\"LinearScale\",\"id\":\"p4653\"},\"y_scale\":{\"type\":\"object\",\"name\":\"LinearScale\",\"id\":\"p4654\"},\"title\":{\"type\":\"object\",\"name\":\"Title\",\"id\":\"p4651\"},\"outline_line_color\":\"#666666\",\"renderers\":[{\"id\":\"p4683\"}],\"toolbar\":{\"type\":\"object\",\"name\":\"Toolbar\",\"id\":\"p4652\",\"attributes\":{\"tools\":[{\"id\":\"p4665\"},{\"id\":\"p4666\"},{\"id\":\"p4667\"},{\"id\":\"p4673\"},{\"id\":\"p4674\"},{\"id\":\"p4675\"},{\"type\":\"object\",\"name\":\"SaveTool\",\"id\":\"p4676\"},{\"id\":\"p4686\"},{\"id\":\"p4809\"}],\"active_drag\":{\"id\":\"p4665\"},\"active_scroll\":{\"id\":\"p4666\"}}},\"toolbar_location\":null,\"left\":[{\"type\":\"object\",\"name\":\"LinearAxis\",\"id\":\"p4660\",\"attributes\":{\"ticker\":{\"type\":\"object\",\"name\":\"BasicTicker\",\"id\":\"p4661\",\"attributes\":{\"mantissas\":[1,2,5]}},\"formatter\":{\"type\":\"object\",\"name\":\"NumeralTickFormatter\",\"id\":\"p4687\",\"attributes\":{\"format\":\"0 a\"}},\"axis_label\":\"Volume\",\"major_label_policy\":{\"type\":\"object\",\"name\":\"AllLabels\",\"id\":\"p4663\"},\"minor_tick_line_color\":null}}],\"below\":[{\"type\":\"object\",\"name\":\"LinearAxis\",\"id\":\"p4655\",\"attributes\":{\"visible\":true,\"ticker\":{\"type\":\"object\",\"name\":\"BasicTicker\",\"id\":\"p4656\",\"attributes\":{\"mantissas\":[1,2,5]}},\"formatter\":{\"id\":\"p4491\"},\"major_label_policy\":{\"type\":\"object\",\"name\":\"AllLabels\",\"id\":\"p4658\"}}}],\"center\":[{\"type\":\"object\",\"name\":\"Grid\",\"id\":\"p4659\",\"attributes\":{\"axis\":{\"id\":\"p4655\"}}},{\"type\":\"object\",\"name\":\"Grid\",\"id\":\"p4664\",\"attributes\":{\"dimension\":1,\"axis\":{\"id\":\"p4660\"}}}],\"min_border_top\":3,\"min_border_bottom\":6,\"min_border_left\":0,\"min_border_right\":10}},3,0],[{\"type\":\"object\",\"name\":\"Figure\",\"id\":\"p4739\",\"attributes\":{\"width\":null,\"height\":90,\"sizing_mode\":\"stretch_width\",\"x_range\":{\"id\":\"p4447\"},\"y_range\":{\"type\":\"object\",\"name\":\"DataRange1d\",\"id\":\"p4741\"},\"x_scale\":{\"type\":\"object\",\"name\":\"LinearScale\",\"id\":\"p4748\"},\"y_scale\":{\"type\":\"object\",\"name\":\"LinearScale\",\"id\":\"p4749\"},\"title\":{\"type\":\"object\",\"name\":\"Title\",\"id\":\"p4746\"},\"outline_line_color\":\"#666666\",\"renderers\":[{\"type\":\"object\",\"name\":\"GlyphRenderer\",\"id\":\"p4778\",\"attributes\":{\"data_source\":{\"id\":\"p4481\"},\"view\":{\"type\":\"object\",\"name\":\"CDSView\",\"id\":\"p4779\",\"attributes\":{\"filter\":{\"type\":\"object\",\"name\":\"AllIndices\",\"id\":\"p4780\"}}},\"glyph\":{\"type\":\"object\",\"name\":\"Line\",\"id\":\"p4775\",\"attributes\":{\"x\":{\"type\":\"field\",\"field\":\"index\"},\"y\":{\"type\":\"field\",\"field\":\"MACD(C,5,20,10)_0_1\"},\"line_color\":\"#1f77b4\",\"line_width\":1.3}},\"nonselection_glyph\":{\"type\":\"object\",\"name\":\"Line\",\"id\":\"p4776\",\"attributes\":{\"x\":{\"type\":\"field\",\"field\":\"index\"},\"y\":{\"type\":\"field\",\"field\":\"MACD(C,5,20,10)_0_1\"},\"line_color\":\"#1f77b4\",\"line_alpha\":0.1,\"line_width\":1.3}},\"muted_glyph\":{\"type\":\"object\",\"name\":\"Line\",\"id\":\"p4777\",\"attributes\":{\"x\":{\"type\":\"field\",\"field\":\"index\"},\"y\":{\"type\":\"field\",\"field\":\"MACD(C,5,20,10)_0_1\"},\"line_color\":\"#1f77b4\",\"line_alpha\":0.2,\"line_width\":1.3}}}},{\"type\":\"object\",\"name\":\"GlyphRenderer\",\"id\":\"p4790\",\"attributes\":{\"data_source\":{\"id\":\"p4481\"},\"view\":{\"type\":\"object\",\"name\":\"CDSView\",\"id\":\"p4791\",\"attributes\":{\"filter\":{\"type\":\"object\",\"name\":\"AllIndices\",\"id\":\"p4792\"}}},\"glyph\":{\"type\":\"object\",\"name\":\"Line\",\"id\":\"p4787\",\"attributes\":{\"x\":{\"type\":\"field\",\"field\":\"index\"},\"y\":{\"type\":\"field\",\"field\":\"MACD(C,5,20,10)_0_2\"},\"line_color\":\"#ff7f0e\",\"line_width\":1.3}},\"nonselection_glyph\":{\"type\":\"object\",\"name\":\"Line\",\"id\":\"p4788\",\"attributes\":{\"x\":{\"type\":\"field\",\"field\":\"index\"},\"y\":{\"type\":\"field\",\"field\":\"MACD(C,5,20,10)_0_2\"},\"line_color\":\"#ff7f0e\",\"line_alpha\":0.1,\"line_width\":1.3}},\"muted_glyph\":{\"type\":\"object\",\"name\":\"Line\",\"id\":\"p4789\",\"attributes\":{\"x\":{\"type\":\"field\",\"field\":\"index\"},\"y\":{\"type\":\"field\",\"field\":\"MACD(C,5,20,10)_0_2\"},\"line_color\":\"#ff7f0e\",\"line_alpha\":0.2,\"line_width\":1.3}}}},{\"id\":\"p4801\"}],\"toolbar\":{\"type\":\"object\",\"name\":\"Toolbar\",\"id\":\"p4747\",\"attributes\":{\"tools\":[{\"id\":\"p4760\"},{\"id\":\"p4761\"},{\"id\":\"p4762\"},{\"id\":\"p4768\"},{\"id\":\"p4769\"},{\"id\":\"p4770\"},{\"type\":\"object\",\"name\":\"SaveTool\",\"id\":\"p4771\"},{\"id\":\"p4806\"},{\"id\":\"p4809\"}],\"active_drag\":{\"id\":\"p4760\"},\"active_scroll\":{\"id\":\"p4761\"}}},\"toolbar_location\":null,\"left\":[{\"type\":\"object\",\"name\":\"LinearAxis\",\"id\":\"p4755\",\"attributes\":{\"ticker\":{\"type\":\"object\",\"name\":\"BasicTicker\",\"id\":\"p4756\",\"attributes\":{\"mantissas\":[1,2,5]}},\"formatter\":{\"type\":\"object\",\"name\":\"BasicTickFormatter\",\"id\":\"p4757\"},\"major_label_policy\":{\"type\":\"object\",\"name\":\"AllLabels\",\"id\":\"p4758\"},\"minor_tick_line_color\":null}}],\"below\":[{\"type\":\"object\",\"name\":\"LinearAxis\",\"id\":\"p4750\",\"attributes\":{\"visible\":false,\"ticker\":{\"type\":\"object\",\"name\":\"BasicTicker\",\"id\":\"p4751\",\"attributes\":{\"mantissas\":[1,2,5]}},\"formatter\":{\"type\":\"object\",\"name\":\"BasicTickFormatter\",\"id\":\"p4752\"},\"major_label_policy\":{\"type\":\"object\",\"name\":\"AllLabels\",\"id\":\"p4753\"}}}],\"center\":[{\"type\":\"object\",\"name\":\"Grid\",\"id\":\"p4754\",\"attributes\":{\"axis\":{\"id\":\"p4750\"}}},{\"type\":\"object\",\"name\":\"Grid\",\"id\":\"p4759\",\"attributes\":{\"dimension\":1,\"axis\":{\"id\":\"p4755\"}}},{\"type\":\"object\",\"name\":\"Legend\",\"id\":\"p4781\",\"attributes\":{\"location\":\"top_left\",\"border_line_color\":\"#333333\",\"click_policy\":\"hide\",\"label_text_font_size\":\"8pt\",\"margin\":0,\"padding\":5,\"spacing\":0,\"items\":[{\"type\":\"object\",\"name\":\"LegendItem\",\"id\":\"p4782\",\"attributes\":{\"label\":{\"type\":\"value\",\"value\":\"MACD(C,5,20,10)\"},\"renderers\":[{\"id\":\"p4778\"}]}},{\"type\":\"object\",\"name\":\"LegendItem\",\"id\":\"p4793\",\"attributes\":{\"label\":{\"type\":\"value\",\"value\":\"MACD(C,5,20,10)\"},\"renderers\":[{\"id\":\"p4790\"}]}},{\"type\":\"object\",\"name\":\"LegendItem\",\"id\":\"p4804\",\"attributes\":{\"label\":{\"type\":\"value\",\"value\":\"MACD(C,5,20,10)\"},\"renderers\":[{\"id\":\"p4801\"}]}}]}},{\"type\":\"object\",\"name\":\"Span\",\"id\":\"p4783\",\"attributes\":{\"location\":0.008200908263528258,\"line_color\":\"#666666\",\"line_width\":0.5,\"line_dash\":[6]}},{\"type\":\"object\",\"name\":\"Span\",\"id\":\"p4794\",\"attributes\":{\"location\":0.008512845700822504,\"line_color\":\"#666666\",\"line_width\":0.5,\"line_dash\":[6]}},{\"type\":\"object\",\"name\":\"Span\",\"id\":\"p4805\",\"attributes\":{\"location\":-0.0003119374372942451,\"line_color\":\"#666666\",\"line_width\":0.5,\"line_dash\":[6]}}],\"min_border_top\":3,\"min_border_bottom\":6,\"min_border_left\":0,\"min_border_right\":10}},4,0]]}}]}};\n",
              "  const render_items = [{\"docid\":\"7794d8ab-9ae4-4a8d-aa51-ec30362098b3\",\"roots\":{\"p4819\":\"f663dc2e-1d2d-4f3e-ac60-e6c41762ea62\"},\"root_ids\":[\"p4819\"]}];\n",
              "  root.Bokeh.embed.embed_items_notebook(docs_json, render_items);\n",
              "  }\n",
              "  if (root.Bokeh !== undefined) {\n",
              "    embed_document(root);\n",
              "  } else {\n",
              "    let attempts = 0;\n",
              "    const timer = setInterval(function(root) {\n",
              "      if (root.Bokeh !== undefined) {\n",
              "        clearInterval(timer);\n",
              "        embed_document(root);\n",
              "      } else {\n",
              "        attempts++;\n",
              "        if (attempts > 100) {\n",
              "          clearInterval(timer);\n",
              "          console.log(\"Bokeh: ERROR: Unable to run BokehJS code because BokehJS library is missing\");\n",
              "        }\n",
              "      }\n",
              "    }, 10, root)\n",
              "  }\n",
              "})(window);"
            ],
            "application/vnd.bokehjs_exec.v0+json": ""
          },
          "metadata": {
            "application/vnd.bokehjs_exec.v0+json": {
              "id": "p4819"
            }
          }
        },
        {
          "output_type": "display_data",
          "data": {
            "text/plain": [
              "Backtest.optimize:   0%|          | 0/2 [00:00<?, ?it/s]"
            ],
            "application/vnd.jupyter.widget-view+json": {
              "version_major": 2,
              "version_minor": 0,
              "model_id": "fc5ec4f86c594fecbec01e5c4f4e66ac"
            }
          },
          "metadata": {}
        },
        {
          "output_type": "stream",
          "name": "stderr",
          "text": [
            "BokehDeprecationWarning: Passing lists of formats for DatetimeTickFormatter scales was deprecated in Bokeh 3.0. Configure a single string format for each scale\n",
            "/usr/local/lib/python3.10/dist-packages/backtesting/_plotting.py:250: UserWarning: DatetimeFormatter scales now only accept a single format. Using the first provided: '%d %b'\n",
            "  formatter=DatetimeTickFormatter(days=['%d %b', '%a %d'],\n",
            "BokehDeprecationWarning: Passing lists of formats for DatetimeTickFormatter scales was deprecated in Bokeh 3.0. Configure a single string format for each scale\n",
            "/usr/local/lib/python3.10/dist-packages/backtesting/_plotting.py:250: UserWarning: DatetimeFormatter scales now only accept a single format. Using the first provided: '%m/%Y'\n",
            "  formatter=DatetimeTickFormatter(days=['%d %b', '%a %d'],\n",
            "/usr/local/lib/python3.10/dist-packages/backtesting/_plotting.py:659: UserWarning: found multiple competing values for 'toolbar.active_drag' property; using the latest value\n",
            "  fig = gridplot(\n",
            "/usr/local/lib/python3.10/dist-packages/backtesting/_plotting.py:659: UserWarning: found multiple competing values for 'toolbar.active_scroll' property; using the latest value\n",
            "  fig = gridplot(\n"
          ]
        },
        {
          "output_type": "display_data",
          "data": {
            "text/html": [
              "\n",
              "  <div id=\"cfe99b8c-3cdc-4cf4-96a2-2577551b16db\" data-root-id=\"p5200\" style=\"display: contents;\"></div>\n"
            ]
          },
          "metadata": {}
        },
        {
          "output_type": "display_data",
          "data": {
            "application/javascript": [
              "(function(root) {\n",
              "  function embed_document(root) {\n",
              "  const docs_json = {\"dd4e28b5-5122-4ee4-aac1-da80806f7ea8\":{\"version\":\"3.3.4\",\"title\":\"Bokeh Application\",\"roots\":[{\"type\":\"object\",\"name\":\"GridPlot\",\"id\":\"p5200\",\"attributes\":{\"rows\":null,\"cols\":null,\"sizing_mode\":\"stretch_width\",\"toolbar\":{\"type\":\"object\",\"name\":\"Toolbar\",\"id\":\"p5199\",\"attributes\":{\"logo\":null,\"tools\":[{\"type\":\"object\",\"name\":\"ToolProxy\",\"id\":\"p5191\",\"attributes\":{\"tools\":[{\"type\":\"object\",\"name\":\"PanTool\",\"id\":\"p4916\",\"attributes\":{\"dimensions\":\"width\"}},{\"type\":\"object\",\"name\":\"PanTool\",\"id\":\"p5013\",\"attributes\":{\"dimensions\":\"width\"}},{\"type\":\"object\",\"name\":\"PanTool\",\"id\":\"p4872\",\"attributes\":{\"dimensions\":\"width\"}},{\"type\":\"object\",\"name\":\"PanTool\",\"id\":\"p5068\",\"attributes\":{\"dimensions\":\"width\"}},{\"type\":\"object\",\"name\":\"PanTool\",\"id\":\"p5163\",\"attributes\":{\"dimensions\":\"width\"}}]}},{\"type\":\"object\",\"name\":\"ToolProxy\",\"id\":\"p5192\",\"attributes\":{\"tools\":[{\"type\":\"object\",\"name\":\"WheelZoomTool\",\"id\":\"p4917\",\"attributes\":{\"dimensions\":\"width\",\"renderers\":\"auto\",\"maintain_focus\":false}},{\"type\":\"object\",\"name\":\"WheelZoomTool\",\"id\":\"p5014\",\"attributes\":{\"dimensions\":\"width\",\"renderers\":\"auto\",\"maintain_focus\":false}},{\"type\":\"object\",\"name\":\"WheelZoomTool\",\"id\":\"p4873\",\"attributes\":{\"dimensions\":\"width\",\"renderers\":\"auto\",\"maintain_focus\":false}},{\"type\":\"object\",\"name\":\"WheelZoomTool\",\"id\":\"p5069\",\"attributes\":{\"dimensions\":\"width\",\"renderers\":\"auto\",\"maintain_focus\":false}},{\"type\":\"object\",\"name\":\"WheelZoomTool\",\"id\":\"p5164\",\"attributes\":{\"dimensions\":\"width\",\"renderers\":\"auto\",\"maintain_focus\":false}}]}},{\"type\":\"object\",\"name\":\"ToolProxy\",\"id\":\"p5193\",\"attributes\":{\"tools\":[{\"type\":\"object\",\"name\":\"BoxZoomTool\",\"id\":\"p4918\",\"attributes\":{\"overlay\":{\"type\":\"object\",\"name\":\"BoxAnnotation\",\"id\":\"p4919\",\"attributes\":{\"syncable\":false,\"level\":\"overlay\",\"visible\":false,\"left\":{\"type\":\"number\",\"value\":\"nan\"},\"right\":{\"type\":\"number\",\"value\":\"nan\"},\"top\":{\"type\":\"number\",\"value\":\"nan\"},\"bottom\":{\"type\":\"number\",\"value\":\"nan\"},\"left_units\":\"canvas\",\"right_units\":\"canvas\",\"top_units\":\"canvas\",\"bottom_units\":\"canvas\",\"line_color\":\"black\",\"line_alpha\":1.0,\"line_width\":2,\"line_dash\":[4,4],\"fill_color\":\"lightgrey\",\"fill_alpha\":0.5}}}},{\"type\":\"object\",\"name\":\"BoxZoomTool\",\"id\":\"p5015\",\"attributes\":{\"overlay\":{\"type\":\"object\",\"name\":\"BoxAnnotation\",\"id\":\"p5016\",\"attributes\":{\"syncable\":false,\"level\":\"overlay\",\"visible\":false,\"left\":{\"type\":\"number\",\"value\":\"nan\"},\"right\":{\"type\":\"number\",\"value\":\"nan\"},\"top\":{\"type\":\"number\",\"value\":\"nan\"},\"bottom\":{\"type\":\"number\",\"value\":\"nan\"},\"left_units\":\"canvas\",\"right_units\":\"canvas\",\"top_units\":\"canvas\",\"bottom_units\":\"canvas\",\"line_color\":\"black\",\"line_alpha\":1.0,\"line_width\":2,\"line_dash\":[4,4],\"fill_color\":\"lightgrey\",\"fill_alpha\":0.5}}}},{\"type\":\"object\",\"name\":\"BoxZoomTool\",\"id\":\"p4874\",\"attributes\":{\"overlay\":{\"type\":\"object\",\"name\":\"BoxAnnotation\",\"id\":\"p4875\",\"attributes\":{\"syncable\":false,\"level\":\"overlay\",\"visible\":false,\"left\":{\"type\":\"number\",\"value\":\"nan\"},\"right\":{\"type\":\"number\",\"value\":\"nan\"},\"top\":{\"type\":\"number\",\"value\":\"nan\"},\"bottom\":{\"type\":\"number\",\"value\":\"nan\"},\"left_units\":\"canvas\",\"right_units\":\"canvas\",\"top_units\":\"canvas\",\"bottom_units\":\"canvas\",\"line_color\":\"black\",\"line_alpha\":1.0,\"line_width\":2,\"line_dash\":[4,4],\"fill_color\":\"lightgrey\",\"fill_alpha\":0.5}}}},{\"type\":\"object\",\"name\":\"BoxZoomTool\",\"id\":\"p5070\",\"attributes\":{\"overlay\":{\"type\":\"object\",\"name\":\"BoxAnnotation\",\"id\":\"p5071\",\"attributes\":{\"syncable\":false,\"level\":\"overlay\",\"visible\":false,\"left\":{\"type\":\"number\",\"value\":\"nan\"},\"right\":{\"type\":\"number\",\"value\":\"nan\"},\"top\":{\"type\":\"number\",\"value\":\"nan\"},\"bottom\":{\"type\":\"number\",\"value\":\"nan\"},\"left_units\":\"canvas\",\"right_units\":\"canvas\",\"top_units\":\"canvas\",\"bottom_units\":\"canvas\",\"line_color\":\"black\",\"line_alpha\":1.0,\"line_width\":2,\"line_dash\":[4,4],\"fill_color\":\"lightgrey\",\"fill_alpha\":0.5}}}},{\"type\":\"object\",\"name\":\"BoxZoomTool\",\"id\":\"p5165\",\"attributes\":{\"overlay\":{\"type\":\"object\",\"name\":\"BoxAnnotation\",\"id\":\"p5166\",\"attributes\":{\"syncable\":false,\"level\":\"overlay\",\"visible\":false,\"left\":{\"type\":\"number\",\"value\":\"nan\"},\"right\":{\"type\":\"number\",\"value\":\"nan\"},\"top\":{\"type\":\"number\",\"value\":\"nan\"},\"bottom\":{\"type\":\"number\",\"value\":\"nan\"},\"left_units\":\"canvas\",\"right_units\":\"canvas\",\"top_units\":\"canvas\",\"bottom_units\":\"canvas\",\"line_color\":\"black\",\"line_alpha\":1.0,\"line_width\":2,\"line_dash\":[4,4],\"fill_color\":\"lightgrey\",\"fill_alpha\":0.5}}}}]}},{\"type\":\"object\",\"name\":\"ToolProxy\",\"id\":\"p5194\",\"attributes\":{\"tools\":[{\"type\":\"object\",\"name\":\"UndoTool\",\"id\":\"p4924\"},{\"type\":\"object\",\"name\":\"UndoTool\",\"id\":\"p5021\"},{\"type\":\"object\",\"name\":\"UndoTool\",\"id\":\"p4880\"},{\"type\":\"object\",\"name\":\"UndoTool\",\"id\":\"p5076\"},{\"type\":\"object\",\"name\":\"UndoTool\",\"id\":\"p5171\"}]}},{\"type\":\"object\",\"name\":\"ToolProxy\",\"id\":\"p5195\",\"attributes\":{\"tools\":[{\"type\":\"object\",\"name\":\"RedoTool\",\"id\":\"p4925\"},{\"type\":\"object\",\"name\":\"RedoTool\",\"id\":\"p5022\"},{\"type\":\"object\",\"name\":\"RedoTool\",\"id\":\"p4881\"},{\"type\":\"object\",\"name\":\"RedoTool\",\"id\":\"p5077\"},{\"type\":\"object\",\"name\":\"RedoTool\",\"id\":\"p5172\"}]}},{\"type\":\"object\",\"name\":\"ToolProxy\",\"id\":\"p5196\",\"attributes\":{\"tools\":[{\"type\":\"object\",\"name\":\"ResetTool\",\"id\":\"p4926\"},{\"type\":\"object\",\"name\":\"ResetTool\",\"id\":\"p5023\"},{\"type\":\"object\",\"name\":\"ResetTool\",\"id\":\"p4882\"},{\"type\":\"object\",\"name\":\"ResetTool\",\"id\":\"p5078\"},{\"type\":\"object\",\"name\":\"ResetTool\",\"id\":\"p5173\"}]}},{\"type\":\"object\",\"name\":\"SaveTool\",\"id\":\"p5197\"},{\"type\":\"object\",\"name\":\"HoverTool\",\"id\":\"p4949\",\"attributes\":{\"renderers\":[{\"type\":\"object\",\"name\":\"GlyphRenderer\",\"id\":\"p4946\",\"attributes\":{\"data_source\":{\"type\":\"object\",\"name\":\"ColumnDataSource\",\"id\":\"p4884\",\"attributes\":{\"selected\":{\"type\":\"object\",\"name\":\"Selection\",\"id\":\"p4885\",\"attributes\":{\"indices\":[],\"line_indices\":[]}},\"selection_policy\":{\"type\":\"object\",\"name\":\"UnionRenderers\",\"id\":\"p4886\"},\"data\":{\"type\":\"map\",\"entries\":[[\"index\",{\"type\":\"ndarray\",\"array\":{\"type\":\"bytes\",\"data\":\"AAAAAAEAAAACAAAAAwAAAAQAAAAFAAAABgAAAAcAAAAIAAAACQAAAAoAAAALAAAADAAAAA0AAAAOAAAADwAAABAAAAARAAAAEgAAABMAAAAUAAAAFQAAABYAAAAXAAAAGAAAABkAAAAaAAAAGwAAABwAAAAdAAAAHgAAAB8AAAAgAAAAIQAAACIAAAAjAAAAJAAAACUAAAAmAAAAJwAAACgAAAApAAAAKgAAACsAAAAsAAAALQAAAC4AAAAvAAAAMAAAADEAAAAyAAAAMwAAADQAAAA1AAAANgAAADcAAAA4AAAAOQAAADoAAAA7AAAAPAAAAD0AAAA+AAAAPwAAAEAAAABBAAAAQgAAAEMAAABEAAAARQAAAEYAAABHAAAASAAAAEkAAABKAAAASwAAAEwAAABNAAAATgAAAE8AAABQAAAAUQAAAFIAAABTAAAAVAAAAFUAAABWAAAAVwAAAFgAAABZAAAAWgAAAFsAAABcAAAAXQAAAF4AAABfAAAAYAAAAGEAAABiAAAAYwAAAGQAAABlAAAAZgAAAGcAAABoAAAAaQAAAGoAAABrAAAAbAAAAG0AAABuAAAAbwAAAHAAAABxAAAAcgAAAHMAAAB0AAAAdQAAAHYAAAB3AAAAeAAAAHkAAAB6AAAAewAAAHwAAAB9AAAAfgAAAH8AAACAAAAAgQAAAIIAAACDAAAAhAAAAIUAAACGAAAAhwAAAIgAAACJAAAAigAAAIsAAACMAAAAjQAAAI4AAACPAAAAkAAAAJEAAACSAAAAkwAAAJQAAACVAAAAlgAAAJcAAACYAAAAmQAAAJoAAACbAAAAnAAAAJ0AAACeAAAAnwAAAKAAAAChAAAAogAAAKMAAACkAAAApQAAAKYAAACnAAAAqAAAAKkAAACqAAAAqwAAAKwAAACtAAAArgAAAK8AAACwAAAAsQAAALIAAACzAAAAtAAAALUAAAC2AAAAtwAAALgAAAC5AAAAugAAALsAAAC8AAAAvQAAAL4AAAC/AAAAwAAAAMEAAADCAAAAwwAAAMQAAADFAAAAxgAAAMcAAADIAAAAyQAAAMoAAADLAAAAzAAAAM0AAADOAAAAzwAAANAAAADRAAAA0gAAANMAAADUAAAA1QAAANYAAADXAAAA2AAAANkAAADaAAAA2wAAANwAAADdAAAA3gAAAN8AAADgAAAA4QAAAOIAAADjAAAA5AAAAOUAAADmAAAA5wAAAOgAAADpAAAA6gAAAOsAAADsAAAA7QAAAO4AAADvAAAA8AAAAPEAAADyAAAA8wAAAPQAAAD1AAAA9gAAAPcAAAD4AAAA+QAAAPoAAAD7AAAA\"},\"shape\":[252],\"dtype\":\"int32\",\"order\":\"little\"}],[\"Open\",{\"type\":\"ndarray\",\"array\":{\"type\":\"bytes\",\"data\":\"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\"},\"shape\":[252],\"dtype\":\"float64\",\"order\":\"little\"}],[\"High\",{\"type\":\"ndarray\",\"array\":{\"type\":\"bytes\",\"data\":\"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\"},\"shape\":[252],\"dtype\":\"float64\",\"order\":\"little\"}],[\"Low\",{\"type\":\"ndarray\",\"array\":{\"type\":\"bytes\",\"data\":\"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\"},\"shape\":[252],\"dtype\":\"float64\",\"order\":\"little\"}],[\"Close\",{\"type\":\"ndarray\",\"array\":{\"type\":\"bytes\",\"data\":\"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\"},\"shape\":[252],\"dtype\":\"float64\",\"order\":\"little\"}],[\"Volume\",{\"type\":\"ndarray\",\"array\":{\"type\":\"bytes\",\"data\":\"AAAAAAAAAAAAAAAAAAAAAAAAAAAAAAAAAAAAAAAAAAAAAAAAAAAAAAAAAAAAAAAAAAAAAAAAAAAAAAAAAAAAAAAAAAAAAAAAAAAAAAAAAAAAAAAAAAAAAAAAAAAAAAAAAAAAAAAAAAAAAAAAAAAAAAAAAAAAAAAAAAAAAAAAAAAAAAAAAAAAAAAAAAAAAAAAAAAAAAAAAAAAAAAAAAAAAAAAAAAAAAAAAAAAAAAAAAAAAAAAAAAAAAAAAAAAAAAAAAAAAAAAAAAAAAAAAAAAAAAAAAAAAAAAAAAAAAAAAAAAAAAAAAAAAAAAAAAAAAAAAAAAAAAAAAAAAAAAAAAAAAAAAAAAAAAAAAAAAAAAAAAAAAAAAAAAAAAAAAAAAAAAAAAAAAAAAAAAAAAAAAAAAAAAAAAAAAAAAAAAAAAAAAAAAAAAAAAAAAAAAAAAAAAAAAAAAAAAAAAAAAAAAAAAAAAAAAAAAAAAAAAAAAAAAAAAAAAAAAAAAAAAAAAAAAAAAAAAAAAAAAAAAAAAAAAAAAAAAAAAAAAAAAAAAAAAAAAAAAAAAAAAAAAAAAAAAAAAAAAAAAAAAAAAAAAAAAAAAAAAAAAAAAAAAAAAAAAAAAAAAAAAAAAAAAAAAAAAAAAAAAAAAAAAAAAAAAAAAAAAAAAAAAAAAAAAAAAAAAAAAAAAAAAAAAAAAAAAAAAAAAAAAAAAAAAAAAAAAAAAAAAAAAAAAAAAAAAAAAAAAAAAAAAAAAAAAAAAAAAAAAAAAAAAAAAAAAAAAAAAAAAAAAAAAAAAAAAAAAAAAAAAAAAAAAAAAAAAAAAAAAAAAAAAAAAAAAAAAAAAAAAAAAAAAAAAAAAAAAAAAAAAAAAAAAAAAAAAAAAAAAAAAAAAAAAAAAAAAAAAAAAAAAAAAAAAAAAAAAAAAAAAAAAAAAAAAAAAAAAAAAAAAAAAAAAAAAAAAAAAAAAAAAAAAAAAAAAAAAAAAAAAAAAAAAAAAAAAAAAAAAAAAAAAAAAAAAAAAAAAAAAAAAAAAAAAAAAAAAAAAAAAAAAAAAAAAAAAAAAAAAAAAAAAAAAAAAAAAAAAAAAAAAAAAAAAAAAAAAAAAAAAAAAAAAAAAAAAAAAAAAAAAAAAAAAAAAAAAAAAAAAAAAAAAAAAAAAAAAAAAAAAAAAAAAAAAAAAAAAAAAAAAAAAAAAAAAAAAAAAAAAAAAAAAAAAAAAAAAAAAAAAAAAAAAAAAAAAAAAAAAAAAAAAAAAAAAAAAAAAAAAAAAAAAAAAAAAAAAAAAAAAAAAAAAAAAAAAAAAAAAAAAAAAAAAAAAAAAAAAAAAAAAAAAAAAAAAAAAAAAAAAAAAAAAAAAAAAAAAAAAAAAAAAAAAAAAAAAAAAAAAAAAAAAAAAAAAAAAAAAAAAAAAAAAAAAAAAAAAAAAAAAAAAAAAAAAAAAAAAAAAAAAAAAAAAAAAAAAAAAAAAAAAAAAAAAAAAAAAAAAAAAAAAAAAAAAAAAAAAAAAAAAAAAAAAAAAAAAAAAAAAAAAAAAAAAAAAAAAAAAAAAAAAAAAAAAAAAAAAAAAAAAAAAAAAAAAAAAAAAAAAAAAAAAAAAAAAAAAAAAAAAAAAAAAAAAAAAAAAAAAAAAAAAAAAAAAAAAAAAAAAAAAAAAAAAAAAAAAAAAAAAAAAAAAAAAAAAAAAAAAAAAAAAAAAAAAAAAAAAAAAAAAAAAAAAAAAAAAAAAAAAAAAAAAAAAAAAAAAAAAAAAAAAAAAAAAAAAAAAAAAAAAAAAAAAAAAAAAAAAAAAAAAAAAAAAAAAAAAAAAAAAAAAAAAAAAAAAAAAAAAAAAAAAAAAAAAAAAAAAAAAAAAAAAAAAAAAAAAAAAAAAAAAAAAAAAAAAAAAAAAAAAAAAAAAAAAAAAAAAAAAAAAAAAAAAAAAAAAAAAAAAAAAAAAAAAAAAAAAAAAAAAAAAAAAAAAAAAAAAAAAAAAAAAAAAAAAAAAAAAAAAAAAAAAAAAAAAAAAAAAAAAAAAAAAAAAAAAAAAAAAAAAAAAAAAAAAAAAAAAAAAAAAAAAAAAAAAAAAAAAAAAAAAAAAAAAAAAAAAAAAAAAAAAAAAAAAAAAAAAAAAAAAAAAAAAAAAAAAAAAAAAAAAAAAAAAAAAAAAAAAAAAAAAAAAAAAAAAAAAAAAAAAAAAAAAAAAAAAAAAAAAAAAAAAAAAAAAAAAAAAAAAAAAAAAAAAAAAAAAAAAAAAAAAAAAAAAAAAAAAAAAAAAAAAAAAAAAAAAAAAAAAAAAAAAAAAAAAAAAAAAAAAAAAAAAAAAAAAAAAAAAAAAAAAAAAAAAAAAAAAAAAAAAAAAAAAAAAAAAAAAAAAAAAAAAAAAAAAAAAAAAAAAAAAAAAAAAAAAAAAAAAAAAAAAAAAAAAAAAAAAAAAAAAAAAAAAAAAAAAAAAAAAAAAAAAAAAAAAAAAAAAAAAAAAAAAAAAAAAAAAAAAAAAAAAAAAAAAAAAAAAAAAAAAAAAAAAAAAAAAAAAAAAAAAAAAAAAAAAAAAAAAAAAAAAAAAAAAAAAAAAAAAAAAAAAAAAAAAAAAAAAAAAAAAAAAAAAAAAAAAAAAAAAAAAAAAAAAAAAAAAAAAAAAAAAAAAAAAAAAAAAAAAAAAAAAAAAAAAAAAAAAAAAAAAAAAAAAAAAAAAAAAAAAAAAAAAAAAAAAAAA\"},\"shape\":[252],\"dtype\":\"float64\",\"order\":\"little\"}],[\"datetime\",{\"type\":\"ndarray\",\"array\":{\"type\":\"bytes\",\"data\":\"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\"},\"shape\":[252],\"dtype\":\"float64\",\"order\":\"little\"}],[\"inc\",{\"type\":\"ndarray\",\"array\":[\"0\",\"0\",\"0\",\"0\",\"1\",\"0\",\"0\",\"1\",\"0\",\"0\",\"1\",\"1\",\"0\",\"1\",\"0\",\"1\",\"1\",\"1\",\"0\",\"1\",\"0\",\"0\",\"1\",\"0\",\"1\",\"1\",\"1\",\"0\",\"0\",\"0\",\"1\",\"1\",\"1\",\"0\",\"1\",\"1\",\"0\",\"0\",\"0\",\"1\",\"0\",\"1\",\"1\",\"1\",\"0\",\"1\",\"0\",\"0\",\"0\",\"1\",\"1\",\"1\",\"0\",\"0\",\"1\",\"0\",\"1\",\"0\",\"1\",\"1\",\"0\",\"1\",\"1\",\"0\",\"1\",\"1\",\"1\",\"0\",\"0\",\"1\",\"1\",\"0\",\"0\",\"0\",\"1\",\"0\",\"1\",\"1\",\"1\",\"0\",\"0\",\"0\",\"1\",\"1\",\"1\",\"1\",\"1\",\"1\",\"1\",\"0\",\"0\",\"1\",\"0\",\"1\",\"1\",\"0\",\"1\",\"1\",\"1\",\"0\",\"1\",\"1\",\"0\",\"0\",\"1\",\"0\",\"1\",\"1\",\"1\",\"0\",\"1\",\"0\",\"1\",\"1\",\"0\",\"0\",\"1\",\"0\",\"1\",\"1\",\"0\",\"1\",\"1\",\"0\",\"0\",\"1\",\"0\",\"0\",\"1\",\"0\",\"0\",\"0\",\"0\",\"0\",\"1\",\"1\",\"0\",\"0\",\"0\",\"0\",\"0\",\"1\",\"0\",\"0\",\"0\",\"0\",\"1\",\"0\",\"0\",\"0\",\"0\",\"0\",\"1\",\"1\",\"0\",\"0\",\"1\",\"0\",\"1\",\"1\",\"1\",\"0\",\"1\",\"0\",\"0\",\"1\",\"1\",\"1\",\"1\",\"0\",\"1\",\"1\",\"1\",\"1\",\"0\",\"0\",\"0\",\"1\",\"0\",\"1\",\"0\",\"1\",\"1\",\"1\",\"0\",\"0\",\"1\",\"0\",\"0\",\"1\",\"1\",\"0\",\"0\",\"0\",\"0\",\"0\",\"1\",\"0\",\"0\",\"1\",\"0\",\"1\",\"1\",\"0\",\"1\",\"1\",\"0\",\"1\",\"0\",\"0\",\"0\",\"0\",\"1\",\"1\",\"1\",\"0\",\"1\",\"1\",\"1\",\"0\",\"1\",\"1\",\"0\",\"1\",\"0\",\"0\",\"1\",\"0\",\"0\",\"0\",\"1\",\"0\",\"1\",\"1\",\"1\",\"1\",\"0\",\"0\",\"0\",\"1\",\"0\",\"0\",\"1\",\"0\",\"1\",\"0\",\"1\",\"1\",\"0\",\"0\",\"1\",\"1\"],\"shape\":[252],\"dtype\":\"object\",\"order\":\"little\"}],[\"equity\",{\"type\":\"ndarray\",\"array\":{\"type\":\"bytes\",\"data\":\"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\"},\"shape\":[252],\"dtype\":\"float64\",\"order\":\"little\"}],[\"RSI(C,14)_0_1\",{\"type\":\"ndarray\",\"array\":{\"type\":\"bytes\",\"data\":\"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\"},\"shape\":[252],\"dtype\":\"float64\",\"order\":\"little\"}],[\"ohlc_low\",{\"type\":\"ndarray\",\"array\":{\"type\":\"bytes\",\"data\":\"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\"},\"shape\":[252],\"dtype\":\"float64\",\"order\":\"little\"}],[\"ohlc_high\",{\"type\":\"ndarray\",\"array\":{\"type\":\"bytes\",\"data\":\"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\"},\"shape\":[252],\"dtype\":\"float64\",\"order\":\"little\"}]]}}},\"view\":{\"type\":\"object\",\"name\":\"CDSView\",\"id\":\"p4947\",\"attributes\":{\"filter\":{\"type\":\"object\",\"name\":\"AllIndices\",\"id\":\"p4948\"}}},\"glyph\":{\"type\":\"object\",\"name\":\"Line\",\"id\":\"p4943\",\"attributes\":{\"x\":{\"type\":\"field\",\"field\":\"index\"},\"y\":{\"type\":\"field\",\"field\":\"equity\"},\"line_color\":\"#1f77b4\",\"line_width\":1.5}},\"nonselection_glyph\":{\"type\":\"object\",\"name\":\"Line\",\"id\":\"p4944\",\"attributes\":{\"x\":{\"type\":\"field\",\"field\":\"index\"},\"y\":{\"type\":\"field\",\"field\":\"equity\"},\"line_color\":\"#1f77b4\",\"line_alpha\":0.1,\"line_width\":1.5}},\"muted_glyph\":{\"type\":\"object\",\"name\":\"Line\",\"id\":\"p4945\",\"attributes\":{\"x\":{\"type\":\"field\",\"field\":\"index\"},\"y\":{\"type\":\"field\",\"field\":\"equity\"},\"line_color\":\"#1f77b4\",\"line_alpha\":0.2,\"line_width\":1.5}}}}],\"tooltips\":[[\"Date\",\"@datetime{%c}\"],[\"Equity\",\"@equity{+0,0.[000]%}\"]],\"formatters\":{\"type\":\"map\",\"entries\":[[\"@datetime\",\"datetime\"]]},\"mode\":\"vline\",\"point_policy\":\"follow_mouse\"}},{\"type\":\"object\",\"name\":\"HoverTool\",\"id\":\"p5044\",\"attributes\":{\"renderers\":[{\"type\":\"object\",\"name\":\"GlyphRenderer\",\"id\":\"p5032\",\"attributes\":{\"data_source\":{\"type\":\"object\",\"name\":\"ColumnDataSource\",\"id\":\"p4887\",\"attributes\":{\"selected\":{\"type\":\"object\",\"name\":\"Selection\",\"id\":\"p4888\",\"attributes\":{\"indices\":[],\"line_indices\":[]}},\"selection_policy\":{\"type\":\"object\",\"name\":\"UnionRenderers\",\"id\":\"p4889\"},\"data\":{\"type\":\"map\",\"entries\":[[\"index\",{\"type\":\"ndarray\",\"array\":{\"type\":\"bytes\",\"data\":\"IQAAAN8AAAD7AAAA\"},\"shape\":[3],\"dtype\":\"int32\",\"order\":\"little\"}],[\"datetime\",{\"type\":\"ndarray\",\"array\":{\"type\":\"bytes\",\"data\":\"AAAAv5+5dEIAAIB4PQ91QgAAgF4dHHVC\"},\"shape\":[3],\"dtype\":\"float64\",\"order\":\"little\"}],[\"exit_price\",{\"type\":\"ndarray\",\"array\":{\"type\":\"bytes\",\"data\":\"////36fGBUAAAACgR+EIQP///x9aZAdA\"},\"shape\":[3],\"dtype\":\"float64\",\"order\":\"little\"}],[\"size\",{\"type\":\"ndarray\",\"array\":{\"type\":\"bytes\",\"data\":\"3BAAAJgPAAAeEAAA\"},\"shape\":[3],\"dtype\":\"int32\",\"order\":\"little\"}],[\"returns_positive\",{\"type\":\"ndarray\",\"array\":[\"1\",\"1\",\"0\"],\"shape\":[3],\"dtype\":\"object\",\"order\":\"little\"}],[\"returns_long\",{\"type\":\"ndarray\",\"array\":{\"type\":\"bytes\",\"data\":\"8MD6mu1lxj+ALtaslBOtP4DcWo+07Zy/\"},\"shape\":[3],\"dtype\":\"float64\",\"order\":\"little\"}],[\"returns_short\",{\"type\":\"ndarray\",\"array\":{\"type\":\"bytes\",\"data\":\"AAAAAAAA+H8AAAAAAAD4fwAAAAAAAPh/\"},\"shape\":[3],\"dtype\":\"float64\",\"order\":\"little\"}],[\"marker_size\",{\"type\":\"ndarray\",\"array\":{\"type\":\"bytes\",\"data\":\"AAAAAAAANEAAAAAAAAAgQNBeQnsJ7SlA\"},\"shape\":[3],\"dtype\":\"float64\",\"order\":\"little\"}],[\"position_lines_xs\",[[19,33],[150,223],[236,251]]],[\"position_lines_ys\",[[2.316624036312103,2.721999883651733],[2.9428740363121033,3.109999895095825],[3.0090060210227967,2.924000024795532]]]]}}},\"view\":{\"type\":\"object\",\"name\":\"CDSView\",\"id\":\"p5033\",\"attributes\":{\"filter\":{\"type\":\"object\",\"name\":\"AllIndices\",\"id\":\"p5034\"}}},\"glyph\":{\"type\":\"object\",\"name\":\"Scatter\",\"id\":\"p5029\",\"attributes\":{\"x\":{\"type\":\"field\",\"field\":\"index\"},\"y\":{\"type\":\"field\",\"field\":\"returns_long\"},\"size\":{\"type\":\"field\",\"field\":\"marker_size\"},\"fill_color\":{\"type\":\"field\",\"field\":\"returns_positive\",\"transform\":{\"type\":\"object\",\"name\":\"CategoricalColorMapper\",\"id\":\"p4891\",\"attributes\":{\"palette\":[\"tomato\",\"lime\"],\"factors\":[\"0\",\"1\"]}}},\"marker\":{\"type\":\"value\",\"value\":\"triangle\"}}},\"nonselection_glyph\":{\"type\":\"object\",\"name\":\"Scatter\",\"id\":\"p5030\",\"attributes\":{\"x\":{\"type\":\"field\",\"field\":\"index\"},\"y\":{\"type\":\"field\",\"field\":\"returns_long\"},\"size\":{\"type\":\"field\",\"field\":\"marker_size\"},\"line_alpha\":{\"type\":\"value\",\"value\":0.1},\"fill_color\":{\"type\":\"field\",\"field\":\"returns_positive\",\"transform\":{\"id\":\"p4891\"}},\"fill_alpha\":{\"type\":\"value\",\"value\":0.1},\"hatch_alpha\":{\"type\":\"value\",\"value\":0.1},\"marker\":{\"type\":\"value\",\"value\":\"triangle\"}}},\"muted_glyph\":{\"type\":\"object\",\"name\":\"Scatter\",\"id\":\"p5031\",\"attributes\":{\"x\":{\"type\":\"field\",\"field\":\"index\"},\"y\":{\"type\":\"field\",\"field\":\"returns_long\"},\"size\":{\"type\":\"field\",\"field\":\"marker_size\"},\"line_alpha\":{\"type\":\"value\",\"value\":0.2},\"fill_color\":{\"type\":\"field\",\"field\":\"returns_positive\",\"transform\":{\"id\":\"p4891\"}},\"fill_alpha\":{\"type\":\"value\",\"value\":0.2},\"hatch_alpha\":{\"type\":\"value\",\"value\":0.2},\"marker\":{\"type\":\"value\",\"value\":\"triangle\"}}}}}],\"tooltips\":[[\"Date\",\"@datetime{%c}\"],[\"Size\",\"@size{0,0}\"],[\"P/L\",\"@returns_long{+0.[000]%}\"]],\"formatters\":{\"type\":\"map\",\"entries\":[[\"@datetime\",\"datetime\"]]},\"point_policy\":\"follow_mouse\"}},{\"type\":\"object\",\"name\":\"HoverTool\",\"id\":\"p5045\",\"attributes\":{\"renderers\":[{\"type\":\"object\",\"name\":\"GlyphRenderer\",\"id\":\"p5041\",\"attributes\":{\"data_source\":{\"id\":\"p4887\"},\"view\":{\"type\":\"object\",\"name\":\"CDSView\",\"id\":\"p5042\",\"attributes\":{\"filter\":{\"type\":\"object\",\"name\":\"AllIndices\",\"id\":\"p5043\"}}},\"glyph\":{\"type\":\"object\",\"name\":\"Scatter\",\"id\":\"p5038\",\"attributes\":{\"x\":{\"type\":\"field\",\"field\":\"index\"},\"y\":{\"type\":\"field\",\"field\":\"returns_short\"},\"size\":{\"type\":\"field\",\"field\":\"marker_size\"},\"fill_color\":{\"type\":\"field\",\"field\":\"returns_positive\",\"transform\":{\"id\":\"p4891\"}},\"marker\":{\"type\":\"value\",\"value\":\"inverted_triangle\"}}},\"nonselection_glyph\":{\"type\":\"object\",\"name\":\"Scatter\",\"id\":\"p5039\",\"attributes\":{\"x\":{\"type\":\"field\",\"field\":\"index\"},\"y\":{\"type\":\"field\",\"field\":\"returns_short\"},\"size\":{\"type\":\"field\",\"field\":\"marker_size\"},\"line_alpha\":{\"type\":\"value\",\"value\":0.1},\"fill_color\":{\"type\":\"field\",\"field\":\"returns_positive\",\"transform\":{\"id\":\"p4891\"}},\"fill_alpha\":{\"type\":\"value\",\"value\":0.1},\"hatch_alpha\":{\"type\":\"value\",\"value\":0.1},\"marker\":{\"type\":\"value\",\"value\":\"inverted_triangle\"}}},\"muted_glyph\":{\"type\":\"object\",\"name\":\"Scatter\",\"id\":\"p5040\",\"attributes\":{\"x\":{\"type\":\"field\",\"field\":\"index\"},\"y\":{\"type\":\"field\",\"field\":\"returns_short\"},\"size\":{\"type\":\"field\",\"field\":\"marker_size\"},\"line_alpha\":{\"type\":\"value\",\"value\":0.2},\"fill_color\":{\"type\":\"field\",\"field\":\"returns_positive\",\"transform\":{\"id\":\"p4891\"}},\"fill_alpha\":{\"type\":\"value\",\"value\":0.2},\"hatch_alpha\":{\"type\":\"value\",\"value\":0.2},\"marker\":{\"type\":\"value\",\"value\":\"inverted_triangle\"}}}}}],\"tooltips\":[[\"Date\",\"@datetime{%c}\"],[\"Size\",\"@size{0,0}\"],[\"P/L\",\"@returns_short{+0.[000]%}\"]],\"formatters\":{\"type\":\"map\",\"entries\":[[\"@datetime\",\"datetime\"]]},\"point_policy\":\"follow_mouse\"}},{\"type\":\"object\",\"name\":\"HoverTool\",\"id\":\"p5188\",\"attributes\":{\"renderers\":[{\"type\":\"object\",\"name\":\"GlyphRenderer\",\"id\":\"p5128\",\"attributes\":{\"data_source\":{\"id\":\"p4884\"},\"view\":{\"type\":\"object\",\"name\":\"CDSView\",\"id\":\"p5129\",\"attributes\":{\"filter\":{\"type\":\"object\",\"name\":\"AllIndices\",\"id\":\"p5130\"}}},\"glyph\":{\"type\":\"object\",\"name\":\"VBar\",\"id\":\"p5125\",\"attributes\":{\"x\":{\"type\":\"field\",\"field\":\"index\"},\"width\":{\"type\":\"value\",\"value\":0.8},\"bottom\":{\"type\":\"field\",\"field\":\"Close\"},\"top\":{\"type\":\"field\",\"field\":\"Open\"},\"fill_color\":{\"type\":\"field\",\"field\":\"inc\",\"transform\":{\"type\":\"object\",\"name\":\"CategoricalColorMapper\",\"id\":\"p4890\",\"attributes\":{\"palette\":[\"tomato\",\"lime\"],\"factors\":[\"0\",\"1\"]}}}}},\"nonselection_glyph\":{\"type\":\"object\",\"name\":\"VBar\",\"id\":\"p5126\",\"attributes\":{\"x\":{\"type\":\"field\",\"field\":\"index\"},\"width\":{\"type\":\"value\",\"value\":0.8},\"bottom\":{\"type\":\"field\",\"field\":\"Close\"},\"top\":{\"type\":\"field\",\"field\":\"Open\"},\"line_alpha\":{\"type\":\"value\",\"value\":0.1},\"fill_color\":{\"type\":\"field\",\"field\":\"inc\",\"transform\":{\"id\":\"p4890\"}},\"fill_alpha\":{\"type\":\"value\",\"value\":0.1},\"hatch_alpha\":{\"type\":\"value\",\"value\":0.1}}},\"muted_glyph\":{\"type\":\"object\",\"name\":\"VBar\",\"id\":\"p5127\",\"attributes\":{\"x\":{\"type\":\"field\",\"field\":\"index\"},\"width\":{\"type\":\"value\",\"value\":0.8},\"bottom\":{\"type\":\"field\",\"field\":\"Close\"},\"top\":{\"type\":\"field\",\"field\":\"Open\"},\"line_alpha\":{\"type\":\"value\",\"value\":0.2},\"fill_color\":{\"type\":\"field\",\"field\":\"inc\",\"transform\":{\"id\":\"p4890\"}},\"fill_alpha\":{\"type\":\"value\",\"value\":0.2},\"hatch_alpha\":{\"type\":\"value\",\"value\":0.2}}}}}],\"tooltips\":[[\"Date\",\"@datetime{%c}\"],[\"x, y\",\"$index\\u00a0\\u00a0\\u00a0\\u00a0$y{0,0.0[0000]}\"],[\"OHLC\",\"@Open{0,0.0[0000]}\\u00a0\\u00a0\\u00a0\\u00a0@High{0,0.0[0000]}\\u00a0\\u00a0\\u00a0\\u00a0@Low{0,0.0[0000]}\\u00a0\\u00a0\\u00a0\\u00a0@Close{0,0.0[0000]}\"],[\"Volume\",\"@Volume{0,0}\"]],\"formatters\":{\"type\":\"map\",\"entries\":[[\"@datetime\",\"datetime\"]]},\"mode\":\"vline\",\"point_policy\":\"follow_mouse\"}},{\"type\":\"object\",\"name\":\"HoverTool\",\"id\":\"p5089\",\"attributes\":{\"renderers\":[{\"type\":\"object\",\"name\":\"GlyphRenderer\",\"id\":\"p5086\",\"attributes\":{\"data_source\":{\"id\":\"p4884\"},\"view\":{\"type\":\"object\",\"name\":\"CDSView\",\"id\":\"p5087\",\"attributes\":{\"filter\":{\"type\":\"object\",\"name\":\"AllIndices\",\"id\":\"p5088\"}}},\"glyph\":{\"type\":\"object\",\"name\":\"VBar\",\"id\":\"p5083\",\"attributes\":{\"x\":{\"type\":\"field\",\"field\":\"index\"},\"width\":{\"type\":\"value\",\"value\":0.8},\"top\":{\"type\":\"field\",\"field\":\"Volume\"},\"line_color\":{\"type\":\"field\",\"field\":\"inc\",\"transform\":{\"id\":\"p4890\"}},\"fill_color\":{\"type\":\"field\",\"field\":\"inc\",\"transform\":{\"id\":\"p4890\"}},\"hatch_color\":{\"type\":\"field\",\"field\":\"inc\",\"transform\":{\"id\":\"p4890\"}}}},\"nonselection_glyph\":{\"type\":\"object\",\"name\":\"VBar\",\"id\":\"p5084\",\"attributes\":{\"x\":{\"type\":\"field\",\"field\":\"index\"},\"width\":{\"type\":\"value\",\"value\":0.8},\"top\":{\"type\":\"field\",\"field\":\"Volume\"},\"line_color\":{\"type\":\"field\",\"field\":\"inc\",\"transform\":{\"id\":\"p4890\"}},\"line_alpha\":{\"type\":\"value\",\"value\":0.1},\"fill_color\":{\"type\":\"field\",\"field\":\"inc\",\"transform\":{\"id\":\"p4890\"}},\"fill_alpha\":{\"type\":\"value\",\"value\":0.1},\"hatch_color\":{\"type\":\"field\",\"field\":\"inc\",\"transform\":{\"id\":\"p4890\"}},\"hatch_alpha\":{\"type\":\"value\",\"value\":0.1}}},\"muted_glyph\":{\"type\":\"object\",\"name\":\"VBar\",\"id\":\"p5085\",\"attributes\":{\"x\":{\"type\":\"field\",\"field\":\"index\"},\"width\":{\"type\":\"value\",\"value\":0.8},\"top\":{\"type\":\"field\",\"field\":\"Volume\"},\"line_color\":{\"type\":\"field\",\"field\":\"inc\",\"transform\":{\"id\":\"p4890\"}},\"line_alpha\":{\"type\":\"value\",\"value\":0.2},\"fill_color\":{\"type\":\"field\",\"field\":\"inc\",\"transform\":{\"id\":\"p4890\"}},\"fill_alpha\":{\"type\":\"value\",\"value\":0.2},\"hatch_color\":{\"type\":\"field\",\"field\":\"inc\",\"transform\":{\"id\":\"p4890\"}},\"hatch_alpha\":{\"type\":\"value\",\"value\":0.2}}}}}],\"tooltips\":[[\"Date\",\"@datetime{%c}\"],[\"Volume\",\"@Volume{0.00 a}\"]],\"formatters\":{\"type\":\"map\",\"entries\":[[\"@datetime\",\"datetime\"]]},\"mode\":\"vline\",\"point_policy\":\"follow_mouse\"}},{\"type\":\"object\",\"name\":\"HoverTool\",\"id\":\"p5187\",\"attributes\":{\"renderers\":[{\"type\":\"object\",\"name\":\"GlyphRenderer\",\"id\":\"p5181\",\"attributes\":{\"data_source\":{\"id\":\"p4884\"},\"view\":{\"type\":\"object\",\"name\":\"CDSView\",\"id\":\"p5182\",\"attributes\":{\"filter\":{\"type\":\"object\",\"name\":\"AllIndices\",\"id\":\"p5183\"}}},\"glyph\":{\"type\":\"object\",\"name\":\"Line\",\"id\":\"p5178\",\"attributes\":{\"x\":{\"type\":\"field\",\"field\":\"index\"},\"y\":{\"type\":\"field\",\"field\":\"RSI(C,14)_0_1\"},\"line_color\":\"#1f77b4\",\"line_width\":1.3}},\"nonselection_glyph\":{\"type\":\"object\",\"name\":\"Line\",\"id\":\"p5179\",\"attributes\":{\"x\":{\"type\":\"field\",\"field\":\"index\"},\"y\":{\"type\":\"field\",\"field\":\"RSI(C,14)_0_1\"},\"line_color\":\"#1f77b4\",\"line_alpha\":0.1,\"line_width\":1.3}},\"muted_glyph\":{\"type\":\"object\",\"name\":\"Line\",\"id\":\"p5180\",\"attributes\":{\"x\":{\"type\":\"field\",\"field\":\"index\"},\"y\":{\"type\":\"field\",\"field\":\"RSI(C,14)_0_1\"},\"line_color\":\"#1f77b4\",\"line_alpha\":0.2,\"line_width\":1.3}}}}],\"tooltips\":[[\"Date\",\"@datetime{%c}\"],[\"RSI(C,14)\",\"@{RSI(C,14)_0_1}{0,0.0[0000]}\"]],\"formatters\":{\"type\":\"map\",\"entries\":[[\"@datetime\",\"datetime\"]]},\"mode\":\"vline\",\"point_policy\":\"follow_mouse\"}},{\"type\":\"object\",\"name\":\"ToolProxy\",\"id\":\"p5198\",\"attributes\":{\"tools\":[{\"type\":\"object\",\"name\":\"CrosshairTool\",\"id\":\"p5190\"},{\"id\":\"p5190\"},{\"id\":\"p5190\"},{\"id\":\"p5190\"},{\"id\":\"p5190\"}]}}],\"active_drag\":{\"id\":\"p5163\"},\"active_scroll\":{\"id\":\"p5164\"}}},\"toolbar_location\":\"right\",\"children\":[[{\"type\":\"object\",\"name\":\"Figure\",\"id\":\"p4895\",\"attributes\":{\"width\":null,\"height\":110,\"sizing_mode\":\"stretch_width\",\"x_range\":{\"type\":\"object\",\"name\":\"Range1d\",\"id\":\"p4850\",\"attributes\":{\"js_property_callbacks\":{\"type\":\"map\",\"entries\":[[\"change:end\",[{\"type\":\"object\",\"name\":\"CustomJS\",\"id\":\"p5189\",\"attributes\":{\"args\":{\"type\":\"map\",\"entries\":[[\"ohlc_range\",{\"type\":\"object\",\"name\":\"DataRange1d\",\"id\":\"p4853\"}],[\"source\",{\"id\":\"p4884\"}],[\"volume_range\",{\"type\":\"object\",\"name\":\"DataRange1d\",\"id\":\"p5049\"}]]},\"code\":\"if (!window._bt_scale_range) {\\n    window._bt_scale_range = function (range, min, max, pad) {\\n        \\\"use strict\\\";\\n        if (min !== Infinity && max !== -Infinity) {\\n            pad = pad ? (max - min) * .03 : 0;\\n            range.start = min - pad;\\n            range.end = max + pad;\\n        } else console.error('backtesting: scale range error:', min, max, range);\\n    };\\n}\\n\\nclearTimeout(window._bt_autoscale_timeout);\\n\\nwindow._bt_autoscale_timeout = setTimeout(function () {\\n    /**\\n     * @variable cb_obj `fig_ohlc.x_range`.\\n     * @variable source `ColumnDataSource`\\n     * @variable ohlc_range `fig_ohlc.y_range`.\\n     * @variable volume_range `fig_volume.y_range`.\\n     */\\n    \\\"use strict\\\";\\n\\n    let i = Math.max(Math.floor(cb_obj.start), 0),\\n        j = Math.min(Math.ceil(cb_obj.end), source.data['ohlc_high'].length);\\n\\n    let max = Math.max.apply(null, source.data['ohlc_high'].slice(i, j)),\\n        min = Math.min.apply(null, source.data['ohlc_low'].slice(i, j));\\n    _bt_scale_range(ohlc_range, min, max, true);\\n\\n    if (volume_range) {\\n        max = Math.max.apply(null, source.data['Volume'].slice(i, j));\\n        _bt_scale_range(volume_range, 0, max * 1.03, false);\\n    }\\n\\n}, 50);\\n\"}}]]]},\"end\":251,\"bounds\":[-12.55,263.55],\"min_interval\":10}},\"y_range\":{\"type\":\"object\",\"name\":\"DataRange1d\",\"id\":\"p4897\"},\"x_scale\":{\"type\":\"object\",\"name\":\"LinearScale\",\"id\":\"p4904\"},\"y_scale\":{\"type\":\"object\",\"name\":\"LinearScale\",\"id\":\"p4905\"},\"title\":{\"type\":\"object\",\"name\":\"Title\",\"id\":\"p4902\"},\"outline_line_color\":\"#666666\",\"renderers\":[{\"type\":\"object\",\"name\":\"GlyphRenderer\",\"id\":\"p4937\",\"attributes\":{\"data_source\":{\"type\":\"object\",\"name\":\"ColumnDataSource\",\"id\":\"p4928\",\"attributes\":{\"selected\":{\"type\":\"object\",\"name\":\"Selection\",\"id\":\"p4929\",\"attributes\":{\"indices\":[],\"line_indices\":[]}},\"selection_policy\":{\"type\":\"object\",\"name\":\"UnionRenderers\",\"id\":\"p4930\"},\"data\":{\"type\":\"map\",\"entries\":[[\"index\",{\"type\":\"ndarray\",\"array\":{\"type\":\"bytes\",\"data\":\"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\"},\"shape\":[504],\"dtype\":\"int32\",\"order\":\"little\"}],[\"equity_dd\",{\"type\":\"ndarray\",\"array\":{\"type\":\"bytes\",\"data\":\"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\"},\"shape\":[504],\"dtype\":\"float64\",\"order\":\"little\"}]]}}},\"view\":{\"type\":\"object\",\"name\":\"CDSView\",\"id\":\"p4938\",\"attributes\":{\"filter\":{\"type\":\"object\",\"name\":\"AllIndices\",\"id\":\"p4939\"}}},\"glyph\":{\"type\":\"object\",\"name\":\"Patch\",\"id\":\"p4934\",\"attributes\":{\"x\":{\"type\":\"field\",\"field\":\"index\"},\"y\":{\"type\":\"field\",\"field\":\"equity_dd\"},\"line_color\":\"#ffcb66\",\"fill_color\":\"#ffffea\"}},\"nonselection_glyph\":{\"type\":\"object\",\"name\":\"Patch\",\"id\":\"p4935\",\"attributes\":{\"x\":{\"type\":\"field\",\"field\":\"index\"},\"y\":{\"type\":\"field\",\"field\":\"equity_dd\"},\"line_color\":\"#ffcb66\",\"line_alpha\":0.1,\"fill_color\":\"#ffffea\",\"fill_alpha\":0.1,\"hatch_alpha\":0.1}},\"muted_glyph\":{\"type\":\"object\",\"name\":\"Patch\",\"id\":\"p4936\",\"attributes\":{\"x\":{\"type\":\"field\",\"field\":\"index\"},\"y\":{\"type\":\"field\",\"field\":\"equity_dd\"},\"line_color\":\"#ffcb66\",\"line_alpha\":0.2,\"fill_color\":\"#ffffea\",\"fill_alpha\":0.2,\"hatch_alpha\":0.2}}}},{\"id\":\"p4946\"},{\"type\":\"object\",\"name\":\"GlyphRenderer\",\"id\":\"p4957\",\"attributes\":{\"data_source\":{\"type\":\"object\",\"name\":\"ColumnDataSource\",\"id\":\"p4951\",\"attributes\":{\"selected\":{\"type\":\"object\",\"name\":\"Selection\",\"id\":\"p4952\",\"attributes\":{\"indices\":[],\"line_indices\":[]}},\"selection_policy\":{\"type\":\"object\",\"name\":\"UnionRenderers\",\"id\":\"p4953\"},\"data\":{\"type\":\"map\"}}},\"view\":{\"type\":\"object\",\"name\":\"CDSView\",\"id\":\"p4958\",\"attributes\":{\"filter\":{\"type\":\"object\",\"name\":\"AllIndices\",\"id\":\"p4959\"}}},\"glyph\":{\"type\":\"object\",\"name\":\"Scatter\",\"id\":\"p4954\",\"attributes\":{\"x\":{\"type\":\"value\",\"value\":239},\"y\":{\"type\":\"value\",\"value\":1.2689059939385414},\"size\":{\"type\":\"value\",\"value\":8},\"line_color\":{\"type\":\"value\",\"value\":\"cyan\"},\"fill_color\":{\"type\":\"value\",\"value\":\"cyan\"},\"hatch_color\":{\"type\":\"value\",\"value\":\"cyan\"}}},\"nonselection_glyph\":{\"type\":\"object\",\"name\":\"Scatter\",\"id\":\"p4955\",\"attributes\":{\"x\":{\"type\":\"value\",\"value\":239},\"y\":{\"type\":\"value\",\"value\":1.2689059939385414},\"size\":{\"type\":\"value\",\"value\":8},\"line_color\":{\"type\":\"value\",\"value\":\"cyan\"},\"line_alpha\":{\"type\":\"value\",\"value\":0.1},\"fill_color\":{\"type\":\"value\",\"value\":\"cyan\"},\"fill_alpha\":{\"type\":\"value\",\"value\":0.1},\"hatch_color\":{\"type\":\"value\",\"value\":\"cyan\"},\"hatch_alpha\":{\"type\":\"value\",\"value\":0.1}}},\"muted_glyph\":{\"type\":\"object\",\"name\":\"Scatter\",\"id\":\"p4956\",\"attributes\":{\"x\":{\"type\":\"value\",\"value\":239},\"y\":{\"type\":\"value\",\"value\":1.2689059939385414},\"size\":{\"type\":\"value\",\"value\":8},\"line_color\":{\"type\":\"value\",\"value\":\"cyan\"},\"line_alpha\":{\"type\":\"value\",\"value\":0.2},\"fill_color\":{\"type\":\"value\",\"value\":\"cyan\"},\"fill_alpha\":{\"type\":\"value\",\"value\":0.2},\"hatch_color\":{\"type\":\"value\",\"value\":\"cyan\"},\"hatch_alpha\":{\"type\":\"value\",\"value\":0.2}}}}},{\"type\":\"object\",\"name\":\"GlyphRenderer\",\"id\":\"p4968\",\"attributes\":{\"data_source\":{\"type\":\"object\",\"name\":\"ColumnDataSource\",\"id\":\"p4962\",\"attributes\":{\"selected\":{\"type\":\"object\",\"name\":\"Selection\",\"id\":\"p4963\",\"attributes\":{\"indices\":[],\"line_indices\":[]}},\"selection_policy\":{\"type\":\"object\",\"name\":\"UnionRenderers\",\"id\":\"p4964\"},\"data\":{\"type\":\"map\"}}},\"view\":{\"type\":\"object\",\"name\":\"CDSView\",\"id\":\"p4969\",\"attributes\":{\"filter\":{\"type\":\"object\",\"name\":\"AllIndices\",\"id\":\"p4970\"}}},\"glyph\":{\"type\":\"object\",\"name\":\"Scatter\",\"id\":\"p4965\",\"attributes\":{\"x\":{\"type\":\"value\",\"value\":251},\"y\":{\"type\":\"value\",\"value\":1.2066033844948767},\"size\":{\"type\":\"value\",\"value\":8},\"line_color\":{\"type\":\"value\",\"value\":\"blue\"},\"fill_color\":{\"type\":\"value\",\"value\":\"blue\"},\"hatch_color\":{\"type\":\"value\",\"value\":\"blue\"}}},\"nonselection_glyph\":{\"type\":\"object\",\"name\":\"Scatter\",\"id\":\"p4966\",\"attributes\":{\"x\":{\"type\":\"value\",\"value\":251},\"y\":{\"type\":\"value\",\"value\":1.2066033844948767},\"size\":{\"type\":\"value\",\"value\":8},\"line_color\":{\"type\":\"value\",\"value\":\"blue\"},\"line_alpha\":{\"type\":\"value\",\"value\":0.1},\"fill_color\":{\"type\":\"value\",\"value\":\"blue\"},\"fill_alpha\":{\"type\":\"value\",\"value\":0.1},\"hatch_color\":{\"type\":\"value\",\"value\":\"blue\"},\"hatch_alpha\":{\"type\":\"value\",\"value\":0.1}}},\"muted_glyph\":{\"type\":\"object\",\"name\":\"Scatter\",\"id\":\"p4967\",\"attributes\":{\"x\":{\"type\":\"value\",\"value\":251},\"y\":{\"type\":\"value\",\"value\":1.2066033844948767},\"size\":{\"type\":\"value\",\"value\":8},\"line_color\":{\"type\":\"value\",\"value\":\"blue\"},\"line_alpha\":{\"type\":\"value\",\"value\":0.2},\"fill_color\":{\"type\":\"value\",\"value\":\"blue\"},\"fill_alpha\":{\"type\":\"value\",\"value\":0.2},\"hatch_color\":{\"type\":\"value\",\"value\":\"blue\"},\"hatch_alpha\":{\"type\":\"value\",\"value\":0.2}}}}},{\"type\":\"object\",\"name\":\"GlyphRenderer\",\"id\":\"p4978\",\"attributes\":{\"data_source\":{\"type\":\"object\",\"name\":\"ColumnDataSource\",\"id\":\"p4972\",\"attributes\":{\"selected\":{\"type\":\"object\",\"name\":\"Selection\",\"id\":\"p4973\",\"attributes\":{\"indices\":[],\"line_indices\":[]}},\"selection_policy\":{\"type\":\"object\",\"name\":\"UnionRenderers\",\"id\":\"p4974\"},\"data\":{\"type\":\"map\"}}},\"view\":{\"type\":\"object\",\"name\":\"CDSView\",\"id\":\"p4979\",\"attributes\":{\"filter\":{\"type\":\"object\",\"name\":\"AllIndices\",\"id\":\"p4980\"}}},\"glyph\":{\"type\":\"object\",\"name\":\"Scatter\",\"id\":\"p4975\",\"attributes\":{\"x\":{\"type\":\"value\",\"value\":195},\"y\":{\"type\":\"value\",\"value\":1.1283040905176163},\"size\":{\"type\":\"value\",\"value\":8},\"line_color\":{\"type\":\"value\",\"value\":\"red\"},\"fill_color\":{\"type\":\"value\",\"value\":\"red\"},\"hatch_color\":{\"type\":\"value\",\"value\":\"red\"}}},\"nonselection_glyph\":{\"type\":\"object\",\"name\":\"Scatter\",\"id\":\"p4976\",\"attributes\":{\"x\":{\"type\":\"value\",\"value\":195},\"y\":{\"type\":\"value\",\"value\":1.1283040905176163},\"size\":{\"type\":\"value\",\"value\":8},\"line_color\":{\"type\":\"value\",\"value\":\"red\"},\"line_alpha\":{\"type\":\"value\",\"value\":0.1},\"fill_color\":{\"type\":\"value\",\"value\":\"red\"},\"fill_alpha\":{\"type\":\"value\",\"value\":0.1},\"hatch_color\":{\"type\":\"value\",\"value\":\"red\"},\"hatch_alpha\":{\"type\":\"value\",\"value\":0.1}}},\"muted_glyph\":{\"type\":\"object\",\"name\":\"Scatter\",\"id\":\"p4977\",\"attributes\":{\"x\":{\"type\":\"value\",\"value\":195},\"y\":{\"type\":\"value\",\"value\":1.1283040905176163},\"size\":{\"type\":\"value\",\"value\":8},\"line_color\":{\"type\":\"value\",\"value\":\"red\"},\"line_alpha\":{\"type\":\"value\",\"value\":0.2},\"fill_color\":{\"type\":\"value\",\"value\":\"red\"},\"fill_alpha\":{\"type\":\"value\",\"value\":0.2},\"hatch_color\":{\"type\":\"value\",\"value\":\"red\"},\"hatch_alpha\":{\"type\":\"value\",\"value\":0.2}}}}},{\"type\":\"object\",\"name\":\"GlyphRenderer\",\"id\":\"p4988\",\"attributes\":{\"data_source\":{\"type\":\"object\",\"name\":\"ColumnDataSource\",\"id\":\"p4982\",\"attributes\":{\"selected\":{\"type\":\"object\",\"name\":\"Selection\",\"id\":\"p4983\",\"attributes\":{\"indices\":[],\"line_indices\":[]}},\"selection_policy\":{\"type\":\"object\",\"name\":\"UnionRenderers\",\"id\":\"p4984\"},\"data\":{\"type\":\"map\",\"entries\":[[\"x\",[32,172.85371979629576]]]}}},\"view\":{\"type\":\"object\",\"name\":\"CDSView\",\"id\":\"p4989\",\"attributes\":{\"filter\":{\"type\":\"object\",\"name\":\"AllIndices\",\"id\":\"p4990\"}}},\"glyph\":{\"type\":\"object\",\"name\":\"Line\",\"id\":\"p4985\",\"attributes\":{\"x\":{\"type\":\"field\",\"field\":\"x\"},\"y\":{\"type\":\"value\",\"value\":1.1818658297063829},\"line_color\":\"red\",\"line_width\":2}},\"nonselection_glyph\":{\"type\":\"object\",\"name\":\"Line\",\"id\":\"p4986\",\"attributes\":{\"x\":{\"type\":\"field\",\"field\":\"x\"},\"y\":{\"type\":\"value\",\"value\":1.1818658297063829},\"line_color\":\"red\",\"line_alpha\":0.1,\"line_width\":2}},\"muted_glyph\":{\"type\":\"object\",\"name\":\"Line\",\"id\":\"p4987\",\"attributes\":{\"x\":{\"type\":\"field\",\"field\":\"x\"},\"y\":{\"type\":\"value\",\"value\":1.1818658297063829},\"line_color\":\"red\",\"line_alpha\":0.2,\"line_width\":2}}}}],\"toolbar\":{\"type\":\"object\",\"name\":\"Toolbar\",\"id\":\"p4903\",\"attributes\":{\"tools\":[{\"id\":\"p4916\"},{\"id\":\"p4917\"},{\"id\":\"p4918\"},{\"id\":\"p4924\"},{\"id\":\"p4925\"},{\"id\":\"p4926\"},{\"type\":\"object\",\"name\":\"SaveTool\",\"id\":\"p4927\"},{\"id\":\"p4949\"},{\"id\":\"p5190\"}],\"active_drag\":{\"id\":\"p4916\"},\"active_scroll\":{\"id\":\"p4917\"}}},\"toolbar_location\":null,\"left\":[{\"type\":\"object\",\"name\":\"LinearAxis\",\"id\":\"p4911\",\"attributes\":{\"ticker\":{\"type\":\"object\",\"name\":\"BasicTicker\",\"id\":\"p4912\",\"attributes\":{\"mantissas\":[1,2,5]}},\"formatter\":{\"type\":\"object\",\"name\":\"NumeralTickFormatter\",\"id\":\"p4950\",\"attributes\":{\"format\":\"0,0.[00]%\"}},\"axis_label\":\"Equity\",\"major_label_policy\":{\"type\":\"object\",\"name\":\"AllLabels\",\"id\":\"p4914\"},\"minor_tick_line_color\":null}}],\"below\":[{\"type\":\"object\",\"name\":\"LinearAxis\",\"id\":\"p4906\",\"attributes\":{\"visible\":false,\"ticker\":{\"type\":\"object\",\"name\":\"BasicTicker\",\"id\":\"p4907\",\"attributes\":{\"mantissas\":[1,2,5]}},\"formatter\":{\"type\":\"object\",\"name\":\"BasicTickFormatter\",\"id\":\"p4908\"},\"major_label_policy\":{\"type\":\"object\",\"name\":\"AllLabels\",\"id\":\"p4909\"}}}],\"center\":[{\"type\":\"object\",\"name\":\"Grid\",\"id\":\"p4910\",\"attributes\":{\"axis\":{\"id\":\"p4906\"}}},{\"type\":\"object\",\"name\":\"Grid\",\"id\":\"p4915\",\"attributes\":{\"dimension\":1,\"axis\":{\"id\":\"p4911\"}}},{\"type\":\"object\",\"name\":\"Legend\",\"id\":\"p4960\",\"attributes\":{\"location\":\"top_left\",\"border_line_color\":\"#333333\",\"click_policy\":\"hide\",\"label_text_font_size\":\"8pt\",\"margin\":0,\"padding\":5,\"spacing\":0,\"items\":[{\"type\":\"object\",\"name\":\"LegendItem\",\"id\":\"p4961\",\"attributes\":{\"label\":{\"type\":\"value\",\"value\":\"Peak (127%)\"},\"renderers\":[{\"id\":\"p4957\"}]}},{\"type\":\"object\",\"name\":\"LegendItem\",\"id\":\"p4971\",\"attributes\":{\"label\":{\"type\":\"value\",\"value\":\"Final (121%)\"},\"renderers\":[{\"id\":\"p4968\"}]}},{\"type\":\"object\",\"name\":\"LegendItem\",\"id\":\"p4981\",\"attributes\":{\"label\":{\"type\":\"value\",\"value\":\"Max Drawdown (-8.6%)\"},\"renderers\":[{\"id\":\"p4978\"}]}},{\"type\":\"object\",\"name\":\"LegendItem\",\"id\":\"p4991\",\"attributes\":{\"label\":{\"type\":\"value\",\"value\":\"Max Dd Dur. (197 days)\"},\"renderers\":[{\"id\":\"p4988\"}]}}]}}],\"min_border_top\":3,\"min_border_bottom\":6,\"min_border_left\":0,\"min_border_right\":10}},0,0],[{\"type\":\"object\",\"name\":\"Figure\",\"id\":\"p4992\",\"attributes\":{\"width\":null,\"height\":90,\"sizing_mode\":\"stretch_width\",\"x_range\":{\"id\":\"p4850\"},\"y_range\":{\"type\":\"object\",\"name\":\"DataRange1d\",\"id\":\"p4994\"},\"x_scale\":{\"type\":\"object\",\"name\":\"LinearScale\",\"id\":\"p5001\"},\"y_scale\":{\"type\":\"object\",\"name\":\"LinearScale\",\"id\":\"p5002\"},\"title\":{\"type\":\"object\",\"name\":\"Title\",\"id\":\"p4999\"},\"outline_line_color\":\"#666666\",\"renderers\":[{\"id\":\"p5032\"},{\"id\":\"p5041\"}],\"toolbar\":{\"type\":\"object\",\"name\":\"Toolbar\",\"id\":\"p5000\",\"attributes\":{\"tools\":[{\"id\":\"p5013\"},{\"id\":\"p5014\"},{\"id\":\"p5015\"},{\"id\":\"p5021\"},{\"id\":\"p5022\"},{\"id\":\"p5023\"},{\"type\":\"object\",\"name\":\"SaveTool\",\"id\":\"p5024\"},{\"id\":\"p5044\"},{\"id\":\"p5045\"},{\"id\":\"p5190\"}],\"active_drag\":{\"id\":\"p5013\"},\"active_scroll\":{\"id\":\"p5014\"}}},\"toolbar_location\":null,\"left\":[{\"type\":\"object\",\"name\":\"LinearAxis\",\"id\":\"p5008\",\"attributes\":{\"ticker\":{\"type\":\"object\",\"name\":\"BasicTicker\",\"id\":\"p5009\",\"attributes\":{\"mantissas\":[1,2,5]}},\"formatter\":{\"type\":\"object\",\"name\":\"NumeralTickFormatter\",\"id\":\"p5046\",\"attributes\":{\"format\":\"0.[00]%\"}},\"axis_label\":\"Profit / Loss\",\"major_label_policy\":{\"type\":\"object\",\"name\":\"AllLabels\",\"id\":\"p5011\"},\"minor_tick_line_color\":null}}],\"below\":[{\"type\":\"object\",\"name\":\"LinearAxis\",\"id\":\"p5003\",\"attributes\":{\"visible\":false,\"ticker\":{\"type\":\"object\",\"name\":\"BasicTicker\",\"id\":\"p5004\",\"attributes\":{\"mantissas\":[1,2,5]}},\"formatter\":{\"type\":\"object\",\"name\":\"BasicTickFormatter\",\"id\":\"p5005\"},\"major_label_policy\":{\"type\":\"object\",\"name\":\"AllLabels\",\"id\":\"p5006\"}}}],\"center\":[{\"type\":\"object\",\"name\":\"Grid\",\"id\":\"p5007\",\"attributes\":{\"axis\":{\"id\":\"p5003\"}}},{\"type\":\"object\",\"name\":\"Grid\",\"id\":\"p5012\",\"attributes\":{\"dimension\":1,\"axis\":{\"id\":\"p5008\"}}},{\"type\":\"object\",\"name\":\"Span\",\"id\":\"p5025\",\"attributes\":{\"location\":0,\"line_color\":\"#666666\",\"line_dash\":[6]}}],\"min_border_top\":3,\"min_border_bottom\":6,\"min_border_left\":0,\"min_border_right\":10}},1,0],[{\"type\":\"object\",\"name\":\"Figure\",\"id\":\"p4851\",\"attributes\":{\"width\":null,\"height\":400,\"sizing_mode\":\"stretch_width\",\"x_range\":{\"id\":\"p4850\"},\"y_range\":{\"id\":\"p4853\"},\"x_scale\":{\"type\":\"object\",\"name\":\"LinearScale\",\"id\":\"p4860\"},\"y_scale\":{\"type\":\"object\",\"name\":\"LinearScale\",\"id\":\"p4861\"},\"title\":{\"type\":\"object\",\"name\":\"Title\",\"id\":\"p4858\"},\"outline_line_color\":\"#666666\",\"renderers\":[{\"type\":\"object\",\"name\":\"GlyphRenderer\",\"id\":\"p5100\",\"attributes\":{\"data_source\":{\"type\":\"object\",\"name\":\"ColumnDataSource\",\"id\":\"p5091\",\"attributes\":{\"selected\":{\"type\":\"object\",\"name\":\"Selection\",\"id\":\"p5092\",\"attributes\":{\"indices\":[],\"line_indices\":[]}},\"selection_policy\":{\"type\":\"object\",\"name\":\"UnionRenderers\",\"id\":\"p5093\"},\"data\":{\"type\":\"map\",\"entries\":[[\"index\",{\"type\":\"ndarray\",\"array\":{\"type\":\"bytes\",\"data\":\"AAAAAAAAJEAAAAAAAIA+QAAAAAAAwElAAAAAAABgUkAAAAAAAMBXQAAAAAAAIF1AAAAAAABgYUAAAAAAACBkQAAAAAAA0GZAAAAAAACQaUAAAAAAAEBsQAAAAAAAgG5A\"},\"shape\":[12],\"dtype\":\"float64\",\"order\":\"little\"}],[\"Open\",{\"type\":\"ndarray\",\"array\":{\"type\":\"bytes\",\"data\":\"AQAAgOkmBkAAAAAgMQgCQAAAAGCR7QRAAAAAQAwCBEABAAAgWDkGQAAAAOB6FAdAAAAAQDeJCUABAABAiUEHQP///7+hRQdA////n/HSBkAAAADAdJMHQAAAAMDz/QdA\"},\"shape\":[12],\"dtype\":\"float64\",\"order\":\"little\"}],[\"High\",{\"type\":\"ndarray\",\"array\":{\"type\":\"bytes\",\"data\":\"AQAAQIlBBkAAAADgzvcFQAAAAIDC9QZAAAAAIAaBBkD///9/wMoIQAAAAIA9CgpAAAAAgML1CUABAABgObQHQAEAAIBqvAhA////X4/CB0AAAABguB4JQAAAAIBs5whA\"},\"shape\":[12],\"dtype\":\"float64\",\"order\":\"little\"}],[\"Low\",{\"type\":\"ndarray\",\"array\":{\"type\":\"bytes\",\"data\":\"////H9nOAUAAAACgR+EBQAAAACBcjwNAAQAAoO+nA0ABAAAg3SQGQAAAAOB46QZAAQAAwPUoB0AAAAAAAAAFQAEAAEBeugZAAAAAwPP9BUAAAAAAK4cHQAAAACDb+QZA\"},\"shape\":[12],\"dtype\":\"float64\",\"order\":\"little\"}],[\"Close\",{\"type\":\"ndarray\",\"array\":{\"type\":\"bytes\",\"data\":\"AAAAQAwCAkD///+/zMwEQP///58cWgRAAAAA4CQGBkD////fp8YGQP/////91AhAAAAAAH9qB0AAAAAgsHIHQAAAAIA9CgdAAAAAwMh2B0AAAAAghesHQP///79yaAdA\"},\"shape\":[12],\"dtype\":\"float64\",\"order\":\"little\"}],[\"Volume\",{\"type\":\"ndarray\",\"array\":{\"type\":\"bytes\",\"data\":\"AAAAAAAAAAAAAAAAAAAAAAAAAAAAAAAAAAAAAAAAAAAAAAAAAAAAAAAAAAAAAAAAAAAAAAAAAAAAAAAAAAAAAAAAAAAAAAAAAAAAAAAAAAAAAAAAAAAAAAAAAAAAAAAA\"},\"shape\":[12],\"dtype\":\"float64\",\"order\":\"little\"}],[\"_width\",{\"type\":\"ndarray\",\"array\":{\"type\":\"bytes\",\"data\":\"ZmZmZmbmNEBmZmZmZuYzQGZmZmZm5jVAZmZmZmbmNUBmZmZmZuY0QGZmZmZm5jVAZmZmZmbmNkBmZmZmZuY0QGZmZmZm5jVAZmZmZmbmNUBmZmZmZuY0QM3MzMzMzC1A\"},\"shape\":[12],\"dtype\":\"float64\",\"order\":\"little\"}],[\"inc\",{\"type\":\"ndarray\",\"array\":[\"0\",\"1\",\"0\",\"1\",\"1\",\"1\",\"0\",\"1\",\"0\",\"1\",\"1\",\"0\"],\"shape\":[12],\"dtype\":\"object\",\"order\":\"little\"}]]}}},\"view\":{\"type\":\"object\",\"name\":\"CDSView\",\"id\":\"p5101\",\"attributes\":{\"filter\":{\"type\":\"object\",\"name\":\"AllIndices\",\"id\":\"p5102\"}}},\"glyph\":{\"type\":\"object\",\"name\":\"Segment\",\"id\":\"p5097\",\"attributes\":{\"x0\":{\"type\":\"field\",\"field\":\"index\"},\"y0\":{\"type\":\"field\",\"field\":\"High\"},\"x1\":{\"type\":\"field\",\"field\":\"index\"},\"y1\":{\"type\":\"field\",\"field\":\"Low\"},\"line_color\":{\"type\":\"value\",\"value\":\"#bbbbbb\"}}},\"nonselection_glyph\":{\"type\":\"object\",\"name\":\"Segment\",\"id\":\"p5098\",\"attributes\":{\"x0\":{\"type\":\"field\",\"field\":\"index\"},\"y0\":{\"type\":\"field\",\"field\":\"High\"},\"x1\":{\"type\":\"field\",\"field\":\"index\"},\"y1\":{\"type\":\"field\",\"field\":\"Low\"},\"line_color\":{\"type\":\"value\",\"value\":\"#bbbbbb\"},\"line_alpha\":{\"type\":\"value\",\"value\":0.1}}},\"muted_glyph\":{\"type\":\"object\",\"name\":\"Segment\",\"id\":\"p5099\",\"attributes\":{\"x0\":{\"type\":\"field\",\"field\":\"index\"},\"y0\":{\"type\":\"field\",\"field\":\"High\"},\"x1\":{\"type\":\"field\",\"field\":\"index\"},\"y1\":{\"type\":\"field\",\"field\":\"Low\"},\"line_color\":{\"type\":\"value\",\"value\":\"#bbbbbb\"},\"line_alpha\":{\"type\":\"value\",\"value\":0.2}}}}},{\"type\":\"object\",\"name\":\"GlyphRenderer\",\"id\":\"p5110\",\"attributes\":{\"data_source\":{\"id\":\"p5091\"},\"view\":{\"type\":\"object\",\"name\":\"CDSView\",\"id\":\"p5111\",\"attributes\":{\"filter\":{\"type\":\"object\",\"name\":\"AllIndices\",\"id\":\"p5112\"}}},\"glyph\":{\"type\":\"object\",\"name\":\"VBar\",\"id\":\"p5107\",\"attributes\":{\"x\":{\"type\":\"field\",\"field\":\"index\"},\"width\":{\"type\":\"field\",\"field\":\"_width\"},\"bottom\":{\"type\":\"field\",\"field\":\"Close\"},\"top\":{\"type\":\"field\",\"field\":\"Open\"},\"line_color\":{\"type\":\"value\",\"value\":null},\"fill_color\":{\"type\":\"field\",\"field\":\"inc\",\"transform\":{\"type\":\"object\",\"name\":\"CategoricalColorMapper\",\"id\":\"p5103\",\"attributes\":{\"palette\":[\"rgb(255.0, 220.40869565217392, 214.20000000000002)\",\"rgb(214.20000000000005, 254.99999999999997, 214.20000000000005)\"],\"factors\":[\"0\",\"1\"]}}}}},\"nonselection_glyph\":{\"type\":\"object\",\"name\":\"VBar\",\"id\":\"p5108\",\"attributes\":{\"x\":{\"type\":\"field\",\"field\":\"index\"},\"width\":{\"type\":\"field\",\"field\":\"_width\"},\"bottom\":{\"type\":\"field\",\"field\":\"Close\"},\"top\":{\"type\":\"field\",\"field\":\"Open\"},\"line_color\":{\"type\":\"value\",\"value\":null},\"line_alpha\":{\"type\":\"value\",\"value\":0.1},\"fill_color\":{\"type\":\"field\",\"field\":\"inc\",\"transform\":{\"id\":\"p5103\"}},\"fill_alpha\":{\"type\":\"value\",\"value\":0.1},\"hatch_alpha\":{\"type\":\"value\",\"value\":0.1}}},\"muted_glyph\":{\"type\":\"object\",\"name\":\"VBar\",\"id\":\"p5109\",\"attributes\":{\"x\":{\"type\":\"field\",\"field\":\"index\"},\"width\":{\"type\":\"field\",\"field\":\"_width\"},\"bottom\":{\"type\":\"field\",\"field\":\"Close\"},\"top\":{\"type\":\"field\",\"field\":\"Open\"},\"line_color\":{\"type\":\"value\",\"value\":null},\"line_alpha\":{\"type\":\"value\",\"value\":0.2},\"fill_color\":{\"type\":\"field\",\"field\":\"inc\",\"transform\":{\"id\":\"p5103\"}},\"fill_alpha\":{\"type\":\"value\",\"value\":0.2},\"hatch_alpha\":{\"type\":\"value\",\"value\":0.2}}}}},{\"type\":\"object\",\"name\":\"GlyphRenderer\",\"id\":\"p5119\",\"attributes\":{\"data_source\":{\"id\":\"p4884\"},\"view\":{\"type\":\"object\",\"name\":\"CDSView\",\"id\":\"p5120\",\"attributes\":{\"filter\":{\"type\":\"object\",\"name\":\"AllIndices\",\"id\":\"p5121\"}}},\"glyph\":{\"type\":\"object\",\"name\":\"Segment\",\"id\":\"p5116\",\"attributes\":{\"x0\":{\"type\":\"field\",\"field\":\"index\"},\"y0\":{\"type\":\"field\",\"field\":\"High\"},\"x1\":{\"type\":\"field\",\"field\":\"index\"},\"y1\":{\"type\":\"field\",\"field\":\"Low\"}}},\"nonselection_glyph\":{\"type\":\"object\",\"name\":\"Segment\",\"id\":\"p5117\",\"attributes\":{\"x0\":{\"type\":\"field\",\"field\":\"index\"},\"y0\":{\"type\":\"field\",\"field\":\"High\"},\"x1\":{\"type\":\"field\",\"field\":\"index\"},\"y1\":{\"type\":\"field\",\"field\":\"Low\"},\"line_alpha\":{\"type\":\"value\",\"value\":0.1}}},\"muted_glyph\":{\"type\":\"object\",\"name\":\"Segment\",\"id\":\"p5118\",\"attributes\":{\"x0\":{\"type\":\"field\",\"field\":\"index\"},\"y0\":{\"type\":\"field\",\"field\":\"High\"},\"x1\":{\"type\":\"field\",\"field\":\"index\"},\"y1\":{\"type\":\"field\",\"field\":\"Low\"},\"line_alpha\":{\"type\":\"value\",\"value\":0.2}}}}},{\"id\":\"p5128\"},{\"type\":\"object\",\"name\":\"GlyphRenderer\",\"id\":\"p5137\",\"attributes\":{\"data_source\":{\"id\":\"p4887\"},\"view\":{\"type\":\"object\",\"name\":\"CDSView\",\"id\":\"p5138\",\"attributes\":{\"filter\":{\"type\":\"object\",\"name\":\"AllIndices\",\"id\":\"p5139\"}}},\"glyph\":{\"type\":\"object\",\"name\":\"MultiLine\",\"id\":\"p5134\",\"attributes\":{\"xs\":{\"type\":\"field\",\"field\":\"position_lines_xs\"},\"ys\":{\"type\":\"field\",\"field\":\"position_lines_ys\"},\"line_color\":{\"type\":\"field\",\"field\":\"returns_positive\",\"transform\":{\"type\":\"object\",\"name\":\"CategoricalColorMapper\",\"id\":\"p4892\",\"attributes\":{\"palette\":[\"rgb(178.5, 27.163043478260846, 0.0)\",\"rgb(0.0, 178.5, 0.0)\"],\"factors\":[\"0\",\"1\"]}}},\"line_width\":{\"type\":\"value\",\"value\":8},\"line_dash\":{\"type\":\"value\",\"value\":\"dotted\"}}},\"nonselection_glyph\":{\"type\":\"object\",\"name\":\"MultiLine\",\"id\":\"p5135\",\"attributes\":{\"xs\":{\"type\":\"field\",\"field\":\"position_lines_xs\"},\"ys\":{\"type\":\"field\",\"field\":\"position_lines_ys\"},\"line_color\":{\"type\":\"field\",\"field\":\"returns_positive\",\"transform\":{\"id\":\"p4892\"}},\"line_alpha\":{\"type\":\"value\",\"value\":0.1},\"line_width\":{\"type\":\"value\",\"value\":8},\"line_dash\":{\"type\":\"value\",\"value\":\"dotted\"}}},\"muted_glyph\":{\"type\":\"object\",\"name\":\"MultiLine\",\"id\":\"p5136\",\"attributes\":{\"xs\":{\"type\":\"field\",\"field\":\"position_lines_xs\"},\"ys\":{\"type\":\"field\",\"field\":\"position_lines_ys\"},\"line_color\":{\"type\":\"field\",\"field\":\"returns_positive\",\"transform\":{\"id\":\"p4892\"}},\"line_alpha\":{\"type\":\"value\",\"value\":0.2},\"line_width\":{\"type\":\"value\",\"value\":8},\"line_dash\":{\"type\":\"value\",\"value\":\"dotted\"}}}}}],\"toolbar\":{\"type\":\"object\",\"name\":\"Toolbar\",\"id\":\"p4859\",\"attributes\":{\"tools\":[{\"id\":\"p4872\"},{\"id\":\"p4873\"},{\"id\":\"p4874\"},{\"id\":\"p4880\"},{\"id\":\"p4881\"},{\"id\":\"p4882\"},{\"type\":\"object\",\"name\":\"SaveTool\",\"id\":\"p4883\"},{\"id\":\"p5188\"},{\"id\":\"p5190\"}],\"active_drag\":{\"id\":\"p4872\"},\"active_scroll\":{\"id\":\"p4873\"}}},\"toolbar_location\":null,\"left\":[{\"type\":\"object\",\"name\":\"LinearAxis\",\"id\":\"p4867\",\"attributes\":{\"ticker\":{\"type\":\"object\",\"name\":\"BasicTicker\",\"id\":\"p4868\",\"attributes\":{\"mantissas\":[1,2,5]}},\"formatter\":{\"type\":\"object\",\"name\":\"BasicTickFormatter\",\"id\":\"p4869\"},\"major_label_policy\":{\"type\":\"object\",\"name\":\"AllLabels\",\"id\":\"p4870\"}}}],\"below\":[{\"type\":\"object\",\"name\":\"LinearAxis\",\"id\":\"p4862\",\"attributes\":{\"visible\":false,\"ticker\":{\"type\":\"object\",\"name\":\"BasicTicker\",\"id\":\"p4863\",\"attributes\":{\"mantissas\":[1,2,5]}},\"formatter\":{\"type\":\"object\",\"name\":\"CustomJSTickFormatter\",\"id\":\"p4894\",\"attributes\":{\"args\":{\"type\":\"map\",\"entries\":[[\"axis\",{\"id\":\"p4862\"}],[\"formatter\",{\"type\":\"object\",\"name\":\"DatetimeTickFormatter\",\"id\":\"p4893\",\"attributes\":{\"days\":\"%d %b\"}}],[\"source\",{\"id\":\"p4884\"}]]},\"code\":\"\\nthis.labels = this.labels || formatter.doFormat(ticks\\n                                                .map(i => source.data.datetime[i])\\n                                                .filter(t => t !== undefined));\\nreturn this.labels[index] || \\\"\\\";\\n        \"}},\"major_label_policy\":{\"type\":\"object\",\"name\":\"AllLabels\",\"id\":\"p4865\"}}}],\"center\":[{\"type\":\"object\",\"name\":\"Grid\",\"id\":\"p4866\",\"attributes\":{\"axis\":{\"id\":\"p4862\"}}},{\"type\":\"object\",\"name\":\"Grid\",\"id\":\"p4871\",\"attributes\":{\"dimension\":1,\"axis\":{\"id\":\"p4867\"}}},{\"type\":\"object\",\"name\":\"Legend\",\"id\":\"p5140\",\"attributes\":{\"location\":\"top_left\",\"border_line_color\":\"#333333\",\"click_policy\":\"hide\",\"label_text_font_size\":\"8pt\",\"margin\":0,\"padding\":5,\"spacing\":0,\"items\":[{\"type\":\"object\",\"name\":\"LegendItem\",\"id\":\"p5141\",\"attributes\":{\"label\":{\"type\":\"value\",\"value\":\"Trades (3)\"},\"renderers\":[{\"id\":\"p5137\"}]}}]}}],\"min_border_top\":3,\"min_border_bottom\":6,\"min_border_left\":0,\"min_border_right\":10}},2,0],[{\"type\":\"object\",\"name\":\"Figure\",\"id\":\"p5047\",\"attributes\":{\"width\":null,\"height\":90,\"sizing_mode\":\"stretch_width\",\"x_range\":{\"id\":\"p4850\"},\"y_range\":{\"id\":\"p5049\"},\"x_scale\":{\"type\":\"object\",\"name\":\"LinearScale\",\"id\":\"p5056\"},\"y_scale\":{\"type\":\"object\",\"name\":\"LinearScale\",\"id\":\"p5057\"},\"title\":{\"type\":\"object\",\"name\":\"Title\",\"id\":\"p5054\"},\"outline_line_color\":\"#666666\",\"renderers\":[{\"id\":\"p5086\"}],\"toolbar\":{\"type\":\"object\",\"name\":\"Toolbar\",\"id\":\"p5055\",\"attributes\":{\"tools\":[{\"id\":\"p5068\"},{\"id\":\"p5069\"},{\"id\":\"p5070\"},{\"id\":\"p5076\"},{\"id\":\"p5077\"},{\"id\":\"p5078\"},{\"type\":\"object\",\"name\":\"SaveTool\",\"id\":\"p5079\"},{\"id\":\"p5089\"},{\"id\":\"p5190\"}],\"active_drag\":{\"id\":\"p5068\"},\"active_scroll\":{\"id\":\"p5069\"}}},\"toolbar_location\":null,\"left\":[{\"type\":\"object\",\"name\":\"LinearAxis\",\"id\":\"p5063\",\"attributes\":{\"ticker\":{\"type\":\"object\",\"name\":\"BasicTicker\",\"id\":\"p5064\",\"attributes\":{\"mantissas\":[1,2,5]}},\"formatter\":{\"type\":\"object\",\"name\":\"NumeralTickFormatter\",\"id\":\"p5090\",\"attributes\":{\"format\":\"0 a\"}},\"axis_label\":\"Volume\",\"major_label_policy\":{\"type\":\"object\",\"name\":\"AllLabels\",\"id\":\"p5066\"},\"minor_tick_line_color\":null}}],\"below\":[{\"type\":\"object\",\"name\":\"LinearAxis\",\"id\":\"p5058\",\"attributes\":{\"visible\":true,\"ticker\":{\"type\":\"object\",\"name\":\"BasicTicker\",\"id\":\"p5059\",\"attributes\":{\"mantissas\":[1,2,5]}},\"formatter\":{\"id\":\"p4894\"},\"major_label_policy\":{\"type\":\"object\",\"name\":\"AllLabels\",\"id\":\"p5061\"}}}],\"center\":[{\"type\":\"object\",\"name\":\"Grid\",\"id\":\"p5062\",\"attributes\":{\"axis\":{\"id\":\"p5058\"}}},{\"type\":\"object\",\"name\":\"Grid\",\"id\":\"p5067\",\"attributes\":{\"dimension\":1,\"axis\":{\"id\":\"p5063\"}}}],\"min_border_top\":3,\"min_border_bottom\":6,\"min_border_left\":0,\"min_border_right\":10}},3,0],[{\"type\":\"object\",\"name\":\"Figure\",\"id\":\"p5142\",\"attributes\":{\"width\":null,\"height\":90,\"sizing_mode\":\"stretch_width\",\"x_range\":{\"id\":\"p4850\"},\"y_range\":{\"type\":\"object\",\"name\":\"DataRange1d\",\"id\":\"p5144\"},\"x_scale\":{\"type\":\"object\",\"name\":\"LinearScale\",\"id\":\"p5151\"},\"y_scale\":{\"type\":\"object\",\"name\":\"LinearScale\",\"id\":\"p5152\"},\"title\":{\"type\":\"object\",\"name\":\"Title\",\"id\":\"p5149\"},\"outline_line_color\":\"#666666\",\"renderers\":[{\"id\":\"p5181\"}],\"toolbar\":{\"type\":\"object\",\"name\":\"Toolbar\",\"id\":\"p5150\",\"attributes\":{\"tools\":[{\"id\":\"p5163\"},{\"id\":\"p5164\"},{\"id\":\"p5165\"},{\"id\":\"p5171\"},{\"id\":\"p5172\"},{\"id\":\"p5173\"},{\"type\":\"object\",\"name\":\"SaveTool\",\"id\":\"p5174\"},{\"id\":\"p5187\"},{\"id\":\"p5190\"}],\"active_drag\":{\"id\":\"p5163\"},\"active_scroll\":{\"id\":\"p5164\"}}},\"toolbar_location\":null,\"left\":[{\"type\":\"object\",\"name\":\"LinearAxis\",\"id\":\"p5158\",\"attributes\":{\"ticker\":{\"type\":\"object\",\"name\":\"BasicTicker\",\"id\":\"p5159\",\"attributes\":{\"mantissas\":[1,2,5]}},\"formatter\":{\"type\":\"object\",\"name\":\"BasicTickFormatter\",\"id\":\"p5160\"},\"major_label_policy\":{\"type\":\"object\",\"name\":\"AllLabels\",\"id\":\"p5161\"},\"minor_tick_line_color\":null}}],\"below\":[{\"type\":\"object\",\"name\":\"LinearAxis\",\"id\":\"p5153\",\"attributes\":{\"visible\":false,\"ticker\":{\"type\":\"object\",\"name\":\"BasicTicker\",\"id\":\"p5154\",\"attributes\":{\"mantissas\":[1,2,5]}},\"formatter\":{\"type\":\"object\",\"name\":\"BasicTickFormatter\",\"id\":\"p5155\"},\"major_label_policy\":{\"type\":\"object\",\"name\":\"AllLabels\",\"id\":\"p5156\"}}}],\"center\":[{\"type\":\"object\",\"name\":\"Grid\",\"id\":\"p5157\",\"attributes\":{\"axis\":{\"id\":\"p5153\"}}},{\"type\":\"object\",\"name\":\"Grid\",\"id\":\"p5162\",\"attributes\":{\"dimension\":1,\"axis\":{\"id\":\"p5158\"}}},{\"type\":\"object\",\"name\":\"Legend\",\"id\":\"p5184\",\"attributes\":{\"location\":\"top_left\",\"border_line_color\":\"#333333\",\"click_policy\":\"hide\",\"label_text_font_size\":\"8pt\",\"glyph_width\":0,\"margin\":0,\"padding\":5,\"spacing\":0,\"items\":[{\"type\":\"object\",\"name\":\"LegendItem\",\"id\":\"p5185\",\"attributes\":{\"label\":{\"type\":\"value\",\"value\":\"RSI(C,14)\"},\"renderers\":[{\"id\":\"p5181\"}]}}]}},{\"type\":\"object\",\"name\":\"Span\",\"id\":\"p5186\",\"attributes\":{\"location\":51.73915246456309,\"line_color\":\"#666666\",\"line_width\":0.5,\"line_dash\":[6]}}],\"min_border_top\":3,\"min_border_bottom\":6,\"min_border_left\":0,\"min_border_right\":10}},4,0]]}}]}};\n",
              "  const render_items = [{\"docid\":\"dd4e28b5-5122-4ee4-aac1-da80806f7ea8\",\"roots\":{\"p5200\":\"cfe99b8c-3cdc-4cf4-96a2-2577551b16db\"},\"root_ids\":[\"p5200\"]}];\n",
              "  root.Bokeh.embed.embed_items_notebook(docs_json, render_items);\n",
              "  }\n",
              "  if (root.Bokeh !== undefined) {\n",
              "    embed_document(root);\n",
              "  } else {\n",
              "    let attempts = 0;\n",
              "    const timer = setInterval(function(root) {\n",
              "      if (root.Bokeh !== undefined) {\n",
              "        clearInterval(timer);\n",
              "        embed_document(root);\n",
              "      } else {\n",
              "        attempts++;\n",
              "        if (attempts > 100) {\n",
              "          clearInterval(timer);\n",
              "          console.log(\"Bokeh: ERROR: Unable to run BokehJS code because BokehJS library is missing\");\n",
              "        }\n",
              "      }\n",
              "    }, 10, root)\n",
              "  }\n",
              "})(window);"
            ],
            "application/vnd.bokehjs_exec.v0+json": ""
          },
          "metadata": {
            "application/vnd.bokehjs_exec.v0+json": {
              "id": "p5200"
            }
          }
        }
      ],
      "source": [
        "param_grid_sma = {'n1': range(3, 23, 10), 'n2': range(10, 90, 40)}\n",
        "param_grid_rsi = {'n1': range(10, 40, 15), 'n2': range(60, 90, 15)}\n",
        "param_grid_macd = {\n",
        "    'fast_period': range(5, 20, 5),  # Example range, adjust as necessary\n",
        "    'slow_period': range(20, 50, 15), # Example range, adjust as necessary\n",
        "    'signal_period': range(10, 30, 10) # Example range, adjust as necessary\n",
        "}\n",
        "\n",
        "\n",
        "\n",
        "n_One_sma=[]\n",
        "n_Two_sma=[]\n",
        "res_sma = []\n",
        "p_win_sma_ls=[]\n",
        "bp_sma_ls = []\n",
        "\n",
        "n_One_rsi=[]\n",
        "n_Two_rsi=[]\n",
        "res_rsi = []\n",
        "p_win_rsi_ls=[]\n",
        "bp_rsi_ls=[]\n",
        "\n",
        "\n",
        "res_macd = []\n",
        "p_win_macd_ls=[]\n",
        "bp_macd_ls=[]\n",
        "fast = []\n",
        "slow = []\n",
        "signal = []\n",
        "\n",
        "\n",
        "for i in range(len(train)):\n",
        "  for j in range(len(train[0])):\n",
        "    n1_sma = []\n",
        "    n2_sma = []\n",
        "    res_Array_sma = []\n",
        "    p_win_sma = []\n",
        "    bp_sma = []\n",
        "\n",
        "    fast_ls = []\n",
        "    slow_ls = []\n",
        "    signal_ls = []\n",
        "    res_Array_macd = []\n",
        "    p_win_macd = []\n",
        "    bp_macd = []\n",
        "\n",
        "    n1_rsi = []\n",
        "    n2_rsi = []\n",
        "    res_Array_rsi = []\n",
        "    p_win_rsi = []\n",
        "    bp_rsi = []\n",
        "    for t in range(len(train[i][0])):\n",
        "      t = 2\n",
        "      # SMA\n",
        "      print([i,j,t])\n",
        "      bt = Backtest(train[i][j][t], CustomSmaCross, cash= 10000, commission= 0.002)\n",
        "      res = bt.optimize(**param_grid_sma)\n",
        "      bt.plot()\n",
        "      n1_sma.append(res['_strategy'].n1)\n",
        "      n2_sma.append(res['_strategy'].n2)\n",
        "      res_Array_sma.append(res)\n",
        "      if 'Win Rate [%]' in res:\n",
        "        p_win_sma.append(res['Win Rate [%]'] / 100)\n",
        "      else:\n",
        "        p_win_sma.append(0)  # Or you can choose a default value\n",
        "\n",
        "        # Similarly, check for other keys you are accessing\n",
        "      if 'Avg. Trade [%]' in res:\n",
        "        bp_sma.append(1 + res[\"Avg. Trade [%]\"] / 100)\n",
        "      else:\n",
        "        bp_sma.append(-1)  # Or you can choose a default value\n",
        "\n",
        "      # MACD\n",
        "      bt = Backtest(train[i][j][t], CustomMACD, cash= 10000, commission= 0.002)\n",
        "      res = bt.optimize(**param_grid_macd)\n",
        "      bt.plot()\n",
        "      fast_ls.append(res['_strategy'].fast_period)\n",
        "      slow_ls.append(res['_strategy'].slow_period)\n",
        "      signal_ls.append(res['_strategy'].signal_period)\n",
        "      res_Array_macd.append(res)\n",
        "      if 'Win Rate [%]' in res:\n",
        "        p_win_macd.append(res['Win Rate [%]'] / 100)\n",
        "      else:\n",
        "        p_win_macd.append(0)  # Or you can choose a default value\n",
        "\n",
        "        # Similarly, check for other keys you are accessing\n",
        "      if 'Avg. Trade [%]' in res:\n",
        "        bp_macd.append(1 + res[\"Avg. Trade [%]\"] / 100)\n",
        "      else:\n",
        "        bp_macd.append(-1)  # Or you can choose a default value\n",
        "\n",
        "\n",
        "      # RSI\n",
        "      bt = Backtest(train[i][j][t], CustomRsiStrategy, cash= 10000, commission= 0.002)\n",
        "      res = bt.optimize(**param_grid_rsi)\n",
        "      bt.plot()\n",
        "      n1_rsi.append(res['_strategy'].n1)\n",
        "      n2_rsi.append(res['_strategy'].n2)\n",
        "      res_Array_rsi.append(res)\n",
        "      if 'Win Rate [%]' in res:\n",
        "        p_win_rsi.append(res['Win Rate [%]'] / 100)\n",
        "      else:\n",
        "        p_win_rsi.append(0)  # Or you can choose a default value\n",
        "\n",
        "        # Similarly, check for other keys you are accessing\n",
        "      if 'Avg. Trade [%]' in res:\n",
        "        bp_rsi.append(1 + res[\"Avg. Trade [%]\"] / 100)\n",
        "      else:\n",
        "        bp_rsi.append(-1)  # Or you can choose a default value\n",
        "\n",
        "    n_One_sma.append(n1_sma)\n",
        "    n_Two_sma.append(n2_sma)\n",
        "    res_sma.append(res_Array_sma)\n",
        "    p_win_sma_ls.append(p_win_sma)\n",
        "    bp_sma_ls.append(bp_sma)\n",
        "\n",
        "    n_One_rsi.append(n1_rsi)\n",
        "    n_Two_rsi.append(n2_rsi)\n",
        "    res_rsi.append(res_Array_rsi)\n",
        "    p_win_rsi_ls.append(p_win_rsi)\n",
        "    bp_rsi_ls.append(bp_rsi)\n",
        "\n",
        "\n",
        "    res_macd.append(res_Array_macd)\n",
        "    p_win_macd_ls.append(p_win_macd)\n",
        "    bp_macd_ls.append(bp_macd)\n",
        "    fast.append(fast_ls)\n",
        "    slow.append(slow_ls)\n",
        "    signal.append(signal_ls)\n"
      ]
    },
    {
      "cell_type": "code",
      "execution_count": 14,
      "metadata": {
        "id": "5NA0Ij_EJehX",
        "colab": {
          "base_uri": "https://localhost:8080/",
          "height": 70
        },
        "outputId": "5a8c049a-634a-48f2-ec9a-b76cf01b3e60"
      },
      "outputs": [
        {
          "output_type": "stream",
          "name": "stdout",
          "text": [
            "Requirement already satisfied: dill in /usr/local/lib/python3.10/dist-packages (0.3.8)\n"
          ]
        },
        {
          "output_type": "execute_result",
          "data": {
            "text/plain": [
              "\"\\n!pip install dill\\nimport dill as pickle\\nfile_path = '/content/result_train.pkl'\\nwith open(file_path, 'rb') as file:\\n    ls = pickle.load(file)\\n(n_One_sma, n_Two_sma, res_sma, p_win_sma_ls, bp_sma_ls,\\nn_One_rsi, n_Two_rsi, res_rsi, p_win_rsi_ls, bp_rsi_ls,\\nres_macd, p_win_macd_ls, bp_macd_ls, fast, slow, signal) = ls\\n\""
            ],
            "application/vnd.google.colaboratory.intrinsic+json": {
              "type": "string"
            }
          },
          "metadata": {},
          "execution_count": 14
        }
      ],
      "source": [
        "\n",
        "ls = [n_One_sma, n_Two_sma, res_sma, p_win_sma_ls, bp_sma_ls, n_One_rsi, n_Two_rsi, res_rsi, p_win_rsi_ls, bp_rsi_ls, res_macd, p_win_macd_ls, bp_macd_ls, fast, slow, signal]\n",
        "\n",
        "!pip install dill\n",
        "import dill as pickle\n",
        "with open(\"result_train.pkl\",'wb') as f:\n",
        "  pickle.dump(ls, f)\n",
        "\"\"\"\n",
        "!pip install dill\n",
        "import dill as pickle\n",
        "file_path = '/content/result_train.pkl'\n",
        "with open(file_path, 'rb') as file:\n",
        "    ls = pickle.load(file)\n",
        "(n_One_sma, n_Two_sma, res_sma, p_win_sma_ls, bp_sma_ls,\n",
        "n_One_rsi, n_Two_rsi, res_rsi, p_win_rsi_ls, bp_rsi_ls,\n",
        "res_macd, p_win_macd_ls, bp_macd_ls, fast, slow, signal) = ls\n",
        "\"\"\""
      ]
    },
    {
      "cell_type": "markdown",
      "metadata": {
        "id": "LblpmjRkL0CM"
      },
      "source": [
        "# 2.2 Calculate Kelly Criterion"
      ]
    },
    {
      "cell_type": "code",
      "execution_count": 15,
      "metadata": {
        "id": "H0oQBrZofrdc",
        "colab": {
          "base_uri": "https://localhost:8080/"
        },
        "outputId": "6a8bc83b-8e28-4074-9d2b-a34118ad8a78"
      },
      "outputs": [
        {
          "output_type": "stream",
          "name": "stdout",
          "text": [
            "3\n",
            "0\n"
          ]
        }
      ],
      "source": [
        "def Calc_KC(bp, p_win, c):\n",
        "  # input: result of bp, p_win\n",
        "  KC = []\n",
        "  for i in range(len(bp)):\n",
        "    kc = (bp[i]*p_win[i]-(1-p_win[i])-c/10000)/bp[i]\n",
        "    KC.append(kc)\n",
        "  return KC\n",
        "\n",
        "bp_all = [bp_sma_ls, bp_macd_ls, bp_rsi_ls]\n",
        "p_win_all = [p_win_sma_ls, p_win_macd_ls, p_win_rsi_ls]\n",
        "KC_eqt = []\n",
        "KC_fi = []\n",
        "KC_fx = []\n",
        "KC_comd = []\n",
        "for w in range(len(bp_all[0])):\n",
        "  kc = []\n",
        "  for s in range(3):\n",
        "    kc_value = Calc_KC(bp_all[s][w], p_win_all[s][w], 100)\n",
        "    kc.extend(kc_value)\n",
        "  # Set negative elements to zero\n",
        "  kc = [x if x > 0 else 0 for x in kc]\n",
        "  #print(KC)\n",
        "  # Sum of positive elements\n",
        "  positive_sum = sum(kc)\n",
        "  #print(KC)\n",
        "  # Normalize positive elements to sum up to 1\n",
        "  kc = [x / positive_sum for x in kc]\n",
        "  print(len(kc))\n",
        "  print(w)\n",
        "  if w+1 <= 8:\n",
        "    KC_eqt.append(kc)\n",
        "  elif w+1 <= 16:\n",
        "    KC_fi.append(kc)\n",
        "  elif w+1 <= 24:\n",
        "    KC_fx.append(kc)\n",
        "  elif w+1 <= 32:\n",
        "    KC_comd.append(kc)"
      ]
    },
    {
      "cell_type": "markdown",
      "metadata": {
        "id": "uTjYKdF-chAs"
      },
      "source": [
        "# 3. Testing period"
      ]
    },
    {
      "cell_type": "code",
      "execution_count": 17,
      "metadata": {
        "id": "Ns9GiQOqmyyR",
        "colab": {
          "base_uri": "https://localhost:8080/",
          "height": 436
        },
        "outputId": "6a15cc23-a89a-495f-8c23-8df62fca3896"
      },
      "outputs": [
        {
          "output_type": "stream",
          "name": "stdout",
          "text": [
            "0\n",
            "0\n",
            "/n\n",
            "0\n",
            "1\n",
            "/n\n"
          ]
        },
        {
          "output_type": "error",
          "ename": "IndexError",
          "evalue": "list index out of range",
          "traceback": [
            "\u001b[0;31m---------------------------------------------------------------------------\u001b[0m",
            "\u001b[0;31mIndexError\u001b[0m                                Traceback (most recent call last)",
            "\u001b[0;32m<ipython-input-17-d22190604390>\u001b[0m in \u001b[0;36m<cell line: 5>\u001b[0;34m()\u001b[0m\n\u001b[1;32m     17\u001b[0m       \u001b[0mprint\u001b[0m\u001b[0;34m(\u001b[0m\u001b[0mt\u001b[0m\u001b[0;34m)\u001b[0m\u001b[0;34m\u001b[0m\u001b[0;34m\u001b[0m\u001b[0m\n\u001b[1;32m     18\u001b[0m       \u001b[0mprint\u001b[0m\u001b[0;34m(\u001b[0m\u001b[0;34m'/n'\u001b[0m\u001b[0;34m)\u001b[0m\u001b[0;34m\u001b[0m\u001b[0;34m\u001b[0m\u001b[0m\n\u001b[0;32m---> 19\u001b[0;31m       \u001b[0;32mclass\u001b[0m \u001b[0mCustomStrategy\u001b[0m\u001b[0;34m(\u001b[0m\u001b[0mSmaCross\u001b[0m\u001b[0;34m)\u001b[0m\u001b[0;34m:\u001b[0m\u001b[0;34m\u001b[0m\u001b[0;34m\u001b[0m\u001b[0m\n\u001b[0m\u001b[1;32m     20\u001b[0m         \u001b[0mn1\u001b[0m \u001b[0;34m=\u001b[0m \u001b[0mn_One_sma\u001b[0m\u001b[0;34m[\u001b[0m\u001b[0mw\u001b[0m\u001b[0;34m]\u001b[0m\u001b[0;34m[\u001b[0m\u001b[0mt\u001b[0m\u001b[0;34m]\u001b[0m\u001b[0;34m\u001b[0m\u001b[0;34m\u001b[0m\u001b[0m\n\u001b[1;32m     21\u001b[0m         \u001b[0mn2\u001b[0m \u001b[0;34m=\u001b[0m \u001b[0mn_Two_sma\u001b[0m\u001b[0;34m[\u001b[0m\u001b[0mw\u001b[0m\u001b[0;34m]\u001b[0m\u001b[0;34m[\u001b[0m\u001b[0mt\u001b[0m\u001b[0;34m]\u001b[0m\u001b[0;34m\u001b[0m\u001b[0;34m\u001b[0m\u001b[0m\n",
            "\u001b[0;32m<ipython-input-17-d22190604390>\u001b[0m in \u001b[0;36mCustomStrategy\u001b[0;34m()\u001b[0m\n\u001b[1;32m     18\u001b[0m       \u001b[0mprint\u001b[0m\u001b[0;34m(\u001b[0m\u001b[0;34m'/n'\u001b[0m\u001b[0;34m)\u001b[0m\u001b[0;34m\u001b[0m\u001b[0;34m\u001b[0m\u001b[0m\n\u001b[1;32m     19\u001b[0m       \u001b[0;32mclass\u001b[0m \u001b[0mCustomStrategy\u001b[0m\u001b[0;34m(\u001b[0m\u001b[0mSmaCross\u001b[0m\u001b[0;34m)\u001b[0m\u001b[0;34m:\u001b[0m\u001b[0;34m\u001b[0m\u001b[0;34m\u001b[0m\u001b[0m\n\u001b[0;32m---> 20\u001b[0;31m         \u001b[0mn1\u001b[0m \u001b[0;34m=\u001b[0m \u001b[0mn_One_sma\u001b[0m\u001b[0;34m[\u001b[0m\u001b[0mw\u001b[0m\u001b[0;34m]\u001b[0m\u001b[0;34m[\u001b[0m\u001b[0mt\u001b[0m\u001b[0;34m]\u001b[0m\u001b[0;34m\u001b[0m\u001b[0;34m\u001b[0m\u001b[0m\n\u001b[0m\u001b[1;32m     21\u001b[0m         \u001b[0mn2\u001b[0m \u001b[0;34m=\u001b[0m \u001b[0mn_Two_sma\u001b[0m\u001b[0;34m[\u001b[0m\u001b[0mw\u001b[0m\u001b[0;34m]\u001b[0m\u001b[0;34m[\u001b[0m\u001b[0mt\u001b[0m\u001b[0;34m]\u001b[0m\u001b[0;34m\u001b[0m\u001b[0;34m\u001b[0m\u001b[0m\n\u001b[1;32m     22\u001b[0m \u001b[0;34m\u001b[0m\u001b[0m\n",
            "\u001b[0;31mIndexError\u001b[0m: list index out of range"
          ]
        }
      ],
      "source": [
        "res_sma_tls = []\n",
        "res_rsi_tls = []\n",
        "res_macd_tls = []\n",
        "\n",
        "for i in range(len(test)):\n",
        "  for j in range(len(test[0])):\n",
        "    res_test_sma = []\n",
        "    res_test_macd = []\n",
        "    res_test_rsi = []\n",
        "    if (i==0) and (j==0):\n",
        "      w = 0\n",
        "    else:\n",
        "      w = w+1\n",
        "    for t in range(len(test[i][0])):\n",
        "      # SMA\n",
        "      print(w)\n",
        "      print(t)\n",
        "      print('/n')\n",
        "      class CustomStrategy(SmaCross):\n",
        "        n1 = n_One_sma[w][t]\n",
        "        n2 = n_Two_sma[w][t]\n",
        "\n",
        "      bt = Backtest(test[i][j][t], CustomStrategy, cash=10000, commission=.000)\n",
        "      stats = bt.run()\n",
        "      res_test_sma.append(stats)\n",
        "\n",
        "      # MACD\n",
        "      class CustomMACD(MACDStrategy):\n",
        "        fast_period=fast[w][t]\n",
        "        slow_period=slow[w][t]\n",
        "        signal_period=signal[w][t]\n",
        "\n",
        "      bt = Backtest(test[i][j][t], CustomMACD, cash=10000, commission=.000)\n",
        "      stats = bt.run()\n",
        "      res_test_macd.append(stats)\n",
        "\n",
        "\n",
        "      # RSI\n",
        "      class CustomRsiStrategy(BasicRsiStrategy):\n",
        "        n1 = n_One_rsi[w][t]\n",
        "        n2 = n_Two_rsi[w][t]\n",
        "      bt = Backtest(test[i][j][t], CustomRsiStrategy, cash=10000, commission=.000)\n",
        "      stats = bt.run()\n",
        "      res_test_rsi.append(stats)\n",
        "\n",
        "    res_sma_tls.append(res_test_sma)\n",
        "    res_rsi_tls.append(res_test_rsi)\n",
        "    res_macd_tls.append(res_test_macd)\n",
        "\n",
        "\n"
      ]
    },
    {
      "cell_type": "markdown",
      "metadata": {
        "id": "Zm1039odVwKb"
      },
      "source": []
    },
    {
      "cell_type": "code",
      "execution_count": null,
      "metadata": {
        "id": "iL1F4TzssI38"
      },
      "outputs": [],
      "source": [
        "res_tls = [res_sma_tls, res_macd_tls, res_rsi_tls]\n",
        "res_ls = [] #4*9*69*252\n",
        "for i in range(len(test)):\n",
        "  temp = []\n",
        "  for j in range(len(test[0])):\n",
        "    res_p = []\n",
        "    for s in range(3):\n",
        "      for t in range(len(test[i][0])):\n",
        "        res_p.append(res_tls[s][j][t])\n",
        "    temp.append(res_p)\n",
        "  res_ls.append(temp)\n",
        "\n"
      ]
    },
    {
      "cell_type": "markdown",
      "metadata": {
        "id": "27Q7kJAW8diB"
      },
      "source": [
        "# Normalize position"
      ]
    },
    {
      "cell_type": "code",
      "execution_count": null,
      "metadata": {
        "id": "f92z6z1gZ3cK"
      },
      "outputs": [],
      "source": [
        "import pandas as pd\n",
        "\n",
        "def normalize_position_sizes(data, price_data):\n",
        "    # Convert EntryTime and ExitTime to datetime objects\n",
        "    data['EntryTime'] = pd.to_datetime(data['EntryTime'])\n",
        "    data['ExitTime'] = pd.to_datetime(data['ExitTime'])\n",
        "\n",
        "    # Get the date range from price_data\n",
        "    date_list = price_data.index\n",
        "\n",
        "    # Initialize a list to store position sizes\n",
        "    position_size_list = []\n",
        "\n",
        "    # Iterate over each date\n",
        "    for date in date_list:\n",
        "        # Filter trades that are active on this date\n",
        "        active_trades = data[(data['EntryTime'] <= date) & (data['ExitTime'] >= date)]\n",
        "\n",
        "        # Calculate the total size of active trades on this date\n",
        "        total_size = active_trades['Size'].sum()\n",
        "\n",
        "        # Append the total size to the position size list\n",
        "        position_size_list.append(total_size)\n",
        "\n",
        "    # Normalize position sizes\n",
        "    return position_size_list\n",
        "\n",
        "\n"
      ]
    },
    {
      "cell_type": "markdown",
      "metadata": {
        "id": "_epiSkgd8X9u"
      },
      "source": [
        "# Calculate DailyPNL"
      ]
    },
    {
      "cell_type": "code",
      "execution_count": null,
      "metadata": {
        "id": "A24wTmX-hWnA"
      },
      "outputs": [],
      "source": [
        "import pandas as pd\n",
        "\n",
        "def calculate_daily_pnl(trades_data, daily_close_prices):\n",
        "    # Convert trades data and daily prices into DataFrames\n",
        "    trades_df = pd.DataFrame(trades_data)\n",
        "    close_prices_df = pd.DataFrame(daily_close_prices, columns=['Close'])\n",
        "    close_prices_df.index = pd.to_datetime(close_prices_df.index)\n",
        "\n",
        "    # Ensure trades' dates are in datetime format\n",
        "    trades_df['EntryTime'] = pd.to_datetime(trades_df['EntryTime'])\n",
        "    trades_df['ExitTime'] = pd.to_datetime(trades_df['ExitTime'])\n",
        "\n",
        "    # Initialize a DataFrame for daily P&L\n",
        "    daily_pl_df = pd.DataFrame(index=close_prices_df.index, columns=['DailyPnL'])\n",
        "    daily_pl_df['DailyPnL'] = 0.0\n",
        "\n",
        "    for index, trade in trades_df.iterrows():\n",
        "        # Find dates within the trade period\n",
        "        trade_period_dates = daily_pl_df.index[(daily_pl_df.index >= trade['EntryTime']) & (daily_pl_df.index <= trade['ExitTime'])]\n",
        "\n",
        "        for trade_date in trade_period_dates:\n",
        "            if trade_date in close_prices_df.index:\n",
        "                closing_price_on_date = close_prices_df.loc[trade_date, 'Close']\n",
        "\n",
        "                # Find yesterday's date\n",
        "                prev_date = trade_date - pd.Timedelta(days=1)\n",
        "\n",
        "                # Check if previous date exists in the data\n",
        "                if prev_date in close_prices_df.index:\n",
        "                    prev_closing_price = close_prices_df.loc[prev_date, 'Close']\n",
        "\n",
        "                    if prev_closing_price != 0:  # Avoid division by zero\n",
        "                        # Calculate PNL as a percentage of yesterday's price, adjusted for the trade direction\n",
        "                        pnl_percent = ((closing_price_on_date - prev_closing_price) / prev_closing_price) * 100\n",
        "\n",
        "                        # Adjust PNL based on the direction (sign) of the trade size\n",
        "                        pnl_adjusted_for_direction = pnl_percent * (trade['Size'] / abs(trade['Size']))\n",
        "\n",
        "                        # Update daily P&L\n",
        "                        daily_pl_df.at[trade_date, 'DailyPnL'] += pnl_adjusted_for_direction\n",
        "\n",
        "    return daily_pl_df\n"
      ]
    },
    {
      "cell_type": "code",
      "execution_count": null,
      "metadata": {
        "id": "mSTJmaPXdEUR"
      },
      "outputs": [],
      "source": [
        "def CalTransactCost(tradesData,CostInBP,priceData,defaultCapital,KC_):\n",
        "  Cost=[]\n",
        "  for i in range(len(tradesData)):\n",
        "    temp=[]\n",
        "    for j in range(len(tradesData[0])):\n",
        "      temp.append((tradesData[i][j]*priceData[i]['Close'][j]*CostInBP*100*KC_[i][j])/defaultCapital)\n",
        "    Cost.append(temp)\n",
        "  return Cost\n",
        "\n",
        "#CostMatrix=CalTransactCost(PosDif,0.02,test_data_final,10000,transposed_rescaled_result)\n",
        "\n",
        "import pandas as pd\n",
        "\n",
        "tc = {\n",
        "    \"Ticker\": [\n",
        "        \"SPX\", \"S&P GSCI Excess Return Rate\", \"Bloomberg commodity excess return\",\n",
        "        \"DBC US Equity\", \"LBUSTRUU (Benchmark for fixed income)\", \"MSFT\", \"AAPL\",\n",
        "        \"NVDA\", \"AMZN\", \"GOOG\", \"META\", \"LLY\", \"TSLA\", \"AVGO\", \"V\", \"TSM\", \"NVO\", \"JPM\",\n",
        "        \"UNH\", \"WMT\", \"MA\", \"XOM\", \"JNJ\", \"PG\", \"ASML\", \"HD\", \"MRK\", \"COST\",\n",
        "        \"WN1 (UST 30y)\", \"UB1 (EUR 30y)\", \"TY1 (10y US Treasury)\", \"FV1 (5y US Treasury)\",\n",
        "        \"TU1 (2y US Treasury)\", \"EURUSD\", \"GBPUSD\", \"AUDUSD\", \"NZDUSD\", \"USDCHF\",\n",
        "        \"USDMYR\", \"EURCZK\", \"USDHKD\", \"USDTWD\", \"USDRUB\", \"USDJPY\", \"USDNOK\", \"USDMXN\",\n",
        "        \"XB1 Comdty\", \"GC1 Comdty\", \"C 1 Comdty\", \"W 1 Comdty\", \"CO1 Comdty\",\n",
        "        \"KC1 Comdty\", \"SB1 Comdty\", \"NG1 Comdty\"\n",
        "    ],\n",
        "    \"TC (bps)\": [\n",
        "        1, 4, 4, 12, 10, 2, 2, 5, 3, 3, 3, 6, 3, 6, 5, 6, 6, 6,\n",
        "        6, 6, 6, 6, 6, 6, 6, 6, 6, 6, 3, 3, 1, 2, 2, 1, 2, 2, 3, 1,\n",
        "        7, 4, 3, 7, 10, 1, 4, 3, 4, 3, 5, 5, 4, 8, 8, 5\n",
        "    ],\n",
        "    \"TC (decimal)\": [\n",
        "        0.0001, 0.0004, 0.0004, 0.0012, 0.001, 0.0002, 0.0002, 0.0005, 0.0003, 0.0003,\n",
        "        0.0003, 0.0006, 0.0003, 0.0006, 0.0005, 0.0006, 0.0006, 0.0006, 0.0006, 0.0006,\n",
        "        0.0006, 0.0006, 0.0006, 0.0006, 0.0006, 0.0006, 0.0006, 0.0006, 0.0003, 0.0003,\n",
        "        0.0001, 0.0002, 0.0002, 0.0001, 0.0002, 0.0002, 0.0003, 0.0001, 0.0007, 0.0004,\n",
        "        0.0003, 0.0007, 0.001, 0.0001, 0.0004, 0.0003, 0.0004, 0.0003, 0.0005, 0.0005,\n",
        "        0.0004, 0.0008, 0.0008, 0.0005\n",
        "    ]\n",
        "}\n",
        "tc_df = pd.DataFrame(tc)\n",
        "# List of values to check for in the 'Ticker' column for rows to drop\n",
        "values_to_drop = [\"UB1 (EUR 30y)\", \"TU1 (2y US Treasury)\"]\n",
        "\n",
        "# Drop rows where 'Ticker' column contains any of the values in the list `values_to_drop`\n",
        "tc_df_drop = tc_df[~tc_df['Ticker'].isin(values_to_drop)].reset_index()\n",
        "tc_df_drop = tc_df_drop.drop(columns=['index'])\n",
        "#tc_bp = tc_df_drop['TC (decimal)']\n",
        "tc_df_drop\n",
        "tc_bp = tc_df_drop['TC (decimal)']"
      ]
    },
    {
      "cell_type": "code",
      "execution_count": null,
      "metadata": {
        "id": "HzZQkF8XdGgr"
      },
      "outputs": [],
      "source": [
        "KC_ls = [KC_eqt, KC_fi, KC_fx, KC_comd] #4*9*69\n",
        "final_pnl = []\n",
        "import numpy as np\n",
        "for i in range(len(test_data)):\n",
        "  pnl = []\n",
        "  for j in range(len(test_data[0])):\n",
        "    if (i==0) and (j==0):\n",
        "      tc_idx = 0\n",
        "    else:\n",
        "      tc_idx = tc_idx+1\n",
        "    pos_Sizes_Test = []\n",
        "    daily_pnl_df_res = []\n",
        "    dailyPNL = []\n",
        "    for t in range(len(test_data[i][0])):\n",
        "      pos_Sizes_Test.append(normalize_position_sizes(pd.DataFrame(res_ls[i][j][t][\"_trades\"]), test_data[i][j][t]))\n",
        "      dpnl = calculate_daily_pnl(res_ls[i][j][t][\"_trades\"], test_data[i][j][t][\"Close\"])\n",
        "      daily_pnl_df_res.append(dpnl)\n",
        "      dailyPNL.append(dpnl['DailyPnL'])\n",
        "    transpose_res = [list(row) for row in zip(*pos_Sizes_Test)]\n",
        "    print(i)\n",
        "    print(j)\n",
        "    print(len(transpose_res[i]))\n",
        "    print(len(KC_ls[i][j]))\n",
        "    print('/n')\n",
        "    result_trans_res = [np.multiply(KC_ls[i][j], pos) for pos in transpose_res]\n",
        "    transposed_dailyPNL = [list(sublist) for sublist in zip(*dailyPNL)]\n",
        "    converted_pos_Sizes_Test = [[1 if item != 0 else 0 for item in sublist] for sublist in pos_Sizes_Test]\n",
        "    transposed_pos_Sizes_Test = list(map(list, zip(*converted_pos_Sizes_Test)))\n",
        "    result = []\n",
        "    for row in transposed_pos_Sizes_Test:\n",
        "        multiplied_row = [item * KC_ls[i][j][k] for k, item in enumerate(row)]\n",
        "        result.append(multiplied_row)\n",
        "    rescaled_result = [[item / sum(sublist) if sum(sublist) != 0 else 0 for item in sublist] for sublist in result]\n",
        "    dot_product_results = [sum(a * b for a, b in zip(sublist_rescaled, sublist_transposed))\n",
        "                        for sublist_rescaled, sublist_transposed in zip(rescaled_result, transposed_dailyPNL)]\n",
        "\n",
        "    PosDif = []\n",
        "    for m in range(len(pos_Sizes_Test)):\n",
        "        k = []\n",
        "        for n in range(len(pos_Sizes_Test[0])):\n",
        "            if n == 0:\n",
        "                k.append(0)\n",
        "            else:\n",
        "                k.append(abs(pos_Sizes_Test[m][n] - pos_Sizes_Test[m][n - 1]))\n",
        "        PosDif.append(k)\n",
        "    # PosDif is a 2-D list of shape 69 * 232, PosDif[i][j] is the difference in position size of asset i between day j and day j-1\n",
        "    sumPosDiff = [sum(sublist) for sublist in zip(*PosDif)]\n",
        "    # sumPosDiff is a 1-D list of shape 232, sumPosDiff[i] is the sum of the differences in position size of all assets between day i and day i-1\n",
        "    transposed_rescaled_result = [list(sublist) for sublist in zip(*rescaled_result)]\n",
        "    print(len(transposed_rescaled_result))\n",
        "    CostMatrix = CalTransactCost(PosDif, tc_bp[tc_idx], test_data[i][j], 10000, transposed_rescaled_result)\n",
        "    # CostMatrix is a 2-D list of shape 69 * 232, CostMatrix[i][j] is the transaction cost of asset i on day j\n",
        "\n",
        "    dailyTransactionCost = [sum(sublist) for sublist in zip(*CostMatrix)]\n",
        "    # dailyTransactionCost is a 1-D list of shape 232, dailyTransactionCost[i] is the sum of transaction costs of all assets\n",
        "\n",
        "    returnsWithTransactionCosts = []\n",
        "    for h in range(len(dailyTransactionCost)):\n",
        "        returnsWithTransactionCosts.append(dot_product_results[h] - dailyTransactionCost[h])\n",
        "    pnl.append(returnsWithTransactionCosts)\n",
        "  final_pnl.append(pnl)"
      ]
    },
    {
      "cell_type": "code",
      "execution_count": null,
      "metadata": {
        "id": "xSEFQxYFrqw4"
      },
      "outputs": [],
      "source": [
        "!pip install dill\n",
        "import dill as pickle\n",
        "with open(\"final_pnl.pkl\",'wb') as f:\n",
        "  pickle.dump(final_pnl, f)"
      ]
    },
    {
      "cell_type": "code",
      "execution_count": null,
      "metadata": {
        "id": "K6tfuPJ0x_jo"
      },
      "outputs": [],
      "source": [
        "!pip install xlsxwriter\n",
        "excel_path = \"/content/final_excel.xlsx\"\n",
        "writer = pd.ExcelWriter(excel_path, engine='xlsxwriter')\n",
        "\n",
        "for i, data in enumerate(final_pnl):\n",
        "    df = pd.DataFrame(data)\n",
        "    df.to_excel(writer, sheet_name=f'Sheet{i+1}', index=False)\n",
        "\n",
        "writer.save()"
      ]
    },
    {
      "cell_type": "code",
      "execution_count": null,
      "metadata": {
        "id": "Apu2TBACLuAf"
      },
      "outputs": [],
      "source": []
    },
    {
      "cell_type": "markdown",
      "metadata": {
        "id": "B8Zvj8VkgnBT"
      },
      "source": [
        "**Editing from Here**"
      ]
    },
    {
      "cell_type": "code",
      "execution_count": null,
      "metadata": {
        "id": "6mh49kwGj53-"
      },
      "outputs": [],
      "source": [
        "import numpy as np\n",
        "weights = np.array([0.4, 0.2, 0.2, 0.2])\n",
        "\n",
        "# Assuming the PnL arrays and weights are defined as before\n",
        "asset1_pnl_array = np.array(final_pnl[0])\n",
        "asset2_pnl_array = np.array(final_pnl[1])\n",
        "asset3_pnl_array = np.array(final_pnl[2])\n",
        "asset4_pnl_array = np.array(final_pnl[3])\n",
        "# Compute the weighted average of the PnL across assets for each period\n",
        "weighted_avg_pnl = (asset1_pnl_array * weights[0] +\n",
        "                    asset2_pnl_array * weights[1] +\n",
        "                    asset3_pnl_array * weights[2] +\n",
        "                    asset4_pnl_array * weights[3])\n",
        "\n",
        "# Convert the result to a list if needed\n",
        "weighted_avg_pnl_list = weighted_avg_pnl.tolist()\n",
        "\n",
        "risk_free_rate = 0.025\n",
        "period_sharpe_ratios = []\n",
        "period_sortino_ratios = []\n",
        "\n",
        "for i in range(len(weighted_avg_pnl_list)):\n",
        "    returns = np.array(weighted_avg_pnl_list[i])\n",
        "    mean_return = np.mean(returns)\n",
        "    std_dev = np.std(returns)\n",
        "    downside_returns = returns[returns < risk_free_rate]\n",
        "    downside_deviation = np.std(downside_returns) if len(downside_returns) > 0 else 0\n",
        "\n",
        "    # Sharpe Ratio calculation\n",
        "    sharpe_ratio = (mean_return - risk_free_rate) / std_dev * np.sqrt(252)\n",
        "    period_sharpe_ratios.append(sharpe_ratio)\n",
        "\n",
        "    # Sortino Ratio calculation\n",
        "    sortino_ratio = (mean_return - risk_free_rate) / downside_deviation * np.sqrt(252) if downside_deviation > 0 else 0\n",
        "    period_sortino_ratios.append(sortino_ratio)\n",
        "\n",
        "# If you wish to see the calculated ratios\n",
        "print(\"Sharpe Ratios:\", period_sharpe_ratios)\n",
        "print(\"Sortino Ratios:\", period_sortino_ratios)\n"
      ]
    },
    {
      "cell_type": "code",
      "execution_count": null,
      "metadata": {
        "id": "_foMaTx5ntAB"
      },
      "outputs": [],
      "source": [
        "max(weighted_avg_pnl[1])"
      ]
    },
    {
      "cell_type": "code",
      "execution_count": null,
      "metadata": {
        "id": "BiFMAbeGfowt"
      },
      "outputs": [],
      "source": [
        "final_pnl_by_asset=[]\n",
        "for i in range(len(final_pnl)):\n",
        "  temp=[]\n",
        "  for j in range(len(final_pnl[i])):\n",
        "    for k in range(len(final_pnl[i][j])):\n",
        "      temp.append(final_pnl[i][j][k])\n",
        "  final_pnl_by_asset.append(temp)\n",
        "\n"
      ]
    },
    {
      "cell_type": "code",
      "execution_count": null,
      "metadata": {
        "id": "CDne_svQhqF6"
      },
      "outputs": [],
      "source": [
        "initial_capital=100"
      ]
    },
    {
      "cell_type": "code",
      "execution_count": null,
      "metadata": {
        "id": "-1yDhSsRe06f"
      },
      "outputs": [],
      "source": [
        "import matplotlib.pyplot as plt\n",
        "\n",
        "capital_evolution = [initial_capital]\n",
        "for percentage_return in final_pnl_by_asset[0]:\n",
        "    capital_evolution.append(capital_evolution[-1] * (1 + percentage_return / 100))\n",
        "\n",
        "# Plotting\n",
        "plt.figure(figsize=(15, 3))\n",
        "plt.plot(capital_evolution, linestyle='-', color='b')\n",
        "plt.title('Capital Evolution using Returns from Equities')\n",
        "plt.xlabel('Time Period (Days)')\n",
        "plt.ylabel('Capital')\n",
        "plt.grid(True)\n",
        "plt.show()"
      ]
    },
    {
      "cell_type": "code",
      "execution_count": null,
      "metadata": {
        "id": "z6Y88Dx8hxw8"
      },
      "outputs": [],
      "source": [
        "capital_evolution = [initial_capital]\n",
        "for percentage_return in final_pnl_by_asset[1]:\n",
        "    capital_evolution.append(capital_evolution[-1] * (1 + percentage_return / 100))\n",
        "\n",
        "# Plotting\n",
        "plt.figure(figsize=(15, 3))\n",
        "plt.plot(capital_evolution, linestyle='-', color='red')\n",
        "plt.title('Capital Evolution using Returns from Fixed Income Investments')\n",
        "plt.xlabel('Time Period (Days)')\n",
        "plt.ylabel('Capital')\n",
        "plt.grid(True)\n",
        "plt.show()"
      ]
    },
    {
      "cell_type": "code",
      "execution_count": null,
      "metadata": {
        "id": "rjq1VOw2h5cq"
      },
      "outputs": [],
      "source": [
        "capital_evolution = [initial_capital]\n",
        "for percentage_return in final_pnl_by_asset[2]:\n",
        "    capital_evolution.append(capital_evolution[-1] * (1 + percentage_return / 100))\n",
        "\n",
        "# Plotting\n",
        "plt.figure(figsize=(15, 3))\n",
        "plt.plot(capital_evolution, linestyle='-', color='green')\n",
        "plt.title('Capital Evolution using Returns from Foreign Exchange Investments')\n",
        "plt.xlabel('Time Period (Days)')\n",
        "plt.ylabel('Capital')\n",
        "plt.grid(True)\n",
        "plt.show()"
      ]
    },
    {
      "cell_type": "code",
      "execution_count": null,
      "metadata": {
        "id": "QOyIDfBoh8c0"
      },
      "outputs": [],
      "source": [
        "capital_evolution = [initial_capital]\n",
        "for percentage_return in final_pnl_by_asset[3]:\n",
        "    capital_evolution.append(capital_evolution[-1] * (1 + percentage_return / 100))\n",
        "\n",
        "# Plotting\n",
        "plt.figure(figsize=(15, 3))\n",
        "plt.plot(capital_evolution, linestyle='-', color='orange')\n",
        "plt.title('Capital Evolution using Returns from Commodities Investments')\n",
        "plt.xlabel('Time Period (Days)')\n",
        "plt.ylabel('Capital')\n",
        "plt.grid(True)\n",
        "plt.show()"
      ]
    },
    {
      "cell_type": "code",
      "execution_count": null,
      "metadata": {
        "id": "HMFpVq4yknuE"
      },
      "outputs": [],
      "source": [
        "weighted_avg_pnl_final=[]\n",
        "for i in range(len(final_pnl_by_asset[0])):\n",
        "  weighted_avg_pnl_final.append(final_pnl_by_asset[0][i]*weights[0]+final_pnl_by_asset[1][i]*weights[1]+final_pnl_by_asset[2][i]*weights[2]+final_pnl_by_asset[3][i]*weights[3])"
      ]
    },
    {
      "cell_type": "code",
      "execution_count": null,
      "metadata": {
        "id": "8SkY9EUDlGE7"
      },
      "outputs": [],
      "source": [
        "capital_evolution = [initial_capital]\n",
        "for percentage_return in weighted_avg_pnl_final:\n",
        "    capital_evolution.append(capital_evolution[-1] * (1 + percentage_return / 100))\n",
        "\n",
        "# Plotting\n",
        "plt.figure(figsize=(15, 6))\n",
        "plt.plot(capital_evolution, linestyle='-', color='green')\n",
        "plt.title('Capital Evolution of our Portfolio')\n",
        "plt.xlabel('Time Period (Days)')\n",
        "plt.ylabel('Capital')\n",
        "plt.grid(True)\n",
        "plt.show()"
      ]
    },
    {
      "cell_type": "markdown",
      "metadata": {
        "id": "PH0d6akSrogc"
      },
      "source": [
        "Complete Period Metrics"
      ]
    },
    {
      "cell_type": "code",
      "execution_count": null,
      "metadata": {
        "id": "SUbvC8uT5EHr"
      },
      "outputs": [],
      "source": [
        "trading_days = 252\n",
        "risk_free_rate = 0.025\n",
        "for i in range(len(final_pnl_by_asset)):\n",
        "    pnl_array = np.array(final_pnl_by_asset[i])\n",
        "    geometric_mean_daily = np.prod(1 + pnl_array/100)**(1/len(pnl_array)) - 1\n",
        "    average_annual_return = (1 + geometric_mean_daily)**trading_days - 1\n",
        "    annualized_volatility = np.std(pnl_array, ddof=1) * np.sqrt(trading_days)\n",
        "    annualized_sharpe_ratio = (average_annual_return - risk_free_rate) / annualized_volatility\n",
        "    print(\"Asset\", i+1)\n",
        "    print(\"average_annual_return\", average_annual_return*100)\n",
        "    print(\"annualized_volatility\", annualized_volatility)\n",
        "    print(\"annualized_sharpe_ratio\", annualized_sharpe_ratio*100)"
      ]
    },
    {
      "cell_type": "code",
      "execution_count": null,
      "metadata": {
        "id": "s81_5wmZrqzQ"
      },
      "outputs": [],
      "source": [
        "trading_days = 252\n",
        "\n",
        "# Calculate geometric mean of daily returns\n",
        "geometric_mean_daily = np.prod(1 + final_pnl_by_asset)**(1/len(final_pnl_by_asset)) - 1\n",
        "\n",
        "# Convert the average daily return to average annual return using geometric mean\n",
        "average_annual_return = (1 + geometric_mean_daily)**trading_days - 1\n",
        "\n",
        "# Calculate annualized volatility\n",
        "annualized_volatility = np.std(final_pnl_by_asset, ddof=1) * np.sqrt(trading_days)\n",
        "\n",
        "# Assuming risk-free rate is 0 for simplicity; replace with actual risk-free rate if available\n",
        "risk_free_rate = 0\n",
        "\n",
        "# Calculate annualized Sharpe ratio\n",
        "annualized_sharpe_ratio = (average_annual_return - risk_free_rate) / annualized_volatility\n",
        "\n",
        "average_annual_return, annualized_volatility, annualized_sharpe_ratio"
      ]
    },
    {
      "cell_type": "markdown",
      "metadata": {
        "id": "27z0IGfl-2F7"
      },
      "source": [
        "First Half metrics"
      ]
    },
    {
      "cell_type": "code",
      "execution_count": null,
      "metadata": {
        "id": "qwm3B8p3-3n7"
      },
      "outputs": [],
      "source": [
        "final_pnl_by_asset_fh=[]\n",
        "for i in range(len(final_pnl)):\n",
        "  temp=[]\n",
        "  for j in range(len(final_pnl[i])//2):\n",
        "    for k in range(len(final_pnl[i][j])):\n",
        "      temp.append(final_pnl[i][j][k])\n",
        "  final_pnl_by_asset_fh.append(temp)"
      ]
    },
    {
      "cell_type": "code",
      "execution_count": null,
      "metadata": {
        "id": "3a3igeaY_FuZ"
      },
      "outputs": [],
      "source": [
        "trading_days = 252\n",
        "risk_free_rate = 0.025\n",
        "for i in range(len(final_pnl_by_asset_fh)):\n",
        "    pnl_array = np.array(final_pnl_by_asset_fh[i])\n",
        "    geometric_mean_daily = np.prod(1 + pnl_array/100)**(1/len(pnl_array)) - 1\n",
        "    average_annual_return = (1 + geometric_mean_daily)**trading_days - 1\n",
        "    annualized_volatility = np.std(pnl_array, ddof=1) * np.sqrt(trading_days)\n",
        "    annualized_sharpe_ratio = (average_annual_return - risk_free_rate) / annualized_volatility\n",
        "    print(\"Asset\", i+1)\n",
        "    print(\"average_annual_return\", average_annual_return*100)\n",
        "    print(\"annualized_volatility\", annualized_volatility)\n",
        "    print(\"annualized_sharpe_ratio\", annualized_sharpe_ratio*100)"
      ]
    },
    {
      "cell_type": "markdown",
      "metadata": {
        "id": "mk0vNQrp_ZM-"
      },
      "source": [
        "Second Half Metrics"
      ]
    },
    {
      "cell_type": "code",
      "execution_count": null,
      "metadata": {
        "id": "CRPNqhan_Ymi"
      },
      "outputs": [],
      "source": [
        "final_pnl_by_asset_sh=[]\n",
        "for i in range(len(final_pnl)):\n",
        "  temp=[]\n",
        "  for j in range(len(final_pnl[i])//2,len(final_pnl[i]),1):\n",
        "    for k in range(len(final_pnl[i][j])):\n",
        "      temp.append(final_pnl[i][j][k])\n",
        "  final_pnl_by_asset_sh.append(temp)"
      ]
    },
    {
      "cell_type": "code",
      "execution_count": null,
      "metadata": {
        "id": "h2VALfr__h38"
      },
      "outputs": [],
      "source": [
        "trading_days = 252\n",
        "risk_free_rate = 0.025\n",
        "for i in range(len(final_pnl_by_asset_sh)):\n",
        "    pnl_array = np.array(final_pnl_by_asset_sh[i])\n",
        "    geometric_mean_daily = np.prod(1 + pnl_array/100)**(1/len(pnl_array)) - 1\n",
        "    average_annual_return = (1 + geometric_mean_daily)**trading_days - 1\n",
        "    annualized_volatility = np.std(pnl_array, ddof=1) * np.sqrt(trading_days)\n",
        "    annualized_sharpe_ratio = (average_annual_return - risk_free_rate) / annualized_volatility\n",
        "    print(\"Asset\", i+1)\n",
        "    print(\"average_annual_return\", average_annual_return*100)\n",
        "    print(\"annualized_volatility\", annualized_volatility)\n",
        "    print(\"annualized_sharpe_ratio\", annualized_sharpe_ratio*100)"
      ]
    },
    {
      "cell_type": "markdown",
      "metadata": {
        "id": "5BzcRiIsAUHE"
      },
      "source": [
        "Portfolio Metrics"
      ]
    },
    {
      "cell_type": "code",
      "execution_count": null,
      "metadata": {
        "id": "lVCEsmKIAaEk"
      },
      "outputs": [],
      "source": [
        "pnl_array = np.array(weighted_avg_pnl_final)\n",
        "geometric_mean_daily = np.prod(1 + pnl_array/100)**(1/len(pnl_array)) - 1\n",
        "average_annual_return = (1 + geometric_mean_daily)**trading_days - 1\n",
        "annualized_volatility = np.std(pnl_array, ddof=1) * np.sqrt(trading_days)\n",
        "annualized_sharpe_ratio = (average_annual_return - risk_free_rate) / annualized_volatility\n",
        "print(\"Complete Portfolio - Total Testing\")\n",
        "print(\"average_annual_return\", average_annual_return*100)\n",
        "print(\"annualized_volatility\", annualized_volatility)\n",
        "print(\"annualized_sharpe_ratio\", annualized_sharpe_ratio*100)"
      ]
    },
    {
      "cell_type": "code",
      "execution_count": null,
      "metadata": {
        "id": "4jH2XOyxAn0Y"
      },
      "outputs": [],
      "source": [
        "pnl_array = np.array(weighted_avg_pnl_final)\n",
        "midpoint = len(pnl_array) // 2\n",
        "pnl_array_fh=pnl_array[:midpoint]\n",
        "geometric_mean_daily = np.prod(1 + pnl_array_fh/100)**(1/len(pnl_array_fh)) - 1\n",
        "average_annual_return = (1 + geometric_mean_daily)**trading_days - 1\n",
        "annualized_volatility = np.std(pnl_array_fh, ddof=1) * np.sqrt(trading_days)\n",
        "annualized_sharpe_ratio = (average_annual_return - risk_free_rate) / annualized_volatility\n",
        "print(\"Complete Portfolio - First Half\")\n",
        "print(\"average_annual_return\", average_annual_return*100)\n",
        "print(\"annualized_volatility\", annualized_volatility)\n",
        "print(\"annualized_sharpe_ratio\", annualized_sharpe_ratio*100)"
      ]
    },
    {
      "cell_type": "code",
      "execution_count": null,
      "metadata": {
        "id": "zi3h8AIEBgMc"
      },
      "outputs": [],
      "source": [
        "pnl_array = np.array(weighted_avg_pnl_final)\n",
        "midpoint = len(pnl_array) // 2\n",
        "pnl_array_sh=pnl_array[midpoint:]\n",
        "geometric_mean_daily = np.prod(1 + pnl_array_sh/100)**(1/len(pnl_array_sh)) - 1\n",
        "average_annual_return = (1 + geometric_mean_daily)**trading_days - 1\n",
        "annualized_volatility = np.std(pnl_array_sh, ddof=1) * np.sqrt(trading_days)\n",
        "annualized_sharpe_ratio = (average_annual_return - risk_free_rate) / annualized_volatility\n",
        "print(\"Complete Portfolio - Second Half\")\n",
        "print(\"average_annual_return\", average_annual_return*100)\n",
        "print(\"annualized_volatility\", annualized_volatility)\n",
        "print(\"annualized_sharpe_ratio\", annualized_sharpe_ratio*100)"
      ]
    }
  ],
  "metadata": {
    "colab": {
      "provenance": []
    },
    "kernelspec": {
      "display_name": "Python 3",
      "name": "python3"
    },
    "language_info": {
      "name": "python"
    },
    "widgets": {
      "application/vnd.jupyter.widget-state+json": {
        "ed97a9108d4049408b8bb75b24547790": {
          "model_module": "@jupyter-widgets/controls",
          "model_name": "HBoxModel",
          "model_module_version": "1.5.0",
          "state": {
            "_dom_classes": [],
            "_model_module": "@jupyter-widgets/controls",
            "_model_module_version": "1.5.0",
            "_model_name": "HBoxModel",
            "_view_count": null,
            "_view_module": "@jupyter-widgets/controls",
            "_view_module_version": "1.5.0",
            "_view_name": "HBoxView",
            "box_style": "",
            "children": [
              "IPY_MODEL_63bd7d06ed214f2bbe126da2b9717164",
              "IPY_MODEL_3c47426010d74d028df23c1f2d516341",
              "IPY_MODEL_db9b8bee8faa40789f73be74190768ee"
            ],
            "layout": "IPY_MODEL_675cc31d640a4b41b849aa8e6c9022f3"
          }
        },
        "63bd7d06ed214f2bbe126da2b9717164": {
          "model_module": "@jupyter-widgets/controls",
          "model_name": "HTMLModel",
          "model_module_version": "1.5.0",
          "state": {
            "_dom_classes": [],
            "_model_module": "@jupyter-widgets/controls",
            "_model_module_version": "1.5.0",
            "_model_name": "HTMLModel",
            "_view_count": null,
            "_view_module": "@jupyter-widgets/controls",
            "_view_module_version": "1.5.0",
            "_view_name": "HTMLView",
            "description": "",
            "description_tooltip": null,
            "layout": "IPY_MODEL_820ed54d6e6e48afbf1831f635b5f5b7",
            "placeholder": "​",
            "style": "IPY_MODEL_b495f27ee42d46b986856ae8c6004adf",
            "value": "Backtest.optimize:  50%"
          }
        },
        "3c47426010d74d028df23c1f2d516341": {
          "model_module": "@jupyter-widgets/controls",
          "model_name": "FloatProgressModel",
          "model_module_version": "1.5.0",
          "state": {
            "_dom_classes": [],
            "_model_module": "@jupyter-widgets/controls",
            "_model_module_version": "1.5.0",
            "_model_name": "FloatProgressModel",
            "_view_count": null,
            "_view_module": "@jupyter-widgets/controls",
            "_view_module_version": "1.5.0",
            "_view_name": "ProgressView",
            "bar_style": "",
            "description": "",
            "description_tooltip": null,
            "layout": "IPY_MODEL_bfd052f98caf4f7ab00f0cf857b9ae07",
            "max": 2,
            "min": 0,
            "orientation": "horizontal",
            "style": "IPY_MODEL_d04e43121ef446bdbc90889e0c020f96",
            "value": 2
          }
        },
        "db9b8bee8faa40789f73be74190768ee": {
          "model_module": "@jupyter-widgets/controls",
          "model_name": "HTMLModel",
          "model_module_version": "1.5.0",
          "state": {
            "_dom_classes": [],
            "_model_module": "@jupyter-widgets/controls",
            "_model_module_version": "1.5.0",
            "_model_name": "HTMLModel",
            "_view_count": null,
            "_view_module": "@jupyter-widgets/controls",
            "_view_module_version": "1.5.0",
            "_view_name": "HTMLView",
            "description": "",
            "description_tooltip": null,
            "layout": "IPY_MODEL_02465f3025fa4bca87ec4ca4f2b866c1",
            "placeholder": "​",
            "style": "IPY_MODEL_acbd4e1d5cb7456bafc38c57f006fd13",
            "value": " 1/2 [00:00&lt;00:00,  4.50it/s]"
          }
        },
        "675cc31d640a4b41b849aa8e6c9022f3": {
          "model_module": "@jupyter-widgets/base",
          "model_name": "LayoutModel",
          "model_module_version": "1.2.0",
          "state": {
            "_model_module": "@jupyter-widgets/base",
            "_model_module_version": "1.2.0",
            "_model_name": "LayoutModel",
            "_view_count": null,
            "_view_module": "@jupyter-widgets/base",
            "_view_module_version": "1.2.0",
            "_view_name": "LayoutView",
            "align_content": null,
            "align_items": null,
            "align_self": null,
            "border": null,
            "bottom": null,
            "display": null,
            "flex": null,
            "flex_flow": null,
            "grid_area": null,
            "grid_auto_columns": null,
            "grid_auto_flow": null,
            "grid_auto_rows": null,
            "grid_column": null,
            "grid_gap": null,
            "grid_row": null,
            "grid_template_areas": null,
            "grid_template_columns": null,
            "grid_template_rows": null,
            "height": null,
            "justify_content": null,
            "justify_items": null,
            "left": null,
            "margin": null,
            "max_height": null,
            "max_width": null,
            "min_height": null,
            "min_width": null,
            "object_fit": null,
            "object_position": null,
            "order": null,
            "overflow": null,
            "overflow_x": null,
            "overflow_y": null,
            "padding": null,
            "right": null,
            "top": null,
            "visibility": "hidden",
            "width": null
          }
        },
        "820ed54d6e6e48afbf1831f635b5f5b7": {
          "model_module": "@jupyter-widgets/base",
          "model_name": "LayoutModel",
          "model_module_version": "1.2.0",
          "state": {
            "_model_module": "@jupyter-widgets/base",
            "_model_module_version": "1.2.0",
            "_model_name": "LayoutModel",
            "_view_count": null,
            "_view_module": "@jupyter-widgets/base",
            "_view_module_version": "1.2.0",
            "_view_name": "LayoutView",
            "align_content": null,
            "align_items": null,
            "align_self": null,
            "border": null,
            "bottom": null,
            "display": null,
            "flex": null,
            "flex_flow": null,
            "grid_area": null,
            "grid_auto_columns": null,
            "grid_auto_flow": null,
            "grid_auto_rows": null,
            "grid_column": null,
            "grid_gap": null,
            "grid_row": null,
            "grid_template_areas": null,
            "grid_template_columns": null,
            "grid_template_rows": null,
            "height": null,
            "justify_content": null,
            "justify_items": null,
            "left": null,
            "margin": null,
            "max_height": null,
            "max_width": null,
            "min_height": null,
            "min_width": null,
            "object_fit": null,
            "object_position": null,
            "order": null,
            "overflow": null,
            "overflow_x": null,
            "overflow_y": null,
            "padding": null,
            "right": null,
            "top": null,
            "visibility": null,
            "width": null
          }
        },
        "b495f27ee42d46b986856ae8c6004adf": {
          "model_module": "@jupyter-widgets/controls",
          "model_name": "DescriptionStyleModel",
          "model_module_version": "1.5.0",
          "state": {
            "_model_module": "@jupyter-widgets/controls",
            "_model_module_version": "1.5.0",
            "_model_name": "DescriptionStyleModel",
            "_view_count": null,
            "_view_module": "@jupyter-widgets/base",
            "_view_module_version": "1.2.0",
            "_view_name": "StyleView",
            "description_width": ""
          }
        },
        "bfd052f98caf4f7ab00f0cf857b9ae07": {
          "model_module": "@jupyter-widgets/base",
          "model_name": "LayoutModel",
          "model_module_version": "1.2.0",
          "state": {
            "_model_module": "@jupyter-widgets/base",
            "_model_module_version": "1.2.0",
            "_model_name": "LayoutModel",
            "_view_count": null,
            "_view_module": "@jupyter-widgets/base",
            "_view_module_version": "1.2.0",
            "_view_name": "LayoutView",
            "align_content": null,
            "align_items": null,
            "align_self": null,
            "border": null,
            "bottom": null,
            "display": null,
            "flex": null,
            "flex_flow": null,
            "grid_area": null,
            "grid_auto_columns": null,
            "grid_auto_flow": null,
            "grid_auto_rows": null,
            "grid_column": null,
            "grid_gap": null,
            "grid_row": null,
            "grid_template_areas": null,
            "grid_template_columns": null,
            "grid_template_rows": null,
            "height": null,
            "justify_content": null,
            "justify_items": null,
            "left": null,
            "margin": null,
            "max_height": null,
            "max_width": null,
            "min_height": null,
            "min_width": null,
            "object_fit": null,
            "object_position": null,
            "order": null,
            "overflow": null,
            "overflow_x": null,
            "overflow_y": null,
            "padding": null,
            "right": null,
            "top": null,
            "visibility": null,
            "width": null
          }
        },
        "d04e43121ef446bdbc90889e0c020f96": {
          "model_module": "@jupyter-widgets/controls",
          "model_name": "ProgressStyleModel",
          "model_module_version": "1.5.0",
          "state": {
            "_model_module": "@jupyter-widgets/controls",
            "_model_module_version": "1.5.0",
            "_model_name": "ProgressStyleModel",
            "_view_count": null,
            "_view_module": "@jupyter-widgets/base",
            "_view_module_version": "1.2.0",
            "_view_name": "StyleView",
            "bar_color": null,
            "description_width": ""
          }
        },
        "02465f3025fa4bca87ec4ca4f2b866c1": {
          "model_module": "@jupyter-widgets/base",
          "model_name": "LayoutModel",
          "model_module_version": "1.2.0",
          "state": {
            "_model_module": "@jupyter-widgets/base",
            "_model_module_version": "1.2.0",
            "_model_name": "LayoutModel",
            "_view_count": null,
            "_view_module": "@jupyter-widgets/base",
            "_view_module_version": "1.2.0",
            "_view_name": "LayoutView",
            "align_content": null,
            "align_items": null,
            "align_self": null,
            "border": null,
            "bottom": null,
            "display": null,
            "flex": null,
            "flex_flow": null,
            "grid_area": null,
            "grid_auto_columns": null,
            "grid_auto_flow": null,
            "grid_auto_rows": null,
            "grid_column": null,
            "grid_gap": null,
            "grid_row": null,
            "grid_template_areas": null,
            "grid_template_columns": null,
            "grid_template_rows": null,
            "height": null,
            "justify_content": null,
            "justify_items": null,
            "left": null,
            "margin": null,
            "max_height": null,
            "max_width": null,
            "min_height": null,
            "min_width": null,
            "object_fit": null,
            "object_position": null,
            "order": null,
            "overflow": null,
            "overflow_x": null,
            "overflow_y": null,
            "padding": null,
            "right": null,
            "top": null,
            "visibility": null,
            "width": null
          }
        },
        "acbd4e1d5cb7456bafc38c57f006fd13": {
          "model_module": "@jupyter-widgets/controls",
          "model_name": "DescriptionStyleModel",
          "model_module_version": "1.5.0",
          "state": {
            "_model_module": "@jupyter-widgets/controls",
            "_model_module_version": "1.5.0",
            "_model_name": "DescriptionStyleModel",
            "_view_count": null,
            "_view_module": "@jupyter-widgets/base",
            "_view_module_version": "1.2.0",
            "_view_name": "StyleView",
            "description_width": ""
          }
        },
        "45bc0cabe7434ad8ac00b573adb96433": {
          "model_module": "@jupyter-widgets/controls",
          "model_name": "HBoxModel",
          "model_module_version": "1.5.0",
          "state": {
            "_dom_classes": [],
            "_model_module": "@jupyter-widgets/controls",
            "_model_module_version": "1.5.0",
            "_model_name": "HBoxModel",
            "_view_count": null,
            "_view_module": "@jupyter-widgets/controls",
            "_view_module_version": "1.5.0",
            "_view_name": "HBoxView",
            "box_style": "",
            "children": [
              "IPY_MODEL_f39b73dbdd224f669e16798f4451eacc",
              "IPY_MODEL_bcd7123848194babb285ec23e54b9661",
              "IPY_MODEL_e879746a31764d83b21f86cab86623c3"
            ],
            "layout": "IPY_MODEL_4294cb8c7d874f0b82ec6b33710cb39b"
          }
        },
        "f39b73dbdd224f669e16798f4451eacc": {
          "model_module": "@jupyter-widgets/controls",
          "model_name": "HTMLModel",
          "model_module_version": "1.5.0",
          "state": {
            "_dom_classes": [],
            "_model_module": "@jupyter-widgets/controls",
            "_model_module_version": "1.5.0",
            "_model_name": "HTMLModel",
            "_view_count": null,
            "_view_module": "@jupyter-widgets/controls",
            "_view_module_version": "1.5.0",
            "_view_name": "HTMLView",
            "description": "",
            "description_tooltip": null,
            "layout": "IPY_MODEL_508f80452fcb436fb157a0f754b9c7de",
            "placeholder": "​",
            "style": "IPY_MODEL_78a367d44c7c45c7bf01b363cff0d296",
            "value": "Backtest.optimize:  50%"
          }
        },
        "bcd7123848194babb285ec23e54b9661": {
          "model_module": "@jupyter-widgets/controls",
          "model_name": "FloatProgressModel",
          "model_module_version": "1.5.0",
          "state": {
            "_dom_classes": [],
            "_model_module": "@jupyter-widgets/controls",
            "_model_module_version": "1.5.0",
            "_model_name": "FloatProgressModel",
            "_view_count": null,
            "_view_module": "@jupyter-widgets/controls",
            "_view_module_version": "1.5.0",
            "_view_name": "ProgressView",
            "bar_style": "",
            "description": "",
            "description_tooltip": null,
            "layout": "IPY_MODEL_66046bab6bc949e0917381ebddf6a9bd",
            "max": 2,
            "min": 0,
            "orientation": "horizontal",
            "style": "IPY_MODEL_c9d3375f4b064f47a49ffa5f9af35931",
            "value": 2
          }
        },
        "e879746a31764d83b21f86cab86623c3": {
          "model_module": "@jupyter-widgets/controls",
          "model_name": "HTMLModel",
          "model_module_version": "1.5.0",
          "state": {
            "_dom_classes": [],
            "_model_module": "@jupyter-widgets/controls",
            "_model_module_version": "1.5.0",
            "_model_name": "HTMLModel",
            "_view_count": null,
            "_view_module": "@jupyter-widgets/controls",
            "_view_module_version": "1.5.0",
            "_view_name": "HTMLView",
            "description": "",
            "description_tooltip": null,
            "layout": "IPY_MODEL_b5d659ff657a452eafb7319fedc34494",
            "placeholder": "​",
            "style": "IPY_MODEL_693adbde7d5a4ea4b599170f922c1006",
            "value": " 1/2 [00:00&lt;00:00,  1.77it/s]"
          }
        },
        "4294cb8c7d874f0b82ec6b33710cb39b": {
          "model_module": "@jupyter-widgets/base",
          "model_name": "LayoutModel",
          "model_module_version": "1.2.0",
          "state": {
            "_model_module": "@jupyter-widgets/base",
            "_model_module_version": "1.2.0",
            "_model_name": "LayoutModel",
            "_view_count": null,
            "_view_module": "@jupyter-widgets/base",
            "_view_module_version": "1.2.0",
            "_view_name": "LayoutView",
            "align_content": null,
            "align_items": null,
            "align_self": null,
            "border": null,
            "bottom": null,
            "display": null,
            "flex": null,
            "flex_flow": null,
            "grid_area": null,
            "grid_auto_columns": null,
            "grid_auto_flow": null,
            "grid_auto_rows": null,
            "grid_column": null,
            "grid_gap": null,
            "grid_row": null,
            "grid_template_areas": null,
            "grid_template_columns": null,
            "grid_template_rows": null,
            "height": null,
            "justify_content": null,
            "justify_items": null,
            "left": null,
            "margin": null,
            "max_height": null,
            "max_width": null,
            "min_height": null,
            "min_width": null,
            "object_fit": null,
            "object_position": null,
            "order": null,
            "overflow": null,
            "overflow_x": null,
            "overflow_y": null,
            "padding": null,
            "right": null,
            "top": null,
            "visibility": "hidden",
            "width": null
          }
        },
        "508f80452fcb436fb157a0f754b9c7de": {
          "model_module": "@jupyter-widgets/base",
          "model_name": "LayoutModel",
          "model_module_version": "1.2.0",
          "state": {
            "_model_module": "@jupyter-widgets/base",
            "_model_module_version": "1.2.0",
            "_model_name": "LayoutModel",
            "_view_count": null,
            "_view_module": "@jupyter-widgets/base",
            "_view_module_version": "1.2.0",
            "_view_name": "LayoutView",
            "align_content": null,
            "align_items": null,
            "align_self": null,
            "border": null,
            "bottom": null,
            "display": null,
            "flex": null,
            "flex_flow": null,
            "grid_area": null,
            "grid_auto_columns": null,
            "grid_auto_flow": null,
            "grid_auto_rows": null,
            "grid_column": null,
            "grid_gap": null,
            "grid_row": null,
            "grid_template_areas": null,
            "grid_template_columns": null,
            "grid_template_rows": null,
            "height": null,
            "justify_content": null,
            "justify_items": null,
            "left": null,
            "margin": null,
            "max_height": null,
            "max_width": null,
            "min_height": null,
            "min_width": null,
            "object_fit": null,
            "object_position": null,
            "order": null,
            "overflow": null,
            "overflow_x": null,
            "overflow_y": null,
            "padding": null,
            "right": null,
            "top": null,
            "visibility": null,
            "width": null
          }
        },
        "78a367d44c7c45c7bf01b363cff0d296": {
          "model_module": "@jupyter-widgets/controls",
          "model_name": "DescriptionStyleModel",
          "model_module_version": "1.5.0",
          "state": {
            "_model_module": "@jupyter-widgets/controls",
            "_model_module_version": "1.5.0",
            "_model_name": "DescriptionStyleModel",
            "_view_count": null,
            "_view_module": "@jupyter-widgets/base",
            "_view_module_version": "1.2.0",
            "_view_name": "StyleView",
            "description_width": ""
          }
        },
        "66046bab6bc949e0917381ebddf6a9bd": {
          "model_module": "@jupyter-widgets/base",
          "model_name": "LayoutModel",
          "model_module_version": "1.2.0",
          "state": {
            "_model_module": "@jupyter-widgets/base",
            "_model_module_version": "1.2.0",
            "_model_name": "LayoutModel",
            "_view_count": null,
            "_view_module": "@jupyter-widgets/base",
            "_view_module_version": "1.2.0",
            "_view_name": "LayoutView",
            "align_content": null,
            "align_items": null,
            "align_self": null,
            "border": null,
            "bottom": null,
            "display": null,
            "flex": null,
            "flex_flow": null,
            "grid_area": null,
            "grid_auto_columns": null,
            "grid_auto_flow": null,
            "grid_auto_rows": null,
            "grid_column": null,
            "grid_gap": null,
            "grid_row": null,
            "grid_template_areas": null,
            "grid_template_columns": null,
            "grid_template_rows": null,
            "height": null,
            "justify_content": null,
            "justify_items": null,
            "left": null,
            "margin": null,
            "max_height": null,
            "max_width": null,
            "min_height": null,
            "min_width": null,
            "object_fit": null,
            "object_position": null,
            "order": null,
            "overflow": null,
            "overflow_x": null,
            "overflow_y": null,
            "padding": null,
            "right": null,
            "top": null,
            "visibility": null,
            "width": null
          }
        },
        "c9d3375f4b064f47a49ffa5f9af35931": {
          "model_module": "@jupyter-widgets/controls",
          "model_name": "ProgressStyleModel",
          "model_module_version": "1.5.0",
          "state": {
            "_model_module": "@jupyter-widgets/controls",
            "_model_module_version": "1.5.0",
            "_model_name": "ProgressStyleModel",
            "_view_count": null,
            "_view_module": "@jupyter-widgets/base",
            "_view_module_version": "1.2.0",
            "_view_name": "StyleView",
            "bar_color": null,
            "description_width": ""
          }
        },
        "b5d659ff657a452eafb7319fedc34494": {
          "model_module": "@jupyter-widgets/base",
          "model_name": "LayoutModel",
          "model_module_version": "1.2.0",
          "state": {
            "_model_module": "@jupyter-widgets/base",
            "_model_module_version": "1.2.0",
            "_model_name": "LayoutModel",
            "_view_count": null,
            "_view_module": "@jupyter-widgets/base",
            "_view_module_version": "1.2.0",
            "_view_name": "LayoutView",
            "align_content": null,
            "align_items": null,
            "align_self": null,
            "border": null,
            "bottom": null,
            "display": null,
            "flex": null,
            "flex_flow": null,
            "grid_area": null,
            "grid_auto_columns": null,
            "grid_auto_flow": null,
            "grid_auto_rows": null,
            "grid_column": null,
            "grid_gap": null,
            "grid_row": null,
            "grid_template_areas": null,
            "grid_template_columns": null,
            "grid_template_rows": null,
            "height": null,
            "justify_content": null,
            "justify_items": null,
            "left": null,
            "margin": null,
            "max_height": null,
            "max_width": null,
            "min_height": null,
            "min_width": null,
            "object_fit": null,
            "object_position": null,
            "order": null,
            "overflow": null,
            "overflow_x": null,
            "overflow_y": null,
            "padding": null,
            "right": null,
            "top": null,
            "visibility": null,
            "width": null
          }
        },
        "693adbde7d5a4ea4b599170f922c1006": {
          "model_module": "@jupyter-widgets/controls",
          "model_name": "DescriptionStyleModel",
          "model_module_version": "1.5.0",
          "state": {
            "_model_module": "@jupyter-widgets/controls",
            "_model_module_version": "1.5.0",
            "_model_name": "DescriptionStyleModel",
            "_view_count": null,
            "_view_module": "@jupyter-widgets/base",
            "_view_module_version": "1.2.0",
            "_view_name": "StyleView",
            "description_width": ""
          }
        },
        "fc5ec4f86c594fecbec01e5c4f4e66ac": {
          "model_module": "@jupyter-widgets/controls",
          "model_name": "HBoxModel",
          "model_module_version": "1.5.0",
          "state": {
            "_dom_classes": [],
            "_model_module": "@jupyter-widgets/controls",
            "_model_module_version": "1.5.0",
            "_model_name": "HBoxModel",
            "_view_count": null,
            "_view_module": "@jupyter-widgets/controls",
            "_view_module_version": "1.5.0",
            "_view_name": "HBoxView",
            "box_style": "",
            "children": [
              "IPY_MODEL_5272e908947e44f284629a1379e95d80",
              "IPY_MODEL_14ab1da8ea174e07ae04b77e92133c38",
              "IPY_MODEL_e3d7c6ac3eb14849a5609bd504c86e60"
            ],
            "layout": "IPY_MODEL_d7ecf3b9a6b2416c800787f27e28232e"
          }
        },
        "5272e908947e44f284629a1379e95d80": {
          "model_module": "@jupyter-widgets/controls",
          "model_name": "HTMLModel",
          "model_module_version": "1.5.0",
          "state": {
            "_dom_classes": [],
            "_model_module": "@jupyter-widgets/controls",
            "_model_module_version": "1.5.0",
            "_model_name": "HTMLModel",
            "_view_count": null,
            "_view_module": "@jupyter-widgets/controls",
            "_view_module_version": "1.5.0",
            "_view_name": "HTMLView",
            "description": "",
            "description_tooltip": null,
            "layout": "IPY_MODEL_bf50961cc3354ee7ab12cf839132b70b",
            "placeholder": "​",
            "style": "IPY_MODEL_fa87908919064d628611efa78fb60b91",
            "value": "Backtest.optimize:  50%"
          }
        },
        "14ab1da8ea174e07ae04b77e92133c38": {
          "model_module": "@jupyter-widgets/controls",
          "model_name": "FloatProgressModel",
          "model_module_version": "1.5.0",
          "state": {
            "_dom_classes": [],
            "_model_module": "@jupyter-widgets/controls",
            "_model_module_version": "1.5.0",
            "_model_name": "FloatProgressModel",
            "_view_count": null,
            "_view_module": "@jupyter-widgets/controls",
            "_view_module_version": "1.5.0",
            "_view_name": "ProgressView",
            "bar_style": "",
            "description": "",
            "description_tooltip": null,
            "layout": "IPY_MODEL_daf2d4d97c504d42b91a9c6a8ab2fecd",
            "max": 2,
            "min": 0,
            "orientation": "horizontal",
            "style": "IPY_MODEL_7d9ad628acbf4f5aa8926f0fd5a132c6",
            "value": 2
          }
        },
        "e3d7c6ac3eb14849a5609bd504c86e60": {
          "model_module": "@jupyter-widgets/controls",
          "model_name": "HTMLModel",
          "model_module_version": "1.5.0",
          "state": {
            "_dom_classes": [],
            "_model_module": "@jupyter-widgets/controls",
            "_model_module_version": "1.5.0",
            "_model_name": "HTMLModel",
            "_view_count": null,
            "_view_module": "@jupyter-widgets/controls",
            "_view_module_version": "1.5.0",
            "_view_name": "HTMLView",
            "description": "",
            "description_tooltip": null,
            "layout": "IPY_MODEL_94a8862adca5422093ae70fbf0bdf722",
            "placeholder": "​",
            "style": "IPY_MODEL_d90b705c9936436e94581979f7ddee13",
            "value": " 1/2 [00:00&lt;00:00,  3.85it/s]"
          }
        },
        "d7ecf3b9a6b2416c800787f27e28232e": {
          "model_module": "@jupyter-widgets/base",
          "model_name": "LayoutModel",
          "model_module_version": "1.2.0",
          "state": {
            "_model_module": "@jupyter-widgets/base",
            "_model_module_version": "1.2.0",
            "_model_name": "LayoutModel",
            "_view_count": null,
            "_view_module": "@jupyter-widgets/base",
            "_view_module_version": "1.2.0",
            "_view_name": "LayoutView",
            "align_content": null,
            "align_items": null,
            "align_self": null,
            "border": null,
            "bottom": null,
            "display": null,
            "flex": null,
            "flex_flow": null,
            "grid_area": null,
            "grid_auto_columns": null,
            "grid_auto_flow": null,
            "grid_auto_rows": null,
            "grid_column": null,
            "grid_gap": null,
            "grid_row": null,
            "grid_template_areas": null,
            "grid_template_columns": null,
            "grid_template_rows": null,
            "height": null,
            "justify_content": null,
            "justify_items": null,
            "left": null,
            "margin": null,
            "max_height": null,
            "max_width": null,
            "min_height": null,
            "min_width": null,
            "object_fit": null,
            "object_position": null,
            "order": null,
            "overflow": null,
            "overflow_x": null,
            "overflow_y": null,
            "padding": null,
            "right": null,
            "top": null,
            "visibility": "hidden",
            "width": null
          }
        },
        "bf50961cc3354ee7ab12cf839132b70b": {
          "model_module": "@jupyter-widgets/base",
          "model_name": "LayoutModel",
          "model_module_version": "1.2.0",
          "state": {
            "_model_module": "@jupyter-widgets/base",
            "_model_module_version": "1.2.0",
            "_model_name": "LayoutModel",
            "_view_count": null,
            "_view_module": "@jupyter-widgets/base",
            "_view_module_version": "1.2.0",
            "_view_name": "LayoutView",
            "align_content": null,
            "align_items": null,
            "align_self": null,
            "border": null,
            "bottom": null,
            "display": null,
            "flex": null,
            "flex_flow": null,
            "grid_area": null,
            "grid_auto_columns": null,
            "grid_auto_flow": null,
            "grid_auto_rows": null,
            "grid_column": null,
            "grid_gap": null,
            "grid_row": null,
            "grid_template_areas": null,
            "grid_template_columns": null,
            "grid_template_rows": null,
            "height": null,
            "justify_content": null,
            "justify_items": null,
            "left": null,
            "margin": null,
            "max_height": null,
            "max_width": null,
            "min_height": null,
            "min_width": null,
            "object_fit": null,
            "object_position": null,
            "order": null,
            "overflow": null,
            "overflow_x": null,
            "overflow_y": null,
            "padding": null,
            "right": null,
            "top": null,
            "visibility": null,
            "width": null
          }
        },
        "fa87908919064d628611efa78fb60b91": {
          "model_module": "@jupyter-widgets/controls",
          "model_name": "DescriptionStyleModel",
          "model_module_version": "1.5.0",
          "state": {
            "_model_module": "@jupyter-widgets/controls",
            "_model_module_version": "1.5.0",
            "_model_name": "DescriptionStyleModel",
            "_view_count": null,
            "_view_module": "@jupyter-widgets/base",
            "_view_module_version": "1.2.0",
            "_view_name": "StyleView",
            "description_width": ""
          }
        },
        "daf2d4d97c504d42b91a9c6a8ab2fecd": {
          "model_module": "@jupyter-widgets/base",
          "model_name": "LayoutModel",
          "model_module_version": "1.2.0",
          "state": {
            "_model_module": "@jupyter-widgets/base",
            "_model_module_version": "1.2.0",
            "_model_name": "LayoutModel",
            "_view_count": null,
            "_view_module": "@jupyter-widgets/base",
            "_view_module_version": "1.2.0",
            "_view_name": "LayoutView",
            "align_content": null,
            "align_items": null,
            "align_self": null,
            "border": null,
            "bottom": null,
            "display": null,
            "flex": null,
            "flex_flow": null,
            "grid_area": null,
            "grid_auto_columns": null,
            "grid_auto_flow": null,
            "grid_auto_rows": null,
            "grid_column": null,
            "grid_gap": null,
            "grid_row": null,
            "grid_template_areas": null,
            "grid_template_columns": null,
            "grid_template_rows": null,
            "height": null,
            "justify_content": null,
            "justify_items": null,
            "left": null,
            "margin": null,
            "max_height": null,
            "max_width": null,
            "min_height": null,
            "min_width": null,
            "object_fit": null,
            "object_position": null,
            "order": null,
            "overflow": null,
            "overflow_x": null,
            "overflow_y": null,
            "padding": null,
            "right": null,
            "top": null,
            "visibility": null,
            "width": null
          }
        },
        "7d9ad628acbf4f5aa8926f0fd5a132c6": {
          "model_module": "@jupyter-widgets/controls",
          "model_name": "ProgressStyleModel",
          "model_module_version": "1.5.0",
          "state": {
            "_model_module": "@jupyter-widgets/controls",
            "_model_module_version": "1.5.0",
            "_model_name": "ProgressStyleModel",
            "_view_count": null,
            "_view_module": "@jupyter-widgets/base",
            "_view_module_version": "1.2.0",
            "_view_name": "StyleView",
            "bar_color": null,
            "description_width": ""
          }
        },
        "94a8862adca5422093ae70fbf0bdf722": {
          "model_module": "@jupyter-widgets/base",
          "model_name": "LayoutModel",
          "model_module_version": "1.2.0",
          "state": {
            "_model_module": "@jupyter-widgets/base",
            "_model_module_version": "1.2.0",
            "_model_name": "LayoutModel",
            "_view_count": null,
            "_view_module": "@jupyter-widgets/base",
            "_view_module_version": "1.2.0",
            "_view_name": "LayoutView",
            "align_content": null,
            "align_items": null,
            "align_self": null,
            "border": null,
            "bottom": null,
            "display": null,
            "flex": null,
            "flex_flow": null,
            "grid_area": null,
            "grid_auto_columns": null,
            "grid_auto_flow": null,
            "grid_auto_rows": null,
            "grid_column": null,
            "grid_gap": null,
            "grid_row": null,
            "grid_template_areas": null,
            "grid_template_columns": null,
            "grid_template_rows": null,
            "height": null,
            "justify_content": null,
            "justify_items": null,
            "left": null,
            "margin": null,
            "max_height": null,
            "max_width": null,
            "min_height": null,
            "min_width": null,
            "object_fit": null,
            "object_position": null,
            "order": null,
            "overflow": null,
            "overflow_x": null,
            "overflow_y": null,
            "padding": null,
            "right": null,
            "top": null,
            "visibility": null,
            "width": null
          }
        },
        "d90b705c9936436e94581979f7ddee13": {
          "model_module": "@jupyter-widgets/controls",
          "model_name": "DescriptionStyleModel",
          "model_module_version": "1.5.0",
          "state": {
            "_model_module": "@jupyter-widgets/controls",
            "_model_module_version": "1.5.0",
            "_model_name": "DescriptionStyleModel",
            "_view_count": null,
            "_view_module": "@jupyter-widgets/base",
            "_view_module_version": "1.2.0",
            "_view_name": "StyleView",
            "description_width": ""
          }
        }
      }
    }
  },
  "nbformat": 4,
  "nbformat_minor": 0
}